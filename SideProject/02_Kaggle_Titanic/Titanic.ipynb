{
 "cells": [
  {
   "cell_type": "code",
   "execution_count": 1,
   "metadata": {},
   "outputs": [],
   "source": [
    "%matplotlib inline\n",
    "import numpy as np\n",
    "import pandas as pd\n",
    "import matplotlib.pyplot as plt\n",
    "import seaborn as sns # 另一個繪圖-樣式套件\n",
    "\n",
    "import warnings\n",
    "warnings.filterwarnings('ignore')\n",
    "\n",
    "import os\n",
    "from zipfile import ZipFile\n",
    "\n",
    "# 設定 data_path\n",
    "dir_data = './data/'"
   ]
  },
  {
   "cell_type": "code",
   "execution_count": null,
   "metadata": {},
   "outputs": [],
   "source": []
  },
  {
   "cell_type": "code",
   "execution_count": 2,
   "metadata": {},
   "outputs": [
    {
     "name": "stdout",
     "output_type": "stream",
     "text": [
      "Path of read in data: ./data/titanic.zip\n",
      "gender_submission.csv\n",
      "test.csv\n",
      "train.csv\n"
     ]
    }
   ],
   "source": [
    "# 查看壓縮檔內的資料\n",
    "f_path = os.path.join(dir_data, 'titanic.zip')\n",
    "print('Path of read in data: %s' % (f_path))\n",
    "\n",
    "myzip=ZipFile(f_path)\n",
    "for i in myzip.filelist:\n",
    "    print(i.filename)"
   ]
  },
  {
   "cell_type": "code",
   "execution_count": 3,
   "metadata": {},
   "outputs": [],
   "source": [
    "# 讀取壓縮檔內的資料\n",
    "f=myzip.open('train.csv')\n",
    "train=pd.read_csv(f)\n",
    "f.close()\n",
    "\n",
    "f=myzip.open('test.csv')\n",
    "test=pd.read_csv(f)\n",
    "f.close()\n",
    "\n",
    "myzip.close()"
   ]
  },
  {
   "cell_type": "code",
   "execution_count": 4,
   "metadata": {},
   "outputs": [
    {
     "name": "stdout",
     "output_type": "stream",
     "text": [
      "Training data shape:  (891, 12)\n",
      "Testing data shape:  (418, 11)\n"
     ]
    }
   ],
   "source": [
    "# 查看資料大小\n",
    "print('Training data shape: ', train.shape)\n",
    "print('Testing data shape: ', test.shape)"
   ]
  },
  {
   "cell_type": "code",
   "execution_count": 5,
   "metadata": {},
   "outputs": [
    {
     "name": "stdout",
     "output_type": "stream",
     "text": [
      "類型 :  int64 \n",
      "\n",
      "  個數 :  5 \n",
      "\n",
      "   ['PassengerId', 'Survived', 'Pclass', 'SibSp', 'Parch'] \n",
      "\n",
      "-----------------------------------------------\n",
      "\n",
      "類型 :  float64 \n",
      "\n",
      "  個數 :  2 \n",
      "\n",
      "   ['Age', 'Fare'] \n",
      "\n",
      "-----------------------------------------------\n",
      "\n",
      "類型 :  object \n",
      "\n",
      "  個數 :  5 \n",
      "\n",
      "   ['Name', 'Sex', 'Ticket', 'Cabin', 'Embarked'] \n",
      "\n",
      "-----------------------------------------------\n",
      "\n"
     ]
    },
    {
     "data": {
      "text/html": [
       "<div>\n",
       "<style scoped>\n",
       "    .dataframe tbody tr th:only-of-type {\n",
       "        vertical-align: middle;\n",
       "    }\n",
       "\n",
       "    .dataframe tbody tr th {\n",
       "        vertical-align: top;\n",
       "    }\n",
       "\n",
       "    .dataframe thead th {\n",
       "        text-align: right;\n",
       "    }\n",
       "</style>\n",
       "<table border=\"1\" class=\"dataframe\">\n",
       "  <thead>\n",
       "    <tr style=\"text-align: right;\">\n",
       "      <th></th>\n",
       "      <th>Column</th>\n",
       "      <th>Unique Count</th>\n",
       "    </tr>\n",
       "  </thead>\n",
       "  <tbody>\n",
       "    <tr>\n",
       "      <th>0</th>\n",
       "      <td>Name</td>\n",
       "      <td>891</td>\n",
       "    </tr>\n",
       "    <tr>\n",
       "      <th>1</th>\n",
       "      <td>Sex</td>\n",
       "      <td>2</td>\n",
       "    </tr>\n",
       "    <tr>\n",
       "      <th>2</th>\n",
       "      <td>Ticket</td>\n",
       "      <td>681</td>\n",
       "    </tr>\n",
       "    <tr>\n",
       "      <th>3</th>\n",
       "      <td>Cabin</td>\n",
       "      <td>147</td>\n",
       "    </tr>\n",
       "    <tr>\n",
       "      <th>4</th>\n",
       "      <td>Embarked</td>\n",
       "      <td>3</td>\n",
       "    </tr>\n",
       "  </tbody>\n",
       "</table>\n",
       "</div>"
      ],
      "text/plain": [
       "     Column  Unique Count\n",
       "0      Name           891\n",
       "1       Sex             2\n",
       "2    Ticket           681\n",
       "3     Cabin           147\n",
       "4  Embarked             3"
      ]
     },
     "metadata": {},
     "output_type": "display_data"
    },
    {
     "data": {
      "text/html": [
       "<div>\n",
       "<style scoped>\n",
       "    .dataframe tbody tr th:only-of-type {\n",
       "        vertical-align: middle;\n",
       "    }\n",
       "\n",
       "    .dataframe tbody tr th {\n",
       "        vertical-align: top;\n",
       "    }\n",
       "\n",
       "    .dataframe thead th {\n",
       "        text-align: right;\n",
       "    }\n",
       "</style>\n",
       "<table border=\"1\" class=\"dataframe\">\n",
       "  <thead>\n",
       "    <tr style=\"text-align: right;\">\n",
       "      <th></th>\n",
       "      <th>Missing Ratio</th>\n",
       "    </tr>\n",
       "  </thead>\n",
       "  <tbody>\n",
       "    <tr>\n",
       "      <th>Cabin</th>\n",
       "      <td>77.104377</td>\n",
       "    </tr>\n",
       "    <tr>\n",
       "      <th>Age</th>\n",
       "      <td>19.865320</td>\n",
       "    </tr>\n",
       "    <tr>\n",
       "      <th>Embarked</th>\n",
       "      <td>0.224467</td>\n",
       "    </tr>\n",
       "  </tbody>\n",
       "</table>\n",
       "</div>"
      ],
      "text/plain": [
       "          Missing Ratio\n",
       "Cabin         77.104377\n",
       "Age           19.865320\n",
       "Embarked       0.224467"
      ]
     },
     "metadata": {},
     "output_type": "display_data"
    }
   ],
   "source": [
    "# 查看資料內容\n",
    "def columns_type(df_data):\n",
    "    dtype_df = df_data.dtypes.reset_index()\n",
    "    dtype_df.columns = ['Columns', 'Type']\n",
    "    dtype_df_count = dtype_df.groupby(['Type'])['Columns'].count().reset_index()\n",
    "    for t, n in zip(dtype_df_count.Type, dtype_df_count.Columns):\n",
    "        print('類型 : ',t,'\\n')\n",
    "        print('  個數 : ',n,'\\n')\n",
    "        print('  ',list(dtype_df[dtype_df.Type==t].Columns),'\\n')\n",
    "        print('-----------------------------------------------\\n')\n",
    "        \n",
    "def object_check(df_data):    \n",
    "    object_type = df_data.select_dtypes(include=[\"object\"]).apply(pd.Series.nunique, axis = 0).reset_index() \n",
    "    object_type.columns = [\"Column\", \"Unique Count\"]\n",
    "    display(object_type.head(10))        \n",
    "        \n",
    "# 檢查 DataFrame 空缺值的狀態\n",
    "def na_check(df_data):\n",
    "    data_na = (df_data.isnull().sum() / len(df_data)) * 100\n",
    "    data_na = data_na.drop(data_na[data_na == 0].index).sort_values(ascending=False)\n",
    "    missing_data = pd.DataFrame({'Missing Ratio' :data_na})\n",
    "    display(missing_data.head(10))\n",
    "    \n",
    "columns_type(train)\n",
    "object_check(train)\n",
    "na_check(train)"
   ]
  },
  {
   "cell_type": "code",
   "execution_count": 6,
   "metadata": {
    "scrolled": true
   },
   "outputs": [
    {
     "data": {
      "image/png": "[encoded data removed]",
      "text/plain": [
       "<Figure size 720x576 with 7 Axes>"
      ]
     },
     "metadata": {},
     "output_type": "display_data"
    }
   ],
   "source": [
    "# 設定繪圖區域的長與寬\n",
    "fig = plt.figure(figsize = (10, 8), dpi=72, \n",
    "           facecolor=\"white\",edgecolor=\"green\")\n",
    "\n",
    "# 設定子圖\n",
    "ax_1 = fig.add_subplot(3, 3, 1)\n",
    "sns.barplot(x='Pclass',y='Survived',data=train)\n",
    "\n",
    "ax_2 = fig.add_subplot(3, 3, 2)\n",
    "sns.barplot(x='Sex',y='Survived',data=train)\n",
    "\n",
    "ax_3 = fig.add_subplot(3, 3, 3)\n",
    "sns.barplot(x='Embarked',y='Survived',data=train)\n",
    "\n",
    "ax_4 = fig.add_subplot(3, 3, 4)\n",
    "sns.barplot(x='SibSp',y='Survived',data=train)\n",
    "\n",
    "ax_5 = fig.add_subplot(3, 3, 5)\n",
    "sns.barplot(x='Parch',y='Survived',data=train)\n",
    "\n",
    "ax_7 = fig.add_subplot(3, 3, 7)\n",
    "sns.distplot(train.loc[train['Survived'] == 1, 'Age'], label = 'Survived == 1')\n",
    "sns.distplot(train.loc[train['Survived'] == 0, 'Age'], label = 'Survived == 0')\n",
    "ax_7.legend() # 圖例\n",
    "\n",
    "ax_8 = fig.add_subplot(3, 3, 8)\n",
    "sns.distplot(train.loc[train['Survived'] == 1, 'Fare'], label = 'Survived == 1')\n",
    "sns.distplot(train.loc[train['Survived'] == 0, 'Fare'], label = 'Survived == 0')\n",
    "ax_8.legend()\n",
    "\n",
    "fig.tight_layout() # 子圖間距\n",
    "plt.plot()\n",
    "plt.show()"
   ]
  },
  {
   "cell_type": "code",
   "execution_count": null,
   "metadata": {},
   "outputs": [],
   "source": []
  },
  {
   "cell_type": "code",
   "execution_count": 7,
   "metadata": {},
   "outputs": [
    {
     "name": "stdout",
     "output_type": "stream",
     "text": [
      "總資料維度(Train + test) (1309, 10)\n",
      "可特徵工程的欄位 ['Pclass', 'Name', 'Sex', 'Age', 'SibSp', 'Parch', 'Ticket', 'Fare', 'Cabin', 'Embarked']\n"
     ]
    },
    {
     "data": {
      "text/html": [
       "<div>\n",
       "<style scoped>\n",
       "    .dataframe tbody tr th:only-of-type {\n",
       "        vertical-align: middle;\n",
       "    }\n",
       "\n",
       "    .dataframe tbody tr th {\n",
       "        vertical-align: top;\n",
       "    }\n",
       "\n",
       "    .dataframe thead th {\n",
       "        text-align: right;\n",
       "    }\n",
       "</style>\n",
       "<table border=\"1\" class=\"dataframe\">\n",
       "  <thead>\n",
       "    <tr style=\"text-align: right;\">\n",
       "      <th></th>\n",
       "      <th>Pclass</th>\n",
       "      <th>Name</th>\n",
       "      <th>Sex</th>\n",
       "      <th>Age</th>\n",
       "      <th>SibSp</th>\n",
       "      <th>Parch</th>\n",
       "      <th>Ticket</th>\n",
       "      <th>Fare</th>\n",
       "      <th>Cabin</th>\n",
       "      <th>Embarked</th>\n",
       "    </tr>\n",
       "  </thead>\n",
       "  <tbody>\n",
       "    <tr>\n",
       "      <th>0</th>\n",
       "      <td>3</td>\n",
       "      <td>Braund, Mr. Owen Harris</td>\n",
       "      <td>male</td>\n",
       "      <td>22.0</td>\n",
       "      <td>1</td>\n",
       "      <td>0</td>\n",
       "      <td>A/5 21171</td>\n",
       "      <td>7.2500</td>\n",
       "      <td>NaN</td>\n",
       "      <td>S</td>\n",
       "    </tr>\n",
       "    <tr>\n",
       "      <th>1</th>\n",
       "      <td>1</td>\n",
       "      <td>Cumings, Mrs. John Bradley (Florence Briggs Th...</td>\n",
       "      <td>female</td>\n",
       "      <td>38.0</td>\n",
       "      <td>1</td>\n",
       "      <td>0</td>\n",
       "      <td>PC 17599</td>\n",
       "      <td>71.2833</td>\n",
       "      <td>C85</td>\n",
       "      <td>C</td>\n",
       "    </tr>\n",
       "    <tr>\n",
       "      <th>2</th>\n",
       "      <td>3</td>\n",
       "      <td>Heikkinen, Miss. Laina</td>\n",
       "      <td>female</td>\n",
       "      <td>26.0</td>\n",
       "      <td>0</td>\n",
       "      <td>0</td>\n",
       "      <td>STON/O2. 3101282</td>\n",
       "      <td>7.9250</td>\n",
       "      <td>NaN</td>\n",
       "      <td>S</td>\n",
       "    </tr>\n",
       "    <tr>\n",
       "      <th>3</th>\n",
       "      <td>1</td>\n",
       "      <td>Futrelle, Mrs. Jacques Heath (Lily May Peel)</td>\n",
       "      <td>female</td>\n",
       "      <td>35.0</td>\n",
       "      <td>1</td>\n",
       "      <td>0</td>\n",
       "      <td>113803</td>\n",
       "      <td>53.1000</td>\n",
       "      <td>C123</td>\n",
       "      <td>S</td>\n",
       "    </tr>\n",
       "    <tr>\n",
       "      <th>4</th>\n",
       "      <td>3</td>\n",
       "      <td>Allen, Mr. William Henry</td>\n",
       "      <td>male</td>\n",
       "      <td>35.0</td>\n",
       "      <td>0</td>\n",
       "      <td>0</td>\n",
       "      <td>373450</td>\n",
       "      <td>8.0500</td>\n",
       "      <td>NaN</td>\n",
       "      <td>S</td>\n",
       "    </tr>\n",
       "  </tbody>\n",
       "</table>\n",
       "</div>"
      ],
      "text/plain": [
       "   Pclass                                               Name     Sex   Age  \\\n",
       "0       3                            Braund, Mr. Owen Harris    male  22.0   \n",
       "1       1  Cumings, Mrs. John Bradley (Florence Briggs Th...  female  38.0   \n",
       "2       3                             Heikkinen, Miss. Laina  female  26.0   \n",
       "3       1       Futrelle, Mrs. Jacques Heath (Lily May Peel)  female  35.0   \n",
       "4       3                           Allen, Mr. William Henry    male  35.0   \n",
       "\n",
       "   SibSp  Parch            Ticket     Fare Cabin Embarked  \n",
       "0      1      0         A/5 21171   7.2500   NaN        S  \n",
       "1      1      0          PC 17599  71.2833   C85        C  \n",
       "2      0      0  STON/O2. 3101282   7.9250   NaN        S  \n",
       "3      1      0            113803  53.1000  C123        S  \n",
       "4      0      0            373450   8.0500   NaN        S  "
      ]
     },
     "execution_count": 7,
     "metadata": {},
     "output_type": "execute_result"
    }
   ],
   "source": [
    "# 訓練資料需要 train_X, train_Y / 預測輸出需要 ids(識別每個預測值), test_X\n",
    "# 在此先抽離出 train_Y 與 ids, 而先將 train_X, test_X 該有的資料合併成 df, 先作特徵工程\n",
    "train_Y = train['Survived']\n",
    "ids = test['PassengerId']\n",
    "train_X = train.drop(['PassengerId', 'Survived'] , axis=1)\n",
    "test = test.drop(['PassengerId'] , axis=1)\n",
    "df = pd.concat([train_X,test], axis=0)\n",
    "\n",
    "print('總資料維度(Train + test)',df.shape)\n",
    "print('可特徵工程的欄位',list(df.columns))\n",
    "df.head()"
   ]
  },
  {
   "cell_type": "code",
   "execution_count": 19,
   "metadata": {},
   "outputs": [
    {
     "name": "stdout",
     "output_type": "stream",
     "text": [
      "樣本平均存活機率 : 0.38\n"
     ]
    },
    {
     "data": {
      "text/html": [
       "<div>\n",
       "<style scoped>\n",
       "    .dataframe tbody tr th:only-of-type {\n",
       "        vertical-align: middle;\n",
       "    }\n",
       "\n",
       "    .dataframe tbody tr th {\n",
       "        vertical-align: top;\n",
       "    }\n",
       "\n",
       "    .dataframe thead th {\n",
       "        text-align: right;\n",
       "    }\n",
       "</style>\n",
       "<table border=\"1\" class=\"dataframe\">\n",
       "  <thead>\n",
       "    <tr style=\"text-align: right;\">\n",
       "      <th></th>\n",
       "      <th>Pclass</th>\n",
       "      <th>Age</th>\n",
       "      <th>SibSp</th>\n",
       "      <th>Parch</th>\n",
       "      <th>Fare</th>\n",
       "    </tr>\n",
       "  </thead>\n",
       "  <tbody>\n",
       "    <tr>\n",
       "      <th>count</th>\n",
       "      <td>1309.000000</td>\n",
       "      <td>1046.000000</td>\n",
       "      <td>1309.000000</td>\n",
       "      <td>1309.000000</td>\n",
       "      <td>1308.000000</td>\n",
       "    </tr>\n",
       "    <tr>\n",
       "      <th>mean</th>\n",
       "      <td>2.294882</td>\n",
       "      <td>29.881138</td>\n",
       "      <td>0.498854</td>\n",
       "      <td>0.385027</td>\n",
       "      <td>33.295479</td>\n",
       "    </tr>\n",
       "    <tr>\n",
       "      <th>std</th>\n",
       "      <td>0.837836</td>\n",
       "      <td>14.413493</td>\n",
       "      <td>1.041658</td>\n",
       "      <td>0.865560</td>\n",
       "      <td>51.758668</td>\n",
       "    </tr>\n",
       "    <tr>\n",
       "      <th>min</th>\n",
       "      <td>1.000000</td>\n",
       "      <td>0.170000</td>\n",
       "      <td>0.000000</td>\n",
       "      <td>0.000000</td>\n",
       "      <td>0.000000</td>\n",
       "    </tr>\n",
       "    <tr>\n",
       "      <th>25%</th>\n",
       "      <td>2.000000</td>\n",
       "      <td>21.000000</td>\n",
       "      <td>0.000000</td>\n",
       "      <td>0.000000</td>\n",
       "      <td>7.895800</td>\n",
       "    </tr>\n",
       "    <tr>\n",
       "      <th>50%</th>\n",
       "      <td>3.000000</td>\n",
       "      <td>28.000000</td>\n",
       "      <td>0.000000</td>\n",
       "      <td>0.000000</td>\n",
       "      <td>14.454200</td>\n",
       "    </tr>\n",
       "    <tr>\n",
       "      <th>75%</th>\n",
       "      <td>3.000000</td>\n",
       "      <td>39.000000</td>\n",
       "      <td>1.000000</td>\n",
       "      <td>0.000000</td>\n",
       "      <td>31.275000</td>\n",
       "    </tr>\n",
       "    <tr>\n",
       "      <th>max</th>\n",
       "      <td>3.000000</td>\n",
       "      <td>80.000000</td>\n",
       "      <td>8.000000</td>\n",
       "      <td>9.000000</td>\n",
       "      <td>512.329200</td>\n",
       "    </tr>\n",
       "  </tbody>\n",
       "</table>\n",
       "</div>"
      ],
      "text/plain": [
       "            Pclass          Age        SibSp        Parch         Fare\n",
       "count  1309.000000  1046.000000  1309.000000  1309.000000  1308.000000\n",
       "mean      2.294882    29.881138     0.498854     0.385027    33.295479\n",
       "std       0.837836    14.413493     1.041658     0.865560    51.758668\n",
       "min       1.000000     0.170000     0.000000     0.000000     0.000000\n",
       "25%       2.000000    21.000000     0.000000     0.000000     7.895800\n",
       "50%       3.000000    28.000000     0.000000     0.000000    14.454200\n",
       "75%       3.000000    39.000000     1.000000     0.000000    31.275000\n",
       "max       3.000000    80.000000     8.000000     9.000000   512.329200"
      ]
     },
     "execution_count": 19,
     "metadata": {},
     "output_type": "execute_result"
    }
   ],
   "source": [
    "print('樣本平均存活機率 : {:.2f}'.format(train_Y.sum()/train_Y.shape[0]))\n",
    "\n",
    "# 整數 + 數值型變數 的基礎統計量\n",
    "df.describe()"
   ]
  },
  {
   "cell_type": "code",
   "execution_count": null,
   "metadata": {},
   "outputs": [],
   "source": []
  },
  {
   "cell_type": "code",
   "execution_count": null,
   "metadata": {},
   "outputs": [],
   "source": []
  },
  {
   "cell_type": "code",
   "execution_count": 20,
   "metadata": {},
   "outputs": [
    {
     "data": {
      "text/html": [
       "<div>\n",
       "<style scoped>\n",
       "    .dataframe tbody tr th:only-of-type {\n",
       "        vertical-align: middle;\n",
       "    }\n",
       "\n",
       "    .dataframe tbody tr th {\n",
       "        vertical-align: top;\n",
       "    }\n",
       "\n",
       "    .dataframe thead th {\n",
       "        text-align: right;\n",
       "    }\n",
       "</style>\n",
       "<table border=\"1\" class=\"dataframe\">\n",
       "  <thead>\n",
       "    <tr style=\"text-align: right;\">\n",
       "      <th></th>\n",
       "      <th>Pclass</th>\n",
       "      <th>Age</th>\n",
       "      <th>SibSp</th>\n",
       "      <th>Parch</th>\n",
       "      <th>Fare</th>\n",
       "      <th>Total_Family_cut3</th>\n",
       "      <th>tkts</th>\n",
       "      <th>Sex_male</th>\n",
       "      <th>Embarked_NA</th>\n",
       "      <th>Embarked_Q</th>\n",
       "      <th>...</th>\n",
       "      <th>Name_title_Rev.</th>\n",
       "      <th>Name_title_Sir.</th>\n",
       "      <th>Cabin_sub_B</th>\n",
       "      <th>Cabin_sub_C</th>\n",
       "      <th>Cabin_sub_D</th>\n",
       "      <th>Cabin_sub_E</th>\n",
       "      <th>Cabin_sub_F</th>\n",
       "      <th>Cabin_sub_G</th>\n",
       "      <th>Cabin_sub_N</th>\n",
       "      <th>Cabin_sub_T</th>\n",
       "    </tr>\n",
       "  </thead>\n",
       "  <tbody>\n",
       "    <tr>\n",
       "      <th>0</th>\n",
       "      <td>3</td>\n",
       "      <td>22.0</td>\n",
       "      <td>1</td>\n",
       "      <td>0</td>\n",
       "      <td>7.2500</td>\n",
       "      <td>1</td>\n",
       "      <td>0</td>\n",
       "      <td>1</td>\n",
       "      <td>0</td>\n",
       "      <td>0</td>\n",
       "      <td>...</td>\n",
       "      <td>0</td>\n",
       "      <td>0</td>\n",
       "      <td>0</td>\n",
       "      <td>0</td>\n",
       "      <td>0</td>\n",
       "      <td>0</td>\n",
       "      <td>0</td>\n",
       "      <td>0</td>\n",
       "      <td>1</td>\n",
       "      <td>0</td>\n",
       "    </tr>\n",
       "    <tr>\n",
       "      <th>1</th>\n",
       "      <td>1</td>\n",
       "      <td>38.0</td>\n",
       "      <td>1</td>\n",
       "      <td>0</td>\n",
       "      <td>71.2833</td>\n",
       "      <td>1</td>\n",
       "      <td>1</td>\n",
       "      <td>0</td>\n",
       "      <td>0</td>\n",
       "      <td>0</td>\n",
       "      <td>...</td>\n",
       "      <td>0</td>\n",
       "      <td>0</td>\n",
       "      <td>0</td>\n",
       "      <td>1</td>\n",
       "      <td>0</td>\n",
       "      <td>0</td>\n",
       "      <td>0</td>\n",
       "      <td>0</td>\n",
       "      <td>0</td>\n",
       "      <td>0</td>\n",
       "    </tr>\n",
       "    <tr>\n",
       "      <th>2</th>\n",
       "      <td>3</td>\n",
       "      <td>26.0</td>\n",
       "      <td>0</td>\n",
       "      <td>0</td>\n",
       "      <td>7.9250</td>\n",
       "      <td>0</td>\n",
       "      <td>0</td>\n",
       "      <td>0</td>\n",
       "      <td>0</td>\n",
       "      <td>0</td>\n",
       "      <td>...</td>\n",
       "      <td>0</td>\n",
       "      <td>0</td>\n",
       "      <td>0</td>\n",
       "      <td>0</td>\n",
       "      <td>0</td>\n",
       "      <td>0</td>\n",
       "      <td>0</td>\n",
       "      <td>0</td>\n",
       "      <td>1</td>\n",
       "      <td>0</td>\n",
       "    </tr>\n",
       "    <tr>\n",
       "      <th>3</th>\n",
       "      <td>1</td>\n",
       "      <td>35.0</td>\n",
       "      <td>1</td>\n",
       "      <td>0</td>\n",
       "      <td>53.1000</td>\n",
       "      <td>1</td>\n",
       "      <td>1</td>\n",
       "      <td>0</td>\n",
       "      <td>0</td>\n",
       "      <td>0</td>\n",
       "      <td>...</td>\n",
       "      <td>0</td>\n",
       "      <td>0</td>\n",
       "      <td>0</td>\n",
       "      <td>1</td>\n",
       "      <td>0</td>\n",
       "      <td>0</td>\n",
       "      <td>0</td>\n",
       "      <td>0</td>\n",
       "      <td>0</td>\n",
       "      <td>0</td>\n",
       "    </tr>\n",
       "    <tr>\n",
       "      <th>4</th>\n",
       "      <td>3</td>\n",
       "      <td>35.0</td>\n",
       "      <td>0</td>\n",
       "      <td>0</td>\n",
       "      <td>8.0500</td>\n",
       "      <td>0</td>\n",
       "      <td>0</td>\n",
       "      <td>1</td>\n",
       "      <td>0</td>\n",
       "      <td>0</td>\n",
       "      <td>...</td>\n",
       "      <td>0</td>\n",
       "      <td>0</td>\n",
       "      <td>0</td>\n",
       "      <td>0</td>\n",
       "      <td>0</td>\n",
       "      <td>0</td>\n",
       "      <td>0</td>\n",
       "      <td>0</td>\n",
       "      <td>1</td>\n",
       "      <td>0</td>\n",
       "    </tr>\n",
       "    <tr>\n",
       "      <th>5</th>\n",
       "      <td>3</td>\n",
       "      <td>28.0</td>\n",
       "      <td>0</td>\n",
       "      <td>0</td>\n",
       "      <td>8.4583</td>\n",
       "      <td>0</td>\n",
       "      <td>0</td>\n",
       "      <td>1</td>\n",
       "      <td>0</td>\n",
       "      <td>1</td>\n",
       "      <td>...</td>\n",
       "      <td>0</td>\n",
       "      <td>0</td>\n",
       "      <td>0</td>\n",
       "      <td>0</td>\n",
       "      <td>0</td>\n",
       "      <td>0</td>\n",
       "      <td>0</td>\n",
       "      <td>0</td>\n",
       "      <td>1</td>\n",
       "      <td>0</td>\n",
       "    </tr>\n",
       "    <tr>\n",
       "      <th>6</th>\n",
       "      <td>1</td>\n",
       "      <td>54.0</td>\n",
       "      <td>0</td>\n",
       "      <td>0</td>\n",
       "      <td>51.8625</td>\n",
       "      <td>0</td>\n",
       "      <td>1</td>\n",
       "      <td>1</td>\n",
       "      <td>0</td>\n",
       "      <td>0</td>\n",
       "      <td>...</td>\n",
       "      <td>0</td>\n",
       "      <td>0</td>\n",
       "      <td>0</td>\n",
       "      <td>0</td>\n",
       "      <td>0</td>\n",
       "      <td>1</td>\n",
       "      <td>0</td>\n",
       "      <td>0</td>\n",
       "      <td>0</td>\n",
       "      <td>0</td>\n",
       "    </tr>\n",
       "    <tr>\n",
       "      <th>7</th>\n",
       "      <td>3</td>\n",
       "      <td>2.0</td>\n",
       "      <td>3</td>\n",
       "      <td>1</td>\n",
       "      <td>21.0750</td>\n",
       "      <td>1</td>\n",
       "      <td>1</td>\n",
       "      <td>1</td>\n",
       "      <td>0</td>\n",
       "      <td>0</td>\n",
       "      <td>...</td>\n",
       "      <td>0</td>\n",
       "      <td>0</td>\n",
       "      <td>0</td>\n",
       "      <td>0</td>\n",
       "      <td>0</td>\n",
       "      <td>0</td>\n",
       "      <td>0</td>\n",
       "      <td>0</td>\n",
       "      <td>1</td>\n",
       "      <td>0</td>\n",
       "    </tr>\n",
       "    <tr>\n",
       "      <th>8</th>\n",
       "      <td>3</td>\n",
       "      <td>27.0</td>\n",
       "      <td>0</td>\n",
       "      <td>2</td>\n",
       "      <td>11.1333</td>\n",
       "      <td>1</td>\n",
       "      <td>1</td>\n",
       "      <td>0</td>\n",
       "      <td>0</td>\n",
       "      <td>0</td>\n",
       "      <td>...</td>\n",
       "      <td>0</td>\n",
       "      <td>0</td>\n",
       "      <td>0</td>\n",
       "      <td>0</td>\n",
       "      <td>0</td>\n",
       "      <td>0</td>\n",
       "      <td>0</td>\n",
       "      <td>0</td>\n",
       "      <td>1</td>\n",
       "      <td>0</td>\n",
       "    </tr>\n",
       "    <tr>\n",
       "      <th>9</th>\n",
       "      <td>2</td>\n",
       "      <td>14.0</td>\n",
       "      <td>1</td>\n",
       "      <td>0</td>\n",
       "      <td>30.0708</td>\n",
       "      <td>1</td>\n",
       "      <td>1</td>\n",
       "      <td>0</td>\n",
       "      <td>0</td>\n",
       "      <td>0</td>\n",
       "      <td>...</td>\n",
       "      <td>0</td>\n",
       "      <td>0</td>\n",
       "      <td>0</td>\n",
       "      <td>0</td>\n",
       "      <td>0</td>\n",
       "      <td>0</td>\n",
       "      <td>0</td>\n",
       "      <td>0</td>\n",
       "      <td>1</td>\n",
       "      <td>0</td>\n",
       "    </tr>\n",
       "  </tbody>\n",
       "</table>\n",
       "<p>10 rows × 45 columns</p>\n",
       "</div>"
      ],
      "text/plain": [
       "   Pclass   Age  SibSp  Parch     Fare  Total_Family_cut3  tkts  Sex_male  \\\n",
       "0       3  22.0      1      0   7.2500                  1     0         1   \n",
       "1       1  38.0      1      0  71.2833                  1     1         0   \n",
       "2       3  26.0      0      0   7.9250                  0     0         0   \n",
       "3       1  35.0      1      0  53.1000                  1     1         0   \n",
       "4       3  35.0      0      0   8.0500                  0     0         1   \n",
       "5       3  28.0      0      0   8.4583                  0     0         1   \n",
       "6       1  54.0      0      0  51.8625                  0     1         1   \n",
       "7       3   2.0      3      1  21.0750                  1     1         1   \n",
       "8       3  27.0      0      2  11.1333                  1     1         0   \n",
       "9       2  14.0      1      0  30.0708                  1     1         0   \n",
       "\n",
       "   Embarked_NA  Embarked_Q  ...  Name_title_Rev.  Name_title_Sir.  \\\n",
       "0            0           0  ...                0                0   \n",
       "1            0           0  ...                0                0   \n",
       "2            0           0  ...                0                0   \n",
       "3            0           0  ...                0                0   \n",
       "4            0           0  ...                0                0   \n",
       "5            0           1  ...                0                0   \n",
       "6            0           0  ...                0                0   \n",
       "7            0           0  ...                0                0   \n",
       "8            0           0  ...                0                0   \n",
       "9            0           0  ...                0                0   \n",
       "\n",
       "   Cabin_sub_B  Cabin_sub_C  Cabin_sub_D  Cabin_sub_E  Cabin_sub_F  \\\n",
       "0            0            0            0            0            0   \n",
       "1            0            1            0            0            0   \n",
       "2            0            0            0            0            0   \n",
       "3            0            1            0            0            0   \n",
       "4            0            0            0            0            0   \n",
       "5            0            0            0            0            0   \n",
       "6            0            0            0            1            0   \n",
       "7            0            0            0            0            0   \n",
       "8            0            0            0            0            0   \n",
       "9            0            0            0            0            0   \n",
       "\n",
       "   Cabin_sub_G  Cabin_sub_N  Cabin_sub_T  \n",
       "0            0            1            0  \n",
       "1            0            0            0  \n",
       "2            0            1            0  \n",
       "3            0            0            0  \n",
       "4            0            1            0  \n",
       "5            0            1            0  \n",
       "6            0            0            0  \n",
       "7            0            1            0  \n",
       "8            0            1            0  \n",
       "9            0            1            0  \n",
       "\n",
       "[10 rows x 45 columns]"
      ]
     },
     "execution_count": 20,
     "metadata": {},
     "output_type": "execute_result"
    }
   ],
   "source": [
    "df_etl = df.copy()\n",
    "# 'Pclass' OK\n",
    "\n",
    "# 'SibSp', 'Parch' OK\n",
    "df_etl['Total_Family']=df_etl['SibSp'] + df_etl['Parch']\n",
    "df_etl['Total_Family_cut3']=0\n",
    "df_etl['Total_Family_cut3'][df_etl['Total_Family']!=0]=np.array(pd.cut(df_etl['Total_Family'][df_etl['Total_Family']!=0],3,labels=[1,2,3]))\n",
    "# 'Age' 補中位數\n",
    "df_etl['Age']=df_etl['Age'].fillna(df_etl['Age'].median())\n",
    "\n",
    "# 'Fare'\n",
    "df_etl['Fare_qcut10']=pd.qcut(df_etl['Fare'],10,labels=range(10))\n",
    "\n",
    "# 'Name' \n",
    "import re\n",
    "pattern = re.compile('\\S*\\.')\n",
    "df_etl['Name_title'] = df_etl['Name'].apply(lambda x: pattern.findall(x)[0])\n",
    "\n",
    "# 'Sex' OK\n",
    "\n",
    "# 'Ticket'\n",
    "Ticket_c=df_etl.groupby(['Ticket'])['Name'].count().reset_index(name='n')\n",
    "df_etl['Ticket'].isin(Ticket_c[Ticket_c.n>1]['Ticket'])\n",
    "df_etl['tkts']=df['Ticket'].isin(Ticket_c[Ticket_c.n>1]['Ticket']).astype('int')\n",
    "\n",
    "# 'Cabin' 補NA\n",
    "df_etl['Cabin']=df_etl['Cabin'].fillna('NA')\n",
    "df_etl['Cabin_sub']=df_etl['Cabin'].apply(lambda x:x[0])\n",
    "\n",
    "# 'Embarked' 補NA\n",
    "df_etl['Embarked']=df_etl['Embarked'].fillna('NA')\n",
    "\n",
    "\n",
    "# drop\n",
    "df_etl=df_etl.drop(columns=['Total_Family'])\n",
    "df_etl=df_etl.drop(columns=['Name'])\n",
    "df_etl=df_etl.drop(columns=['Ticket'])\n",
    "df_etl=df_etl.drop(columns=['Cabin'])\n",
    "\n",
    "# GET DUMMIES\n",
    "df_etl=pd.get_dummies(df_etl,drop_first = True)\n",
    "df_etl.head(10)"
   ]
  },
  {
   "cell_type": "code",
   "execution_count": null,
   "metadata": {},
   "outputs": [],
   "source": []
  },
  {
   "cell_type": "code",
   "execution_count": null,
   "metadata": {},
   "outputs": [],
   "source": []
  },
  {
   "cell_type": "code",
   "execution_count": 21,
   "metadata": {},
   "outputs": [],
   "source": [
    "from sklearn import metrics\n",
    "from sklearn.preprocessing import MinMaxScaler, StandardScaler\n",
    "from sklearn.model_selection import train_test_split, KFold, cross_val_score"
   ]
  },
  {
   "cell_type": "code",
   "execution_count": null,
   "metadata": {},
   "outputs": [],
   "source": []
  },
  {
   "cell_type": "code",
   "execution_count": 22,
   "metadata": {},
   "outputs": [
    {
     "name": "stdout",
     "output_type": "stream",
     "text": [
      "train_X (891, 45)\n"
     ]
    }
   ],
   "source": [
    "# 資料標準化 & 切割\n",
    "df_mms = MinMaxScaler().fit_transform(df_etl)\n",
    "train_num = train_Y.shape[0]\n",
    "train_X = df_mms[:train_num]\n",
    "print('train_X',train_X.shape)\n",
    "\n",
    "X_train, X_test, y_train, y_test = train_test_split(train_X, train_Y, test_size=0.3, random_state=12)"
   ]
  },
  {
   "cell_type": "code",
   "execution_count": null,
   "metadata": {},
   "outputs": [],
   "source": []
  },
  {
   "cell_type": "code",
   "execution_count": 55,
   "metadata": {},
   "outputs": [],
   "source": [
    "def model_roc_curve(fpr,tpr):\n",
    "    plt.figure()\n",
    "    lw = 2\n",
    "    plt.figure(figsize=(5,5))\n",
    "    plt.plot(fpr, tpr, color='darkorange',\n",
    "    lw=lw, label='ROC curve (area = %0.2f)' % roc_auc) ###假正率為橫座標，真正率為縱座標做曲線\n",
    "    plt.plot([0, 1], [0, 1], color='navy', lw=lw, linestyle='--')\n",
    "    plt.xlim([0.0, 1.0])\n",
    "    plt.ylim([0.0, 1.05])\n",
    "    plt.xlabel('False Positive Rate')\n",
    "    plt.ylabel('True Positive Rate',rotation=0, labelpad=30)\n",
    "    plt.title('Receiver operating characteristic example')\n",
    "    plt.legend(loc=\"lower right\")\n",
    "    plt.show()\n",
    "\n",
    "def  CM_plot(y_test, y_pred_binarized):\n",
    "    plt.figure(figsize = (10, 8), dpi=72, \n",
    "               facecolor=\"white\",edgecolor=\"green\")\n",
    "    cnf_matrix = metrics.confusion_matrix(y_test, y_pred_binarized)\n",
    "    plt.matshow(cnf_matrix,cmap = plt.cm.Blues) # 背景颜色\n",
    "    plt.colorbar() # 颜色标签\n",
    "\n",
    "    # 内部添加图例标签\n",
    "    bbox = dict(boxstyle =\"round\", fc =\"0.8\")\n",
    "    for x in range(len(cnf_matrix)):\n",
    "        for y in range(len(cnf_matrix)):\n",
    "            plt.annotate(cnf_matrix[x,y], xy = (x,y), bbox = bbox, horizontalalignment = 'center', verticalalignment = 'center')\n",
    "    plt.ylabel('True Label',rotation=0, labelpad=20)\n",
    "    plt.xlabel('Predicted Label')\n",
    "    plt.title('Confusion Matrix')\n",
    "    plt.show()\n",
    "    \n",
    "def KPI(y_test,y_pred_binarized):\n",
    "    accuracy=metrics.accuracy_score(y_test, y_pred_binarized)\n",
    "    f1 = metrics.f1_score(y_test, y_pred_binarized) # 使用 F1-Score 評估\n",
    "    precision = metrics.precision_score(y_test, y_pred_binarized) # 使用 Precision 評估\n",
    "    recall  = metrics.recall_score(y_test, y_pred_binarized) # 使用 recall 評估\n",
    "    print('Accuracy: ',accuracy)\n",
    "    print(\"F1-Score: \", f1) \n",
    "    print(\"Precision: \", precision)\n",
    "    print(\"Recall: \", recall)"
   ]
  },
  {
   "cell_type": "code",
   "execution_count": null,
   "metadata": {},
   "outputs": [],
   "source": []
  },
  {
   "cell_type": "code",
   "execution_count": null,
   "metadata": {},
   "outputs": [],
   "source": []
  },
  {
   "cell_type": "code",
   "execution_count": 56,
   "metadata": {},
   "outputs": [
    {
     "name": "stdout",
     "output_type": "stream",
     "text": [
      "Test Data 指標\n",
      "\n",
      "Accuracy:  0.7985074626865671\n",
      "F1-Score:  0.7476635514018691\n",
      "Precision:  0.7476635514018691\n",
      "Recall:  0.7476635514018691\n",
      "\n",
      "\n",
      "roc_auc :  0.8437336738840192\n"
     ]
    },
    {
     "data": {
      "text/plain": [
       "<Figure size 432x288 with 0 Axes>"
      ]
     },
     "metadata": {},
     "output_type": "display_data"
    },
    {
     "data": {
      "image/png": "[encoded data removed]",
      "text/plain": [
       "<Figure size 360x360 with 1 Axes>"
      ]
     },
     "metadata": {
      "needs_background": "light"
     },
     "output_type": "display_data"
    },
    {
     "data": {
      "text/plain": [
       "<Figure size 720x576 with 0 Axes>"
      ]
     },
     "metadata": {},
     "output_type": "display_data"
    },
    {
     "data": {
      "image/png": "[encoded data removed]",
      "text/plain": [
       "<Figure size 288x288 with 2 Axes>"
      ]
     },
     "metadata": {
      "needs_background": "light"
     },
     "output_type": "display_data"
    }
   ],
   "source": [
    "# 羅吉斯回歸\n",
    "from sklearn.linear_model import LogisticRegression\n",
    "\n",
    "model01 = LogisticRegression()\n",
    "\n",
    "model01.fit(X_train,y_train)\n",
    "\n",
    "print('Test Data 指標\\n')\n",
    "y_pred = model01.predict_proba(X_test,)[:,1]\n",
    "threshold = 0.5\n",
    "y_pred_binarized = np.where(y_pred>threshold, 1, 0) # 使用 np.where 函數, 將 y_pred > 0.5 的值變為 1，小於 0.5 的為 0\n",
    "KPI(y_test,y_pred_binarized)\n",
    "print('\\n')\n",
    "fpr,tpr,threshold = metrics.roc_curve(y_test, y_pred) ###計算真正率和假正率\n",
    "roc_auc = metrics.auc(fpr,tpr) ###計算auc的值\n",
    "print('roc_auc : ',roc_auc)\n",
    "model_roc_curve(fpr=fpr,tpr=tpr)\n",
    "CM_plot(y_test, y_pred_binarized)"
   ]
  },
  {
   "cell_type": "code",
   "execution_count": null,
   "metadata": {},
   "outputs": [],
   "source": []
  },
  {
   "cell_type": "code",
   "execution_count": 57,
   "metadata": {},
   "outputs": [
    {
     "name": "stdout",
     "output_type": "stream",
     "text": [
      "Test Data 指標\n",
      "\n",
      "Accuracy:  0.7686567164179104\n",
      "F1-Score:  0.6702127659574468\n",
      "Precision:  0.7777777777777778\n",
      "Recall:  0.5887850467289719\n",
      "\n",
      "\n",
      "roc_auc :  0.8445463516572821\n"
     ]
    },
    {
     "data": {
      "text/plain": [
       "<Figure size 432x288 with 0 Axes>"
      ]
     },
     "metadata": {},
     "output_type": "display_data"
    },
    {
     "data": {
      "image/png": "[encoded data removed]",
      "text/plain": [
       "<Figure size 360x360 with 1 Axes>"
      ]
     },
     "metadata": {
      "needs_background": "light"
     },
     "output_type": "display_data"
    },
    {
     "data": {
      "text/plain": [
       "<Figure size 720x576 with 0 Axes>"
      ]
     },
     "metadata": {},
     "output_type": "display_data"
    },
    {
     "data": {
      "image/png": "[encoded data removed]",
      "text/plain": [
       "<Figure size 288x288 with 2 Axes>"
      ]
     },
     "metadata": {
      "needs_background": "light"
     },
     "output_type": "display_data"
    }
   ],
   "source": [
    "# 決策樹模型\n",
    "from sklearn.tree import DecisionTreeClassifier\n",
    "\n",
    "model02 = DecisionTreeClassifier(max_depth=5,random_state=12,)\n",
    "\n",
    "model02.fit(X_train,y_train)\n",
    "\n",
    "print('Test Data 指標\\n')\n",
    "y_pred = model02.predict_proba(X_test,)[:,1]\n",
    "threshold = 0.5\n",
    "y_pred_binarized = np.where(y_pred>threshold, 1, 0) # 使用 np.where 函數, 將 y_pred > 0.5 的值變為 1，小於 0.5 的為 0\n",
    "KPI(y_test,y_pred_binarized)\n",
    "print('\\n')\n",
    "fpr,tpr,threshold = metrics.roc_curve(y_test, y_pred) ###計算真正率和假正率\n",
    "roc_auc = metrics.auc(fpr,tpr) ###計算auc的值\n",
    "print('roc_auc : ',roc_auc)\n",
    "model_roc_curve(fpr=fpr,tpr=tpr)\n",
    "CM_plot(y_test, y_pred_binarized)"
   ]
  },
  {
   "cell_type": "code",
   "execution_count": 58,
   "metadata": {},
   "outputs": [
    {
     "data": {
      "text/plain": [
       "'\\nfrom sklearn import tree\\nfeature_names = df_etl.columns\\ntarget_names = y_test.astype(\\'str\\').unique().tolist()\\nfig, axes = plt.subplots(nrows = 1,ncols = 1,figsize = (10,10), dpi=500)\\ntree.plot_tree(model02,\\n               feature_names = feature_names, \\n               class_names=target_names,\\n               filled = True,fontsize=5)\\n\\nplt.suptitle(\"Decision Tree\")\\nplt.show()\\n'"
      ]
     },
     "execution_count": 58,
     "metadata": {},
     "output_type": "execute_result"
    }
   ],
   "source": [
    "'''\n",
    "from sklearn import tree\n",
    "feature_names = df_etl.columns\n",
    "target_names = y_test.astype('str').unique().tolist()\n",
    "fig, axes = plt.subplots(nrows = 1,ncols = 1,figsize = (10,10), dpi=500)\n",
    "tree.plot_tree(model02,\n",
    "               feature_names = feature_names, \n",
    "               class_names=target_names,\n",
    "               filled = True,fontsize=5)\n",
    "\n",
    "plt.suptitle(\"Decision Tree\")\n",
    "plt.show()\n",
    "'''"
   ]
  },
  {
   "cell_type": "code",
   "execution_count": null,
   "metadata": {},
   "outputs": [],
   "source": []
  },
  {
   "cell_type": "code",
   "execution_count": 59,
   "metadata": {},
   "outputs": [
    {
     "name": "stdout",
     "output_type": "stream",
     "text": [
      "Test Data 指標\n",
      "\n",
      "Accuracy:  0.8059701492537313\n",
      "F1-Score:  0.7450980392156862\n",
      "Precision:  0.7835051546391752\n",
      "Recall:  0.7102803738317757\n",
      "\n",
      "\n",
      "roc_auc :  0.8243455041504614\n"
     ]
    },
    {
     "data": {
      "text/plain": [
       "<Figure size 432x288 with 0 Axes>"
      ]
     },
     "metadata": {},
     "output_type": "display_data"
    },
    {
     "data": {
      "image/png": "[encoded data removed]",
      "text/plain": [
       "<Figure size 360x360 with 1 Axes>"
      ]
     },
     "metadata": {
      "needs_background": "light"
     },
     "output_type": "display_data"
    },
    {
     "data": {
      "text/plain": [
       "<Figure size 720x576 with 0 Axes>"
      ]
     },
     "metadata": {},
     "output_type": "display_data"
    },
    {
     "data": {
      "image/png": "[encoded data removed]",
      "text/plain": [
       "<Figure size 288x288 with 2 Axes>"
      ]
     },
     "metadata": {
      "needs_background": "light"
     },
     "output_type": "display_data"
    }
   ],
   "source": [
    "# 支援向量機(Support Vector Machine)\n",
    "from sklearn.svm import SVC\n",
    "\n",
    "model03 = SVC(probability = True,random_state=12,)\n",
    "\n",
    "model03.fit(X_train, y_train)\n",
    "\n",
    "print('Test Data 指標\\n')\n",
    "try:\n",
    "    y_pred = model03.predict_proba(X_test,)[:,1]\n",
    "    threshold = 0.5\n",
    "    y_pred_binarized = np.where(y_pred>threshold, 1, 0) # 使用 np.where 函數, 將 y_pred > 0.5 的值變為 1，小於 0.5 的為 0\n",
    "except:\n",
    "    y_pred_binarized = model03.predict(X_test,)\n",
    "KPI(y_test,y_pred_binarized)\n",
    "print('\\n')\n",
    "fpr,tpr,threshold = metrics.roc_curve(y_test, y_pred) ###計算真正率和假正率\n",
    "roc_auc = metrics.auc(fpr,tpr) ###計算auc的值\n",
    "print('roc_auc : ',roc_auc)\n",
    "model_roc_curve(fpr=fpr,tpr=tpr)\n",
    "CM_plot(y_test, y_pred_binarized)"
   ]
  },
  {
   "cell_type": "code",
   "execution_count": null,
   "metadata": {},
   "outputs": [],
   "source": []
  },
  {
   "cell_type": "code",
   "execution_count": 60,
   "metadata": {},
   "outputs": [
    {
     "name": "stdout",
     "output_type": "stream",
     "text": [
      "Test Data 指標\n",
      "\n",
      "Accuracy:  0.8022388059701493\n",
      "F1-Score:  0.7439613526570048\n",
      "Precision:  0.77\n",
      "Recall:  0.719626168224299\n",
      "\n",
      "\n",
      "roc_auc :  0.8450397631624774\n"
     ]
    },
    {
     "data": {
      "text/plain": [
       "<Figure size 432x288 with 0 Axes>"
      ]
     },
     "metadata": {},
     "output_type": "display_data"
    },
    {
     "data": {
      "image/png": "[encoded data removed]",
      "text/plain": [
       "<Figure size 360x360 with 1 Axes>"
      ]
     },
     "metadata": {
      "needs_background": "light"
     },
     "output_type": "display_data"
    },
    {
     "data": {
      "text/plain": [
       "<Figure size 720x576 with 0 Axes>"
      ]
     },
     "metadata": {},
     "output_type": "display_data"
    },
    {
     "data": {
      "image/png": "[encoded data removed]",
      "text/plain": [
       "<Figure size 288x288 with 2 Axes>"
      ]
     },
     "metadata": {
      "needs_background": "light"
     },
     "output_type": "display_data"
    }
   ],
   "source": [
    "# 隨機森林 RandomForestRegressor\n",
    "from sklearn.ensemble import RandomForestClassifier\n",
    "\n",
    "model04 = RandomForestClassifier(n_estimators = 100,max_depth=20,random_state=12,)\n",
    "\n",
    "model04.fit(X_train, y_train)\n",
    "\n",
    "print('Test Data 指標\\n')\n",
    "try:\n",
    "    y_pred = model04.predict_proba(X_test,)[:,1]\n",
    "    threshold = 0.5\n",
    "    y_pred_binarized = np.where(y_pred>threshold, 1, 0) # 使用 np.where 函數, 將 y_pred > 0.5 的值變為 1，小於 0.5 的為 0\n",
    "except:\n",
    "    y_pred_binarized = model04.predict(X_test,)\n",
    "KPI(y_test,y_pred_binarized)\n",
    "print('\\n')\n",
    "fpr,tpr,threshold = metrics.roc_curve(y_test, y_pred) ###計算真正率和假正率\n",
    "roc_auc = metrics.auc(fpr,tpr) ###計算auc的值\n",
    "print('roc_auc : ',roc_auc)\n",
    "model_roc_curve(fpr=fpr,tpr=tpr)\n",
    "CM_plot(y_test, y_pred_binarized)"
   ]
  },
  {
   "cell_type": "code",
   "execution_count": null,
   "metadata": {},
   "outputs": [],
   "source": []
  },
  {
   "cell_type": "code",
   "execution_count": 62,
   "metadata": {},
   "outputs": [
    {
     "name": "stdout",
     "output_type": "stream",
     "text": [
      "Test Data 指標\n",
      "\n",
      "Accuracy:  0.7985074626865671\n",
      "F1-Score:  0.7272727272727272\n",
      "Precision:  0.7912087912087912\n",
      "Recall:  0.6728971962616822\n",
      "\n",
      "\n",
      "roc_auc :  0.8549079932663841\n"
     ]
    },
    {
     "data": {
      "text/plain": [
       "<Figure size 432x288 with 0 Axes>"
      ]
     },
     "metadata": {},
     "output_type": "display_data"
    },
    {
     "data": {
      "image/png": "[encoded data removed]",
      "text/plain": [
       "<Figure size 360x360 with 1 Axes>"
      ]
     },
     "metadata": {
      "needs_background": "light"
     },
     "output_type": "display_data"
    },
    {
     "data": {
      "text/plain": [
       "<Figure size 720x576 with 0 Axes>"
      ]
     },
     "metadata": {},
     "output_type": "display_data"
    },
    {
     "data": {
      "image/png": "[encoded data removed]",
      "text/plain": [
       "<Figure size 288x288 with 2 Axes>"
      ]
     },
     "metadata": {
      "needs_background": "light"
     },
     "output_type": "display_data"
    }
   ],
   "source": [
    "# GBDT (GradientBoostingClassifier)\n",
    "from sklearn.ensemble import GradientBoostingClassifier\n",
    "\n",
    "model05 = GradientBoostingClassifier(n_estimators = 100,max_depth=5,random_state=12,)\n",
    "\n",
    "model05.fit(X_train, y_train)\n",
    "\n",
    "print('Test Data 指標\\n')\n",
    "try:\n",
    "    y_pred = model05.predict_proba(X_test,)[:,1]\n",
    "    threshold = 0.5\n",
    "    y_pred_binarized = np.where(y_pred>threshold, 1, 0) # 使用 np.where 函數, 將 y_pred > 0.5 的值變為 1，小於 0.5 的為 0\n",
    "except:\n",
    "    y_pred_binarized = model05.predict(X_test,)\n",
    "KPI(y_test,y_pred_binarized)\n",
    "print('\\n')\n",
    "fpr,tpr,threshold = metrics.roc_curve(y_test, y_pred) ###計算真正率和假正率\n",
    "roc_auc = metrics.auc(fpr,tpr) ###計算auc的值\n",
    "print('roc_auc : ',roc_auc)\n",
    "model_roc_curve(fpr=fpr,tpr=tpr)\n",
    "CM_plot(y_test, y_pred_binarized)"
   ]
  },
  {
   "cell_type": "code",
   "execution_count": null,
   "metadata": {},
   "outputs": [],
   "source": []
  }
 ],
 "metadata": {
  "kernelspec": {
   "display_name": "Python 3",
   "language": "python",
   "name": "python3"
  },
  "language_info": {
   "codemirror_mode": {
    "name": "ipython",
    "version": 3
   },
   "file_extension": ".py",
   "mimetype": "text/x-python",
   "name": "python",
   "nbconvert_exporter": "python",
   "pygments_lexer": "ipython3",
   "version": "3.7.6"
  }
 },
 "nbformat": 4,
 "nbformat_minor": 4
}
