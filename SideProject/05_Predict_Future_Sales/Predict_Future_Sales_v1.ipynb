{
 "cells": [
  {
   "cell_type": "code",
   "execution_count": 111,
   "metadata": {},
   "outputs": [],
   "source": [
    "%matplotlib inline\n",
    "import numpy as np\n",
    "import pandas as pd\n",
    "import matplotlib.pyplot as plt\n",
    "import warnings\n",
    "warnings.filterwarnings('ignore')\n",
    "import seaborn as sns # 另一個繪圖-樣式套件\n",
    "\n",
    "from datetime import datetime\n",
    "\n",
    "from sklearn import metrics\n",
    "from sklearn.preprocessing import MinMaxScaler, StandardScaler\n",
    "from sklearn.model_selection import train_test_split, KFold, cross_val_score"
   ]
  },
  {
   "cell_type": "markdown",
   "metadata": {},
   "source": [
    "## Import all relative datasets: sales_train, test, items, item_categories, shopa"
   ]
  },
  {
   "cell_type": "code",
   "execution_count": 2,
   "metadata": {},
   "outputs": [],
   "source": [
    "sales_train = pd.read_csv('./data/sales_train.csv')\n",
    "test = pd.read_csv('./data/test.csv') \n",
    "items = pd.read_csv('./data/items.csv')\n",
    "items_cat = pd.read_csv('./data/item_categories.csv')\n",
    "shops = pd.read_csv('./data/shops.csv')\n",
    "sample_submission = pd.read_csv('./data/sample_submission.csv')"
   ]
  },
  {
   "cell_type": "markdown",
   "metadata": {},
   "source": [
    "# 1. EDA\n",
    "### The dataset shops contained two columns(shop_name(str) & shop_id(int64)). There are 60 unique shop_id and no missing values.\n",
    "### The dataset items contained three columns(item_name(str) & item_id(int64) & item_category_id(int64)). There are 22170 unique item_id and no missing values.\n",
    "### The dataset items_cat contained three columns(item_category_name(str) & item_category_id(int64) & item_category_id(int64)). There are 84 unique item_category_id and no missing values."
   ]
  },
  {
   "cell_type": "code",
   "execution_count": 3,
   "metadata": {},
   "outputs": [
    {
     "name": "stdout",
     "output_type": "stream",
     "text": [
      "shops\n",
      " columns: ['shop_name' 'shop_id']\n",
      "     nuniuque: 60\n",
      "     missing: {'shop_name': 0, 'shop_id': 0}\n",
      "items\n",
      " columns: ['item_name' 'item_id' 'item_category_id']\n",
      "     nuniuque: 22170\n",
      "     missing: {'item_name': 0, 'item_id': 0, 'item_category_id': 0}\n",
      "items_cat\n",
      " columns: ['item_category_name' 'item_category_id']\n",
      "     nuniuque: 84\n",
      "     missing: {'item_category_name': 0, 'item_category_id': 0}\n"
     ]
    }
   ],
   "source": [
    "print(f'shops\\n columns: {shops.columns.values}\\n\\\n",
    "     nuniuque: {shops.shop_id.nunique()}\\n\\\n",
    "     missing: {shops.isna().sum().to_dict()}')\n",
    "print(f'items\\n columns: {items.columns.values}\\n\\\n",
    "     nuniuque: {items.item_id.nunique()}\\n\\\n",
    "     missing: {items.isna().sum().to_dict()}')\n",
    "print(f'items_cat\\n columns: {items_cat.columns.values}\\n\\\n",
    "     nuniuque: {items_cat.item_category_id.nunique()}\\n\\\n",
    "     missing: {items_cat.isna().sum().to_dict()}')"
   ]
  },
  {
   "cell_type": "markdown",
   "metadata": {},
   "source": [
    "### In the salse_train, there are 60 unique shop id and 21807 unique item id. All of them are in the shops and items."
   ]
  },
  {
   "cell_type": "code",
   "execution_count": 4,
   "metadata": {},
   "outputs": [
    {
     "name": "stdout",
     "output_type": "stream",
     "text": [
      "Sales Train\n",
      "shop id\n",
      "60\n",
      "Empty DataFrame\n",
      "Columns: [date, date_block_num, shop_id, item_id, item_price, item_cnt_day]\n",
      "Index: []\n",
      "===========================================================\n",
      "item id\n",
      "21807\n",
      "Empty DataFrame\n",
      "Columns: [date, date_block_num, shop_id, item_id, item_price, item_cnt_day]\n",
      "Index: []\n"
     ]
    }
   ],
   "source": [
    "print('Sales Train')\n",
    "print('shop id')\n",
    "print(sales_train.shop_id.nunique())\n",
    "print(sales_train[-sales_train.shop_id.isin(shops.shop_id)])\n",
    "print('===========================================================')\n",
    "print('item id')\n",
    "print(sales_train.item_id.nunique())\n",
    "print(sales_train[-sales_train.item_id.isin(items.item_id)])\n"
   ]
  },
  {
   "cell_type": "markdown",
   "metadata": {},
   "source": [
    "### In the Test, there are 42 unique shop id and 5100 unique item id. All of them are in the shops and items."
   ]
  },
  {
   "cell_type": "code",
   "execution_count": 5,
   "metadata": {},
   "outputs": [
    {
     "name": "stdout",
     "output_type": "stream",
     "text": [
      "Test\n",
      "shop id\n",
      "42\n",
      "Empty DataFrame\n",
      "Columns: [ID, shop_id, item_id]\n",
      "Index: []\n",
      "===========================================================\n",
      "item id\n",
      "5100\n",
      "Empty DataFrame\n",
      "Columns: [ID, shop_id, item_id]\n",
      "Index: []\n"
     ]
    }
   ],
   "source": [
    "print('Test')\n",
    "print('shop id')\n",
    "print(test.shop_id.nunique())\n",
    "print(test[-test.shop_id.isin(shops.shop_id)])\n",
    "print('===========================================================')\n",
    "print('item id')\n",
    "print(test.item_id.nunique())\n",
    "print(test[-test.item_id.isin(items.item_id)])"
   ]
  },
  {
   "cell_type": "markdown",
   "metadata": {},
   "source": [
    "### We combine shop_id and item_id into shopitem_id. In the sales_train, there are 424124 unique shopitem_id. In the test, ther 214200 unique shopitem_id. The number in sales_train is bigger than in test. However, there are 111404 unique shopitem_id in test but not in sales_train.\n",
    "### For these shopitem_id that in test but not in sales_train, because we do not have their historical sales record, we could predict 0 sales in the future in the first vision."
   ]
  },
  {
   "cell_type": "code",
   "execution_count": 6,
   "metadata": {},
   "outputs": [
    {
     "name": "stdout",
     "output_type": "stream",
     "text": [
      "shopitem_id\n",
      "sales_train: 424124\n",
      "test: 214200\n",
      "There are 102796 shopitem_id in test but not in sales_train\n"
     ]
    }
   ],
   "source": [
    "sales_train['shopitem_id'] = list(zip(sales_train.shop_id, sales_train.item_id))\n",
    "test['shopitem_id'] = list(zip(test.shop_id, test.item_id))\n",
    "print('shopitem_id')\n",
    "print(f'sales_train: {len(sales_train.shopitem_id.unique())}')\n",
    "print(f'test: {len(test.shopitem_id.unique())}')\n",
    "num_notintrain = test[-test['shopitem_id'].isin(sales_train['shopitem_id'])].shape[0]\n",
    "print(f'There are {num_notintrain} shopitem_id in test but not in sales_train')"
   ]
  },
  {
   "cell_type": "markdown",
   "metadata": {},
   "source": [
    "## a. Shops\n",
    "### In the shops, we found that there are more information in the columns \"shop_name\". Using google help, the fisrt word in the shop_name is city name and the second word is the type of shop"
   ]
  },
  {
   "cell_type": "code",
   "execution_count": 7,
   "metadata": {},
   "outputs": [
    {
     "name": "stdout",
     "output_type": "stream",
     "text": [
      "['Орджоникидзе,' 'ТЦ' 'ТРК' 'ТРЦ' '(Плехановская,' 'Торговля' 'ул.' 'ЧС'\n",
      " '\"Распродажа\"' 'МТРЦ' 'Магазин' 'ТК' 'Посад' 'склад']\n"
     ]
    }
   ],
   "source": [
    "shops['city'] = shops.shop_name.apply(lambda x: x.split(' ')[0])\n",
    "shops['shop_type'] = shops.shop_name.apply(lambda x: x.split(' ')[1])\n",
    "print(shops['shop_type'].unique())\n",
    "shop_types = {\n",
    "    'Орджоникидзе,':'others',\n",
    "    '\\(Плехановская,':'others',\n",
    "    '\"Распродажа\"':'others',\n",
    "    'Посад':'others'\n",
    "}\n",
    "shops['shop_type'] = shops['shop_type'].replace(regex = shop_types)"
   ]
  },
  {
   "cell_type": "code",
   "execution_count": 8,
   "metadata": {},
   "outputs": [],
   "source": [
    "# shops"
   ]
  },
  {
   "cell_type": "markdown",
   "metadata": {},
   "source": [
    "### At the meanwhile, some people said ther are some mistakes in the shopname, so we adjust them. "
   ]
  },
  {
   "cell_type": "code",
   "execution_count": 9,
   "metadata": {},
   "outputs": [],
   "source": [
    "# Якутск Орджоникидзе, 56\n",
    "sales_train.loc[sales_train.shop_id == 0, 'shop_id'] = 57\n",
    "test.loc[test.shop_id == 0, 'shop_id'] = 57\n",
    "# Якутск ТЦ \"Центральный\"\n",
    "sales_train.loc[sales_train.shop_id == 1, 'shop_id'] = 58\n",
    "test.loc[test.shop_id == 1, 'shop_id'] = 58\n",
    "# Жуковский ул. Чкалова 39м²\n",
    "sales_train.loc[sales_train.shop_id == 10, 'shop_id'] = 11\n",
    "test.loc[test.shop_id == 10, 'shop_id'] = 11\n",
    "\n",
    "# shops"
   ]
  },
  {
   "cell_type": "code",
   "execution_count": 10,
   "metadata": {},
   "outputs": [
    {
     "data": {
      "text/plain": [
       "array([ 2,  3,  4,  5,  6,  7, 11, 12, 14, 15, 16, 18, 19, 21, 22, 24, 25,\n",
       "       26, 28, 31, 34, 35, 36, 37, 38, 39, 41, 42, 44, 45, 46, 47, 48, 49,\n",
       "       50, 52, 53, 55, 56, 57, 58, 59], dtype=int64)"
      ]
     },
     "execution_count": 10,
     "metadata": {},
     "output_type": "execute_result"
    }
   ],
   "source": [
    "test.sort_values(by='shop_id').shop_id.unique()"
   ]
  },
  {
   "cell_type": "code",
   "execution_count": 11,
   "metadata": {},
   "outputs": [
    {
     "name": "stdout",
     "output_type": "stream",
     "text": [
      "shopitem_id\n",
      "sales_train: 418909\n",
      "test: 214200\n",
      "There are 102729 shopitem_id in test but not in sales_train\n"
     ]
    }
   ],
   "source": [
    "sales_train['shopitem_id'] = list(zip(sales_train.shop_id, sales_train.item_id))\n",
    "test['shopitem_id'] = list(zip(test.shop_id, test.item_id))\n",
    "print('shopitem_id')\n",
    "print(f'sales_train: {len(sales_train.shopitem_id.unique())}')\n",
    "print(f'test: {len(test.shopitem_id.unique())}')\n",
    "num_notintrain = test[-test['shopitem_id'].isin(sales_train['shopitem_id'])].shape[0]\n",
    "print(f'There are {num_notintrain} shopitem_id in test but not in sales_train')"
   ]
  },
  {
   "cell_type": "markdown",
   "metadata": {},
   "source": [
    "## b. items_cat\n",
    "### In the items_cat, we found that there are some similiar words in the begining of item_category_name. We set them as a big class."
   ]
  },
  {
   "cell_type": "code",
   "execution_count": 12,
   "metadata": {},
   "outputs": [],
   "source": [
    "items_cat['subdept'] = items_cat.item_category_name.apply(lambda x:x.split(' ')[0])\n",
    "# items_cat['subdept'].unique()"
   ]
  },
  {
   "cell_type": "markdown",
   "metadata": {},
   "source": [
    "## c. Outliers"
   ]
  },
  {
   "cell_type": "code",
   "execution_count": 13,
   "metadata": {},
   "outputs": [
    {
     "data": {
      "image/png": "[encoded data removed]",
      "text/plain": [
       "<Figure size 1440x288 with 1 Axes>"
      ]
     },
     "metadata": {
      "needs_background": "light"
     },
     "output_type": "display_data"
    }
   ],
   "source": [
    "plt.subplots(1,figsize=(20,4))\n",
    "sns.boxplot(x='item_price',data=sales_train)\n",
    "# plt.xlim(-10,10000)\n",
    "plt.show()"
   ]
  },
  {
   "cell_type": "code",
   "execution_count": 14,
   "metadata": {},
   "outputs": [
    {
     "data": {
      "image/png": "[encoded data removed]",
      "text/plain": [
       "<Figure size 1440x288 with 1 Axes>"
      ]
     },
     "metadata": {
      "needs_background": "light"
     },
     "output_type": "display_data"
    }
   ],
   "source": [
    "plt.subplots(1,figsize=(20,4))\n",
    "sns.boxplot(x='item_cnt_day',data=sales_train)\n",
    "plt.show()"
   ]
  },
  {
   "cell_type": "code",
   "execution_count": 15,
   "metadata": {},
   "outputs": [],
   "source": [
    "replace_mean_price = sales_train.loc[((sales_train.shopitem_id==(32, 2973)) & (sales_train.item_price>=0)),'item_price'].mean()\n",
    "sales_train.loc[((sales_train.shopitem_id==(32, 2973)) & (sales_train.item_price<0)),'item_price'] = replace_mean_price\n",
    "\n",
    "sales_train = sales_train[sales_train.item_price<300000]\n",
    "sales_train = sales_train[sales_train.item_cnt_day<1500]"
   ]
  },
  {
   "cell_type": "markdown",
   "metadata": {},
   "source": [
    "## d. Time feature"
   ]
  },
  {
   "cell_type": "code",
   "execution_count": 16,
   "metadata": {},
   "outputs": [],
   "source": [
    "sales_train.date = sales_train.date.apply(lambda x:datetime.strptime(x,\"%d.%m.%Y\"))\n",
    "sales_train['year_month'] = sales_train.date.apply(lambda x:x.strftime(\"%Y-%m\"))"
   ]
  },
  {
   "cell_type": "markdown",
   "metadata": {},
   "source": [
    "## e. Another feature"
   ]
  },
  {
   "cell_type": "code",
   "execution_count": 17,
   "metadata": {},
   "outputs": [],
   "source": [
    "sales_train['sales'] = sales_train['item_price'] * sales_train['item_cnt_day']"
   ]
  },
  {
   "cell_type": "markdown",
   "metadata": {},
   "source": [
    "## f. Plot"
   ]
  },
  {
   "cell_type": "code",
   "execution_count": 18,
   "metadata": {},
   "outputs": [
    {
     "data": {
      "image/png": "[encoded data removed]",
      "text/plain": [
       "<Figure size 1440x288 with 1 Axes>"
      ]
     },
     "metadata": {
      "needs_background": "light"
     },
     "output_type": "display_data"
    }
   ],
   "source": [
    "sales_monthly = sales_train.groupby(['year_month'])['sales'].sum().reset_index()\n",
    "plt.subplots(1,figsize=(20,4))\n",
    "sns.lineplot(x='year_month', y='sales', data=sales_monthly)\n",
    "plt.xticks(rotation=90)\n",
    "plt.show()"
   ]
  },
  {
   "cell_type": "code",
   "execution_count": null,
   "metadata": {},
   "outputs": [],
   "source": []
  },
  {
   "cell_type": "markdown",
   "metadata": {},
   "source": [
    "# 2. Modle"
   ]
  },
  {
   "cell_type": "markdown",
   "metadata": {},
   "source": [
    "## a. Divide"
   ]
  },
  {
   "cell_type": "code",
   "execution_count": 19,
   "metadata": {},
   "outputs": [],
   "source": [
    "no_sales = test[-test.shopitem_id.isin(sales_train.shopitem_id)]['shopitem_id'].values"
   ]
  },
  {
   "cell_type": "code",
   "execution_count": 149,
   "metadata": {},
   "outputs": [],
   "source": [
    "train = sales_train.groupby(['shopitem_id','date_block_num'])['item_cnt_day'].sum().reset_index(name='item_cnt_month')\n",
    "train_table = pd.pivot_table(train,values='item_cnt_month',index='shopitem_id',columns='date_block_num',fill_value=0)"
   ]
  },
  {
   "cell_type": "code",
   "execution_count": 150,
   "metadata": {},
   "outputs": [],
   "source": [
    "train_table = train_table.loc[:,range(33,-1,-1)]\n",
    "train_table = train_table.reset_index()"
   ]
  },
  {
   "cell_type": "code",
   "execution_count": 151,
   "metadata": {},
   "outputs": [],
   "source": [
    "train_table['12M_0'] = (train_table.loc[:,range(32,20,-1)].sum(axis=1) == 0)"
   ]
  },
  {
   "cell_type": "code",
   "execution_count": 152,
   "metadata": {},
   "outputs": [
    {
     "data": {
      "image/png": "[encoded data removed]",
      "text/plain": [
       "<Figure size 432x288 with 2 Axes>"
      ]
     },
     "metadata": {
      "needs_background": "light"
     },
     "output_type": "display_data"
    }
   ],
   "source": [
    "y_real = train_table[33] == 0\n",
    "cnf_matrix = metrics.confusion_matrix(y_real, train_table['12M_0'])\n",
    "sns.heatmap(cnf_matrix,cmap = plt.cm.Blues, annot=True, fmt=\"d\")\n",
    "plt.ylabel('True Label',rotation=0, labelpad=20)\n",
    "plt.xlabel('Predicted Label')\n",
    "plt.title('Confusion Matrix \\n')\n",
    "plt.show()"
   ]
  },
  {
   "cell_type": "code",
   "execution_count": 153,
   "metadata": {},
   "outputs": [],
   "source": [
    "data = train_table[-train_table['12M_0']].reset_index(drop=True)"
   ]
  },
  {
   "cell_type": "code",
   "execution_count": 154,
   "metadata": {},
   "outputs": [],
   "source": [
    "train_y = data[33] - data[21]\n",
    "train_X = data.loc[:,range(32,20,-1)].values - data.loc[:,range(20,8,-1)].values"
   ]
  },
  {
   "cell_type": "code",
   "execution_count": 187,
   "metadata": {},
   "outputs": [],
   "source": [
    "z_score = StandardScaler()\n",
    "z_score.fit(train_X)\n",
    "train_X = z_score.transform(train_X)"
   ]
  },
  {
   "cell_type": "code",
   "execution_count": 156,
   "metadata": {},
   "outputs": [],
   "source": [
    "x_train, x_test, y_train, y_test = train_test_split(train_X, train_y, test_size=0.3, random_state=12)"
   ]
  },
  {
   "cell_type": "code",
   "execution_count": 166,
   "metadata": {},
   "outputs": [],
   "source": [
    "from sklearn.tree import DecisionTreeRegressor\n",
    "from sklearn.ensemble import RandomForestRegressor"
   ]
  },
  {
   "cell_type": "code",
   "execution_count": 167,
   "metadata": {},
   "outputs": [
    {
     "data": {
      "text/plain": [
       "RandomForestRegressor(bootstrap=True, ccp_alpha=0.0, criterion='mse',\n",
       "                      max_depth=None, max_features='auto', max_leaf_nodes=None,\n",
       "                      max_samples=None, min_impurity_decrease=0.0,\n",
       "                      min_impurity_split=None, min_samples_leaf=1,\n",
       "                      min_samples_split=2, min_weight_fraction_leaf=0.0,\n",
       "                      n_estimators=100, n_jobs=None, oob_score=False,\n",
       "                      random_state=None, verbose=0, warm_start=False)"
      ]
     },
     "execution_count": 167,
     "metadata": {},
     "output_type": "execute_result"
    }
   ],
   "source": [
    "model01 = RandomForestRegressor()\n",
    "model01.fit(X = x_train, y = y_train)"
   ]
  },
  {
   "cell_type": "code",
   "execution_count": 168,
   "metadata": {},
   "outputs": [],
   "source": [
    "y_test_pred = model01.predict(x_test)"
   ]
  },
  {
   "cell_type": "code",
   "execution_count": 169,
   "metadata": {},
   "outputs": [],
   "source": [
    "def kpi(y_true, y_pred, reg=True):\n",
    "        if reg:\n",
    "            r2 = metrics.r2_score(y_true, y_pred)\n",
    "            mse = metrics.mean_squared_error(y_true, y_pred)\n",
    "            mae = metrics.mean_absolute_error(y_true, y_pred)\n",
    "            print('r2:{:.2f}, mse:{:,.2f}, mae:{:,.2f}'.format(r2, mse, mae))"
   ]
  },
  {
   "cell_type": "code",
   "execution_count": 170,
   "metadata": {},
   "outputs": [
    {
     "name": "stdout",
     "output_type": "stream",
     "text": [
      "r2:0.61, mse:16.01, mae:0.42\n"
     ]
    }
   ],
   "source": [
    "kpi(y_true=y_test, y_pred=y_test_pred)"
   ]
  },
  {
   "cell_type": "code",
   "execution_count": 176,
   "metadata": {},
   "outputs": [
    {
     "data": {
      "image/png": "[encoded data removed]",
      "text/plain": [
       "<Figure size 1440x576 with 1 Axes>"
      ]
     },
     "metadata": {
      "needs_background": "light"
     },
     "output_type": "display_data"
    }
   ],
   "source": [
    "error = y_test_pred - y_test\n",
    "plt.subplots(1,figsize=(20,8))\n",
    "plt.scatter(y_test, error)\n",
    "plt.xlim([-200,100])\n",
    "plt.ylim([-100,100])\n",
    "plt.show()"
   ]
  },
  {
   "cell_type": "code",
   "execution_count": null,
   "metadata": {},
   "outputs": [],
   "source": []
  },
  {
   "cell_type": "code",
   "execution_count": 177,
   "metadata": {},
   "outputs": [
    {
     "data": {
      "text/plain": [
       "RandomForestRegressor(bootstrap=True, ccp_alpha=0.0, criterion='mse',\n",
       "                      max_depth=None, max_features='auto', max_leaf_nodes=None,\n",
       "                      max_samples=None, min_impurity_decrease=0.0,\n",
       "                      min_impurity_split=None, min_samples_leaf=1,\n",
       "                      min_samples_split=2, min_weight_fraction_leaf=0.0,\n",
       "                      n_estimators=100, n_jobs=None, oob_score=False,\n",
       "                      random_state=None, verbose=0, warm_start=False)"
      ]
     },
     "execution_count": 177,
     "metadata": {},
     "output_type": "execute_result"
    }
   ],
   "source": [
    "model_final = RandomForestRegressor()\n",
    "model_final.fit(X = train_X, y = train_y)"
   ]
  },
  {
   "cell_type": "code",
   "execution_count": null,
   "metadata": {},
   "outputs": [],
   "source": []
  },
  {
   "cell_type": "markdown",
   "metadata": {},
   "source": [
    "# 3. Submit Data"
   ]
  },
  {
   "cell_type": "code",
   "execution_count": 236,
   "metadata": {},
   "outputs": [],
   "source": [
    "test_table = pd.merge(test,train_table)"
   ]
  },
  {
   "cell_type": "code",
   "execution_count": 184,
   "metadata": {},
   "outputs": [],
   "source": [
    "test_table['12M_0'] = (test_table.loc[:,range(33,21,-1)].sum(axis=1) == 0)\n",
    "test_table = test_table[-test_table['12M_0']].reset_index(drop=True)"
   ]
  },
  {
   "cell_type": "code",
   "execution_count": 189,
   "metadata": {},
   "outputs": [],
   "source": [
    "test_table_ID = test_table.ID\n",
    "test_X = test_table.loc[:,range(33,21,-1)].values - test_table.loc[:,range(21,9,-1)].values\n",
    "test_X = z_score.transform(test_X)"
   ]
  },
  {
   "cell_type": "code",
   "execution_count": 193,
   "metadata": {},
   "outputs": [],
   "source": [
    "test_y_pred = model_final.predict(test_X)"
   ]
  },
  {
   "cell_type": "code",
   "execution_count": 196,
   "metadata": {},
   "outputs": [],
   "source": [
    "test_y = test_table[22] + test_y_pred"
   ]
  },
  {
   "cell_type": "code",
   "execution_count": 200,
   "metadata": {},
   "outputs": [],
   "source": [
    "test_y[test_y<0] = 0"
   ]
  },
  {
   "cell_type": "code",
   "execution_count": 208,
   "metadata": {},
   "outputs": [],
   "source": [
    "submit = pd.DataFrame({'ID':test_table_ID,'item_cnt_month':test_y})"
   ]
  },
  {
   "cell_type": "code",
   "execution_count": 215,
   "metadata": {},
   "outputs": [],
   "source": [
    "submit = pd.merge(test,submit,how='left').fillna(0).loc[:,['ID','item_cnt_month']]"
   ]
  },
  {
   "cell_type": "code",
   "execution_count": 217,
   "metadata": {},
   "outputs": [],
   "source": [
    "submit.to_csv('./submit/submit_20210815_01.csv',index=0)"
   ]
  },
  {
   "cell_type": "code",
   "execution_count": null,
   "metadata": {},
   "outputs": [],
   "source": []
  },
  {
   "cell_type": "code",
   "execution_count": 248,
   "metadata": {},
   "outputs": [],
   "source": [
    "submit = sample_submission.copy()"
   ]
  },
  {
   "cell_type": "code",
   "execution_count": 249,
   "metadata": {},
   "outputs": [],
   "source": [
    "submit.loc[test['shopitem_id'].isin(pd.Series(no_sales)),'item_cnt_month']=0"
   ]
  },
  {
   "cell_type": "code",
   "execution_count": 250,
   "metadata": {},
   "outputs": [
    {
     "data": {
      "text/html": [
       "<div>\n",
       "<style scoped>\n",
       "    .dataframe tbody tr th:only-of-type {\n",
       "        vertical-align: middle;\n",
       "    }\n",
       "\n",
       "    .dataframe tbody tr th {\n",
       "        vertical-align: top;\n",
       "    }\n",
       "\n",
       "    .dataframe thead th {\n",
       "        text-align: right;\n",
       "    }\n",
       "</style>\n",
       "<table border=\"1\" class=\"dataframe\">\n",
       "  <thead>\n",
       "    <tr style=\"text-align: right;\">\n",
       "      <th></th>\n",
       "      <th>ID</th>\n",
       "      <th>item_cnt_month</th>\n",
       "    </tr>\n",
       "  </thead>\n",
       "  <tbody>\n",
       "    <tr>\n",
       "      <th>0</th>\n",
       "      <td>0</td>\n",
       "      <td>0.5</td>\n",
       "    </tr>\n",
       "    <tr>\n",
       "      <th>1</th>\n",
       "      <td>1</td>\n",
       "      <td>0.0</td>\n",
       "    </tr>\n",
       "    <tr>\n",
       "      <th>2</th>\n",
       "      <td>2</td>\n",
       "      <td>0.5</td>\n",
       "    </tr>\n",
       "    <tr>\n",
       "      <th>3</th>\n",
       "      <td>3</td>\n",
       "      <td>0.5</td>\n",
       "    </tr>\n",
       "    <tr>\n",
       "      <th>4</th>\n",
       "      <td>4</td>\n",
       "      <td>0.0</td>\n",
       "    </tr>\n",
       "    <tr>\n",
       "      <th>...</th>\n",
       "      <td>...</td>\n",
       "      <td>...</td>\n",
       "    </tr>\n",
       "    <tr>\n",
       "      <th>214195</th>\n",
       "      <td>214195</td>\n",
       "      <td>0.5</td>\n",
       "    </tr>\n",
       "    <tr>\n",
       "      <th>214196</th>\n",
       "      <td>214196</td>\n",
       "      <td>0.0</td>\n",
       "    </tr>\n",
       "    <tr>\n",
       "      <th>214197</th>\n",
       "      <td>214197</td>\n",
       "      <td>0.5</td>\n",
       "    </tr>\n",
       "    <tr>\n",
       "      <th>214198</th>\n",
       "      <td>214198</td>\n",
       "      <td>0.0</td>\n",
       "    </tr>\n",
       "    <tr>\n",
       "      <th>214199</th>\n",
       "      <td>214199</td>\n",
       "      <td>0.5</td>\n",
       "    </tr>\n",
       "  </tbody>\n",
       "</table>\n",
       "<p>214200 rows × 2 columns</p>\n",
       "</div>"
      ],
      "text/plain": [
       "            ID  item_cnt_month\n",
       "0            0             0.5\n",
       "1            1             0.0\n",
       "2            2             0.5\n",
       "3            3             0.5\n",
       "4            4             0.0\n",
       "...        ...             ...\n",
       "214195  214195             0.5\n",
       "214196  214196             0.0\n",
       "214197  214197             0.5\n",
       "214198  214198             0.0\n",
       "214199  214199             0.5\n",
       "\n",
       "[214200 rows x 2 columns]"
      ]
     },
     "execution_count": 250,
     "metadata": {},
     "output_type": "execute_result"
    }
   ],
   "source": [
    "submit"
   ]
  },
  {
   "cell_type": "code",
   "execution_count": 232,
   "metadata": {},
   "outputs": [],
   "source": [
    "submit.to_csv('./submit/submit_20210815_02.csv',index=0)"
   ]
  },
  {
   "cell_type": "code",
   "execution_count": null,
   "metadata": {},
   "outputs": [],
   "source": []
  },
  {
   "cell_type": "code",
   "execution_count": 237,
   "metadata": {},
   "outputs": [],
   "source": [
    "test_table['12M_0'] = (test_table.loc[:,range(33,21,-1)].sum(axis=1) == 0)"
   ]
  },
  {
   "cell_type": "code",
   "execution_count": 239,
   "metadata": {},
   "outputs": [
    {
     "data": {
      "text/plain": [
       "16761"
      ]
     },
     "execution_count": 239,
     "metadata": {},
     "output_type": "execute_result"
    }
   ],
   "source": [
    "test_table['12M_0'].sum()"
   ]
  },
  {
   "cell_type": "code",
   "execution_count": 257,
   "metadata": {},
   "outputs": [],
   "source": [
    "submit.loc[submit.ID.isin(test_table.loc[test_table['12M_0'],'ID']),'item_cnt_month']=0"
   ]
  },
  {
   "cell_type": "code",
   "execution_count": 260,
   "metadata": {},
   "outputs": [],
   "source": [
    "submit.to_csv('./submit/submit_20210815_03.csv',index=0)"
   ]
  },
  {
   "cell_type": "code",
   "execution_count": null,
   "metadata": {},
   "outputs": [],
   "source": []
  },
  {
   "cell_type": "code",
   "execution_count": null,
   "metadata": {},
   "outputs": [],
   "source": []
  },
  {
   "cell_type": "code",
   "execution_count": null,
   "metadata": {},
   "outputs": [],
   "source": []
  },
  {
   "cell_type": "code",
   "execution_count": null,
   "metadata": {},
   "outputs": [],
   "source": []
  },
  {
   "cell_type": "code",
   "execution_count": null,
   "metadata": {},
   "outputs": [],
   "source": []
  },
  {
   "cell_type": "code",
   "execution_count": null,
   "metadata": {},
   "outputs": [],
   "source": []
  },
  {
   "cell_type": "code",
   "execution_count": null,
   "metadata": {},
   "outputs": [],
   "source": []
  },
  {
   "cell_type": "code",
   "execution_count": null,
   "metadata": {},
   "outputs": [],
   "source": []
  },
  {
   "cell_type": "code",
   "execution_count": 38,
   "metadata": {},
   "outputs": [],
   "source": [
    "sales_train_filter = pd.merge(sales_train,test,on=['shop_id','item_id'])\n",
    "sales_train_filter = sales_train_filter.groupby(['ID','date_block_num'])['item_cnt_day'].sum().reset_index(name = 'item_cnt_month').sort_values(by=['ID','date_block_num'])\n",
    "\n",
    "sales_train_filter = sales_train_filter[sales_train_filter.date_block_num.isin(list(range(22,34)))]\n",
    "sales_train_predict = (sales_train_filter.groupby(['ID'])['item_cnt_month'].sum()/12).reset_index()\n",
    "sales_train_predict = pd.merge(test,sales_train_predict,how = 'left')\n",
    "sales_train_predict.item_cnt_month.fillna(0,inplace = True)\n",
    "submmit = sales_train_predict.drop(['shop_id','item_id'],axis=1)"
   ]
  },
  {
   "cell_type": "code",
   "execution_count": 67,
   "metadata": {},
   "outputs": [],
   "source": [
    "submmit.to_csv('./submit/submit_20210726_01.csv',index=0)"
   ]
  },
  {
   "cell_type": "code",
   "execution_count": null,
   "metadata": {},
   "outputs": [],
   "source": []
  },
  {
   "cell_type": "code",
   "execution_count": null,
   "metadata": {},
   "outputs": [],
   "source": []
  },
  {
   "cell_type": "code",
   "execution_count": 72,
   "metadata": {},
   "outputs": [],
   "source": [
    "sales_train_filter = pd.merge(sales_train,test,on=['shop_id','item_id'])\n",
    "sales_train_filter = sales_train_filter.groupby(['ID','date_block_num'])['item_cnt_day'].sum().reset_index(name = 'item_cnt_month').sort_values(by=['ID','date_block_num'])\n"
   ]
  },
  {
   "cell_type": "code",
   "execution_count": 98,
   "metadata": {},
   "outputs": [],
   "source": [
    "df01 = pd.DataFrame({'ID':sales_train_filter.ID.unique().repeat(34),'date_block_num':list(range(34))*sales_train_filter.ID.nunique()})"
   ]
  },
  {
   "cell_type": "code",
   "execution_count": 100,
   "metadata": {},
   "outputs": [],
   "source": [
    "df01 = pd.merge(df01, sales_train_filter, how = 'left')"
   ]
  },
  {
   "cell_type": "code",
   "execution_count": 102,
   "metadata": {},
   "outputs": [],
   "source": [
    "df01.item_cnt_month.fillna(0,inplace=True)"
   ]
  },
  {
   "cell_type": "code",
   "execution_count": 120,
   "metadata": {},
   "outputs": [],
   "source": [
    "id_index = iter(list(range(100)))"
   ]
  },
  {
   "cell_type": "code",
   "execution_count": 109,
   "metadata": {},
   "outputs": [
    {
     "data": {
      "text/plain": [
       "(0.0, 4.0)"
      ]
     },
     "execution_count": 109,
     "metadata": {},
     "output_type": "execute_result"
    },
    {
     "data": {
      "image/png": "[encoded data removed]",
      "text/plain": [
       "<Figure size 432x288 with 1 Axes>"
      ]
     },
     "metadata": {
      "needs_background": "light"
     },
     "output_type": "display_data"
    }
   ],
   "source": [
    "id_index = 5\n",
    "plt.plot(df01[df01.ID==id_index]['date_block_num'],\n",
    "         df01[df01.ID==id_index]['item_cnt_month'])\n",
    "plt.ylim([0,4])"
   ]
  },
  {
   "cell_type": "code",
   "execution_count": null,
   "metadata": {},
   "outputs": [],
   "source": []
  }
 ],
 "metadata": {
  "interpreter": {
   "hash": "8fac594bfae6525c0c41b4041d2d72effa188cc8ead05f81b1fab2bb098927fb"
  },
  "kernelspec": {
   "display_name": "Python 3",
   "language": "python",
   "name": "python3"
  },
  "language_info": {
   "codemirror_mode": {
    "name": "ipython",
    "version": 3
   },
   "file_extension": ".py",
   "mimetype": "text/x-python",
   "name": "python",
   "nbconvert_exporter": "python",
   "pygments_lexer": "ipython3",
   "version": "3.7.6"
  }
 },
 "nbformat": 4,
 "nbformat_minor": 4
}
