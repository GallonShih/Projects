{
 "cells": [
  {
   "cell_type": "code",
   "execution_count": 17,
   "metadata": {},
   "outputs": [],
   "source": [
    "%matplotlib inline\n",
    "import numpy as np\n",
    "import pandas as pd\n",
    "import matplotlib.pyplot as plt\n",
    "import warnings\n",
    "warnings.filterwarnings('ignore')\n",
    "import seaborn as sns # 另一個繪圖-樣式套件\n",
    "\n",
    "from datetime import datetime"
   ]
  },
  {
   "cell_type": "markdown",
   "metadata": {},
   "source": [
    "## Import all relative datasets: sales_train, test, items, item_categories, shopa"
   ]
  },
  {
   "cell_type": "code",
   "execution_count": 18,
   "metadata": {},
   "outputs": [],
   "source": [
    "sales_train = pd.read_csv('./data/sales_train.csv')\n",
    "test = pd.read_csv('./data/test.csv') \n",
    "items = pd.read_csv('./data/items.csv')\n",
    "items_cat = pd.read_csv('./data/item_categories.csv')\n",
    "shops = pd.read_csv('./data/shops.csv')"
   ]
  },
  {
   "cell_type": "markdown",
   "metadata": {},
   "source": [
    "# EDA\n",
    "### The dataset shops contained two columns(shop_name(str) & shop_id(int64)). There are 60 unique shop_id and no missing values.\n",
    "### The dataset items contained three columns(item_name(str) & item_id(int64) & item_category_id(int64)). There are 22170 unique item_id and no missing values.\n",
    "### The dataset items_cat contained three columns(item_category_name(str) & item_category_id(int64) & item_category_id(int64)). There are 84 unique item_category_id and no missing values."
   ]
  },
  {
   "cell_type": "code",
   "execution_count": 19,
   "metadata": {},
   "outputs": [
    {
     "name": "stdout",
     "output_type": "stream",
     "text": [
      "shops\n",
      " columns: ['shop_name' 'shop_id']\n",
      "     nuniuque: 60\n",
      "     missing: {'shop_name': 0, 'shop_id': 0}\n",
      "items\n",
      " columns: ['item_name' 'item_id' 'item_category_id']\n",
      "     nuniuque: 22170\n",
      "     missing: {'item_name': 0, 'item_id': 0, 'item_category_id': 0}\n",
      "items_cat\n",
      " columns: ['item_category_name' 'item_category_id']\n",
      "     nuniuque: 84\n",
      "     missing: {'item_category_name': 0, 'item_category_id': 0}\n"
     ]
    }
   ],
   "source": [
    "print(f'shops\\n columns: {shops.columns.values}\\n\\\n",
    "     nuniuque: {shops.shop_id.nunique()}\\n\\\n",
    "     missing: {shops.isna().sum().to_dict()}')\n",
    "print(f'items\\n columns: {items.columns.values}\\n\\\n",
    "     nuniuque: {items.item_id.nunique()}\\n\\\n",
    "     missing: {items.isna().sum().to_dict()}')\n",
    "print(f'items_cat\\n columns: {items_cat.columns.values}\\n\\\n",
    "     nuniuque: {items_cat.item_category_id.nunique()}\\n\\\n",
    "     missing: {items_cat.isna().sum().to_dict()}')"
   ]
  },
  {
   "cell_type": "markdown",
   "metadata": {},
   "source": [
    "### In the salse_train, there are 60 unique shop id and 21807 unique item id. All of them are in the shops and items."
   ]
  },
  {
   "cell_type": "code",
   "execution_count": 20,
   "metadata": {},
   "outputs": [
    {
     "name": "stdout",
     "output_type": "stream",
     "text": [
      "Sales Train\n",
      "shop id\n",
      "60\n",
      "Empty DataFrame\n",
      "Columns: [date, date_block_num, shop_id, item_id, item_price, item_cnt_day]\n",
      "Index: []\n",
      "===========================================================\n",
      "item id\n",
      "21807\n",
      "Empty DataFrame\n",
      "Columns: [date, date_block_num, shop_id, item_id, item_price, item_cnt_day]\n",
      "Index: []\n"
     ]
    }
   ],
   "source": [
    "print('Sales Train')\n",
    "print('shop id')\n",
    "print(sales_train.shop_id.nunique())\n",
    "print(sales_train[-sales_train.shop_id.isin(shops.shop_id)])\n",
    "print('===========================================================')\n",
    "print('item id')\n",
    "print(sales_train.item_id.nunique())\n",
    "print(sales_train[-sales_train.item_id.isin(items.item_id)])\n"
   ]
  },
  {
   "cell_type": "markdown",
   "metadata": {},
   "source": [
    "### In the Test, there are 42 unique shop id and 5100 unique item id. All of them are in the shops and items."
   ]
  },
  {
   "cell_type": "code",
   "execution_count": 21,
   "metadata": {},
   "outputs": [
    {
     "name": "stdout",
     "output_type": "stream",
     "text": [
      "Test\n",
      "shop id\n",
      "42\n",
      "Empty DataFrame\n",
      "Columns: [ID, shop_id, item_id]\n",
      "Index: []\n",
      "===========================================================\n",
      "item id\n",
      "5100\n",
      "Empty DataFrame\n",
      "Columns: [ID, shop_id, item_id]\n",
      "Index: []\n"
     ]
    }
   ],
   "source": [
    "print('Test')\n",
    "print('shop id')\n",
    "print(test.shop_id.nunique())\n",
    "print(test[-test.shop_id.isin(shops.shop_id)])\n",
    "print('===========================================================')\n",
    "print('item id')\n",
    "print(test.item_id.nunique())\n",
    "print(test[-test.item_id.isin(items.item_id)])"
   ]
  },
  {
   "cell_type": "markdown",
   "metadata": {},
   "source": [
    "### We combine shop_id and item_id into shopitem_id. In the sales_train, there are 424124 unique shopitem_id. In the test, ther 214200 unique shopitem_id. The number in sales_train is bigger than in test. However, there are 111404 unique shopitem_id in test but not in sales_train.\n",
    "### For these shopitem_id that in test but not in sales_train, because we do not have their historical sales record, we could predict 0 sales in the future in the first vision."
   ]
  },
  {
   "cell_type": "code",
   "execution_count": 22,
   "metadata": {},
   "outputs": [
    {
     "name": "stdout",
     "output_type": "stream",
     "text": [
      "shopitem_id\n",
      "sales_train: 424124\n",
      "test: 214200\n",
      "There are 111404 shopitem_id in test but not in sales_train\n"
     ]
    }
   ],
   "source": [
    "sales_train['shopitem_id'] = list(zip(sales_train.shop_id, sales_train.item_id))\n",
    "test['shopitem_id'] = list(zip(test.shop_id, test.item_id))\n",
    "print('shopitem_id')\n",
    "print(f'sales_train: {len(sales_train.shopitem_id.unique())}')\n",
    "print(f'test: {len(test.shopitem_id.unique())}')\n",
    "num_notintrain = test[test['shopitem_id'].isin(sales_train['shopitem_id'])].shape[0]\n",
    "print(f'There are {num_notintrain} shopitem_id in test but not in sales_train')"
   ]
  },
  {
   "cell_type": "markdown",
   "metadata": {},
   "source": [
    "## Shops\n",
    "### In the shops, we found that there are more information in the columns \"shop_name\". Using google help, the fisrt word in the shop_name is city name and the second word is the type of shop"
   ]
  },
  {
   "cell_type": "code",
   "execution_count": 24,
   "metadata": {},
   "outputs": [
    {
     "name": "stdout",
     "output_type": "stream",
     "text": [
      "['Орджоникидзе,' 'ТЦ' 'ТРК' 'ТРЦ' '(Плехановская,' 'Торговля' 'ул.' 'ЧС'\n",
      " '\"Распродажа\"' 'МТРЦ' 'Магазин' 'ТК' 'Посад' 'склад']\n"
     ]
    }
   ],
   "source": [
    "shops['city'] = shops.shop_name.apply(lambda x: x.split(' ')[0])\n",
    "shops['shop_type'] = shops.shop_name.apply(lambda x: x.split(' ')[1])\n",
    "print(shops['shop_type'].unique())\n",
    "shop_types = {\n",
    "    'Орджоникидзе,':'others',\n",
    "    '\\(Плехановская,':'others',\n",
    "    '\"Распродажа\"':'others',\n",
    "    'Посад':'others'\n",
    "}\n",
    "shops['shop_type'] = shops['shop_type'].replace(regex = shop_types)"
   ]
  },
  {
   "cell_type": "code",
   "execution_count": 25,
   "metadata": {},
   "outputs": [
    {
     "data": {
      "text/html": [
       "<div>\n",
       "<style scoped>\n",
       "    .dataframe tbody tr th:only-of-type {\n",
       "        vertical-align: middle;\n",
       "    }\n",
       "\n",
       "    .dataframe tbody tr th {\n",
       "        vertical-align: top;\n",
       "    }\n",
       "\n",
       "    .dataframe thead th {\n",
       "        text-align: right;\n",
       "    }\n",
       "</style>\n",
       "<table border=\"1\" class=\"dataframe\">\n",
       "  <thead>\n",
       "    <tr style=\"text-align: right;\">\n",
       "      <th></th>\n",
       "      <th>shop_name</th>\n",
       "      <th>shop_id</th>\n",
       "      <th>city</th>\n",
       "      <th>shop_type</th>\n",
       "    </tr>\n",
       "  </thead>\n",
       "  <tbody>\n",
       "    <tr>\n",
       "      <th>0</th>\n",
       "      <td>!Якутск Орджоникидзе, 56 фран</td>\n",
       "      <td>0</td>\n",
       "      <td>!Якутск</td>\n",
       "      <td>others</td>\n",
       "    </tr>\n",
       "    <tr>\n",
       "      <th>1</th>\n",
       "      <td>!Якутск ТЦ \"Центральный\" фран</td>\n",
       "      <td>1</td>\n",
       "      <td>!Якутск</td>\n",
       "      <td>ТЦ</td>\n",
       "    </tr>\n",
       "    <tr>\n",
       "      <th>2</th>\n",
       "      <td>Адыгея ТЦ \"Мега\"</td>\n",
       "      <td>2</td>\n",
       "      <td>Адыгея</td>\n",
       "      <td>ТЦ</td>\n",
       "    </tr>\n",
       "    <tr>\n",
       "      <th>3</th>\n",
       "      <td>Балашиха ТРК \"Октябрь-Киномир\"</td>\n",
       "      <td>3</td>\n",
       "      <td>Балашиха</td>\n",
       "      <td>ТРК</td>\n",
       "    </tr>\n",
       "    <tr>\n",
       "      <th>4</th>\n",
       "      <td>Волжский ТЦ \"Волга Молл\"</td>\n",
       "      <td>4</td>\n",
       "      <td>Волжский</td>\n",
       "      <td>ТЦ</td>\n",
       "    </tr>\n",
       "    <tr>\n",
       "      <th>5</th>\n",
       "      <td>Вологда ТРЦ \"Мармелад\"</td>\n",
       "      <td>5</td>\n",
       "      <td>Вологда</td>\n",
       "      <td>ТРЦ</td>\n",
       "    </tr>\n",
       "    <tr>\n",
       "      <th>6</th>\n",
       "      <td>Воронеж (Плехановская, 13)</td>\n",
       "      <td>6</td>\n",
       "      <td>Воронеж</td>\n",
       "      <td>others</td>\n",
       "    </tr>\n",
       "    <tr>\n",
       "      <th>7</th>\n",
       "      <td>Воронеж ТРЦ \"Максимир\"</td>\n",
       "      <td>7</td>\n",
       "      <td>Воронеж</td>\n",
       "      <td>ТРЦ</td>\n",
       "    </tr>\n",
       "    <tr>\n",
       "      <th>8</th>\n",
       "      <td>Воронеж ТРЦ Сити-Парк \"Град\"</td>\n",
       "      <td>8</td>\n",
       "      <td>Воронеж</td>\n",
       "      <td>ТРЦ</td>\n",
       "    </tr>\n",
       "    <tr>\n",
       "      <th>9</th>\n",
       "      <td>Выездная Торговля</td>\n",
       "      <td>9</td>\n",
       "      <td>Выездная</td>\n",
       "      <td>Торговля</td>\n",
       "    </tr>\n",
       "    <tr>\n",
       "      <th>10</th>\n",
       "      <td>Жуковский ул. Чкалова 39м?</td>\n",
       "      <td>10</td>\n",
       "      <td>Жуковский</td>\n",
       "      <td>ул.</td>\n",
       "    </tr>\n",
       "    <tr>\n",
       "      <th>11</th>\n",
       "      <td>Жуковский ул. Чкалова 39м²</td>\n",
       "      <td>11</td>\n",
       "      <td>Жуковский</td>\n",
       "      <td>ул.</td>\n",
       "    </tr>\n",
       "    <tr>\n",
       "      <th>12</th>\n",
       "      <td>Интернет-магазин ЧС</td>\n",
       "      <td>12</td>\n",
       "      <td>Интернет-магазин</td>\n",
       "      <td>ЧС</td>\n",
       "    </tr>\n",
       "    <tr>\n",
       "      <th>13</th>\n",
       "      <td>Казань ТЦ \"Бехетле\"</td>\n",
       "      <td>13</td>\n",
       "      <td>Казань</td>\n",
       "      <td>ТЦ</td>\n",
       "    </tr>\n",
       "    <tr>\n",
       "      <th>14</th>\n",
       "      <td>Казань ТЦ \"ПаркХаус\" II</td>\n",
       "      <td>14</td>\n",
       "      <td>Казань</td>\n",
       "      <td>ТЦ</td>\n",
       "    </tr>\n",
       "    <tr>\n",
       "      <th>15</th>\n",
       "      <td>Калуга ТРЦ \"XXI век\"</td>\n",
       "      <td>15</td>\n",
       "      <td>Калуга</td>\n",
       "      <td>ТРЦ</td>\n",
       "    </tr>\n",
       "    <tr>\n",
       "      <th>16</th>\n",
       "      <td>Коломна ТЦ \"Рио\"</td>\n",
       "      <td>16</td>\n",
       "      <td>Коломна</td>\n",
       "      <td>ТЦ</td>\n",
       "    </tr>\n",
       "    <tr>\n",
       "      <th>17</th>\n",
       "      <td>Красноярск ТЦ \"Взлетка Плаза\"</td>\n",
       "      <td>17</td>\n",
       "      <td>Красноярск</td>\n",
       "      <td>ТЦ</td>\n",
       "    </tr>\n",
       "    <tr>\n",
       "      <th>18</th>\n",
       "      <td>Красноярск ТЦ \"Июнь\"</td>\n",
       "      <td>18</td>\n",
       "      <td>Красноярск</td>\n",
       "      <td>ТЦ</td>\n",
       "    </tr>\n",
       "    <tr>\n",
       "      <th>19</th>\n",
       "      <td>Курск ТЦ \"Пушкинский\"</td>\n",
       "      <td>19</td>\n",
       "      <td>Курск</td>\n",
       "      <td>ТЦ</td>\n",
       "    </tr>\n",
       "    <tr>\n",
       "      <th>20</th>\n",
       "      <td>Москва \"Распродажа\"</td>\n",
       "      <td>20</td>\n",
       "      <td>Москва</td>\n",
       "      <td>others</td>\n",
       "    </tr>\n",
       "    <tr>\n",
       "      <th>21</th>\n",
       "      <td>Москва МТРЦ \"Афи Молл\"</td>\n",
       "      <td>21</td>\n",
       "      <td>Москва</td>\n",
       "      <td>МТРЦ</td>\n",
       "    </tr>\n",
       "    <tr>\n",
       "      <th>22</th>\n",
       "      <td>Москва Магазин С21</td>\n",
       "      <td>22</td>\n",
       "      <td>Москва</td>\n",
       "      <td>Магазин</td>\n",
       "    </tr>\n",
       "    <tr>\n",
       "      <th>23</th>\n",
       "      <td>Москва ТК \"Буденовский\" (пав.А2)</td>\n",
       "      <td>23</td>\n",
       "      <td>Москва</td>\n",
       "      <td>ТК</td>\n",
       "    </tr>\n",
       "    <tr>\n",
       "      <th>24</th>\n",
       "      <td>Москва ТК \"Буденовский\" (пав.К7)</td>\n",
       "      <td>24</td>\n",
       "      <td>Москва</td>\n",
       "      <td>ТК</td>\n",
       "    </tr>\n",
       "    <tr>\n",
       "      <th>25</th>\n",
       "      <td>Москва ТРК \"Атриум\"</td>\n",
       "      <td>25</td>\n",
       "      <td>Москва</td>\n",
       "      <td>ТРК</td>\n",
       "    </tr>\n",
       "    <tr>\n",
       "      <th>26</th>\n",
       "      <td>Москва ТЦ \"Ареал\" (Беляево)</td>\n",
       "      <td>26</td>\n",
       "      <td>Москва</td>\n",
       "      <td>ТЦ</td>\n",
       "    </tr>\n",
       "    <tr>\n",
       "      <th>27</th>\n",
       "      <td>Москва ТЦ \"МЕГА Белая Дача II\"</td>\n",
       "      <td>27</td>\n",
       "      <td>Москва</td>\n",
       "      <td>ТЦ</td>\n",
       "    </tr>\n",
       "    <tr>\n",
       "      <th>28</th>\n",
       "      <td>Москва ТЦ \"МЕГА Теплый Стан\" II</td>\n",
       "      <td>28</td>\n",
       "      <td>Москва</td>\n",
       "      <td>ТЦ</td>\n",
       "    </tr>\n",
       "    <tr>\n",
       "      <th>29</th>\n",
       "      <td>Москва ТЦ \"Новый век\" (Новокосино)</td>\n",
       "      <td>29</td>\n",
       "      <td>Москва</td>\n",
       "      <td>ТЦ</td>\n",
       "    </tr>\n",
       "    <tr>\n",
       "      <th>30</th>\n",
       "      <td>Москва ТЦ \"Перловский\"</td>\n",
       "      <td>30</td>\n",
       "      <td>Москва</td>\n",
       "      <td>ТЦ</td>\n",
       "    </tr>\n",
       "    <tr>\n",
       "      <th>31</th>\n",
       "      <td>Москва ТЦ \"Семеновский\"</td>\n",
       "      <td>31</td>\n",
       "      <td>Москва</td>\n",
       "      <td>ТЦ</td>\n",
       "    </tr>\n",
       "    <tr>\n",
       "      <th>32</th>\n",
       "      <td>Москва ТЦ \"Серебряный Дом\"</td>\n",
       "      <td>32</td>\n",
       "      <td>Москва</td>\n",
       "      <td>ТЦ</td>\n",
       "    </tr>\n",
       "    <tr>\n",
       "      <th>33</th>\n",
       "      <td>Мытищи ТРК \"XL-3\"</td>\n",
       "      <td>33</td>\n",
       "      <td>Мытищи</td>\n",
       "      <td>ТРК</td>\n",
       "    </tr>\n",
       "    <tr>\n",
       "      <th>34</th>\n",
       "      <td>Н.Новгород ТРЦ \"РИО\"</td>\n",
       "      <td>34</td>\n",
       "      <td>Н.Новгород</td>\n",
       "      <td>ТРЦ</td>\n",
       "    </tr>\n",
       "    <tr>\n",
       "      <th>35</th>\n",
       "      <td>Н.Новгород ТРЦ \"Фантастика\"</td>\n",
       "      <td>35</td>\n",
       "      <td>Н.Новгород</td>\n",
       "      <td>ТРЦ</td>\n",
       "    </tr>\n",
       "    <tr>\n",
       "      <th>36</th>\n",
       "      <td>Новосибирск ТРЦ \"Галерея Новосибирск\"</td>\n",
       "      <td>36</td>\n",
       "      <td>Новосибирск</td>\n",
       "      <td>ТРЦ</td>\n",
       "    </tr>\n",
       "    <tr>\n",
       "      <th>37</th>\n",
       "      <td>Новосибирск ТЦ \"Мега\"</td>\n",
       "      <td>37</td>\n",
       "      <td>Новосибирск</td>\n",
       "      <td>ТЦ</td>\n",
       "    </tr>\n",
       "    <tr>\n",
       "      <th>38</th>\n",
       "      <td>Омск ТЦ \"Мега\"</td>\n",
       "      <td>38</td>\n",
       "      <td>Омск</td>\n",
       "      <td>ТЦ</td>\n",
       "    </tr>\n",
       "    <tr>\n",
       "      <th>39</th>\n",
       "      <td>РостовНаДону ТРК \"Мегацентр Горизонт\"</td>\n",
       "      <td>39</td>\n",
       "      <td>РостовНаДону</td>\n",
       "      <td>ТРК</td>\n",
       "    </tr>\n",
       "    <tr>\n",
       "      <th>40</th>\n",
       "      <td>РостовНаДону ТРК \"Мегацентр Горизонт\" Островной</td>\n",
       "      <td>40</td>\n",
       "      <td>РостовНаДону</td>\n",
       "      <td>ТРК</td>\n",
       "    </tr>\n",
       "    <tr>\n",
       "      <th>41</th>\n",
       "      <td>РостовНаДону ТЦ \"Мега\"</td>\n",
       "      <td>41</td>\n",
       "      <td>РостовНаДону</td>\n",
       "      <td>ТЦ</td>\n",
       "    </tr>\n",
       "    <tr>\n",
       "      <th>42</th>\n",
       "      <td>СПб ТК \"Невский Центр\"</td>\n",
       "      <td>42</td>\n",
       "      <td>СПб</td>\n",
       "      <td>ТК</td>\n",
       "    </tr>\n",
       "    <tr>\n",
       "      <th>43</th>\n",
       "      <td>СПб ТК \"Сенная\"</td>\n",
       "      <td>43</td>\n",
       "      <td>СПб</td>\n",
       "      <td>ТК</td>\n",
       "    </tr>\n",
       "    <tr>\n",
       "      <th>44</th>\n",
       "      <td>Самара ТЦ \"Мелодия\"</td>\n",
       "      <td>44</td>\n",
       "      <td>Самара</td>\n",
       "      <td>ТЦ</td>\n",
       "    </tr>\n",
       "    <tr>\n",
       "      <th>45</th>\n",
       "      <td>Самара ТЦ \"ПаркХаус\"</td>\n",
       "      <td>45</td>\n",
       "      <td>Самара</td>\n",
       "      <td>ТЦ</td>\n",
       "    </tr>\n",
       "    <tr>\n",
       "      <th>46</th>\n",
       "      <td>Сергиев Посад ТЦ \"7Я\"</td>\n",
       "      <td>46</td>\n",
       "      <td>Сергиев</td>\n",
       "      <td>others</td>\n",
       "    </tr>\n",
       "    <tr>\n",
       "      <th>47</th>\n",
       "      <td>Сургут ТРЦ \"Сити Молл\"</td>\n",
       "      <td>47</td>\n",
       "      <td>Сургут</td>\n",
       "      <td>ТРЦ</td>\n",
       "    </tr>\n",
       "    <tr>\n",
       "      <th>48</th>\n",
       "      <td>Томск ТРЦ \"Изумрудный Город\"</td>\n",
       "      <td>48</td>\n",
       "      <td>Томск</td>\n",
       "      <td>ТРЦ</td>\n",
       "    </tr>\n",
       "    <tr>\n",
       "      <th>49</th>\n",
       "      <td>Тюмень ТРЦ \"Кристалл\"</td>\n",
       "      <td>49</td>\n",
       "      <td>Тюмень</td>\n",
       "      <td>ТРЦ</td>\n",
       "    </tr>\n",
       "    <tr>\n",
       "      <th>50</th>\n",
       "      <td>Тюмень ТЦ \"Гудвин\"</td>\n",
       "      <td>50</td>\n",
       "      <td>Тюмень</td>\n",
       "      <td>ТЦ</td>\n",
       "    </tr>\n",
       "    <tr>\n",
       "      <th>51</th>\n",
       "      <td>Тюмень ТЦ \"Зеленый Берег\"</td>\n",
       "      <td>51</td>\n",
       "      <td>Тюмень</td>\n",
       "      <td>ТЦ</td>\n",
       "    </tr>\n",
       "    <tr>\n",
       "      <th>52</th>\n",
       "      <td>Уфа ТК \"Центральный\"</td>\n",
       "      <td>52</td>\n",
       "      <td>Уфа</td>\n",
       "      <td>ТК</td>\n",
       "    </tr>\n",
       "    <tr>\n",
       "      <th>53</th>\n",
       "      <td>Уфа ТЦ \"Семья\" 2</td>\n",
       "      <td>53</td>\n",
       "      <td>Уфа</td>\n",
       "      <td>ТЦ</td>\n",
       "    </tr>\n",
       "    <tr>\n",
       "      <th>54</th>\n",
       "      <td>Химки ТЦ \"Мега\"</td>\n",
       "      <td>54</td>\n",
       "      <td>Химки</td>\n",
       "      <td>ТЦ</td>\n",
       "    </tr>\n",
       "    <tr>\n",
       "      <th>55</th>\n",
       "      <td>Цифровой склад 1С-Онлайн</td>\n",
       "      <td>55</td>\n",
       "      <td>Цифровой</td>\n",
       "      <td>склад</td>\n",
       "    </tr>\n",
       "    <tr>\n",
       "      <th>56</th>\n",
       "      <td>Чехов ТРЦ \"Карнавал\"</td>\n",
       "      <td>56</td>\n",
       "      <td>Чехов</td>\n",
       "      <td>ТРЦ</td>\n",
       "    </tr>\n",
       "    <tr>\n",
       "      <th>57</th>\n",
       "      <td>Якутск Орджоникидзе, 56</td>\n",
       "      <td>57</td>\n",
       "      <td>Якутск</td>\n",
       "      <td>others</td>\n",
       "    </tr>\n",
       "    <tr>\n",
       "      <th>58</th>\n",
       "      <td>Якутск ТЦ \"Центральный\"</td>\n",
       "      <td>58</td>\n",
       "      <td>Якутск</td>\n",
       "      <td>ТЦ</td>\n",
       "    </tr>\n",
       "    <tr>\n",
       "      <th>59</th>\n",
       "      <td>Ярославль ТЦ \"Альтаир\"</td>\n",
       "      <td>59</td>\n",
       "      <td>Ярославль</td>\n",
       "      <td>ТЦ</td>\n",
       "    </tr>\n",
       "  </tbody>\n",
       "</table>\n",
       "</div>"
      ],
      "text/plain": [
       "                                          shop_name  shop_id  \\\n",
       "0                     !Якутск Орджоникидзе, 56 фран        0   \n",
       "1                     !Якутск ТЦ \"Центральный\" фран        1   \n",
       "2                                  Адыгея ТЦ \"Мега\"        2   \n",
       "3                    Балашиха ТРК \"Октябрь-Киномир\"        3   \n",
       "4                          Волжский ТЦ \"Волга Молл\"        4   \n",
       "5                            Вологда ТРЦ \"Мармелад\"        5   \n",
       "6                        Воронеж (Плехановская, 13)        6   \n",
       "7                            Воронеж ТРЦ \"Максимир\"        7   \n",
       "8                      Воронеж ТРЦ Сити-Парк \"Град\"        8   \n",
       "9                                 Выездная Торговля        9   \n",
       "10                       Жуковский ул. Чкалова 39м?       10   \n",
       "11                       Жуковский ул. Чкалова 39м²       11   \n",
       "12                              Интернет-магазин ЧС       12   \n",
       "13                              Казань ТЦ \"Бехетле\"       13   \n",
       "14                          Казань ТЦ \"ПаркХаус\" II       14   \n",
       "15                             Калуга ТРЦ \"XXI век\"       15   \n",
       "16                                 Коломна ТЦ \"Рио\"       16   \n",
       "17                    Красноярск ТЦ \"Взлетка Плаза\"       17   \n",
       "18                             Красноярск ТЦ \"Июнь\"       18   \n",
       "19                            Курск ТЦ \"Пушкинский\"       19   \n",
       "20                              Москва \"Распродажа\"       20   \n",
       "21                           Москва МТРЦ \"Афи Молл\"       21   \n",
       "22                               Москва Магазин С21       22   \n",
       "23                 Москва ТК \"Буденовский\" (пав.А2)       23   \n",
       "24                 Москва ТК \"Буденовский\" (пав.К7)       24   \n",
       "25                              Москва ТРК \"Атриум\"       25   \n",
       "26                      Москва ТЦ \"Ареал\" (Беляево)       26   \n",
       "27                   Москва ТЦ \"МЕГА Белая Дача II\"       27   \n",
       "28                  Москва ТЦ \"МЕГА Теплый Стан\" II       28   \n",
       "29               Москва ТЦ \"Новый век\" (Новокосино)       29   \n",
       "30                           Москва ТЦ \"Перловский\"       30   \n",
       "31                          Москва ТЦ \"Семеновский\"       31   \n",
       "32                       Москва ТЦ \"Серебряный Дом\"       32   \n",
       "33                                Мытищи ТРК \"XL-3\"       33   \n",
       "34                             Н.Новгород ТРЦ \"РИО\"       34   \n",
       "35                      Н.Новгород ТРЦ \"Фантастика\"       35   \n",
       "36            Новосибирск ТРЦ \"Галерея Новосибирск\"       36   \n",
       "37                            Новосибирск ТЦ \"Мега\"       37   \n",
       "38                                   Омск ТЦ \"Мега\"       38   \n",
       "39            РостовНаДону ТРК \"Мегацентр Горизонт\"       39   \n",
       "40  РостовНаДону ТРК \"Мегацентр Горизонт\" Островной       40   \n",
       "41                           РостовНаДону ТЦ \"Мега\"       41   \n",
       "42                           СПб ТК \"Невский Центр\"       42   \n",
       "43                                  СПб ТК \"Сенная\"       43   \n",
       "44                              Самара ТЦ \"Мелодия\"       44   \n",
       "45                             Самара ТЦ \"ПаркХаус\"       45   \n",
       "46                            Сергиев Посад ТЦ \"7Я\"       46   \n",
       "47                           Сургут ТРЦ \"Сити Молл\"       47   \n",
       "48                     Томск ТРЦ \"Изумрудный Город\"       48   \n",
       "49                            Тюмень ТРЦ \"Кристалл\"       49   \n",
       "50                               Тюмень ТЦ \"Гудвин\"       50   \n",
       "51                        Тюмень ТЦ \"Зеленый Берег\"       51   \n",
       "52                             Уфа ТК \"Центральный\"       52   \n",
       "53                                 Уфа ТЦ \"Семья\" 2       53   \n",
       "54                                  Химки ТЦ \"Мега\"       54   \n",
       "55                         Цифровой склад 1С-Онлайн       55   \n",
       "56                             Чехов ТРЦ \"Карнавал\"       56   \n",
       "57                          Якутск Орджоникидзе, 56       57   \n",
       "58                          Якутск ТЦ \"Центральный\"       58   \n",
       "59                           Ярославль ТЦ \"Альтаир\"       59   \n",
       "\n",
       "                city shop_type  \n",
       "0            !Якутск    others  \n",
       "1            !Якутск        ТЦ  \n",
       "2             Адыгея        ТЦ  \n",
       "3           Балашиха       ТРК  \n",
       "4           Волжский        ТЦ  \n",
       "5            Вологда       ТРЦ  \n",
       "6            Воронеж    others  \n",
       "7            Воронеж       ТРЦ  \n",
       "8            Воронеж       ТРЦ  \n",
       "9           Выездная  Торговля  \n",
       "10         Жуковский       ул.  \n",
       "11         Жуковский       ул.  \n",
       "12  Интернет-магазин        ЧС  \n",
       "13            Казань        ТЦ  \n",
       "14            Казань        ТЦ  \n",
       "15            Калуга       ТРЦ  \n",
       "16           Коломна        ТЦ  \n",
       "17        Красноярск        ТЦ  \n",
       "18        Красноярск        ТЦ  \n",
       "19             Курск        ТЦ  \n",
       "20            Москва    others  \n",
       "21            Москва      МТРЦ  \n",
       "22            Москва   Магазин  \n",
       "23            Москва        ТК  \n",
       "24            Москва        ТК  \n",
       "25            Москва       ТРК  \n",
       "26            Москва        ТЦ  \n",
       "27            Москва        ТЦ  \n",
       "28            Москва        ТЦ  \n",
       "29            Москва        ТЦ  \n",
       "30            Москва        ТЦ  \n",
       "31            Москва        ТЦ  \n",
       "32            Москва        ТЦ  \n",
       "33            Мытищи       ТРК  \n",
       "34        Н.Новгород       ТРЦ  \n",
       "35        Н.Новгород       ТРЦ  \n",
       "36       Новосибирск       ТРЦ  \n",
       "37       Новосибирск        ТЦ  \n",
       "38              Омск        ТЦ  \n",
       "39      РостовНаДону       ТРК  \n",
       "40      РостовНаДону       ТРК  \n",
       "41      РостовНаДону        ТЦ  \n",
       "42               СПб        ТК  \n",
       "43               СПб        ТК  \n",
       "44            Самара        ТЦ  \n",
       "45            Самара        ТЦ  \n",
       "46           Сергиев    others  \n",
       "47            Сургут       ТРЦ  \n",
       "48             Томск       ТРЦ  \n",
       "49            Тюмень       ТРЦ  \n",
       "50            Тюмень        ТЦ  \n",
       "51            Тюмень        ТЦ  \n",
       "52               Уфа        ТК  \n",
       "53               Уфа        ТЦ  \n",
       "54             Химки        ТЦ  \n",
       "55          Цифровой     склад  \n",
       "56             Чехов       ТРЦ  \n",
       "57            Якутск    others  \n",
       "58            Якутск        ТЦ  \n",
       "59         Ярославль        ТЦ  "
      ]
     },
     "execution_count": 25,
     "metadata": {},
     "output_type": "execute_result"
    }
   ],
   "source": [
    "shops"
   ]
  },
  {
   "cell_type": "markdown",
   "metadata": {},
   "source": [
    "### At the meanwhile, some people said ther are some mistakes in the shopname, so we adjust them. "
   ]
  },
  {
   "cell_type": "code",
   "execution_count": 30,
   "metadata": {},
   "outputs": [],
   "source": [
    "# Якутск Орджоникидзе, 56\n",
    "sales_train.loc[sales_train.shop_id == 0, 'shop_id'] = 57\n",
    "test.loc[test.shop_id == 0, 'shop_id'] = 57\n",
    "# Якутск ТЦ \"Центральный\"\n",
    "sales_train.loc[sales_train.shop_id == 1, 'shop_id'] = 58\n",
    "test.loc[test.shop_id == 1, 'shop_id'] = 58\n",
    "# Жуковский ул. Чкалова 39м²\n",
    "sales_train.loc[sales_train.shop_id == 10, 'shop_id'] = 11\n",
    "test.loc[test.shop_id == 10, 'shop_id'] = 11\n",
    "\n",
    "# shops"
   ]
  },
  {
   "cell_type": "code",
   "execution_count": 29,
   "metadata": {},
   "outputs": [
    {
     "data": {
      "text/plain": [
       "array([ 2,  3,  4,  5,  6,  7, 10, 12, 14, 15, 16, 18, 19, 21, 22, 24, 25,\n",
       "       26, 28, 31, 34, 35, 36, 37, 38, 39, 41, 42, 44, 45, 46, 47, 48, 49,\n",
       "       50, 52, 53, 55, 56, 57, 58, 59], dtype=int64)"
      ]
     },
     "execution_count": 29,
     "metadata": {},
     "output_type": "execute_result"
    }
   ],
   "source": [
    "test.sort_values(by='shop_id').shop_id.unique()"
   ]
  },
  {
   "cell_type": "markdown",
   "metadata": {},
   "source": [
    "## items_cat\n",
    "### In the items_cat, we found that there are some similiar words in the begining of item_category_name. We set them as a big class."
   ]
  },
  {
   "cell_type": "code",
   "execution_count": 32,
   "metadata": {},
   "outputs": [],
   "source": [
    "items_cat['subdept'] = items_cat.item_category_name.apply(lambda x:x.split(' ')[0])\n",
    "# items_cat['subdept'].unique()"
   ]
  },
  {
   "cell_type": "markdown",
   "metadata": {},
   "source": [
    "## Outliers"
   ]
  },
  {
   "cell_type": "code",
   "execution_count": 38,
   "metadata": {},
   "outputs": [
    {
     "data": {
      "image/png": "[encoded data removed]",
      "text/plain": [
       "<Figure size 1440x288 with 1 Axes>"
      ]
     },
     "metadata": {
      "needs_background": "light"
     },
     "output_type": "display_data"
    }
   ],
   "source": [
    "plt.subplots(1,figsize=(20,4))\n",
    "sns.boxplot(x='item_price',data=sales_train)\n",
    "# plt.xlim(-10,10000)\n",
    "plt.show()"
   ]
  },
  {
   "cell_type": "code",
   "execution_count": 40,
   "metadata": {},
   "outputs": [
    {
     "data": {
      "image/png": "[encoded data removed]",
      "text/plain": [
       "<Figure size 1440x288 with 1 Axes>"
      ]
     },
     "metadata": {
      "needs_background": "light"
     },
     "output_type": "display_data"
    }
   ],
   "source": [
    "plt.subplots(1,figsize=(20,4))\n",
    "sns.boxplot(x='item_cnt_day',data=sales_train)\n",
    "plt.show()"
   ]
  },
  {
   "cell_type": "code",
   "execution_count": 42,
   "metadata": {},
   "outputs": [],
   "source": [
    "replace_mean_price = sales_train.loc[((sales_train.shopitem_id==(32, 2973)) & (sales_train.item_price>=0)),'item_price'].mean()\n",
    "sales_train.loc[((sales_train.shopitem_id==(32, 2973)) & (sales_train.item_price<0)),'item_price'] = replace_mean_price\n",
    "\n",
    "sales_train = sales_train[sales_train.item_price<300000]\n",
    "sales_train = sales_train[sales_train.item_cnt_day<1500]"
   ]
  },
  {
   "cell_type": "code",
   "execution_count": null,
   "metadata": {},
   "outputs": [],
   "source": []
  },
  {
   "cell_type": "code",
   "execution_count": 43,
   "metadata": {},
   "outputs": [],
   "source": [
    "sales_train.date = sales_train.date.apply(lambda x:datetime.strptime(x,\"%d.%m.%Y\"))\n",
    "sales_train['year_month'] = sales_train.date.apply(lambda x:x.strftime(\"%Y-%m\"))\n",
    "sales_train['sales'] = sales_train['item_price'] * sales_train['item_cnt_day']"
   ]
  },
  {
   "cell_type": "code",
   "execution_count": 44,
   "metadata": {},
   "outputs": [],
   "source": [
    "sales_monthly = sales_train.groupby(['year_month'])['sales'].sum().reset_index()"
   ]
  },
  {
   "cell_type": "code",
   "execution_count": 45,
   "metadata": {},
   "outputs": [
    {
     "data": {
      "image/png": "[encoded data removed]",
      "text/plain": [
       "<Figure size 1440x288 with 1 Axes>"
      ]
     },
     "metadata": {
      "needs_background": "light"
     },
     "output_type": "display_data"
    }
   ],
   "source": [
    "plt.subplots(1,figsize=(20,4))\n",
    "sns.lineplot(x='year_month', y='sales', data=sales_monthly)\n",
    "plt.xticks(rotation=90)\n",
    "plt.show()"
   ]
  },
  {
   "cell_type": "code",
   "execution_count": null,
   "metadata": {},
   "outputs": [],
   "source": []
  },
  {
   "cell_type": "code",
   "execution_count": null,
   "metadata": {},
   "outputs": [],
   "source": []
  },
  {
   "cell_type": "code",
   "execution_count": null,
   "metadata": {},
   "outputs": [],
   "source": []
  },
  {
   "cell_type": "code",
   "execution_count": null,
   "metadata": {},
   "outputs": [],
   "source": []
  },
  {
   "cell_type": "code",
   "execution_count": null,
   "metadata": {},
   "outputs": [],
   "source": []
  },
  {
   "cell_type": "code",
   "execution_count": null,
   "metadata": {},
   "outputs": [],
   "source": []
  },
  {
   "cell_type": "code",
   "execution_count": null,
   "metadata": {},
   "outputs": [],
   "source": []
  },
  {
   "cell_type": "code",
   "execution_count": 38,
   "metadata": {},
   "outputs": [],
   "source": [
    "sales_train_filter = pd.merge(sales_train,test,on=['shop_id','item_id'])\n",
    "sales_train_filter = sales_train_filter.groupby(['ID','date_block_num'])['item_cnt_day'].sum().reset_index(name = 'item_cnt_month').sort_values(by=['ID','date_block_num'])\n",
    "\n",
    "sales_train_filter = sales_train_filter[sales_train_filter.date_block_num.isin(list(range(22,34)))]\n",
    "sales_train_predict = (sales_train_filter.groupby(['ID'])['item_cnt_month'].sum()/12).reset_index()\n",
    "sales_train_predict = pd.merge(test,sales_train_predict,how = 'left')\n",
    "sales_train_predict.item_cnt_month.fillna(0,inplace = True)\n",
    "submmit = sales_train_predict.drop(['shop_id','item_id'],axis=1)"
   ]
  },
  {
   "cell_type": "code",
   "execution_count": 67,
   "metadata": {},
   "outputs": [],
   "source": [
    "submmit.to_csv('./submit/submit_20210726_01.csv',index=0)"
   ]
  },
  {
   "cell_type": "code",
   "execution_count": null,
   "metadata": {},
   "outputs": [],
   "source": []
  },
  {
   "cell_type": "code",
   "execution_count": null,
   "metadata": {},
   "outputs": [],
   "source": []
  },
  {
   "cell_type": "code",
   "execution_count": 72,
   "metadata": {},
   "outputs": [],
   "source": [
    "sales_train_filter = pd.merge(sales_train,test,on=['shop_id','item_id'])\n",
    "sales_train_filter = sales_train_filter.groupby(['ID','date_block_num'])['item_cnt_day'].sum().reset_index(name = 'item_cnt_month').sort_values(by=['ID','date_block_num'])\n"
   ]
  },
  {
   "cell_type": "code",
   "execution_count": 98,
   "metadata": {},
   "outputs": [],
   "source": [
    "df01 = pd.DataFrame({'ID':sales_train_filter.ID.unique().repeat(34),'date_block_num':list(range(34))*sales_train_filter.ID.nunique()})"
   ]
  },
  {
   "cell_type": "code",
   "execution_count": 100,
   "metadata": {},
   "outputs": [],
   "source": [
    "df01 = pd.merge(df01, sales_train_filter, how = 'left')"
   ]
  },
  {
   "cell_type": "code",
   "execution_count": 102,
   "metadata": {},
   "outputs": [],
   "source": [
    "df01.item_cnt_month.fillna(0,inplace=True)"
   ]
  },
  {
   "cell_type": "code",
   "execution_count": 120,
   "metadata": {},
   "outputs": [],
   "source": [
    "id_index = iter(list(range(100)))"
   ]
  },
  {
   "cell_type": "code",
   "execution_count": 109,
   "metadata": {},
   "outputs": [
    {
     "data": {
      "text/plain": [
       "(0.0, 4.0)"
      ]
     },
     "execution_count": 109,
     "metadata": {},
     "output_type": "execute_result"
    },
    {
     "data": {
      "image/png": "[encoded data removed]",
      "text/plain": [
       "<Figure size 432x288 with 1 Axes>"
      ]
     },
     "metadata": {
      "needs_background": "light"
     },
     "output_type": "display_data"
    }
   ],
   "source": [
    "id_index = 5\n",
    "plt.plot(df01[df01.ID==id_index]['date_block_num'],\n",
    "         df01[df01.ID==id_index]['item_cnt_month'])\n",
    "plt.ylim([0,4])"
   ]
  },
  {
   "cell_type": "code",
   "execution_count": null,
   "metadata": {},
   "outputs": [],
   "source": []
  }
 ],
 "metadata": {
  "interpreter": {
   "hash": "8fac594bfae6525c0c41b4041d2d72effa188cc8ead05f81b1fab2bb098927fb"
  },
  "kernelspec": {
   "display_name": "Python 3",
   "language": "python",
   "name": "python3"
  },
  "language_info": {
   "codemirror_mode": {
    "name": "ipython",
    "version": 3
   },
   "file_extension": ".py",
   "mimetype": "text/x-python",
   "name": "python",
   "nbconvert_exporter": "python",
   "pygments_lexer": "ipython3",
   "version": "3.7.6"
  }
 },
 "nbformat": 4,
 "nbformat_minor": 4
}
