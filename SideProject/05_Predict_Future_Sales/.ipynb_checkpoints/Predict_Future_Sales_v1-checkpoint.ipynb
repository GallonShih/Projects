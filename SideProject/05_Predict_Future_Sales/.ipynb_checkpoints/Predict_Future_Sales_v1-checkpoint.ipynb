{
 "cells": [
  {
   "cell_type": "code",
   "execution_count": 68,
   "metadata": {},
   "outputs": [],
   "source": [
    "%matplotlib inline\n",
    "import numpy as np\n",
    "import pandas as pd\n",
    "import matplotlib.pyplot as plt\n",
    "import warnings\n",
    "warnings.filterwarnings('ignore')"
   ]
  },
  {
   "cell_type": "code",
   "execution_count": 69,
   "metadata": {},
   "outputs": [],
   "source": [
    "sales_train = pd.read_csv('./data/sales_train.csv')\n",
    "items = pd.read_csv('./data/items.csv')\n",
    "items_cat = pd.read_csv('./data/item_categories.csv')\n",
    "shops = pd.read_csv('./data/shops.csv')\n",
    "test = pd.read_csv('./data/test.csv') "
   ]
  },
  {
   "cell_type": "code",
   "execution_count": null,
   "metadata": {},
   "outputs": [],
   "source": []
  },
  {
   "cell_type": "code",
   "execution_count": 38,
   "metadata": {},
   "outputs": [],
   "source": [
    "sales_train_filter = pd.merge(sales_train,test,on=['shop_id','item_id'])\n",
    "sales_train_filter = sales_train_filter.groupby(['ID','date_block_num'])['item_cnt_day'].sum().reset_index(name = 'item_cnt_month').sort_values(by=['ID','date_block_num'])\n",
    "\n",
    "sales_train_filter = sales_train_filter[sales_train_filter.date_block_num.isin(list(range(22,34)))]\n",
    "sales_train_predict = (sales_train_filter.groupby(['ID'])['item_cnt_month'].sum()/12).reset_index()\n",
    "sales_train_predict = pd.merge(test,sales_train_predict,how = 'left')\n",
    "sales_train_predict.item_cnt_month.fillna(0,inplace = True)\n",
    "submmit = sales_train_predict.drop(['shop_id','item_id'],axis=1)"
   ]
  },
  {
   "cell_type": "code",
   "execution_count": 67,
   "metadata": {},
   "outputs": [],
   "source": [
    "submmit.to_csv('./submit/submit_20210726_01.csv',index=0)"
   ]
  },
  {
   "cell_type": "code",
   "execution_count": null,
   "metadata": {},
   "outputs": [],
   "source": []
  },
  {
   "cell_type": "code",
   "execution_count": null,
   "metadata": {},
   "outputs": [],
   "source": []
  },
  {
   "cell_type": "code",
   "execution_count": 72,
   "metadata": {},
   "outputs": [],
   "source": [
    "sales_train_filter = pd.merge(sales_train,test,on=['shop_id','item_id'])\n",
    "sales_train_filter = sales_train_filter.groupby(['ID','date_block_num'])['item_cnt_day'].sum().reset_index(name = 'item_cnt_month').sort_values(by=['ID','date_block_num'])\n"
   ]
  },
  {
   "cell_type": "code",
   "execution_count": 98,
   "metadata": {},
   "outputs": [],
   "source": [
    "df01 = pd.DataFrame({'ID':sales_train_filter.ID.unique().repeat(34),'date_block_num':list(range(34))*sales_train_filter.ID.nunique()})"
   ]
  },
  {
   "cell_type": "code",
   "execution_count": 100,
   "metadata": {},
   "outputs": [],
   "source": [
    "df01 = pd.merge(df01, sales_train_filter, how = 'left')"
   ]
  },
  {
   "cell_type": "code",
   "execution_count": 102,
   "metadata": {},
   "outputs": [],
   "source": [
    "df01.item_cnt_month.fillna(0,inplace=True)"
   ]
  },
  {
   "cell_type": "code",
   "execution_count": 120,
   "metadata": {},
   "outputs": [],
   "source": [
    "id_index = iter(list(range(100)))"
   ]
  },
  {
   "cell_type": "code",
   "execution_count": 109,
   "metadata": {},
   "outputs": [
    {
     "data": {
      "text/plain": [
       "(0.0, 4.0)"
      ]
     },
     "execution_count": 109,
     "metadata": {},
     "output_type": "execute_result"
    },
    {
     "data": {
      "image/png": "[encoded data removed]",
      "text/plain": [
       "<Figure size 432x288 with 1 Axes>"
      ]
     },
     "metadata": {
      "needs_background": "light"
     },
     "output_type": "display_data"
    }
   ],
   "source": [
    "id_index = 5\n",
    "plt.plot(df01[df01.ID==id_index]['date_block_num'],\n",
    "         df01[df01.ID==id_index]['item_cnt_month'])\n",
    "plt.ylim([0,4])"
   ]
  },
  {
   "cell_type": "code",
   "execution_count": null,
   "metadata": {},
   "outputs": [],
   "source": []
  }
 ],
 "metadata": {
  "kernelspec": {
   "display_name": "Python 3",
   "language": "python",
   "name": "python3"
  },
  "language_info": {
   "codemirror_mode": {
    "name": "ipython",
    "version": 3
   },
   "file_extension": ".py",
   "mimetype": "text/x-python",
   "name": "python",
   "nbconvert_exporter": "python",
   "pygments_lexer": "ipython3",
   "version": "3.7.6"
  }
 },
 "nbformat": 4,
 "nbformat_minor": 4
}
