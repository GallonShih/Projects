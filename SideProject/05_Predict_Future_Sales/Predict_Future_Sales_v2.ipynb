{
 "cells": [
  {
   "cell_type": "markdown",
   "source": [
    "### The reference is https://www.kaggle.com/deinforcement/top-1-predict-future-sales-features-lightgbm"
   ],
   "metadata": {}
  },
  {
   "cell_type": "code",
   "execution_count": 1,
   "source": [
    "import gc\r\n",
    "import itertools\r\n",
    "import matplotlib.pyplot as plt\r\n",
    "import numpy as np\r\n",
    "import pandas as pd\r\n",
    "import seaborn as sns"
   ],
   "outputs": [],
   "metadata": {}
  },
  {
   "cell_type": "code",
   "execution_count": 2,
   "source": [
    "def reduce_mem_usage(df, silent=True, allow_categorical=True, float_dtype=\"float32\"):\r\n",
    "    \"\"\" \r\n",
    "    Iterates through all the columns of a dataframe and downcasts the data type\r\n",
    "     to reduce memory usage. Can also factorize categorical columns to integer dtype.\r\n",
    "    \"\"\"\r\n",
    "    def _downcast_numeric(series, allow_categorical=allow_categorical):\r\n",
    "        \"\"\"\r\n",
    "        Downcast a numeric series into either the smallest possible int dtype or a specified float dtype.\r\n",
    "        \"\"\"\r\n",
    "        if pd.api.types.is_sparse(series.dtype) is True:\r\n",
    "            return series\r\n",
    "        elif pd.api.types.is_numeric_dtype(series.dtype) is False:\r\n",
    "            if pd.api.types.is_datetime64_any_dtype(series.dtype):\r\n",
    "                return series\r\n",
    "            else:\r\n",
    "                if allow_categorical:\r\n",
    "                    return series\r\n",
    "                else:\r\n",
    "                    codes, uniques = series.factorize()\r\n",
    "                    series = pd.Series(data=codes, index=series.index)\r\n",
    "                    series = _downcast_numeric(series)\r\n",
    "                    return series\r\n",
    "        else:\r\n",
    "            series = pd.to_numeric(series, downcast=\"integer\")\r\n",
    "        if pd.api.types.is_float_dtype(series.dtype):\r\n",
    "            series = series.astype(float_dtype)\r\n",
    "        return series\r\n",
    "\r\n",
    "    if silent is False:\r\n",
    "        start_mem = np.sum(df.memory_usage()) / 1024 ** 2\r\n",
    "        print(\"Memory usage of dataframe is {:.2f} MB\".format(start_mem))\r\n",
    "    if df.ndim == 1:\r\n",
    "        df = _downcast_numeric(df)\r\n",
    "    else:\r\n",
    "        for col in df.columns:\r\n",
    "            df.loc[:, col] = _downcast_numeric(df.loc[:,col])\r\n",
    "    if silent is False:\r\n",
    "        end_mem = np.sum(df.memory_usage()) / 1024 ** 2\r\n",
    "        print(\"Memory usage after optimization is: {:.2f} MB\".format(end_mem))\r\n",
    "        print(\"Decreased by {:.1f}%\".format(100 * (start_mem - end_mem) / start_mem))\r\n",
    "\r\n",
    "    return df\r\n",
    "\r\n",
    "\r\n",
    "def shrink_mem_new_cols(matrix, oldcols=None, allow_categorical=False):\r\n",
    "    # Calls reduce_mem_usage on columns which have not yet been optimized\r\n",
    "    if oldcols is not None:\r\n",
    "        newcols = matrix.columns.difference(oldcols)\r\n",
    "    else:\r\n",
    "        newcols = matrix.columns\r\n",
    "    matrix.loc[:,newcols] = reduce_mem_usage(matrix.loc[:,newcols], allow_categorical=allow_categorical)\r\n",
    "    oldcols = matrix.columns  # This is used to track which columns have already been downcast\r\n",
    "    return matrix, oldcols\r\n",
    "\r\n",
    "\r\n",
    "def list_if_not(s, dtype=str):\r\n",
    "    # Puts a variable in a list if it is not already a list\r\n",
    "    if type(s) not in (dtype, list):\r\n",
    "        raise TypeError\r\n",
    "    if (s != \"\") & (type(s) is not list):\r\n",
    "        s = [s]\r\n",
    "    return s"
   ],
   "outputs": [],
   "metadata": {}
  },
  {
   "cell_type": "code",
   "execution_count": 3,
   "source": [
    "import os\r\n",
    "os.getcwd()"
   ],
   "outputs": [
    {
     "output_type": "execute_result",
     "data": {
      "text/plain": [
       "'c:\\\\Users\\\\User\\\\Desktop\\\\GitHub\\\\Projects\\\\SideProject\\\\05_Predict_Future_Sales'"
      ]
     },
     "metadata": {},
     "execution_count": 3
    }
   ],
   "metadata": {}
  },
  {
   "cell_type": "code",
   "execution_count": 4,
   "source": [
    "items = pd.read_csv(\"./data/items.csv\")\r\n",
    "shops = pd.read_csv(\"./data/shops.csv\")\r\n",
    "train = pd.read_csv(\"./data/sales_train.csv\")\r\n",
    "test = pd.read_csv(\"./data/test.csv\")"
   ],
   "outputs": [],
   "metadata": {}
  },
  {
   "cell_type": "code",
   "execution_count": 5,
   "source": [
    "train[\"date\"] = pd.to_datetime(train[\"date\"], format=\"%d.%m.%Y\")"
   ],
   "outputs": [],
   "metadata": {}
  },
  {
   "cell_type": "code",
   "execution_count": 6,
   "source": [
    "# Merge some duplicate shops\r\n",
    "train[\"shop_id\"] = train[\"shop_id\"].replace({0: 57, 1: 58, 11: 10, 40: 39})\r\n",
    "# Keep only shops that are in the test set\r\n",
    "train = train.loc[train.shop_id.isin(test[\"shop_id\"].unique()), :]\r\n",
    "# Drop training items with extreme or negative prices or sales counts\r\n",
    "train = train[(train[\"item_price\"] > 0) & (train[\"item_price\"] < 50000)]\r\n",
    "train = train[(train[\"item_cnt_day\"] > 0) & (train[\"item_cnt_day\"] < 1000)]"
   ],
   "outputs": [],
   "metadata": {}
  },
  {
   "cell_type": "code",
   "execution_count": 7,
   "source": [
    "def create_testlike_train(sales_train, test=None):\r\n",
    "    indexlist = []\r\n",
    "    for i in sales_train.date_block_num.unique():\r\n",
    "        x = itertools.product(\r\n",
    "            [i],\r\n",
    "            sales_train.loc[sales_train.date_block_num == i].shop_id.unique(),\r\n",
    "            sales_train.loc[sales_train.date_block_num == i].item_id.unique(),\r\n",
    "        )\r\n",
    "        indexlist.append(np.array(list(x)))\r\n",
    "    df = pd.DataFrame(\r\n",
    "        data=np.concatenate(indexlist, axis=0),\r\n",
    "        columns=[\"date_block_num\", \"shop_id\", \"item_id\"],\r\n",
    "    )\r\n",
    "\r\n",
    "    # Add revenue column to sales_train\r\n",
    "    sales_train[\"item_revenue_day\"] = sales_train[\"item_price\"] * sales_train[\"item_cnt_day\"]\r\n",
    "    # Aggregate item_id / shop_id item_cnts and revenue at the month level\r\n",
    "    sales_train_grouped = sales_train.groupby([\"date_block_num\", \"shop_id\", \"item_id\"]).agg(\r\n",
    "        item_cnt_month=pd.NamedAgg(column=\"item_cnt_day\", aggfunc=\"sum\"),\r\n",
    "        item_revenue_month=pd.NamedAgg(column=\"item_revenue_day\", aggfunc=\"sum\"),\r\n",
    "    )\r\n",
    "\r\n",
    "    # Merge the grouped data with the index\r\n",
    "    df = df.merge(\r\n",
    "        sales_train_grouped, how=\"left\", on=[\"date_block_num\", \"shop_id\", \"item_id\"],\r\n",
    "    )\r\n",
    "\r\n",
    "    if test is not None:\r\n",
    "        test[\"date_block_num\"] = 34\r\n",
    "        test[\"date_block_num\"] = test[\"date_block_num\"].astype(np.int8)\r\n",
    "        test[\"shop_id\"] = test.shop_id.astype(np.int8)\r\n",
    "        test[\"item_id\"] = test.item_id.astype(np.int16)\r\n",
    "        test = test.drop(columns=\"ID\")\r\n",
    "\r\n",
    "        df = pd.concat([df, test[[\"date_block_num\", \"shop_id\", \"item_id\"]]])\r\n",
    "\r\n",
    "    # Fill empty item_cnt entries with 0\r\n",
    "    df.item_cnt_month = df.item_cnt_month.fillna(0)\r\n",
    "    df.item_revenue_month = df.item_revenue_month.fillna(0)\r\n",
    "\r\n",
    "    return df"
   ],
   "outputs": [],
   "metadata": {}
  },
  {
   "cell_type": "code",
   "execution_count": 8,
   "source": [
    "matrix = create_testlike_train(train, test)\r\n",
    "del(test)"
   ],
   "outputs": [],
   "metadata": {}
  },
  {
   "cell_type": "code",
   "execution_count": 9,
   "source": [
    "matrix = reduce_mem_usage(matrix, silent=False)\r\n",
    "oldcols = matrix.columns"
   ],
   "outputs": [
    {
     "output_type": "stream",
     "name": "stdout",
     "text": [
      "Memory usage of dataframe is 405.44 MB\n",
      "Memory usage after optimization is: 152.04 MB\n",
      "Decreased by 62.5%\n"
     ]
    }
   ],
   "metadata": {}
  },
  {
   "cell_type": "code",
   "execution_count": 10,
   "source": [
    "items.query(\"item_id>3564\").head(5)"
   ],
   "outputs": [
    {
     "output_type": "execute_result",
     "data": {
      "text/html": [
       "<div>\n",
       "<style scoped>\n",
       "    .dataframe tbody tr th:only-of-type {\n",
       "        vertical-align: middle;\n",
       "    }\n",
       "\n",
       "    .dataframe tbody tr th {\n",
       "        vertical-align: top;\n",
       "    }\n",
       "\n",
       "    .dataframe thead th {\n",
       "        text-align: right;\n",
       "    }\n",
       "</style>\n",
       "<table border=\"1\" class=\"dataframe\">\n",
       "  <thead>\n",
       "    <tr style=\"text-align: right;\">\n",
       "      <th></th>\n",
       "      <th>item_name</th>\n",
       "      <th>item_id</th>\n",
       "      <th>item_category_id</th>\n",
       "    </tr>\n",
       "  </thead>\n",
       "  <tbody>\n",
       "    <tr>\n",
       "      <th>3565</th>\n",
       "      <td>Fuse [PS3, английская версия]</td>\n",
       "      <td>3565</td>\n",
       "      <td>19</td>\n",
       "    </tr>\n",
       "    <tr>\n",
       "      <th>3566</th>\n",
       "      <td>Fuse [Xbox 360, английская версия]</td>\n",
       "      <td>3566</td>\n",
       "      <td>23</td>\n",
       "    </tr>\n",
       "    <tr>\n",
       "      <th>3567</th>\n",
       "      <td>G Data Internet Security 2013 (1ПК / 1 год) (G...</td>\n",
       "      <td>3567</td>\n",
       "      <td>76</td>\n",
       "    </tr>\n",
       "    <tr>\n",
       "      <th>3568</th>\n",
       "      <td>G Data Internet Security 2013 (3ПК / 1 год) (G...</td>\n",
       "      <td>3568</td>\n",
       "      <td>76</td>\n",
       "    </tr>\n",
       "    <tr>\n",
       "      <th>3569</th>\n",
       "      <td>GABIN  The Best Of Gabin  2CD</td>\n",
       "      <td>3569</td>\n",
       "      <td>55</td>\n",
       "    </tr>\n",
       "  </tbody>\n",
       "</table>\n",
       "</div>"
      ],
      "text/plain": [
       "                                              item_name  item_id  \\\n",
       "3565                      Fuse [PS3, английская версия]     3565   \n",
       "3566                 Fuse [Xbox 360, английская версия]     3566   \n",
       "3567  G Data Internet Security 2013 (1ПК / 1 год) (G...     3567   \n",
       "3568  G Data Internet Security 2013 (3ПК / 1 год) (G...     3568   \n",
       "3569                      GABIN  The Best Of Gabin  2CD     3569   \n",
       "\n",
       "      item_category_id  \n",
       "3565                19  \n",
       "3566                23  \n",
       "3567                76  \n",
       "3568                76  \n",
       "3569                55  "
      ]
     },
     "metadata": {},
     "execution_count": 10
    }
   ],
   "metadata": {}
  },
  {
   "cell_type": "code",
   "execution_count": 11,
   "source": [
    "import re\r\n",
    "\r\n",
    "from fuzzywuzzy import fuzz\r\n",
    "\r\n",
    "def add_item_name_groups(matrix, train, items, sim_thresh, feature_name=\"item_name_group\"):\r\n",
    "    def partialmatchgroups(items, sim_thresh=sim_thresh):\r\n",
    "        def strip_brackets(string):\r\n",
    "            string = re.sub(r\"\\(.*?\\)\", \"\", string)\r\n",
    "            string = re.sub(r\"\\[.*?\\]\", \"\", string)\r\n",
    "            return string\r\n",
    "\r\n",
    "        items = items.copy()\r\n",
    "        items[\"nc\"] = items.item_name.apply(strip_brackets)\r\n",
    "        items[\"ncnext\"] = np.concatenate((items[\"nc\"].to_numpy()[1:], np.array([\"\"])))\r\n",
    "\r\n",
    "        def partialcompare(s):\r\n",
    "            return fuzz.partial_ratio(s[\"nc\"], s[\"ncnext\"])\r\n",
    "\r\n",
    "        items[\"partialmatch\"] = items.apply(partialcompare, axis=1)\r\n",
    "        # Assign groups\r\n",
    "        grp = 0\r\n",
    "        for i in range(items.shape[0]):\r\n",
    "            items.loc[i, \"partialmatchgroup\"] = grp\r\n",
    "            if items.loc[i, \"partialmatch\"] < sim_thresh:\r\n",
    "                grp += 1\r\n",
    "        items = items.drop(columns=[\"nc\", \"ncnext\", \"partialmatch\"])\r\n",
    "        return items\r\n",
    "\r\n",
    "    items = partialmatchgroups(items)\r\n",
    "    items = items.rename(columns={\"partialmatchgroup\": feature_name})\r\n",
    "    items = items.drop(columns=\"partialmatchgroup\", errors=\"ignore\")\r\n",
    "\r\n",
    "    items[feature_name] = items[feature_name].apply(str)\r\n",
    "    items[feature_name] = items[feature_name].factorize()[0]\r\n",
    "    matrix = matrix.merge(items[[\"item_id\", feature_name]], on=\"item_id\", how=\"left\")\r\n",
    "    train = train.merge(items[[\"item_id\", feature_name]], on=\"item_id\", how=\"left\")\r\n",
    "    return matrix, train"
   ],
   "outputs": [
    {
     "output_type": "stream",
     "name": "stderr",
     "text": [
      "C:\\Users\\User\\Anaconda3\\lib\\site-packages\\fuzzywuzzy\\fuzz.py:11: UserWarning: Using slow pure-python SequenceMatcher. Install python-Levenshtein to remove this warning\n",
      "  warnings.warn('Using slow pure-python SequenceMatcher. Install python-Levenshtein to remove this warning')\n"
     ]
    }
   ],
   "metadata": {}
  },
  {
   "cell_type": "code",
   "execution_count": 12,
   "source": [
    "matrix, train = add_item_name_groups(matrix, train, items, 65)"
   ],
   "outputs": [],
   "metadata": {}
  },
  {
   "cell_type": "code",
   "execution_count": 13,
   "source": [
    "from nltk.corpus import stopwords\r\n",
    "\r\n",
    "\r\n",
    "def add_first_word_features(matrix, items=items, feature_name=\"artist_name_or_first_word\"):\r\n",
    "    # This extracts artist names for music categories and adds them as a feature.\r\n",
    "    def extract_artist(st):\r\n",
    "        st = st.strip()\r\n",
    "        if st.startswith(\"V/A\"):\r\n",
    "            artist = \"V/A\"\r\n",
    "        elif st.startswith(\"СБ\"):\r\n",
    "            artist = \"СБ\"\r\n",
    "        else:\r\n",
    "            # Retrieves artist names using the double space or all uppercase pattern\r\n",
    "            mus_artist_dubspace = re.compile(r\".{2,}?(?=\\s{2,})\")\r\n",
    "            match_dubspace = mus_artist_dubspace.match(st)\r\n",
    "            mus_artist_capsonly = re.compile(r\"^([^a-zа-я]+\\s)+\")\r\n",
    "            match_capsonly = mus_artist_capsonly.match(st)\r\n",
    "            candidates = [match_dubspace, match_capsonly]\r\n",
    "            candidates = [m[0] for m in candidates if m is not None]\r\n",
    "            # Sometimes one of the patterns catches some extra words so choose the shortest one\r\n",
    "            if len(candidates):\r\n",
    "                artist = min(candidates, key=len)\r\n",
    "            else:\r\n",
    "                # If neither of the previous patterns found something, use the dot-space pattern\r\n",
    "                mus_artist_dotspace = re.compile(r\".{2,}?(?=\\.\\s)\")\r\n",
    "                match = mus_artist_dotspace.match(st)\r\n",
    "                if match:\r\n",
    "                    artist = match[0]\r\n",
    "                else:\r\n",
    "                    artist = \"\"\r\n",
    "        artist = artist.upper()\r\n",
    "        artist = re.sub(r\"[^A-ZА-Я ]||\\bTHE\\b\", \"\", artist)\r\n",
    "        artist = re.sub(r\"\\s{2,}\", \" \", artist)\r\n",
    "        artist = artist.strip()\r\n",
    "        return artist\r\n",
    "\r\n",
    "    items = items.copy()\r\n",
    "    all_stopwords = stopwords.words(\"russian\")\r\n",
    "    all_stopwords = all_stopwords + stopwords.words(\"english\")\r\n",
    "\r\n",
    "    def first_word(string):\r\n",
    "        # This cleans the string of special characters, excess spaces and stopwords then extracts the first word\r\n",
    "        string = re.sub(r\"[^\\w\\s]\", \"\", string)\r\n",
    "        string = re.sub(r\"\\s{2,}\", \" \", string)\r\n",
    "        tokens = string.lower().split()\r\n",
    "        tokens = [t for t in tokens if t not in all_stopwords]\r\n",
    "        token = tokens[0] if len(tokens) > 0 else \"\"\r\n",
    "        return token\r\n",
    "\r\n",
    "    music_categories = [55, 56, 57, 58, 59, 60]\r\n",
    "    items.loc[items.item_category_id.isin(music_categories), feature_name] = items.loc[\r\n",
    "        items.item_category_id.isin(music_categories), \"item_name\"\r\n",
    "    ].apply(extract_artist)\r\n",
    "    items.loc[items[feature_name] == \"\", feature_name] = \"other music\"\r\n",
    "    items.loc[~items.item_category_id.isin(music_categories), feature_name] = items.loc[\r\n",
    "        ~items.item_category_id.isin(music_categories), \"item_name\"\r\n",
    "    ].apply(first_word)\r\n",
    "    items.loc[items[feature_name] == \"\", feature_name] = \"other non-music\"\r\n",
    "    items[feature_name] = items[feature_name].factorize()[0]\r\n",
    "    matrix = matrix.merge(items[[\"item_id\", feature_name]], on=\"item_id\", how=\"left\",)\r\n",
    "    return matrix"
   ],
   "outputs": [],
   "metadata": {}
  },
  {
   "cell_type": "code",
   "execution_count": 14,
   "source": [
    "matrix = add_first_word_features(\r\n",
    "    matrix, items=items, feature_name=\"artist_name_or_first_word\"\r\n",
    ")"
   ],
   "outputs": [],
   "metadata": {}
  },
  {
   "cell_type": "code",
   "execution_count": 15,
   "source": [
    "matrix.head()"
   ],
   "outputs": [
    {
     "output_type": "execute_result",
     "data": {
      "text/html": [
       "<div>\n",
       "<style scoped>\n",
       "    .dataframe tbody tr th:only-of-type {\n",
       "        vertical-align: middle;\n",
       "    }\n",
       "\n",
       "    .dataframe tbody tr th {\n",
       "        vertical-align: top;\n",
       "    }\n",
       "\n",
       "    .dataframe thead th {\n",
       "        text-align: right;\n",
       "    }\n",
       "</style>\n",
       "<table border=\"1\" class=\"dataframe\">\n",
       "  <thead>\n",
       "    <tr style=\"text-align: right;\">\n",
       "      <th></th>\n",
       "      <th>date_block_num</th>\n",
       "      <th>shop_id</th>\n",
       "      <th>item_id</th>\n",
       "      <th>item_cnt_month</th>\n",
       "      <th>item_revenue_month</th>\n",
       "      <th>item_name_group</th>\n",
       "      <th>artist_name_or_first_word</th>\n",
       "    </tr>\n",
       "  </thead>\n",
       "  <tbody>\n",
       "    <tr>\n",
       "      <th>0</th>\n",
       "      <td>0</td>\n",
       "      <td>59</td>\n",
       "      <td>22154</td>\n",
       "      <td>1</td>\n",
       "      <td>999.0</td>\n",
       "      <td>9737</td>\n",
       "      <td>4950</td>\n",
       "    </tr>\n",
       "    <tr>\n",
       "      <th>1</th>\n",
       "      <td>0</td>\n",
       "      <td>59</td>\n",
       "      <td>2552</td>\n",
       "      <td>0</td>\n",
       "      <td>0.0</td>\n",
       "      <td>1085</td>\n",
       "      <td>384</td>\n",
       "    </tr>\n",
       "    <tr>\n",
       "      <th>2</th>\n",
       "      <td>0</td>\n",
       "      <td>59</td>\n",
       "      <td>2554</td>\n",
       "      <td>0</td>\n",
       "      <td>0.0</td>\n",
       "      <td>1086</td>\n",
       "      <td>384</td>\n",
       "    </tr>\n",
       "    <tr>\n",
       "      <th>3</th>\n",
       "      <td>0</td>\n",
       "      <td>59</td>\n",
       "      <td>2555</td>\n",
       "      <td>0</td>\n",
       "      <td>0.0</td>\n",
       "      <td>1087</td>\n",
       "      <td>384</td>\n",
       "    </tr>\n",
       "    <tr>\n",
       "      <th>4</th>\n",
       "      <td>0</td>\n",
       "      <td>59</td>\n",
       "      <td>2564</td>\n",
       "      <td>0</td>\n",
       "      <td>0.0</td>\n",
       "      <td>1092</td>\n",
       "      <td>384</td>\n",
       "    </tr>\n",
       "  </tbody>\n",
       "</table>\n",
       "</div>"
      ],
      "text/plain": [
       "   date_block_num  shop_id  item_id  item_cnt_month  item_revenue_month  \\\n",
       "0               0       59    22154               1               999.0   \n",
       "1               0       59     2552               0                 0.0   \n",
       "2               0       59     2554               0                 0.0   \n",
       "3               0       59     2555               0                 0.0   \n",
       "4               0       59     2564               0                 0.0   \n",
       "\n",
       "   item_name_group  artist_name_or_first_word  \n",
       "0             9737                       4950  \n",
       "1             1085                        384  \n",
       "2             1086                        384  \n",
       "3             1087                        384  \n",
       "4             1092                        384  "
      ]
     },
     "metadata": {},
     "execution_count": 15
    }
   ],
   "metadata": {}
  },
  {
   "cell_type": "code",
   "execution_count": 16,
   "source": [
    "import re\r\n",
    "def clean_item_name(string):\r\n",
    "    # Removes bracketed terms, special characters and extra whitespace\r\n",
    "    string = re.sub(r\"\\[.*?\\]\", \"\", string)\r\n",
    "    string = re.sub(r\"\\(.*?\\)\", \"\", string)\r\n",
    "    string = re.sub(r\"[^A-ZА-Яa-zа-я0-9 ]\", \"\", string)\r\n",
    "    string = re.sub(r\"\\s{2,}\", \" \", string)\r\n",
    "    string = string.lower()\r\n",
    "    return string\r\n",
    "\r\n",
    "items[\"item_name_cleaned_length\"] = items[\"item_name\"].apply(clean_item_name).apply(len)\r\n",
    "items[\"item_name_length\"] = items[\"item_name\"].apply(len)\r\n",
    "matrix = matrix.merge(items[['item_id', 'item_name_length', 'item_name_cleaned_length']], how='left', on='item_id')\r\n",
    "items = items.drop(columns=['item_name_length', 'item_name_cleaned_length'])"
   ],
   "outputs": [],
   "metadata": {}
  },
  {
   "cell_type": "code",
   "execution_count": 17,
   "source": [
    "print(\"Created name features\")\r\n",
    "matrix, oldcols = shrink_mem_new_cols(matrix, oldcols)"
   ],
   "outputs": [
    {
     "output_type": "stream",
     "name": "stdout",
     "text": [
      "Created name features\n"
     ]
    }
   ],
   "metadata": {}
  },
  {
   "cell_type": "code",
   "execution_count": 18,
   "source": [
    "def add_time_features(m, train, correct_item_cnt_day=False):\r\n",
    "    from pandas.tseries.offsets import Day, MonthBegin, MonthEnd\r\n",
    "\r\n",
    "    def item_shop_age_months(m):\r\n",
    "        m[\"item_age\"] = m.groupby(\"item_id\")[\"date_block_num\"].transform(\r\n",
    "            lambda x: x - x.min()\r\n",
    "        )\r\n",
    "        # Sales tend to plateau after 12 months\r\n",
    "        m[\"new_item\"] = m[\"item_age\"] == 0\r\n",
    "        m[\"new_item\"] = m[\"new_item\"].astype(\"int8\")\r\n",
    "        m[\"shop_age\"] = (\r\n",
    "            m.groupby(\"shop_id\")[\"date_block_num\"]\r\n",
    "            .transform(lambda x: x - x.min())\r\n",
    "            .astype(\"int8\")\r\n",
    "        )\r\n",
    "        return m\r\n",
    "\r\n",
    "    # Add dummy values for the test month so that features are created correctly\r\n",
    "    dummies = m.loc[m.date_block_num == 34, [\"date_block_num\", \"shop_id\", \"item_id\"]]\r\n",
    "    dummies = dummies.assign(\r\n",
    "        date=pd.to_datetime(\"2015-11-30\"), item_price=1, item_cnt_day=0, item_revenue_day=0,\r\n",
    "    )\r\n",
    "    train = pd.concat([train, dummies])\r\n",
    "    del dummies\r\n",
    "\r\n",
    "    month_last_day = train.groupby(\"date_block_num\").date.max().rename(\"month_last_day\")\r\n",
    "    month_last_day[~month_last_day.dt.is_month_end] = (\r\n",
    "        month_last_day[~month_last_day.dt.is_month_end] + MonthEnd()\r\n",
    "    )\r\n",
    "    month_first_day = train.groupby(\"date_block_num\").date.min().rename(\"month_first_day\")\r\n",
    "    month_first_day[~month_first_day.dt.is_month_start] = (\r\n",
    "        month_first_day[~month_first_day.dt.is_month_start] - MonthBegin()\r\n",
    "    )\r\n",
    "    month_length = (month_last_day - month_first_day + Day()).rename(\"month_length\")\r\n",
    "    first_shop_date = train.groupby(\"shop_id\").date.min().rename(\"first_shop_date\")\r\n",
    "    first_item_date = train.groupby(\"item_id\").date.min().rename(\"first_item_date\")\r\n",
    "    first_shop_item_date = (\r\n",
    "        train.groupby([\"shop_id\", \"item_id\"]).date.min().rename(\"first_shop_item_date\")\r\n",
    "    )\r\n",
    "    first_item_name_group_date = (\r\n",
    "        train.groupby(\"item_name_group\").date.min().rename(\"first_name_group_date\")\r\n",
    "    )\r\n",
    "\r\n",
    "    m = m.merge(month_first_day, left_on=\"date_block_num\", right_index=True, how=\"left\")\r\n",
    "    m = m.merge(month_last_day, left_on=\"date_block_num\", right_index=True, how=\"left\")\r\n",
    "    m = m.merge(month_length, left_on=\"date_block_num\", right_index=True, how=\"left\")\r\n",
    "    m = m.merge(first_shop_date, left_on=\"shop_id\", right_index=True, how=\"left\")\r\n",
    "    m = m.merge(first_item_date, left_on=\"item_id\", right_index=True, how=\"left\")\r\n",
    "    m = m.merge(\r\n",
    "        first_shop_item_date, left_on=[\"shop_id\", \"item_id\"], right_index=True, how=\"left\"\r\n",
    "    )\r\n",
    "    m = m.merge(\r\n",
    "        first_item_name_group_date, left_on=\"item_name_group\", right_index=True, how=\"left\"\r\n",
    "    )\r\n",
    "\r\n",
    "    # Calculate how long the item was sold for in each month and use this to calculate average sales per day\r\n",
    "    m[\"shop_open_days\"] = m[\"month_last_day\"] - m[\"first_shop_date\"] + Day()\r\n",
    "    m[\"item_first_sale_days\"] = m[\"month_last_day\"] - m[\"first_item_date\"] + Day()\r\n",
    "    m[\"item_in_shop_days\"] = (\r\n",
    "        m[[\"shop_open_days\", \"item_first_sale_days\", \"month_length\"]].min(axis=1).dt.days\r\n",
    "    )\r\n",
    "    m = m.drop(columns=\"item_first_sale_days\")\r\n",
    "    m[\"item_cnt_day_avg\"] = m[\"item_cnt_month\"] / m[\"item_in_shop_days\"]\r\n",
    "    m[\"month_length\"] = m[\"month_length\"].dt.days\r\n",
    "\r\n",
    "    # Calculate the time differences from the beginning of the month so they can be used as features without lagging\r\n",
    "    m[\"shop_open_days\"] = m[\"month_first_day\"] - m[\"first_shop_date\"]\r\n",
    "    m[\"first_item_sale_days\"] = m[\"month_first_day\"] - m[\"first_item_date\"]\r\n",
    "    m[\"first_shop_item_sale_days\"] = m[\"month_first_day\"] - m[\"first_shop_item_date\"]\r\n",
    "    m[\"first_name_group_sale_days\"] = m[\"month_first_day\"] - m[\"first_name_group_date\"]\r\n",
    "    m[\"shop_open_days\"] = m[\"shop_open_days\"].dt.days.fillna(0).clip(lower=0)\r\n",
    "    m[\"first_item_sale_days\"] = (\r\n",
    "        m[\"first_item_sale_days\"].dt.days.fillna(0).clip(lower=0).replace(0, 9999)\r\n",
    "    )\r\n",
    "    m[\"first_shop_item_sale_days\"] = (\r\n",
    "        m[\"first_shop_item_sale_days\"].dt.days.fillna(0).clip(lower=0).replace(0, 9999)\r\n",
    "    )\r\n",
    "    m[\"first_name_group_sale_days\"] = (\r\n",
    "        m[\"first_name_group_sale_days\"].dt.days.fillna(0).clip(lower=0).replace(0, 9999)\r\n",
    "    )\r\n",
    "\r\n",
    "    # Add days since last sale\r\n",
    "    def last_sale_days(matrix):\r\n",
    "        last_shop_item_dates = []\r\n",
    "        for dbn in range(1, 35):\r\n",
    "            lsid_temp = (\r\n",
    "                train.query(f\"date_block_num<{dbn}\")\r\n",
    "                .groupby([\"shop_id\", \"item_id\"])\r\n",
    "                .date.max()\r\n",
    "                .rename(\"last_shop_item_sale_date\")\r\n",
    "                .reset_index()\r\n",
    "            )\r\n",
    "            lsid_temp[\"date_block_num\"] = dbn\r\n",
    "            last_shop_item_dates.append(lsid_temp)\r\n",
    "\r\n",
    "        last_shop_item_dates = pd.concat(last_shop_item_dates)\r\n",
    "        matrix = matrix.merge(\r\n",
    "            last_shop_item_dates, on=[\"date_block_num\", \"shop_id\", \"item_id\"], how=\"left\"\r\n",
    "        )\r\n",
    "\r\n",
    "        def days_since_last_feat(m, feat_name, date_feat_name, missingval):\r\n",
    "            m[feat_name] = (m[\"month_first_day\"] - m[date_feat_name]).dt.days\r\n",
    "            m.loc[m[feat_name] > 2000, feat_name] = missingval\r\n",
    "            m.loc[m[feat_name].isna(), feat_name] = missingval\r\n",
    "            return m\r\n",
    "\r\n",
    "        matrix = days_since_last_feat(\r\n",
    "            matrix, \"last_shop_item_sale_days\", \"last_shop_item_sale_date\", 9999\r\n",
    "        )\r\n",
    "\r\n",
    "        matrix = matrix.drop(columns=[\"last_shop_item_sale_date\"])\r\n",
    "        return matrix\r\n",
    "\r\n",
    "    m = last_sale_days(m)\r\n",
    "    # Month id feature\r\n",
    "    m[\"month\"] = m[\"month_first_day\"].dt.month\r\n",
    "\r\n",
    "    m = m.drop(\r\n",
    "        columns=[\r\n",
    "            \"first_day\",\r\n",
    "            \"month_first_day\",\r\n",
    "            \"month_last_day\",\r\n",
    "            \"first_shop_date\",\r\n",
    "            \"first_item_date\",\r\n",
    "            \"first_name_group_date\",\r\n",
    "            \"item_in_shop_days\",\r\n",
    "            \"first_shop_item_date\",\r\n",
    "            \"month_length\",\r\n",
    "        ],\r\n",
    "        errors=\"ignore\",\r\n",
    "    )\r\n",
    "\r\n",
    "    m = item_shop_age_months(m)\r\n",
    "\r\n",
    "    if correct_item_cnt_day == True:\r\n",
    "        m[\"item_cnt_month_original\"] = m[\"item_cnt_month\"]\r\n",
    "        m[\"item_cnt_month\"] = m[\"item_cnt_day_avg\"] * m[\"month_length\"]\r\n",
    "\r\n",
    "    return m"
   ],
   "outputs": [],
   "metadata": {}
  },
  {
   "cell_type": "code",
   "execution_count": 19,
   "source": [
    "matrix = add_time_features(matrix, train, False)\r\n",
    "print(\"Time features created\")"
   ],
   "outputs": [
    {
     "output_type": "stream",
     "name": "stdout",
     "text": [
      "Time features created\n"
     ]
    }
   ],
   "metadata": {}
  },
  {
   "cell_type": "code",
   "execution_count": 20,
   "source": [
    "matrix.head()"
   ],
   "outputs": [
    {
     "output_type": "execute_result",
     "data": {
      "text/html": [
       "<div>\n",
       "<style scoped>\n",
       "    .dataframe tbody tr th:only-of-type {\n",
       "        vertical-align: middle;\n",
       "    }\n",
       "\n",
       "    .dataframe tbody tr th {\n",
       "        vertical-align: top;\n",
       "    }\n",
       "\n",
       "    .dataframe thead th {\n",
       "        text-align: right;\n",
       "    }\n",
       "</style>\n",
       "<table border=\"1\" class=\"dataframe\">\n",
       "  <thead>\n",
       "    <tr style=\"text-align: right;\">\n",
       "      <th></th>\n",
       "      <th>date_block_num</th>\n",
       "      <th>shop_id</th>\n",
       "      <th>item_id</th>\n",
       "      <th>item_cnt_month</th>\n",
       "      <th>item_revenue_month</th>\n",
       "      <th>item_name_group</th>\n",
       "      <th>artist_name_or_first_word</th>\n",
       "      <th>item_name_length</th>\n",
       "      <th>item_name_cleaned_length</th>\n",
       "      <th>shop_open_days</th>\n",
       "      <th>item_cnt_day_avg</th>\n",
       "      <th>first_item_sale_days</th>\n",
       "      <th>first_shop_item_sale_days</th>\n",
       "      <th>first_name_group_sale_days</th>\n",
       "      <th>last_shop_item_sale_days</th>\n",
       "      <th>month</th>\n",
       "      <th>item_age</th>\n",
       "      <th>new_item</th>\n",
       "      <th>shop_age</th>\n",
       "    </tr>\n",
       "  </thead>\n",
       "  <tbody>\n",
       "    <tr>\n",
       "      <th>0</th>\n",
       "      <td>0</td>\n",
       "      <td>59</td>\n",
       "      <td>22154</td>\n",
       "      <td>1</td>\n",
       "      <td>999.0</td>\n",
       "      <td>9737</td>\n",
       "      <td>4950</td>\n",
       "      <td>17</td>\n",
       "      <td>13</td>\n",
       "      <td>0</td>\n",
       "      <td>0.033333</td>\n",
       "      <td>9999</td>\n",
       "      <td>9999.0</td>\n",
       "      <td>9999.0</td>\n",
       "      <td>9999.0</td>\n",
       "      <td>1</td>\n",
       "      <td>0</td>\n",
       "      <td>1</td>\n",
       "      <td>0</td>\n",
       "    </tr>\n",
       "    <tr>\n",
       "      <th>1</th>\n",
       "      <td>0</td>\n",
       "      <td>59</td>\n",
       "      <td>2552</td>\n",
       "      <td>0</td>\n",
       "      <td>0.0</td>\n",
       "      <td>1085</td>\n",
       "      <td>384</td>\n",
       "      <td>40</td>\n",
       "      <td>38</td>\n",
       "      <td>0</td>\n",
       "      <td>0.000000</td>\n",
       "      <td>9999</td>\n",
       "      <td>9999.0</td>\n",
       "      <td>9999.0</td>\n",
       "      <td>9999.0</td>\n",
       "      <td>1</td>\n",
       "      <td>0</td>\n",
       "      <td>1</td>\n",
       "      <td>0</td>\n",
       "    </tr>\n",
       "    <tr>\n",
       "      <th>2</th>\n",
       "      <td>0</td>\n",
       "      <td>59</td>\n",
       "      <td>2554</td>\n",
       "      <td>0</td>\n",
       "      <td>0.0</td>\n",
       "      <td>1086</td>\n",
       "      <td>384</td>\n",
       "      <td>40</td>\n",
       "      <td>38</td>\n",
       "      <td>0</td>\n",
       "      <td>0.000000</td>\n",
       "      <td>9999</td>\n",
       "      <td>9999.0</td>\n",
       "      <td>9999.0</td>\n",
       "      <td>9999.0</td>\n",
       "      <td>1</td>\n",
       "      <td>0</td>\n",
       "      <td>1</td>\n",
       "      <td>0</td>\n",
       "    </tr>\n",
       "    <tr>\n",
       "      <th>3</th>\n",
       "      <td>0</td>\n",
       "      <td>59</td>\n",
       "      <td>2555</td>\n",
       "      <td>0</td>\n",
       "      <td>0.0</td>\n",
       "      <td>1087</td>\n",
       "      <td>384</td>\n",
       "      <td>39</td>\n",
       "      <td>32</td>\n",
       "      <td>0</td>\n",
       "      <td>0.000000</td>\n",
       "      <td>9999</td>\n",
       "      <td>9999.0</td>\n",
       "      <td>9999.0</td>\n",
       "      <td>9999.0</td>\n",
       "      <td>1</td>\n",
       "      <td>0</td>\n",
       "      <td>1</td>\n",
       "      <td>0</td>\n",
       "    </tr>\n",
       "    <tr>\n",
       "      <th>4</th>\n",
       "      <td>0</td>\n",
       "      <td>59</td>\n",
       "      <td>2564</td>\n",
       "      <td>0</td>\n",
       "      <td>0.0</td>\n",
       "      <td>1092</td>\n",
       "      <td>384</td>\n",
       "      <td>50</td>\n",
       "      <td>43</td>\n",
       "      <td>0</td>\n",
       "      <td>0.000000</td>\n",
       "      <td>9999</td>\n",
       "      <td>9999.0</td>\n",
       "      <td>9999.0</td>\n",
       "      <td>9999.0</td>\n",
       "      <td>1</td>\n",
       "      <td>0</td>\n",
       "      <td>1</td>\n",
       "      <td>0</td>\n",
       "    </tr>\n",
       "  </tbody>\n",
       "</table>\n",
       "</div>"
      ],
      "text/plain": [
       "   date_block_num  shop_id  item_id  item_cnt_month  item_revenue_month  \\\n",
       "0               0       59    22154               1               999.0   \n",
       "1               0       59     2552               0                 0.0   \n",
       "2               0       59     2554               0                 0.0   \n",
       "3               0       59     2555               0                 0.0   \n",
       "4               0       59     2564               0                 0.0   \n",
       "\n",
       "   item_name_group  artist_name_or_first_word  item_name_length  \\\n",
       "0             9737                       4950                17   \n",
       "1             1085                        384                40   \n",
       "2             1086                        384                40   \n",
       "3             1087                        384                39   \n",
       "4             1092                        384                50   \n",
       "\n",
       "   item_name_cleaned_length  shop_open_days  item_cnt_day_avg  \\\n",
       "0                        13               0          0.033333   \n",
       "1                        38               0          0.000000   \n",
       "2                        38               0          0.000000   \n",
       "3                        32               0          0.000000   \n",
       "4                        43               0          0.000000   \n",
       "\n",
       "   first_item_sale_days  first_shop_item_sale_days  \\\n",
       "0                  9999                     9999.0   \n",
       "1                  9999                     9999.0   \n",
       "2                  9999                     9999.0   \n",
       "3                  9999                     9999.0   \n",
       "4                  9999                     9999.0   \n",
       "\n",
       "   first_name_group_sale_days  last_shop_item_sale_days  month  item_age  \\\n",
       "0                      9999.0                    9999.0      1         0   \n",
       "1                      9999.0                    9999.0      1         0   \n",
       "2                      9999.0                    9999.0      1         0   \n",
       "3                      9999.0                    9999.0      1         0   \n",
       "4                      9999.0                    9999.0      1         0   \n",
       "\n",
       "   new_item  shop_age  \n",
       "0         1         0  \n",
       "1         1         0  \n",
       "2         1         0  \n",
       "3         1         0  \n",
       "4         1         0  "
      ]
     },
     "metadata": {},
     "execution_count": 20
    }
   ],
   "metadata": {}
  },
  {
   "cell_type": "code",
   "execution_count": 21,
   "source": [
    "def add_price_features(matrix, train):\r\n",
    "    # Get mean prices per month from train dataframe\r\n",
    "    price_features = train.groupby([\"date_block_num\", \"item_id\"]).item_price.mean()\r\n",
    "    price_features = pd.DataFrame(price_features)\r\n",
    "    price_features = price_features.reset_index()\r\n",
    "    # Calculate normalized differenced from mean category price per month\r\n",
    "    price_features = price_features.merge(\r\n",
    "        items[[\"item_id\", \"item_category_id\"]], how=\"left\", on=\"item_id\"\r\n",
    "    )\r\n",
    "    price_features[\"norm_diff_cat_price\"] = price_features.groupby(\r\n",
    "        [\"date_block_num\", \"item_category_id\"]\r\n",
    "    )[\"item_price\"].transform(lambda x: (x - x.mean()) / x.mean())\r\n",
    "    # Retain only the necessary features\r\n",
    "    price_features = price_features[\r\n",
    "        [\r\n",
    "            \"date_block_num\",\r\n",
    "            \"item_id\",\r\n",
    "            \"item_price\",\r\n",
    "            \"norm_diff_cat_price\",\r\n",
    "        ]\r\n",
    "    ]\r\n",
    "\r\n",
    "    features = [\r\n",
    "        \"item_price\",\r\n",
    "        \"norm_diff_cat_price\",\r\n",
    "    ]\r\n",
    "    newnames = [\"last_\" + f for f in features]\r\n",
    "    aggs = {f: \"last\" for f in features}\r\n",
    "    renames = {f: \"last_\" + f for f in features}\r\n",
    "    features = []\r\n",
    "    for dbn in range(1, 35):\r\n",
    "        f_temp = (\r\n",
    "            price_features.query(f\"date_block_num<{dbn}\")\r\n",
    "            .groupby(\"item_id\")\r\n",
    "            .agg(aggs)\r\n",
    "            .rename(columns=renames)\r\n",
    "        )\r\n",
    "        f_temp[\"date_block_num\"] = dbn\r\n",
    "        features.append(f_temp)\r\n",
    "    features = pd.concat(features).reset_index()\r\n",
    "    matrix = matrix.merge(features, on=[\"date_block_num\", \"item_id\"], how=\"left\")\r\n",
    "    return matrix"
   ],
   "outputs": [],
   "metadata": {}
  },
  {
   "cell_type": "code",
   "execution_count": 22,
   "source": [
    "matrix = add_price_features(matrix, train)\r\n",
    "del(train)"
   ],
   "outputs": [],
   "metadata": {}
  },
  {
   "cell_type": "code",
   "execution_count": 23,
   "source": [
    "matrix.head()"
   ],
   "outputs": [
    {
     "output_type": "execute_result",
     "data": {
      "text/html": [
       "<div>\n",
       "<style scoped>\n",
       "    .dataframe tbody tr th:only-of-type {\n",
       "        vertical-align: middle;\n",
       "    }\n",
       "\n",
       "    .dataframe tbody tr th {\n",
       "        vertical-align: top;\n",
       "    }\n",
       "\n",
       "    .dataframe thead th {\n",
       "        text-align: right;\n",
       "    }\n",
       "</style>\n",
       "<table border=\"1\" class=\"dataframe\">\n",
       "  <thead>\n",
       "    <tr style=\"text-align: right;\">\n",
       "      <th></th>\n",
       "      <th>date_block_num</th>\n",
       "      <th>shop_id</th>\n",
       "      <th>item_id</th>\n",
       "      <th>item_cnt_month</th>\n",
       "      <th>item_revenue_month</th>\n",
       "      <th>item_name_group</th>\n",
       "      <th>artist_name_or_first_word</th>\n",
       "      <th>item_name_length</th>\n",
       "      <th>item_name_cleaned_length</th>\n",
       "      <th>shop_open_days</th>\n",
       "      <th>...</th>\n",
       "      <th>first_item_sale_days</th>\n",
       "      <th>first_shop_item_sale_days</th>\n",
       "      <th>first_name_group_sale_days</th>\n",
       "      <th>last_shop_item_sale_days</th>\n",
       "      <th>month</th>\n",
       "      <th>item_age</th>\n",
       "      <th>new_item</th>\n",
       "      <th>shop_age</th>\n",
       "      <th>last_item_price</th>\n",
       "      <th>last_norm_diff_cat_price</th>\n",
       "    </tr>\n",
       "  </thead>\n",
       "  <tbody>\n",
       "    <tr>\n",
       "      <th>0</th>\n",
       "      <td>0</td>\n",
       "      <td>59</td>\n",
       "      <td>22154</td>\n",
       "      <td>1</td>\n",
       "      <td>999.0</td>\n",
       "      <td>9737</td>\n",
       "      <td>4950</td>\n",
       "      <td>17</td>\n",
       "      <td>13</td>\n",
       "      <td>0</td>\n",
       "      <td>...</td>\n",
       "      <td>9999</td>\n",
       "      <td>9999.0</td>\n",
       "      <td>9999.0</td>\n",
       "      <td>9999.0</td>\n",
       "      <td>1</td>\n",
       "      <td>0</td>\n",
       "      <td>1</td>\n",
       "      <td>0</td>\n",
       "      <td>NaN</td>\n",
       "      <td>NaN</td>\n",
       "    </tr>\n",
       "    <tr>\n",
       "      <th>1</th>\n",
       "      <td>0</td>\n",
       "      <td>59</td>\n",
       "      <td>2552</td>\n",
       "      <td>0</td>\n",
       "      <td>0.0</td>\n",
       "      <td>1085</td>\n",
       "      <td>384</td>\n",
       "      <td>40</td>\n",
       "      <td>38</td>\n",
       "      <td>0</td>\n",
       "      <td>...</td>\n",
       "      <td>9999</td>\n",
       "      <td>9999.0</td>\n",
       "      <td>9999.0</td>\n",
       "      <td>9999.0</td>\n",
       "      <td>1</td>\n",
       "      <td>0</td>\n",
       "      <td>1</td>\n",
       "      <td>0</td>\n",
       "      <td>NaN</td>\n",
       "      <td>NaN</td>\n",
       "    </tr>\n",
       "    <tr>\n",
       "      <th>2</th>\n",
       "      <td>0</td>\n",
       "      <td>59</td>\n",
       "      <td>2554</td>\n",
       "      <td>0</td>\n",
       "      <td>0.0</td>\n",
       "      <td>1086</td>\n",
       "      <td>384</td>\n",
       "      <td>40</td>\n",
       "      <td>38</td>\n",
       "      <td>0</td>\n",
       "      <td>...</td>\n",
       "      <td>9999</td>\n",
       "      <td>9999.0</td>\n",
       "      <td>9999.0</td>\n",
       "      <td>9999.0</td>\n",
       "      <td>1</td>\n",
       "      <td>0</td>\n",
       "      <td>1</td>\n",
       "      <td>0</td>\n",
       "      <td>NaN</td>\n",
       "      <td>NaN</td>\n",
       "    </tr>\n",
       "    <tr>\n",
       "      <th>3</th>\n",
       "      <td>0</td>\n",
       "      <td>59</td>\n",
       "      <td>2555</td>\n",
       "      <td>0</td>\n",
       "      <td>0.0</td>\n",
       "      <td>1087</td>\n",
       "      <td>384</td>\n",
       "      <td>39</td>\n",
       "      <td>32</td>\n",
       "      <td>0</td>\n",
       "      <td>...</td>\n",
       "      <td>9999</td>\n",
       "      <td>9999.0</td>\n",
       "      <td>9999.0</td>\n",
       "      <td>9999.0</td>\n",
       "      <td>1</td>\n",
       "      <td>0</td>\n",
       "      <td>1</td>\n",
       "      <td>0</td>\n",
       "      <td>NaN</td>\n",
       "      <td>NaN</td>\n",
       "    </tr>\n",
       "    <tr>\n",
       "      <th>4</th>\n",
       "      <td>0</td>\n",
       "      <td>59</td>\n",
       "      <td>2564</td>\n",
       "      <td>0</td>\n",
       "      <td>0.0</td>\n",
       "      <td>1092</td>\n",
       "      <td>384</td>\n",
       "      <td>50</td>\n",
       "      <td>43</td>\n",
       "      <td>0</td>\n",
       "      <td>...</td>\n",
       "      <td>9999</td>\n",
       "      <td>9999.0</td>\n",
       "      <td>9999.0</td>\n",
       "      <td>9999.0</td>\n",
       "      <td>1</td>\n",
       "      <td>0</td>\n",
       "      <td>1</td>\n",
       "      <td>0</td>\n",
       "      <td>NaN</td>\n",
       "      <td>NaN</td>\n",
       "    </tr>\n",
       "  </tbody>\n",
       "</table>\n",
       "<p>5 rows × 21 columns</p>\n",
       "</div>"
      ],
      "text/plain": [
       "   date_block_num  shop_id  item_id  item_cnt_month  item_revenue_month  \\\n",
       "0               0       59    22154               1               999.0   \n",
       "1               0       59     2552               0                 0.0   \n",
       "2               0       59     2554               0                 0.0   \n",
       "3               0       59     2555               0                 0.0   \n",
       "4               0       59     2564               0                 0.0   \n",
       "\n",
       "   item_name_group  artist_name_or_first_word  item_name_length  \\\n",
       "0             9737                       4950                17   \n",
       "1             1085                        384                40   \n",
       "2             1086                        384                40   \n",
       "3             1087                        384                39   \n",
       "4             1092                        384                50   \n",
       "\n",
       "   item_name_cleaned_length  shop_open_days  ...  first_item_sale_days  \\\n",
       "0                        13               0  ...                  9999   \n",
       "1                        38               0  ...                  9999   \n",
       "2                        38               0  ...                  9999   \n",
       "3                        32               0  ...                  9999   \n",
       "4                        43               0  ...                  9999   \n",
       "\n",
       "   first_shop_item_sale_days  first_name_group_sale_days  \\\n",
       "0                     9999.0                      9999.0   \n",
       "1                     9999.0                      9999.0   \n",
       "2                     9999.0                      9999.0   \n",
       "3                     9999.0                      9999.0   \n",
       "4                     9999.0                      9999.0   \n",
       "\n",
       "   last_shop_item_sale_days  month  item_age  new_item  shop_age  \\\n",
       "0                    9999.0      1         0         1         0   \n",
       "1                    9999.0      1         0         1         0   \n",
       "2                    9999.0      1         0         1         0   \n",
       "3                    9999.0      1         0         1         0   \n",
       "4                    9999.0      1         0         1         0   \n",
       "\n",
       "   last_item_price  last_norm_diff_cat_price  \n",
       "0              NaN                       NaN  \n",
       "1              NaN                       NaN  \n",
       "2              NaN                       NaN  \n",
       "3              NaN                       NaN  \n",
       "4              NaN                       NaN  \n",
       "\n",
       "[5 rows x 21 columns]"
      ]
     },
     "metadata": {},
     "execution_count": 23
    }
   ],
   "metadata": {}
  },
  {
   "cell_type": "code",
   "execution_count": 24,
   "source": [
    "matrix = matrix.merge(items[['item_id', 'item_category_id']], on='item_id', how='left')\r\n",
    "\r\n",
    "platform_map = {\r\n",
    "    0: 0, 1: 1, 2: 2, 3: 3, 4: 4, 5: 5, 6: 6, 7: 7, 8: 8, 9: 8, 10: 1, 11: 2,\r\n",
    "    12: 3, 13: 4, 14: 5, 15: 6, 16: 7, 17: 8, 18: 1, 19: 2, 20: 3, 21: 4, 22: 5,\r\n",
    "    23: 6, 24: 7, 25: 8, 26: 9, 27: 10, 28: 0, 29: 0, 30: 0, 31: 0, 32: 8, 33: 11,\r\n",
    "    34: 11, 35: 3, 36: 0, 37: 12, 38: 12, 39: 12, 40: 13, 41: 13, 42: 14, 43: 15,\r\n",
    "    44: 15, 45: 15, 46: 14, 47: 14, 48: 14, 49: 14, 50: 14, 51: 14, 52: 14, 53: 14,\r\n",
    "    54: 8, 55: 16, 56: 16, 57: 17, 58: 18, 59: 13, 60: 16, 61: 8, 62: 8, 63: 8, 64: 8,\r\n",
    "    65: 8, 66: 8, 67: 8, 68: 8, 69: 8, 70: 8, 71: 8, 72: 8, 73: 0, 74: 10, 75: 0,\r\n",
    "    76: 0, 77: 0, 78: 0, 79: 8, 80: 8, 81: 8, 82: 8, 83: 8,\r\n",
    "}\r\n",
    "matrix['platform_id'] = matrix['item_category_id'].map(platform_map)\r\n",
    "\r\n",
    "supercat_map = {\r\n",
    "    0: 0, 1: 1, 2: 1, 3: 1, 4: 1, 5: 1, 6: 1, 7: 1, 8: 2, 9: 2, 10: 1, 11: 1, 12: 1,\r\n",
    "    13: 1, 14: 1, 15: 1, 16: 1, 17: 1, 18: 3, 19: 3, 20: 3, 21: 3, 22: 3, 23: 3,\r\n",
    "    24: 3, 25: 0, 26: 2, 27: 3, 28: 3, 29: 3, 30: 3, 31: 3, 32: 2, 33: 2, 34: 2,\r\n",
    "    35: 2, 36: 2, 37: 4, 38: 4, 39: 4, 40: 4, 41: 4, 42: 5, 43: 5, 44: 5, 45: 5,\r\n",
    "    46: 5, 47: 5, 48: 5, 49: 5, 50: 5, 51: 5, 52: 5, 53: 5, 54: 5, 55: 6, 56: 6,\r\n",
    "    57: 6, 58: 6, 59: 6, 60: 6, 61: 0, 62: 0, 63: 0, 64: 0, 65: 0, 66: 0, 67: 0,\r\n",
    "    68: 0, 69: 0, 70: 0, 71: 0, 72: 0, 73: 7, 74: 7, 75: 7, 76: 7, 77: 7, 78: 7,\r\n",
    "    79: 2, 80: 2, 81: 0, 82: 0, 83: 0\r\n",
    "}\r\n",
    "matrix['supercategory_id'] = matrix['item_category_id'].map(supercat_map)"
   ],
   "outputs": [],
   "metadata": {}
  },
  {
   "cell_type": "code",
   "execution_count": 25,
   "source": [
    "def add_city_codes(matrix, shops):\r\n",
    "    shops.loc[\r\n",
    "        shops.shop_name == 'Сергиев Посад ТЦ \"7Я\"', \"shop_name\"\r\n",
    "    ] = 'СергиевПосад ТЦ \"7Я\"'\r\n",
    "    shops[\"city\"] = shops[\"shop_name\"].str.split(\" \").map(lambda x: x[0])\r\n",
    "    shops.loc[shops.city == \"!Якутск\", \"city\"] = \"Якутск\"\r\n",
    "    shops[\"city_code\"] = shops[\"city\"].factorize()[0]\r\n",
    "    shop_labels = shops[[\"shop_id\", \"city_code\"]]\r\n",
    "    matrix = matrix.merge(shop_labels, on='shop_id', how='left')\r\n",
    "    return matrix\r\n"
   ],
   "outputs": [],
   "metadata": {}
  },
  {
   "cell_type": "code",
   "execution_count": 26,
   "source": [
    "matrix = add_city_codes(matrix, shops)\r\n",
    "del(shops)"
   ],
   "outputs": [],
   "metadata": {}
  },
  {
   "cell_type": "code",
   "execution_count": 27,
   "source": [
    "import matplotlib.pyplot as plt\r\n",
    "import seaborn as sns\r\n",
    "from sklearn.cluster import AgglomerativeClustering\r\n",
    "from sklearn.decomposition import PCA\r\n",
    "from sklearn.metrics import silhouette_score\r\n",
    "\r\n",
    "\r\n",
    "def cluster_feature(matrix, target_feature, clust_feature, level_feature, n_components=4, n_clusters=5, aggfunc=\"mean\", exclude=None):\r\n",
    "    start_month = 20\r\n",
    "    end_month = 32\r\n",
    "    pt = matrix.query(f\"date_block_num>{start_month} & date_block_num<={end_month}\")\r\n",
    "    if exclude is not None:\r\n",
    "        pt = matrix[~matrix[clust_feature].isin(exclude)]\r\n",
    "    pt = pt.pivot_table(values=target_feature, columns=clust_feature, index=level_feature, fill_value=0, aggfunc=aggfunc)\r\n",
    "    pt = pt.transpose()\r\n",
    "    pca = PCA(n_components=10)\r\n",
    "    components = pca.fit_transform(pt)\r\n",
    "    components = pd.DataFrame(components)\r\n",
    "    # Plot PCA explained variance\r\n",
    "    sns.set()\r\n",
    "    features = list(range(pca.n_components_))\r\n",
    "    fig = plt.figure(figsize=(10,4))\r\n",
    "    ax = fig.add_subplot(121)\r\n",
    "#     ax.bar(features, pca.explained_variance_ratio_, color=\"black\")\r\n",
    "    sns.barplot(x=features, y=pca.explained_variance_ratio_, ax=ax)\r\n",
    "    plt.title(\"Variance by PCA components\")\r\n",
    "    plt.xlabel(\"component\")\r\n",
    "    plt.ylabel(\"explained variance\")\r\n",
    "    plt.xticks(features)\r\n",
    "\r\n",
    "    scorelist = []\r\n",
    "    nrange = range(2, 10)\r\n",
    "    for n in nrange:\r\n",
    "        clusterer = AgglomerativeClustering(n_clusters=n)\r\n",
    "        labels = clusterer.fit_predict(components)\r\n",
    "        silscore = silhouette_score(pt, labels)\r\n",
    "        scorelist.append(silscore)\r\n",
    "    ax = fig.add_subplot(122)\r\n",
    "    sns.lineplot(x=nrange, y=scorelist, ax=ax)\r\n",
    "    plt.title(\"Clustering quality by number of clusters\")\r\n",
    "    plt.xlabel(\"n clusters\")\r\n",
    "    plt.ylabel(\"silhouette score\")\r\n",
    "\r\n",
    "    pca = PCA(n_components=n_components)\r\n",
    "    components = pca.fit_transform(pt)\r\n",
    "    components = pd.DataFrame(components)\r\n",
    "    clusterer = AgglomerativeClustering(n_clusters=n_clusters, linkage=\"average\")\r\n",
    "    labels = clusterer.fit_predict(components)\r\n",
    "    x = components[0]\r\n",
    "    y = components[1]\r\n",
    "    fig = plt.figure(figsize=(10, 4))\r\n",
    "    ax = fig.add_subplot(111)\r\n",
    "    sns.scatterplot(x=x, y=y, hue=labels, palette=sns.color_palette(\"hls\", n_clusters), ax=ax)\r\n",
    "    plt.title(\"Items by cluster\")\r\n",
    "    plt.xlabel(\"component 1 score\")\r\n",
    "    plt.ylabel(\"component 2 score\")\r\n",
    "    for i, txt in enumerate(pt.index.to_list()):\r\n",
    "        ax.annotate(str(txt), (x[i], y[i]))\r\n",
    "    groups = {}\r\n",
    "    for i, s in enumerate(pt.index):\r\n",
    "        groups[s] = labels[i]\r\n",
    "    return groups"
   ],
   "outputs": [],
   "metadata": {}
  },
  {
   "cell_type": "code",
   "execution_count": 28,
   "source": [
    "category_group_dict = cluster_feature(matrix, 'item_cnt_month', 'item_category_id', 'date_block_num', n_components=2, n_clusters=4, aggfunc=\"mean\", exclude =[])\r\n",
    "matrix['category_cluster'] = matrix['item_category_id'].map(category_group_dict)"
   ],
   "outputs": [
    {
     "output_type": "display_data",
     "data": {
      "image/png": "[encoded data removed]",
      "text/plain": [
       "<Figure size 720x288 with 2 Axes>"
      ]
     },
     "metadata": {}
    },
    {
     "output_type": "display_data",
     "data": {
      "image/png": "[encoded data removed]",
      "text/plain": [
       "<Figure size 720x288 with 1 Axes>"
      ]
     },
     "metadata": {}
    }
   ],
   "metadata": {}
  },
  {
   "cell_type": "code",
   "execution_count": 29,
   "source": [
    "shop_group_dict = cluster_feature(matrix, 'item_cnt_month', 'shop_id', 'item_category_id', n_components=4, n_clusters=4, aggfunc=\"mean\", exclude=[36])\r\n",
    "shop_group_dict[36] = shop_group_dict[37]  # Shop36 added separately because it only has one month of data\r\n",
    "matrix['shop_cluster'] = matrix['shop_id'].map(shop_group_dict)"
   ],
   "outputs": [
    {
     "output_type": "display_data",
     "data": {
      "image/png": "[encoded data removed]",
      "text/plain": [
       "<Figure size 720x288 with 2 Axes>"
      ]
     },
     "metadata": {}
    },
    {
     "output_type": "display_data",
     "data": {
      "image/png": "[encoded data removed]",
      "text/plain": [
       "<Figure size 720x288 with 1 Axes>"
      ]
     },
     "metadata": {}
    }
   ],
   "metadata": {}
  },
  {
   "cell_type": "code",
   "execution_count": 30,
   "source": [
    "gc.collect()\r\n",
    "matrix, oldcols = shrink_mem_new_cols(matrix, oldcols)  # Use this function periodically to downcast dtypes to save memory"
   ],
   "outputs": [],
   "metadata": {}
  },
  {
   "cell_type": "code",
   "execution_count": 31,
   "source": [
    "def uniques(matrix, groupers, name, limitation=None):\r\n",
    "    if limitation is not None:\r\n",
    "        s = (\r\n",
    "            matrix.query(limitation)\r\n",
    "            .groupby(groupers)\r\n",
    "            .item_id.nunique()\r\n",
    "            .rename(name)\r\n",
    "            .reset_index()\r\n",
    "        )\r\n",
    "    else:\r\n",
    "        s = matrix.groupby(groupers).item_id.nunique().rename(name).reset_index()\r\n",
    "    matrix = matrix.merge(s, on=groupers, how=\"left\")\r\n",
    "    matrix[name] = matrix[name].fillna(0)\r\n",
    "    return matrix\r\n",
    "\r\n",
    "\r\n",
    "matrix = uniques(matrix, [\"date_block_num\"], \"unique_items_month\")\r\n",
    "\r\n",
    "matrix = uniques(matrix, [\"date_block_num\", \"item_name_group\"], \"name_group_unique_month\")\r\n",
    "matrix = uniques(\r\n",
    "    matrix,\r\n",
    "    [\"date_block_num\", \"item_category_id\", \"item_name_group\"],\r\n",
    "    \"name_group_cat_unique_month\",\r\n",
    ")\r\n",
    "matrix = uniques(\r\n",
    "    matrix,\r\n",
    "    [\"date_block_num\", \"item_name_group\"],\r\n",
    "    \"name_group_new_unique_month\",\r\n",
    "    limitation=\"new_item==True\",\r\n",
    ")\r\n",
    "matrix = uniques(\r\n",
    "    matrix,\r\n",
    "    [\"date_block_num\", \"item_category_id\", \"item_name_group\"],\r\n",
    "    \"name_group_new_cat_unique_month\",\r\n",
    "    limitation=\"new_item==True\",\r\n",
    ")\r\n",
    "\r\n",
    "matrix = uniques(\r\n",
    "    matrix, [\"date_block_num\", \"artist_name_or_first_word\"], \"first_word_unique_month\"\r\n",
    ")\r\n",
    "matrix = uniques(\r\n",
    "    matrix,\r\n",
    "    [\"date_block_num\", \"item_category_id\", \"artist_name_or_first_word\"],\r\n",
    "    \"first_word_cat_unique_month\",\r\n",
    ")\r\n",
    "matrix = uniques(\r\n",
    "    matrix,\r\n",
    "    [\"date_block_num\", \"artist_name_or_first_word\"],\r\n",
    "    \"first_word_new_unique_month\",\r\n",
    "    limitation=\"new_item==True\",\r\n",
    ")\r\n",
    "matrix = uniques(\r\n",
    "    matrix,\r\n",
    "    [\"date_block_num\", \"item_category_id\", \"artist_name_or_first_word\"],\r\n",
    "    \"first_word_new_cat_unique_month\",\r\n",
    "    limitation=\"new_item==True\",\r\n",
    ")\r\n",
    "\r\n",
    "matrix = uniques(matrix, [\"date_block_num\", \"item_category_id\"], \"unique_items_cat\")\r\n",
    "matrix = uniques(\r\n",
    "    matrix,\r\n",
    "    [\"date_block_num\", \"item_category_id\"],\r\n",
    "    \"new_items_cat\",\r\n",
    "    limitation=\"new_item==True\",\r\n",
    ")\r\n",
    "matrix = uniques(matrix, [\"date_block_num\"], \"new_items_month\", limitation=\"new_item==True\")\r\n",
    "\r\n",
    "matrix[\"cat_items_proportion\"] = matrix[\"unique_items_cat\"] / matrix[\"unique_items_month\"]\r\n",
    "matrix[\"name_group_new_proportion_month\"] = (\r\n",
    "    matrix[\"name_group_new_unique_month\"] / matrix[\"name_group_unique_month\"]\r\n",
    ")\r\n",
    "\r\n",
    "matrix = matrix.drop(columns=[\"unique_items_month\", \"name_group_unique_month\"])"
   ],
   "outputs": [],
   "metadata": {}
  },
  {
   "cell_type": "code",
   "execution_count": 32,
   "source": [
    "matrix, oldcols = shrink_mem_new_cols(matrix, oldcols)"
   ],
   "outputs": [],
   "metadata": {}
  },
  {
   "cell_type": "code",
   "execution_count": 33,
   "source": [
    "def add_pct_change(\r\n",
    "    matrix,\r\n",
    "    group_feats,\r\n",
    "    target=\"item_cnt_month\",\r\n",
    "    aggfunc=\"mean\",\r\n",
    "    periods=1,\r\n",
    "    lag=1,\r\n",
    "    clip_value=None,\r\n",
    "):\r\n",
    "    periods = list_if_not(periods, int)\r\n",
    "    group_feats = list_if_not(group_feats)\r\n",
    "    group_feats_full = [\"date_block_num\"] + group_feats\r\n",
    "    dat = matrix.pivot_table(\r\n",
    "        index=group_feats + [\"date_block_num\"],\r\n",
    "        values=target,\r\n",
    "        aggfunc=aggfunc,\r\n",
    "        fill_value=0,\r\n",
    "        dropna=False,\r\n",
    "    ).astype(\"float32\")\r\n",
    "    for g in group_feats:\r\n",
    "        firsts = matrix.groupby(g).date_block_num.min().rename(\"firsts\")\r\n",
    "        dat = dat.merge(firsts, left_on=g, right_index=True, how=\"left\")\r\n",
    "        dat.loc[dat.index.get_level_values(\"date_block_num\") < dat[\"firsts\"], target] = float(\r\n",
    "            \"nan\"\r\n",
    "        )\r\n",
    "        del dat[\"firsts\"]\r\n",
    "    for period in periods:\r\n",
    "        feat_name = \"_\".join(\r\n",
    "            group_feats + [target] + [aggfunc] + [\"delta\"] + [str(period)] + [f\"lag_{lag}\"]\r\n",
    "        )\r\n",
    "        print(f\"Adding feature {feat_name}\")\r\n",
    "        dat = (\r\n",
    "            dat.groupby(group_feats)[target]\r\n",
    "            .transform(lambda x: x.pct_change(periods=period, fill_method=\"pad\"))\r\n",
    "            .rename(feat_name)\r\n",
    "        )\r\n",
    "        if clip_value is not None:\r\n",
    "            dat = dat.clip(lower=-clip_value, upper=clip_value)\r\n",
    "    dat = dat.reset_index()\r\n",
    "    dat[\"date_block_num\"] += lag\r\n",
    "    matrix = matrix.merge(dat, on=[\"date_block_num\"] + group_feats, how=\"left\")\r\n",
    "    matrix[feat_name] = reduce_mem_usage(matrix[feat_name])\r\n",
    "    return matrix"
   ],
   "outputs": [],
   "metadata": {}
  },
  {
   "cell_type": "code",
   "execution_count": 34,
   "source": [
    "matrix = add_pct_change(matrix, [\"item_id\"], \"item_cnt_month\", clip_value=3)\r\n",
    "matrix = add_pct_change(matrix, [\"item_category_id\"], \"item_cnt_month\", clip_value=3)\r\n",
    "matrix = add_pct_change(matrix, [\"item_name_group\"], \"item_cnt_month\", clip_value=3)\r\n",
    "# Delta 1 feature lagged by 12 months, intended to capture seasonal trends\r\n",
    "matrix = add_pct_change(matrix, [\"item_category_id\"], \"item_cnt_month\", lag=12, clip_value=3,)\r\n",
    "gc.collect()"
   ],
   "outputs": [
    {
     "output_type": "stream",
     "name": "stdout",
     "text": [
      "Adding feature item_id_item_cnt_month_mean_delta_1_lag_1\n",
      "Adding feature item_category_id_item_cnt_month_mean_delta_1_lag_1\n",
      "Adding feature item_name_group_item_cnt_month_mean_delta_1_lag_1\n",
      "Adding feature item_category_id_item_cnt_month_mean_delta_1_lag_12\n"
     ]
    },
    {
     "output_type": "execute_result",
     "data": {
      "text/plain": [
       "5"
      ]
     },
     "metadata": {},
     "execution_count": 34
    }
   ],
   "metadata": {}
  },
  {
   "cell_type": "code",
   "execution_count": 35,
   "source": [
    "matrix, oldcols = shrink_mem_new_cols(matrix, oldcols)"
   ],
   "outputs": [],
   "metadata": {}
  },
  {
   "cell_type": "code",
   "execution_count": 36,
   "source": [
    "matrix.head()"
   ],
   "outputs": [
    {
     "output_type": "execute_result",
     "data": {
      "text/html": [
       "<div>\n",
       "<style scoped>\n",
       "    .dataframe tbody tr th:only-of-type {\n",
       "        vertical-align: middle;\n",
       "    }\n",
       "\n",
       "    .dataframe tbody tr th {\n",
       "        vertical-align: top;\n",
       "    }\n",
       "\n",
       "    .dataframe thead th {\n",
       "        text-align: right;\n",
       "    }\n",
       "</style>\n",
       "<table border=\"1\" class=\"dataframe\">\n",
       "  <thead>\n",
       "    <tr style=\"text-align: right;\">\n",
       "      <th></th>\n",
       "      <th>date_block_num</th>\n",
       "      <th>shop_id</th>\n",
       "      <th>item_id</th>\n",
       "      <th>item_cnt_month</th>\n",
       "      <th>item_revenue_month</th>\n",
       "      <th>item_name_group</th>\n",
       "      <th>artist_name_or_first_word</th>\n",
       "      <th>item_name_length</th>\n",
       "      <th>item_name_cleaned_length</th>\n",
       "      <th>shop_open_days</th>\n",
       "      <th>...</th>\n",
       "      <th>first_word_new_cat_unique_month</th>\n",
       "      <th>unique_items_cat</th>\n",
       "      <th>new_items_cat</th>\n",
       "      <th>new_items_month</th>\n",
       "      <th>cat_items_proportion</th>\n",
       "      <th>name_group_new_proportion_month</th>\n",
       "      <th>item_id_item_cnt_month_mean_delta_1_lag_1</th>\n",
       "      <th>item_category_id_item_cnt_month_mean_delta_1_lag_1</th>\n",
       "      <th>item_name_group_item_cnt_month_mean_delta_1_lag_1</th>\n",
       "      <th>item_category_id_item_cnt_month_mean_delta_1_lag_12</th>\n",
       "    </tr>\n",
       "  </thead>\n",
       "  <tbody>\n",
       "    <tr>\n",
       "      <th>0</th>\n",
       "      <td>0</td>\n",
       "      <td>59</td>\n",
       "      <td>22154</td>\n",
       "      <td>1</td>\n",
       "      <td>999.0</td>\n",
       "      <td>9737</td>\n",
       "      <td>4950</td>\n",
       "      <td>17</td>\n",
       "      <td>13</td>\n",
       "      <td>0</td>\n",
       "      <td>...</td>\n",
       "      <td>1</td>\n",
       "      <td>620</td>\n",
       "      <td>620</td>\n",
       "      <td>7644</td>\n",
       "      <td>0.081109</td>\n",
       "      <td>1.0</td>\n",
       "      <td>NaN</td>\n",
       "      <td>NaN</td>\n",
       "      <td>NaN</td>\n",
       "      <td>NaN</td>\n",
       "    </tr>\n",
       "    <tr>\n",
       "      <th>1</th>\n",
       "      <td>0</td>\n",
       "      <td>59</td>\n",
       "      <td>2552</td>\n",
       "      <td>0</td>\n",
       "      <td>0.0</td>\n",
       "      <td>1085</td>\n",
       "      <td>384</td>\n",
       "      <td>40</td>\n",
       "      <td>38</td>\n",
       "      <td>0</td>\n",
       "      <td>...</td>\n",
       "      <td>8</td>\n",
       "      <td>132</td>\n",
       "      <td>132</td>\n",
       "      <td>7644</td>\n",
       "      <td>0.017268</td>\n",
       "      <td>1.0</td>\n",
       "      <td>NaN</td>\n",
       "      <td>NaN</td>\n",
       "      <td>NaN</td>\n",
       "      <td>NaN</td>\n",
       "    </tr>\n",
       "    <tr>\n",
       "      <th>2</th>\n",
       "      <td>0</td>\n",
       "      <td>59</td>\n",
       "      <td>2554</td>\n",
       "      <td>0</td>\n",
       "      <td>0.0</td>\n",
       "      <td>1086</td>\n",
       "      <td>384</td>\n",
       "      <td>40</td>\n",
       "      <td>38</td>\n",
       "      <td>0</td>\n",
       "      <td>...</td>\n",
       "      <td>8</td>\n",
       "      <td>132</td>\n",
       "      <td>132</td>\n",
       "      <td>7644</td>\n",
       "      <td>0.017268</td>\n",
       "      <td>1.0</td>\n",
       "      <td>NaN</td>\n",
       "      <td>NaN</td>\n",
       "      <td>NaN</td>\n",
       "      <td>NaN</td>\n",
       "    </tr>\n",
       "    <tr>\n",
       "      <th>3</th>\n",
       "      <td>0</td>\n",
       "      <td>59</td>\n",
       "      <td>2555</td>\n",
       "      <td>0</td>\n",
       "      <td>0.0</td>\n",
       "      <td>1087</td>\n",
       "      <td>384</td>\n",
       "      <td>39</td>\n",
       "      <td>32</td>\n",
       "      <td>0</td>\n",
       "      <td>...</td>\n",
       "      <td>3</td>\n",
       "      <td>87</td>\n",
       "      <td>87</td>\n",
       "      <td>7644</td>\n",
       "      <td>0.011381</td>\n",
       "      <td>1.0</td>\n",
       "      <td>NaN</td>\n",
       "      <td>NaN</td>\n",
       "      <td>NaN</td>\n",
       "      <td>NaN</td>\n",
       "    </tr>\n",
       "    <tr>\n",
       "      <th>4</th>\n",
       "      <td>0</td>\n",
       "      <td>59</td>\n",
       "      <td>2564</td>\n",
       "      <td>0</td>\n",
       "      <td>0.0</td>\n",
       "      <td>1092</td>\n",
       "      <td>384</td>\n",
       "      <td>50</td>\n",
       "      <td>43</td>\n",
       "      <td>0</td>\n",
       "      <td>...</td>\n",
       "      <td>4</td>\n",
       "      <td>151</td>\n",
       "      <td>151</td>\n",
       "      <td>7644</td>\n",
       "      <td>0.019754</td>\n",
       "      <td>1.0</td>\n",
       "      <td>NaN</td>\n",
       "      <td>NaN</td>\n",
       "      <td>NaN</td>\n",
       "      <td>NaN</td>\n",
       "    </tr>\n",
       "  </tbody>\n",
       "</table>\n",
       "<p>5 rows × 43 columns</p>\n",
       "</div>"
      ],
      "text/plain": [
       "   date_block_num  shop_id  item_id  item_cnt_month  item_revenue_month  \\\n",
       "0               0       59    22154               1               999.0   \n",
       "1               0       59     2552               0                 0.0   \n",
       "2               0       59     2554               0                 0.0   \n",
       "3               0       59     2555               0                 0.0   \n",
       "4               0       59     2564               0                 0.0   \n",
       "\n",
       "   item_name_group  artist_name_or_first_word  item_name_length  \\\n",
       "0             9737                       4950                17   \n",
       "1             1085                        384                40   \n",
       "2             1086                        384                40   \n",
       "3             1087                        384                39   \n",
       "4             1092                        384                50   \n",
       "\n",
       "   item_name_cleaned_length  shop_open_days  ...  \\\n",
       "0                        13               0  ...   \n",
       "1                        38               0  ...   \n",
       "2                        38               0  ...   \n",
       "3                        32               0  ...   \n",
       "4                        43               0  ...   \n",
       "\n",
       "   first_word_new_cat_unique_month  unique_items_cat  new_items_cat  \\\n",
       "0                                1               620            620   \n",
       "1                                8               132            132   \n",
       "2                                8               132            132   \n",
       "3                                3                87             87   \n",
       "4                                4               151            151   \n",
       "\n",
       "   new_items_month  cat_items_proportion  name_group_new_proportion_month  \\\n",
       "0             7644              0.081109                              1.0   \n",
       "1             7644              0.017268                              1.0   \n",
       "2             7644              0.017268                              1.0   \n",
       "3             7644              0.011381                              1.0   \n",
       "4             7644              0.019754                              1.0   \n",
       "\n",
       "   item_id_item_cnt_month_mean_delta_1_lag_1  \\\n",
       "0                                        NaN   \n",
       "1                                        NaN   \n",
       "2                                        NaN   \n",
       "3                                        NaN   \n",
       "4                                        NaN   \n",
       "\n",
       "   item_category_id_item_cnt_month_mean_delta_1_lag_1  \\\n",
       "0                                                NaN    \n",
       "1                                                NaN    \n",
       "2                                                NaN    \n",
       "3                                                NaN    \n",
       "4                                                NaN    \n",
       "\n",
       "   item_name_group_item_cnt_month_mean_delta_1_lag_1  \\\n",
       "0                                                NaN   \n",
       "1                                                NaN   \n",
       "2                                                NaN   \n",
       "3                                                NaN   \n",
       "4                                                NaN   \n",
       "\n",
       "   item_category_id_item_cnt_month_mean_delta_1_lag_12  \n",
       "0                                                NaN    \n",
       "1                                                NaN    \n",
       "2                                                NaN    \n",
       "3                                                NaN    \n",
       "4                                                NaN    \n",
       "\n",
       "[5 rows x 43 columns]"
      ]
     },
     "metadata": {},
     "execution_count": 36
    }
   ],
   "metadata": {}
  },
  {
   "cell_type": "code",
   "execution_count": 37,
   "source": [
    "# matrix.to_csv(r'D:\\Gallon\\Project\\05_Predict_Future_Sales\\data\\matrix_data.csv',index=0)\r\n",
    "# matrix.to_pickle(r\"D:\\Github\\05_Predict_Future_Sales\\data\\matrix.pkl\")"
   ],
   "outputs": [],
   "metadata": {}
  },
  {
   "cell_type": "code",
   "execution_count": 38,
   "source": [
    "# matrix = pd.read_pickle(r\"D:\\Github\\05_Predict_Future_Sales\\data\\matrix.pkl\")"
   ],
   "outputs": [],
   "metadata": {}
  },
  {
   "cell_type": "code",
   "execution_count": 38,
   "source": [
    "matrix.shape"
   ],
   "outputs": [
    {
     "output_type": "execute_result",
     "data": {
      "text/plain": [
       "(8856961, 43)"
      ]
     },
     "metadata": {},
     "execution_count": 38
    }
   ],
   "metadata": {}
  },
  {
   "cell_type": "code",
   "execution_count": 39,
   "source": [
    "pd.Index(['1','2'])\r\n",
    "# oldcols\r\n",
    "# ['date_block_num', 'shop_id', 'item_id', 'item_cnt_month',\r\n",
    "#        'item_revenue_month', 'item_name_group', 'artist_name_or_first_word',\r\n",
    "#        'item_name_length', 'item_name_cleaned_length', 'shop_open_days',\r\n",
    "#        'item_cnt_day_avg', 'first_item_sale_days', 'first_shop_item_sale_days',\r\n",
    "#        'first_name_group_sale_days', 'last_shop_item_sale_days', 'month',\r\n",
    "#        'item_age', 'new_item', 'shop_age', 'last_item_price',\r\n",
    "#        'last_norm_diff_cat_price', 'item_category_id', 'platform_id',\r\n",
    "#        'supercategory_id', 'city_code', 'category_cluster', 'shop_cluster',\r\n",
    "#        'name_group_cat_unique_month', 'name_group_new_unique_month',\r\n",
    "#        'name_group_new_cat_unique_month', 'first_word_unique_month',\r\n",
    "#        'first_word_cat_unique_month', 'first_word_new_unique_month',\r\n",
    "#        'first_word_new_cat_unique_month', 'unique_items_cat', 'new_items_cat',\r\n",
    "#        'new_items_month', 'cat_items_proportion',\r\n",
    "#        'name_group_new_proportion_month',\r\n",
    "#        'item_id_item_cnt_month_mean_delta_1_lag_1',\r\n",
    "#        'item_category_id_item_cnt_month_mean_delta_1_lag_1',\r\n",
    "#        'item_name_group_item_cnt_month_mean_delta_1_lag_1',\r\n",
    "#        'item_category_id_item_cnt_month_mean_delta_1_lag_12']"
   ],
   "outputs": [
    {
     "output_type": "execute_result",
     "data": {
      "text/plain": [
       "Index(['1', '2'], dtype='object')"
      ]
     },
     "metadata": {},
     "execution_count": 39
    }
   ],
   "metadata": {}
  },
  {
   "cell_type": "code",
   "execution_count": 39,
   "source": [
    "shop_id = 16\r\n",
    "item_id = 482\r\n",
    "im = matrix.query(f\"shop_id=={shop_id} & item_id=={item_id}\")[['date_block_num', 'item_cnt_month']]\r\n",
    "im['moving average'] = im['item_cnt_month'].ewm(halflife=1).mean()\r\n",
    "im['expanding mean'] = im['item_cnt_month'].expanding().mean()\r\n",
    "im['rolling 12 month mean'] = im['item_cnt_month'].rolling(window=12, min_periods=1).mean()\r\n",
    "im = im.set_index('date_block_num')\r\n",
    "ax = im.plot(figsize=(12,5), marker='.', title='Time series averaging methods')"
   ],
   "outputs": [
    {
     "output_type": "display_data",
     "data": {
      "image/png": "[encoded data removed]",
      "text/plain": [
       "<Figure size 864x360 with 1 Axes>"
      ]
     },
     "metadata": {}
    }
   ],
   "metadata": {}
  },
  {
   "cell_type": "code",
   "execution_count": 40,
   "source": [
    "def add_rolling_stats(\r\n",
    "    matrix,\r\n",
    "    features,\r\n",
    "    window=12,\r\n",
    "    kind=\"rolling\",\r\n",
    "    argfeat=\"item_cnt_month\",\r\n",
    "    aggfunc=\"mean\",\r\n",
    "    rolling_aggfunc=\"mean\",\r\n",
    "    dtype=\"float16\",\r\n",
    "    reshape_source=True,\r\n",
    "    lag_offset=0,\r\n",
    "):\r\n",
    "    def rolling_stat(\r\n",
    "        matrix,\r\n",
    "        source,\r\n",
    "        feats,\r\n",
    "        feat_name,\r\n",
    "        window=12,\r\n",
    "        argfeat=\"item_cnt_month\",\r\n",
    "        aggfunc=\"mean\",\r\n",
    "        dtype=dtype,\r\n",
    "        lag_offset=0,\r\n",
    "    ):\r\n",
    "        # Calculate a statistic on a windowed section of a source table,  grouping on specific features\r\n",
    "        store = []\r\n",
    "        for i in range(2 + lag_offset, 35 + lag_offset):\r\n",
    "            if len(feats) > 0:\r\n",
    "                mes = (\r\n",
    "                    source[source.date_block_num.isin(range(max([i - window, 0]), i))]\r\n",
    "                    .groupby(feats)[argfeat]\r\n",
    "                    .agg(aggfunc)\r\n",
    "                    .astype(dtype)\r\n",
    "                    .rename(feat_name)\r\n",
    "                    .reset_index()\r\n",
    "                )\r\n",
    "            else:\r\n",
    "                mes = {}\r\n",
    "                mes[feat_name] = (\r\n",
    "                    source.loc[\r\n",
    "                        source.date_block_num.isin(range(max([i - window, 0]), i)), argfeat\r\n",
    "                    ]\r\n",
    "                    .agg(aggfunc)\r\n",
    "                    .astype(dtype)\r\n",
    "                )\r\n",
    "                mes = pd.DataFrame(data=mes, index=[i])\r\n",
    "            mes[\"date_block_num\"] = i - lag_offset\r\n",
    "            store.append(mes)\r\n",
    "        store = pd.concat(store)\r\n",
    "        matrix = matrix.merge(store, on=feats + [\"date_block_num\"], how=\"left\")\r\n",
    "        return matrix\r\n",
    "\r\n",
    "    \"\"\" An issue when using windowed functions is that missing values from months when items recorded no sales are skipped rather than being correctly\r\n",
    "    treated as zeroes. Creating a pivot_table fills in the zeros.\"\"\"\r\n",
    "    if (reshape_source == True) or (kind == \"ewm\"):\r\n",
    "        source = matrix.pivot_table(\r\n",
    "            index=features + [\"date_block_num\"],\r\n",
    "            values=argfeat,\r\n",
    "            aggfunc=aggfunc,\r\n",
    "            fill_value=0,\r\n",
    "            dropna=False,\r\n",
    "        ).astype(dtype)\r\n",
    "        for g in features:\r\n",
    "            firsts = matrix.groupby(g).date_block_num.min().rename(\"firsts\")\r\n",
    "            source = source.merge(firsts, left_on=g, right_index=True, how=\"left\")\r\n",
    "            # Set values before the items first appearance to nan so they are ignored rather than being treated as zero sales.\r\n",
    "            source.loc[\r\n",
    "                source.index.get_level_values(\"date_block_num\") < source[\"firsts\"], argfeat\r\n",
    "            ] = float(\"nan\")\r\n",
    "            del source[\"firsts\"]\r\n",
    "        source = source.reset_index()\r\n",
    "    else:\r\n",
    "        source = matrix\r\n",
    "\r\n",
    "    if kind == \"rolling\":\r\n",
    "        feat_name = (\r\n",
    "            f\"{'_'.join(features)}_{argfeat}_{aggfunc}_rolling_{rolling_aggfunc}_win_{window}\"\r\n",
    "        )\r\n",
    "        print(f'Creating feature \"{feat_name}\"')\r\n",
    "        return rolling_stat(\r\n",
    "            matrix,\r\n",
    "            source,\r\n",
    "            features,\r\n",
    "            feat_name,\r\n",
    "            window=window,\r\n",
    "            argfeat=argfeat,\r\n",
    "            aggfunc=rolling_aggfunc,\r\n",
    "            dtype=dtype,\r\n",
    "            lag_offset=lag_offset,\r\n",
    "        )\r\n",
    "    elif kind == \"expanding\":\r\n",
    "        feat_name = f\"{'_'.join(features)}_{argfeat}_{aggfunc}_expanding_{rolling_aggfunc}\"\r\n",
    "        print(f'Creating feature \"{feat_name}\"')\r\n",
    "        return rolling_stat(\r\n",
    "            matrix,\r\n",
    "            source,\r\n",
    "            features,\r\n",
    "            feat_name,\r\n",
    "            window=100,\r\n",
    "            argfeat=argfeat,\r\n",
    "            aggfunc=aggfunc,\r\n",
    "            dtype=dtype,\r\n",
    "            lag_offset=lag_offset,\r\n",
    "        )\r\n",
    "    elif kind == \"ewm\":\r\n",
    "        feat_name = f\"{'_'.join(features)}_{argfeat}_{aggfunc}_ewm_hl_{window}\"\r\n",
    "        print(f'Creating feature \"{feat_name}\"')\r\n",
    "        source[feat_name] = (\r\n",
    "            source.groupby(features)[argfeat]\r\n",
    "            .ewm(halflife=window, min_periods=1)\r\n",
    "            .agg(rolling_aggfunc)\r\n",
    "            .to_numpy(dtype=dtype)\r\n",
    "        )\r\n",
    "        del source[argfeat]\r\n",
    "        #         source = source.reset_index()\r\n",
    "        source[\"date_block_num\"] += 1 - lag_offset\r\n",
    "        return matrix.merge(source, on=[\"date_block_num\"] + features, how=\"left\")"
   ],
   "outputs": [],
   "metadata": {}
  },
  {
   "cell_type": "code",
   "execution_count": null,
   "source": [],
   "outputs": [],
   "metadata": {}
  },
  {
   "cell_type": "code",
   "execution_count": null,
   "source": [],
   "outputs": [],
   "metadata": {}
  },
  {
   "cell_type": "code",
   "execution_count": 41,
   "source": [
    "matrix = add_rolling_stats(\r\n",
    "    matrix,\r\n",
    "    [\"shop_id\", \"artist_name_or_first_word\", \"item_category_id\", \"item_age\"],\r\n",
    "    window=12,\r\n",
    "    reshape_source=False,\r\n",
    ")"
   ],
   "outputs": [
    {
     "output_type": "stream",
     "name": "stdout",
     "text": [
      "Creating feature \"shop_id_artist_name_or_first_word_item_category_id_item_age_item_cnt_month_mean_rolling_mean_win_12\"\n"
     ]
    }
   ],
   "metadata": {}
  },
  {
   "cell_type": "code",
   "execution_count": 43,
   "source": [
    "matrix = add_rolling_stats(\r\n",
    "    matrix,\r\n",
    "    [\"shop_id\", \"artist_name_or_first_word\", \"item_category_id\", \"new_item\"],\r\n",
    "    kind=\"expanding\",\r\n",
    "    reshape_source=False,\r\n",
    ")"
   ],
   "outputs": [
    {
     "output_type": "stream",
     "name": "stdout",
     "text": [
      "Creating feature \"shop_id_artist_name_or_first_word_item_category_id_new_item_item_cnt_month_mean_expanding_mean\"\n"
     ]
    }
   ],
   "metadata": {}
  },
  {
   "cell_type": "code",
   "execution_count": 44,
   "source": [
    "matrix = add_rolling_stats(\r\n",
    "    matrix,\r\n",
    "    [\"shop_id\", \"artist_name_or_first_word\", \"new_item\"],\r\n",
    "    kind=\"expanding\",\r\n",
    "    reshape_source=False,\r\n",
    ")"
   ],
   "outputs": [
    {
     "output_type": "stream",
     "name": "stdout",
     "text": [
      "Creating feature \"shop_id_artist_name_or_first_word_new_item_item_cnt_month_mean_expanding_mean\"\n"
     ]
    }
   ],
   "metadata": {}
  },
  {
   "cell_type": "code",
   "execution_count": 45,
   "source": [
    "matrix = add_rolling_stats(matrix, [\"shop_id\", \"category_cluster\"], window=12)"
   ],
   "outputs": [
    {
     "output_type": "stream",
     "name": "stdout",
     "text": [
      "Creating feature \"shop_id_category_cluster_item_cnt_month_mean_rolling_mean_win_12\"\n"
     ]
    }
   ],
   "metadata": {}
  },
  {
   "cell_type": "code",
   "execution_count": 46,
   "source": [
    "matrix = add_rolling_stats(\r\n",
    "    matrix,\r\n",
    "    [\"shop_id\", \"item_category_id\", \"item_age\"],\r\n",
    "    kind=\"expanding\",\r\n",
    "    reshape_source=False,\r\n",
    ")"
   ],
   "outputs": [
    {
     "output_type": "stream",
     "name": "stdout",
     "text": [
      "Creating feature \"shop_id_item_category_id_item_age_item_cnt_month_mean_expanding_mean\"\n"
     ]
    }
   ],
   "metadata": {}
  },
  {
   "cell_type": "code",
   "execution_count": 47,
   "source": [
    "matrix = add_rolling_stats(\r\n",
    "    matrix, [\"shop_id\", \"item_category_id\", \"item_age\"], window=12, reshape_source=False\r\n",
    ")"
   ],
   "outputs": [
    {
     "output_type": "stream",
     "name": "stdout",
     "text": [
      "Creating feature \"shop_id_item_category_id_item_age_item_cnt_month_mean_rolling_mean_win_12\"\n"
     ]
    }
   ],
   "metadata": {}
  },
  {
   "cell_type": "code",
   "execution_count": 48,
   "source": [
    "matrix = add_rolling_stats(matrix, [\"shop_id\", \"item_category_id\"], kind=\"ewm\", window=1)"
   ],
   "outputs": [
    {
     "output_type": "stream",
     "name": "stdout",
     "text": [
      "Creating feature \"shop_id_item_category_id_item_cnt_month_mean_ewm_hl_1\"\n"
     ]
    }
   ],
   "metadata": {}
  },
  {
   "cell_type": "code",
   "execution_count": 49,
   "source": [
    "matrix = add_rolling_stats(\r\n",
    "    matrix,\r\n",
    "    [\"shop_id\", \"item_category_id\", \"new_item\"],\r\n",
    "    kind=\"expanding\",\r\n",
    "    reshape_source=False,\r\n",
    ")"
   ],
   "outputs": [
    {
     "output_type": "stream",
     "name": "stdout",
     "text": [
      "Creating feature \"shop_id_item_category_id_new_item_item_cnt_month_mean_expanding_mean\"\n"
     ]
    }
   ],
   "metadata": {}
  },
  {
   "cell_type": "code",
   "execution_count": 50,
   "source": [
    "matrix = add_rolling_stats(\r\n",
    "    matrix, [\"shop_id\", \"item_category_id\", \"new_item\"], window=12, reshape_source=False\r\n",
    ")"
   ],
   "outputs": [
    {
     "output_type": "stream",
     "name": "stdout",
     "text": [
      "Creating feature \"shop_id_item_category_id_new_item_item_cnt_month_mean_rolling_mean_win_12\"\n"
     ]
    }
   ],
   "metadata": {}
  },
  {
   "cell_type": "code",
   "execution_count": 51,
   "source": [
    "matrix = add_rolling_stats(matrix, [\"shop_id\"], window=12)"
   ],
   "outputs": [
    {
     "output_type": "stream",
     "name": "stdout",
     "text": [
      "Creating feature \"shop_id_item_cnt_month_mean_rolling_mean_win_12\"\n"
     ]
    }
   ],
   "metadata": {}
  },
  {
   "cell_type": "code",
   "execution_count": 52,
   "source": [
    "matrix = add_rolling_stats(matrix, [\"shop_id\", \"item_id\"], kind=\"ewm\", window=1)"
   ],
   "outputs": [
    {
     "output_type": "stream",
     "name": "stdout",
     "text": [
      "Creating feature \"shop_id_item_id_item_cnt_month_mean_ewm_hl_1\"\n"
     ]
    }
   ],
   "metadata": {}
  },
  {
   "cell_type": "code",
   "execution_count": 53,
   "source": [
    "matrix = add_rolling_stats(matrix, [\"shop_id\", \"item_id\"], window=12)"
   ],
   "outputs": [
    {
     "output_type": "stream",
     "name": "stdout",
     "text": [
      "Creating feature \"shop_id_item_id_item_cnt_month_mean_rolling_mean_win_12\"\n"
     ]
    }
   ],
   "metadata": {}
  },
  {
   "cell_type": "code",
   "execution_count": 54,
   "source": [
    "matrix = add_rolling_stats(\r\n",
    "    matrix,\r\n",
    "    [\"shop_id\", \"item_name_group\", \"item_category_id\", \"new_item\"],\r\n",
    "    window=12,\r\n",
    "    reshape_source=False,\r\n",
    ")"
   ],
   "outputs": [
    {
     "output_type": "stream",
     "name": "stdout",
     "text": [
      "Creating feature \"shop_id_item_name_group_item_category_id_new_item_item_cnt_month_mean_rolling_mean_win_12\"\n"
     ]
    }
   ],
   "metadata": {}
  },
  {
   "cell_type": "code",
   "execution_count": 55,
   "source": [
    "matrix = add_rolling_stats(\r\n",
    "    matrix, [\"shop_id\", \"item_name_group\", \"new_item\"], kind=\"expanding\", reshape_source=False\r\n",
    ")"
   ],
   "outputs": [
    {
     "output_type": "stream",
     "name": "stdout",
     "text": [
      "Creating feature \"shop_id_item_name_group_new_item_item_cnt_month_mean_expanding_mean\"\n"
     ]
    }
   ],
   "metadata": {}
  },
  {
   "cell_type": "code",
   "execution_count": 56,
   "source": [
    "matrix = add_rolling_stats(\r\n",
    "    matrix, [\"shop_id\", \"supercategory_id\", \"new_item\"], window=12, reshape_source=False\r\n",
    ")"
   ],
   "outputs": [
    {
     "output_type": "stream",
     "name": "stdout",
     "text": [
      "Creating feature \"shop_id_supercategory_id_new_item_item_cnt_month_mean_rolling_mean_win_12\"\n"
     ]
    }
   ],
   "metadata": {}
  },
  {
   "cell_type": "code",
   "execution_count": 57,
   "source": [
    "matrix = add_rolling_stats(matrix, [\"shop_cluster\", \"item_id\"], kind=\"ewm\", window=1)"
   ],
   "outputs": [
    {
     "output_type": "stream",
     "name": "stdout",
     "text": [
      "Creating feature \"shop_cluster_item_id_item_cnt_month_mean_ewm_hl_1\"\n"
     ]
    }
   ],
   "metadata": {}
  },
  {
   "cell_type": "code",
   "execution_count": 58,
   "source": [
    "matrix = add_rolling_stats(\r\n",
    "    matrix,\r\n",
    "    [\"shop_cluster\", \"item_category_id\", \"item_age\"],\r\n",
    "    kind=\"expanding\",\r\n",
    "    reshape_source=False,\r\n",
    ")"
   ],
   "outputs": [
    {
     "output_type": "stream",
     "name": "stdout",
     "text": [
      "Creating feature \"shop_cluster_item_category_id_item_age_item_cnt_month_mean_expanding_mean\"\n"
     ]
    }
   ],
   "metadata": {}
  },
  {
   "cell_type": "code",
   "execution_count": 59,
   "source": [
    "matrix = add_rolling_stats(\r\n",
    "    matrix, [\"shop_cluster\", \"item_name_group\", \"new_item\"], window=12, reshape_source=False\r\n",
    ")"
   ],
   "outputs": [
    {
     "output_type": "stream",
     "name": "stdout",
     "text": [
      "Creating feature \"shop_cluster_item_name_group_new_item_item_cnt_month_mean_rolling_mean_win_12\"\n"
     ]
    }
   ],
   "metadata": {}
  },
  {
   "cell_type": "code",
   "execution_count": 60,
   "source": [
    "matrix = add_rolling_stats(\r\n",
    "    matrix, [\"category_cluster\", \"item_age\"], kind=\"expanding\", reshape_source=False\r\n",
    ")"
   ],
   "outputs": [
    {
     "output_type": "stream",
     "name": "stdout",
     "text": [
      "Creating feature \"category_cluster_item_age_item_cnt_month_mean_expanding_mean\"\n"
     ]
    }
   ],
   "metadata": {}
  },
  {
   "cell_type": "code",
   "execution_count": 61,
   "source": [
    "matrix = add_rolling_stats(\r\n",
    "    matrix, [\"category_cluster\", \"new_item\"], kind=\"expanding\", reshape_source=False\r\n",
    ")"
   ],
   "outputs": [
    {
     "output_type": "stream",
     "name": "stdout",
     "text": [
      "Creating feature \"category_cluster_new_item_item_cnt_month_mean_expanding_mean\"\n"
     ]
    }
   ],
   "metadata": {}
  },
  {
   "cell_type": "code",
   "execution_count": 62,
   "source": [
    "matrix = add_rolling_stats(matrix, [\"item_id\"], window=12)"
   ],
   "outputs": [
    {
     "output_type": "stream",
     "name": "stdout",
     "text": [
      "Creating feature \"item_id_item_cnt_month_mean_rolling_mean_win_12\"\n"
     ]
    }
   ],
   "metadata": {}
  },
  {
   "cell_type": "code",
   "execution_count": 63,
   "source": [
    "matrix = add_rolling_stats(matrix, [\"artist_name_or_first_word\"], window=12)"
   ],
   "outputs": [
    {
     "output_type": "stream",
     "name": "stdout",
     "text": [
      "Creating feature \"artist_name_or_first_word_item_cnt_month_mean_rolling_mean_win_12\"\n"
     ]
    }
   ],
   "metadata": {}
  },
  {
   "cell_type": "code",
   "execution_count": 64,
   "source": [
    "matrix = add_rolling_stats(matrix, [\"artist_name_or_first_word\"], kind=\"ewm\", window=1)"
   ],
   "outputs": [
    {
     "output_type": "stream",
     "name": "stdout",
     "text": [
      "Creating feature \"artist_name_or_first_word_item_cnt_month_mean_ewm_hl_1\"\n"
     ]
    }
   ],
   "metadata": {}
  },
  {
   "cell_type": "code",
   "execution_count": 65,
   "source": [
    "matrix = add_rolling_stats(\r\n",
    "    matrix, [\"artist_name_or_first_word\", \"item_age\"], window=12, reshape_source=False\r\n",
    ")"
   ],
   "outputs": [
    {
     "output_type": "stream",
     "name": "stdout",
     "text": [
      "Creating feature \"artist_name_or_first_word_item_age_item_cnt_month_mean_rolling_mean_win_12\"\n"
     ]
    }
   ],
   "metadata": {}
  },
  {
   "cell_type": "code",
   "execution_count": 66,
   "source": [
    "matrix = add_rolling_stats(\r\n",
    "    matrix,\r\n",
    "    [\"artist_name_or_first_word\", \"item_category_id\", \"item_age\"],\r\n",
    "    window=12,\r\n",
    "    reshape_source=False,\r\n",
    ")"
   ],
   "outputs": [
    {
     "output_type": "stream",
     "name": "stdout",
     "text": [
      "Creating feature \"artist_name_or_first_word_item_category_id_item_age_item_cnt_month_mean_rolling_mean_win_12\"\n"
     ]
    }
   ],
   "metadata": {}
  },
  {
   "cell_type": "code",
   "execution_count": 67,
   "source": [
    "matrix = add_rolling_stats(\r\n",
    "    matrix, [\"artist_name_or_first_word\", \"new_item\"], kind=\"expanding\", reshape_source=False\r\n",
    ")"
   ],
   "outputs": [
    {
     "output_type": "stream",
     "name": "stdout",
     "text": [
      "Creating feature \"artist_name_or_first_word_new_item_item_cnt_month_mean_expanding_mean\"\n"
     ]
    }
   ],
   "metadata": {}
  },
  {
   "cell_type": "code",
   "execution_count": 68,
   "source": [
    "matrix = add_rolling_stats(\r\n",
    "    matrix, [\"item_category_id\", \"item_age\"], kind=\"expanding\", reshape_source=False\r\n",
    ")"
   ],
   "outputs": [
    {
     "output_type": "stream",
     "name": "stdout",
     "text": [
      "Creating feature \"item_category_id_item_age_item_cnt_month_mean_expanding_mean\"\n"
     ]
    }
   ],
   "metadata": {}
  },
  {
   "cell_type": "code",
   "execution_count": 69,
   "source": [
    "matrix = add_rolling_stats(matrix, [\"item_category_id\"], window=12)"
   ],
   "outputs": [
    {
     "output_type": "stream",
     "name": "stdout",
     "text": [
      "Creating feature \"item_category_id_item_cnt_month_mean_rolling_mean_win_12\"\n"
     ]
    }
   ],
   "metadata": {}
  },
  {
   "cell_type": "code",
   "execution_count": 70,
   "source": [
    "matrix = add_rolling_stats(matrix, [\"item_category_id\"], kind=\"ewm\", window=1)"
   ],
   "outputs": [
    {
     "output_type": "stream",
     "name": "stdout",
     "text": [
      "Creating feature \"item_category_id_item_cnt_month_mean_ewm_hl_1\"\n"
     ]
    }
   ],
   "metadata": {}
  },
  {
   "cell_type": "code",
   "execution_count": 71,
   "source": [
    "matrix = add_rolling_stats(\r\n",
    "    matrix, [\"item_category_id\", \"new_item\"], kind=\"expanding\", reshape_source=False\r\n",
    ")"
   ],
   "outputs": [
    {
     "output_type": "stream",
     "name": "stdout",
     "text": [
      "Creating feature \"item_category_id_new_item_item_cnt_month_mean_expanding_mean\"\n"
     ]
    }
   ],
   "metadata": {}
  },
  {
   "cell_type": "code",
   "execution_count": 72,
   "source": [
    "matrix = add_rolling_stats(\r\n",
    "    matrix, [\"item_name_group\", \"item_age\"], window=12, reshape_source=False\r\n",
    ")"
   ],
   "outputs": [
    {
     "output_type": "stream",
     "name": "stdout",
     "text": [
      "Creating feature \"item_name_group_item_age_item_cnt_month_mean_rolling_mean_win_12\"\n"
     ]
    }
   ],
   "metadata": {}
  },
  {
   "cell_type": "code",
   "execution_count": 73,
   "source": [
    "matrix = add_rolling_stats(matrix, [\"item_name_group\"], kind=\"ewm\", window=1)"
   ],
   "outputs": [
    {
     "output_type": "stream",
     "name": "stdout",
     "text": [
      "Creating feature \"item_name_group_item_cnt_month_mean_ewm_hl_1\"\n"
     ]
    }
   ],
   "metadata": {}
  },
  {
   "cell_type": "code",
   "execution_count": 74,
   "source": [
    "matrix = add_rolling_stats(matrix, [\"item_name_group\"], window=12)"
   ],
   "outputs": [
    {
     "output_type": "stream",
     "name": "stdout",
     "text": [
      "Creating feature \"item_name_group_item_cnt_month_mean_rolling_mean_win_12\"\n"
     ]
    }
   ],
   "metadata": {}
  },
  {
   "cell_type": "code",
   "execution_count": 75,
   "source": [
    "matrix = add_rolling_stats(matrix, [\"platform_id\"], window=12)"
   ],
   "outputs": [
    {
     "output_type": "stream",
     "name": "stdout",
     "text": [
      "Creating feature \"platform_id_item_cnt_month_mean_rolling_mean_win_12\"\n"
     ]
    }
   ],
   "metadata": {}
  },
  {
   "cell_type": "code",
   "execution_count": 76,
   "source": [
    "matrix = add_rolling_stats(matrix, [\"platform_id\"], kind=\"ewm\", window=1)"
   ],
   "outputs": [
    {
     "output_type": "stream",
     "name": "stdout",
     "text": [
      "Creating feature \"platform_id_item_cnt_month_mean_ewm_hl_1\"\n"
     ]
    }
   ],
   "metadata": {}
  },
  {
   "cell_type": "code",
   "execution_count": 77,
   "source": [
    "gc.collect()\r\n",
    "matrix, oldcols = shrink_mem_new_cols(matrix, oldcols)"
   ],
   "outputs": [],
   "metadata": {}
  },
  {
   "cell_type": "code",
   "execution_count": 78,
   "source": [
    "matrix.head()"
   ],
   "outputs": [
    {
     "output_type": "execute_result",
     "data": {
      "text/html": [
       "<div>\n",
       "<style scoped>\n",
       "    .dataframe tbody tr th:only-of-type {\n",
       "        vertical-align: middle;\n",
       "    }\n",
       "\n",
       "    .dataframe tbody tr th {\n",
       "        vertical-align: top;\n",
       "    }\n",
       "\n",
       "    .dataframe thead th {\n",
       "        text-align: right;\n",
       "    }\n",
       "</style>\n",
       "<table border=\"1\" class=\"dataframe\">\n",
       "  <thead>\n",
       "    <tr style=\"text-align: right;\">\n",
       "      <th></th>\n",
       "      <th>date_block_num</th>\n",
       "      <th>shop_id</th>\n",
       "      <th>item_id</th>\n",
       "      <th>item_cnt_month</th>\n",
       "      <th>item_revenue_month</th>\n",
       "      <th>item_name_group</th>\n",
       "      <th>artist_name_or_first_word</th>\n",
       "      <th>item_name_length</th>\n",
       "      <th>item_name_cleaned_length</th>\n",
       "      <th>shop_open_days</th>\n",
       "      <th>...</th>\n",
       "      <th>artist_name_or_first_word_new_item_item_cnt_month_mean_expanding_mean</th>\n",
       "      <th>item_category_id_item_age_item_cnt_month_mean_expanding_mean</th>\n",
       "      <th>item_category_id_item_cnt_month_mean_rolling_mean_win_12</th>\n",
       "      <th>item_category_id_item_cnt_month_mean_ewm_hl_1</th>\n",
       "      <th>item_category_id_new_item_item_cnt_month_mean_expanding_mean</th>\n",
       "      <th>item_name_group_item_age_item_cnt_month_mean_rolling_mean_win_12</th>\n",
       "      <th>item_name_group_item_cnt_month_mean_ewm_hl_1</th>\n",
       "      <th>item_name_group_item_cnt_month_mean_rolling_mean_win_12</th>\n",
       "      <th>platform_id_item_cnt_month_mean_rolling_mean_win_12</th>\n",
       "      <th>platform_id_item_cnt_month_mean_ewm_hl_1</th>\n",
       "    </tr>\n",
       "  </thead>\n",
       "  <tbody>\n",
       "    <tr>\n",
       "      <th>0</th>\n",
       "      <td>0</td>\n",
       "      <td>59</td>\n",
       "      <td>22154</td>\n",
       "      <td>1</td>\n",
       "      <td>999.0</td>\n",
       "      <td>9737</td>\n",
       "      <td>4950</td>\n",
       "      <td>17</td>\n",
       "      <td>13</td>\n",
       "      <td>0</td>\n",
       "      <td>...</td>\n",
       "      <td>NaN</td>\n",
       "      <td>NaN</td>\n",
       "      <td>NaN</td>\n",
       "      <td>NaN</td>\n",
       "      <td>NaN</td>\n",
       "      <td>NaN</td>\n",
       "      <td>NaN</td>\n",
       "      <td>NaN</td>\n",
       "      <td>NaN</td>\n",
       "      <td>NaN</td>\n",
       "    </tr>\n",
       "    <tr>\n",
       "      <th>1</th>\n",
       "      <td>0</td>\n",
       "      <td>59</td>\n",
       "      <td>2552</td>\n",
       "      <td>0</td>\n",
       "      <td>0.0</td>\n",
       "      <td>1085</td>\n",
       "      <td>384</td>\n",
       "      <td>40</td>\n",
       "      <td>38</td>\n",
       "      <td>0</td>\n",
       "      <td>...</td>\n",
       "      <td>NaN</td>\n",
       "      <td>NaN</td>\n",
       "      <td>NaN</td>\n",
       "      <td>NaN</td>\n",
       "      <td>NaN</td>\n",
       "      <td>NaN</td>\n",
       "      <td>NaN</td>\n",
       "      <td>NaN</td>\n",
       "      <td>NaN</td>\n",
       "      <td>NaN</td>\n",
       "    </tr>\n",
       "    <tr>\n",
       "      <th>2</th>\n",
       "      <td>0</td>\n",
       "      <td>59</td>\n",
       "      <td>2554</td>\n",
       "      <td>0</td>\n",
       "      <td>0.0</td>\n",
       "      <td>1086</td>\n",
       "      <td>384</td>\n",
       "      <td>40</td>\n",
       "      <td>38</td>\n",
       "      <td>0</td>\n",
       "      <td>...</td>\n",
       "      <td>NaN</td>\n",
       "      <td>NaN</td>\n",
       "      <td>NaN</td>\n",
       "      <td>NaN</td>\n",
       "      <td>NaN</td>\n",
       "      <td>NaN</td>\n",
       "      <td>NaN</td>\n",
       "      <td>NaN</td>\n",
       "      <td>NaN</td>\n",
       "      <td>NaN</td>\n",
       "    </tr>\n",
       "    <tr>\n",
       "      <th>3</th>\n",
       "      <td>0</td>\n",
       "      <td>59</td>\n",
       "      <td>2555</td>\n",
       "      <td>0</td>\n",
       "      <td>0.0</td>\n",
       "      <td>1087</td>\n",
       "      <td>384</td>\n",
       "      <td>39</td>\n",
       "      <td>32</td>\n",
       "      <td>0</td>\n",
       "      <td>...</td>\n",
       "      <td>NaN</td>\n",
       "      <td>NaN</td>\n",
       "      <td>NaN</td>\n",
       "      <td>NaN</td>\n",
       "      <td>NaN</td>\n",
       "      <td>NaN</td>\n",
       "      <td>NaN</td>\n",
       "      <td>NaN</td>\n",
       "      <td>NaN</td>\n",
       "      <td>NaN</td>\n",
       "    </tr>\n",
       "    <tr>\n",
       "      <th>4</th>\n",
       "      <td>0</td>\n",
       "      <td>59</td>\n",
       "      <td>2564</td>\n",
       "      <td>0</td>\n",
       "      <td>0.0</td>\n",
       "      <td>1092</td>\n",
       "      <td>384</td>\n",
       "      <td>50</td>\n",
       "      <td>43</td>\n",
       "      <td>0</td>\n",
       "      <td>...</td>\n",
       "      <td>NaN</td>\n",
       "      <td>NaN</td>\n",
       "      <td>NaN</td>\n",
       "      <td>NaN</td>\n",
       "      <td>NaN</td>\n",
       "      <td>NaN</td>\n",
       "      <td>NaN</td>\n",
       "      <td>NaN</td>\n",
       "      <td>NaN</td>\n",
       "      <td>NaN</td>\n",
       "    </tr>\n",
       "  </tbody>\n",
       "</table>\n",
       "<p>5 rows × 78 columns</p>\n",
       "</div>"
      ],
      "text/plain": [
       "   date_block_num  shop_id  item_id  item_cnt_month  item_revenue_month  \\\n",
       "0               0       59    22154               1               999.0   \n",
       "1               0       59     2552               0                 0.0   \n",
       "2               0       59     2554               0                 0.0   \n",
       "3               0       59     2555               0                 0.0   \n",
       "4               0       59     2564               0                 0.0   \n",
       "\n",
       "   item_name_group  artist_name_or_first_word  item_name_length  \\\n",
       "0             9737                       4950                17   \n",
       "1             1085                        384                40   \n",
       "2             1086                        384                40   \n",
       "3             1087                        384                39   \n",
       "4             1092                        384                50   \n",
       "\n",
       "   item_name_cleaned_length  shop_open_days  ...  \\\n",
       "0                        13               0  ...   \n",
       "1                        38               0  ...   \n",
       "2                        38               0  ...   \n",
       "3                        32               0  ...   \n",
       "4                        43               0  ...   \n",
       "\n",
       "   artist_name_or_first_word_new_item_item_cnt_month_mean_expanding_mean  \\\n",
       "0                                                NaN                       \n",
       "1                                                NaN                       \n",
       "2                                                NaN                       \n",
       "3                                                NaN                       \n",
       "4                                                NaN                       \n",
       "\n",
       "   item_category_id_item_age_item_cnt_month_mean_expanding_mean  \\\n",
       "0                                                NaN              \n",
       "1                                                NaN              \n",
       "2                                                NaN              \n",
       "3                                                NaN              \n",
       "4                                                NaN              \n",
       "\n",
       "   item_category_id_item_cnt_month_mean_rolling_mean_win_12  \\\n",
       "0                                                NaN          \n",
       "1                                                NaN          \n",
       "2                                                NaN          \n",
       "3                                                NaN          \n",
       "4                                                NaN          \n",
       "\n",
       "   item_category_id_item_cnt_month_mean_ewm_hl_1  \\\n",
       "0                                            NaN   \n",
       "1                                            NaN   \n",
       "2                                            NaN   \n",
       "3                                            NaN   \n",
       "4                                            NaN   \n",
       "\n",
       "   item_category_id_new_item_item_cnt_month_mean_expanding_mean  \\\n",
       "0                                                NaN              \n",
       "1                                                NaN              \n",
       "2                                                NaN              \n",
       "3                                                NaN              \n",
       "4                                                NaN              \n",
       "\n",
       "   item_name_group_item_age_item_cnt_month_mean_rolling_mean_win_12  \\\n",
       "0                                                NaN                  \n",
       "1                                                NaN                  \n",
       "2                                                NaN                  \n",
       "3                                                NaN                  \n",
       "4                                                NaN                  \n",
       "\n",
       "   item_name_group_item_cnt_month_mean_ewm_hl_1  \\\n",
       "0                                           NaN   \n",
       "1                                           NaN   \n",
       "2                                           NaN   \n",
       "3                                           NaN   \n",
       "4                                           NaN   \n",
       "\n",
       "   item_name_group_item_cnt_month_mean_rolling_mean_win_12  \\\n",
       "0                                                NaN         \n",
       "1                                                NaN         \n",
       "2                                                NaN         \n",
       "3                                                NaN         \n",
       "4                                                NaN         \n",
       "\n",
       "   platform_id_item_cnt_month_mean_rolling_mean_win_12  \\\n",
       "0                                                NaN     \n",
       "1                                                NaN     \n",
       "2                                                NaN     \n",
       "3                                                NaN     \n",
       "4                                                NaN     \n",
       "\n",
       "   platform_id_item_cnt_month_mean_ewm_hl_1  \n",
       "0                                       NaN  \n",
       "1                                       NaN  \n",
       "2                                       NaN  \n",
       "3                                       NaN  \n",
       "4                                       NaN  \n",
       "\n",
       "[5 rows x 78 columns]"
      ]
     },
     "metadata": {},
     "execution_count": 78
    }
   ],
   "metadata": {}
  },
  {
   "cell_type": "code",
   "execution_count": 79,
   "source": [
    "# matrix.to_pickle(r\"D:\\Github\\05_Predict_Future_Sales\\data\\matrix02.pkl\")"
   ],
   "outputs": [],
   "metadata": {}
  },
  {
   "cell_type": "code",
   "execution_count": null,
   "source": [
    "# matrix = pd.read_pickle(r\"D:\\Github\\05_Predict_Future_Sales\\data\\matrix.pkl\")"
   ],
   "outputs": [],
   "metadata": {}
  },
  {
   "cell_type": "code",
   "execution_count": 80,
   "source": [
    "# Summed sales & accurate windowed mean sales per day features\r\n",
    "matrix = add_rolling_stats(\r\n",
    "    matrix,\r\n",
    "    [\"shop_id\", \"item_id\"],\r\n",
    "    aggfunc=\"sum\",\r\n",
    "    rolling_aggfunc=\"sum\",\r\n",
    "    kind=\"rolling\",\r\n",
    "    window=12,\r\n",
    "    reshape_source=False,\r\n",
    ")"
   ],
   "outputs": [
    {
     "output_type": "stream",
     "name": "stdout",
     "text": [
      "Creating feature \"shop_id_item_id_item_cnt_month_sum_rolling_sum_win_12\"\n"
     ]
    }
   ],
   "metadata": {}
  },
  {
   "cell_type": "code",
   "execution_count": 81,
   "source": [
    "matrix = add_rolling_stats(\r\n",
    "    matrix,\r\n",
    "    [\"item_id\"],\r\n",
    "    aggfunc=\"sum\",\r\n",
    "    rolling_aggfunc=\"sum\",\r\n",
    "    kind=\"expanding\",\r\n",
    "    reshape_source=False,\r\n",
    ")"
   ],
   "outputs": [
    {
     "output_type": "stream",
     "name": "stdout",
     "text": [
      "Creating feature \"item_id_item_cnt_month_sum_expanding_sum\"\n"
     ]
    }
   ],
   "metadata": {}
  },
  {
   "cell_type": "code",
   "execution_count": 82,
   "source": [
    "matrix[\"1year\"] = 365\r\n",
    "matrix[\"item_id_day_mean_expanding\"] = matrix[\r\n",
    "    \"item_id_item_cnt_month_sum_expanding_sum\"\r\n",
    "] / matrix[[\"first_item_sale_days\"]].min(axis=1)\r\n",
    "matrix[\"shop_id_item_id_day_mean_win_12\"] = matrix[\r\n",
    "    \"shop_id_item_id_item_cnt_month_sum_rolling_sum_win_12\"\r\n",
    "] / matrix[[\"first_item_sale_days\", \"shop_open_days\", \"1year\"]].min(axis=1)\r\n",
    "matrix.loc[matrix.new_item == True, \"item_id_day_mean_expanding\",] = float(\"nan\")\r\n",
    "matrix = matrix.drop(columns=[\"1year\", \"item_id_item_cnt_month_sum_expanding_sum\"])"
   ],
   "outputs": [],
   "metadata": {}
  },
  {
   "cell_type": "code",
   "execution_count": 83,
   "source": [
    "matrix = add_rolling_stats(\r\n",
    "    matrix,\r\n",
    "    [\"shop_id\", \"item_name_group\"],\r\n",
    "    window=12,\r\n",
    "    argfeat=\"item_revenue_month\",\r\n",
    "    dtype=\"float32\",\r\n",
    ")"
   ],
   "outputs": [
    {
     "output_type": "stream",
     "name": "stdout",
     "text": [
      "Creating feature \"shop_id_item_name_group_item_revenue_month_mean_rolling_mean_win_12\"\n"
     ]
    }
   ],
   "metadata": {}
  },
  {
   "cell_type": "code",
   "execution_count": 84,
   "source": [
    "matrix = add_rolling_stats(\r\n",
    "    matrix,\r\n",
    "    [\"item_category_id\"],\r\n",
    "    argfeat=\"new_items_cat\",\r\n",
    "    window=12,\r\n",
    "    reshape_source=True,\r\n",
    "    lag_offset=1,\r\n",
    ")"
   ],
   "outputs": [
    {
     "output_type": "stream",
     "name": "stdout",
     "text": [
      "Creating feature \"item_category_id_new_items_cat_mean_rolling_mean_win_12\"\n"
     ]
    }
   ],
   "metadata": {}
  },
  {
   "cell_type": "code",
   "execution_count": 85,
   "source": [
    "matrix = add_rolling_stats(\r\n",
    "    matrix,\r\n",
    "    [\"item_name_group\"],\r\n",
    "    argfeat=\"name_group_new_unique_month\",\r\n",
    "    window=12,\r\n",
    "    reshape_source=True,\r\n",
    "    lag_offset=1,\r\n",
    ")"
   ],
   "outputs": [
    {
     "output_type": "stream",
     "name": "stdout",
     "text": [
      "Creating feature \"item_name_group_name_group_new_unique_month_mean_rolling_mean_win_12\"\n"
     ]
    }
   ],
   "metadata": {}
  },
  {
   "cell_type": "code",
   "execution_count": 86,
   "source": [
    "matrix[\"new_items_cat_1_12_ratio\"] = (\r\n",
    "    matrix[\"new_items_cat\"]\r\n",
    "    / matrix[\"item_category_id_new_items_cat_mean_rolling_mean_win_12\"]\r\n",
    ")"
   ],
   "outputs": [],
   "metadata": {}
  },
  {
   "cell_type": "code",
   "execution_count": 87,
   "source": [
    "gc.collect()\r\n",
    "matrix, oldcols = shrink_mem_new_cols(matrix, oldcols)"
   ],
   "outputs": [],
   "metadata": {}
  },
  {
   "cell_type": "code",
   "execution_count": 25,
   "source": [
    "# matrix.to_pickle(r\"D:\\Github\\05_Predict_Future_Sales\\data\\matrix03.pkl\")\r\n",
    "matrix = pd.read_pickle(r\"D:\\Github\\05_Predict_Future_Sales\\data\\matrix03.pkl\")"
   ],
   "outputs": [],
   "metadata": {}
  },
  {
   "cell_type": "code",
   "execution_count": 26,
   "source": [
    "oldcols = matrix.columns"
   ],
   "outputs": [],
   "metadata": {}
  },
  {
   "cell_type": "code",
   "execution_count": 27,
   "source": [
    "def simple_lag_feature(matrix, lag_feature, lags):\r\n",
    "    for lag in lags:\r\n",
    "        newname = lag_feature + f\"_lag_{lag}\"\r\n",
    "        print(f\"Adding feature {newname}\")\r\n",
    "        targetseries = matrix.loc[:, [\"date_block_num\", \"item_id\", \"shop_id\"] + [lag_feature]]\r\n",
    "        targetseries[\"date_block_num\"] += lag\r\n",
    "        targetseries = targetseries.rename(columns={lag_feature: newname})\r\n",
    "        matrix = matrix.merge(\r\n",
    "            targetseries, on=[\"date_block_num\", \"item_id\", \"shop_id\"], how=\"left\"\r\n",
    "        )\r\n",
    "        matrix.loc[\r\n",
    "            (matrix.item_age >= lag) & (matrix.shop_age >= lag) & (matrix[newname].isna()),\r\n",
    "            newname,\r\n",
    "        ] = 0\r\n",
    "    return matrix"
   ],
   "outputs": [],
   "metadata": {}
  },
  {
   "cell_type": "code",
   "execution_count": 28,
   "source": [
    "matrix = simple_lag_feature(matrix, 'item_cnt_month', lags=[1,2,3])"
   ],
   "outputs": [
    {
     "output_type": "stream",
     "name": "stdout",
     "text": [
      "Adding feature item_cnt_month_lag_1\n",
      "Adding feature item_cnt_month_lag_2\n",
      "Adding feature item_cnt_month_lag_3\n"
     ]
    }
   ],
   "metadata": {}
  },
  {
   "cell_type": "code",
   "execution_count": 29,
   "source": [
    "matrix = simple_lag_feature(matrix, 'item_cnt_day_avg', lags=[1, 2, 3])"
   ],
   "outputs": [
    {
     "output_type": "stream",
     "name": "stdout",
     "text": [
      "Adding feature item_cnt_day_avg_lag_1\n",
      "Adding feature item_cnt_day_avg_lag_2\n",
      "Adding feature item_cnt_day_avg_lag_3\n"
     ]
    }
   ],
   "metadata": {}
  },
  {
   "cell_type": "code",
   "execution_count": 30,
   "source": [
    "matrix = simple_lag_feature(matrix, 'item_revenue_month', lags=[1])\r\n",
    "gc.collect()\r\n",
    "print(\"Lag features created\")"
   ],
   "outputs": [
    {
     "output_type": "stream",
     "name": "stdout",
     "text": [
      "Adding feature item_revenue_month_lag_1\n",
      "Lag features created\n"
     ]
    }
   ],
   "metadata": {}
  },
  {
   "cell_type": "code",
   "execution_count": 31,
   "source": [
    "def create_apply_ME(\r\n",
    "    matrix, grouping_fields, lags=[1], target=\"item_cnt_day_avg\", aggfunc=\"mean\"\r\n",
    "):\r\n",
    "    grouping_fields = list_if_not(grouping_fields)\r\n",
    "    for lag in lags:\r\n",
    "        newname = \"_\".join(grouping_fields + [target] + [aggfunc] + [f\"lag_{lag}\"])\r\n",
    "        print(f\"Adding feature {newname}\")\r\n",
    "        me_series = (\r\n",
    "            matrix.groupby([\"date_block_num\"] + grouping_fields)[target]\r\n",
    "            .agg(aggfunc)\r\n",
    "            .rename(newname)\r\n",
    "            .reset_index()\r\n",
    "        )\r\n",
    "        me_series[\"date_block_num\"] += lag\r\n",
    "        matrix = matrix.merge(me_series, on=[\"date_block_num\"] + grouping_fields, how=\"left\")\r\n",
    "        del me_series\r\n",
    "        matrix[newname] = matrix[newname].fillna(0)\r\n",
    "        for g in grouping_fields:\r\n",
    "            firsts = matrix.groupby(g).date_block_num.min().rename(\"firsts\")\r\n",
    "            matrix = matrix.merge(firsts, left_on=g, right_index=True, how=\"left\")\r\n",
    "            matrix.loc[\r\n",
    "                matrix[\"date_block_num\"] < (matrix[\"firsts\"] + (lag)), newname\r\n",
    "            ] = float(\"nan\")\r\n",
    "            del matrix[\"firsts\"]\r\n",
    "        matrix[newname] = reduce_mem_usage(matrix[newname])\r\n",
    "    return matrix"
   ],
   "outputs": [],
   "metadata": {}
  },
  {
   "cell_type": "code",
   "execution_count": 32,
   "source": [
    "matrix = create_apply_ME(matrix, [\"item_name_group\"], target=\"item_cnt_month\")\r\n",
    "matrix = create_apply_ME(matrix, [\"item_name_group\"], target=\"item_cnt_month\", aggfunc=\"sum\")"
   ],
   "outputs": [
    {
     "output_type": "stream",
     "name": "stdout",
     "text": [
      "Adding feature item_name_group_item_cnt_month_mean_lag_1\n",
      "Adding feature item_name_group_item_cnt_month_sum_lag_1\n"
     ]
    }
   ],
   "metadata": {}
  },
  {
   "cell_type": "code",
   "execution_count": 33,
   "source": [
    "matrix = create_apply_ME(matrix, [\"item_id\"], target=\"item_cnt_month\")\r\n",
    "matrix = create_apply_ME(matrix, [\"item_id\"])\r\n",
    "matrix = create_apply_ME(matrix, [\"platform_id\"])\r\n",
    "matrix = create_apply_ME(matrix, [\"item_name_group\"])"
   ],
   "outputs": [
    {
     "output_type": "stream",
     "name": "stdout",
     "text": [
      "Adding feature item_id_item_cnt_month_mean_lag_1\n",
      "Adding feature item_id_item_cnt_day_avg_mean_lag_1\n",
      "Adding feature platform_id_item_cnt_day_avg_mean_lag_1\n",
      "Adding feature item_name_group_item_cnt_day_avg_mean_lag_1\n"
     ]
    }
   ],
   "metadata": {}
  },
  {
   "cell_type": "code",
   "execution_count": 34,
   "source": [
    "matrix = create_apply_ME(matrix, [\"platform_id\"], target=\"item_cnt_month\")\r\n",
    "matrix = create_apply_ME(matrix, [\"supercategory_id\"])\r\n",
    "matrix = create_apply_ME(matrix, [\"item_category_id\", \"new_item\"], target=\"item_cnt_month\")\r\n",
    "matrix = create_apply_ME(matrix, [\"shop_id\", \"item_category_id\"], target=\"item_cnt_month\")"
   ],
   "outputs": [
    {
     "output_type": "stream",
     "name": "stdout",
     "text": [
      "Adding feature platform_id_item_cnt_month_mean_lag_1\n",
      "Adding feature supercategory_id_item_cnt_day_avg_mean_lag_1\n",
      "Adding feature item_category_id_new_item_item_cnt_month_mean_lag_1\n",
      "Adding feature shop_id_item_category_id_item_cnt_month_mean_lag_1\n"
     ]
    }
   ],
   "metadata": {}
  },
  {
   "cell_type": "code",
   "execution_count": 35,
   "source": [
    "matrix = create_apply_ME(matrix, [\"shop_cluster\", \"item_id\"], target=\"item_cnt_month\")\r\n",
    "matrix = create_apply_ME(matrix, [\"shop_cluster\", \"item_id\"])\r\n",
    "matrix = create_apply_ME(matrix, [\"city_code\", \"item_id\"])\r\n",
    "matrix = create_apply_ME(matrix, [\"city_code\", \"item_name_group\"])"
   ],
   "outputs": [
    {
     "output_type": "stream",
     "name": "stdout",
     "text": [
      "Adding feature shop_cluster_item_id_item_cnt_month_mean_lag_1\n",
      "Adding feature shop_cluster_item_id_item_cnt_day_avg_mean_lag_1\n",
      "Adding feature city_code_item_id_item_cnt_day_avg_mean_lag_1\n",
      "Adding feature city_code_item_name_group_item_cnt_day_avg_mean_lag_1\n"
     ]
    }
   ],
   "metadata": {}
  },
  {
   "cell_type": "code",
   "execution_count": 36,
   "source": [
    "matrix.columns"
   ],
   "outputs": [
    {
     "output_type": "execute_result",
     "data": {
      "text/plain": [
       "Index(['date_block_num', 'shop_id', 'item_id', 'item_cnt_month',\n",
       "       'item_revenue_month', 'item_name_group', 'artist_name_or_first_word',\n",
       "       'item_name_length', 'item_name_cleaned_length', 'shop_open_days',\n",
       "       ...\n",
       "       'platform_id_item_cnt_day_avg_mean_lag_1',\n",
       "       'item_name_group_item_cnt_day_avg_mean_lag_1',\n",
       "       'platform_id_item_cnt_month_mean_lag_1',\n",
       "       'supercategory_id_item_cnt_day_avg_mean_lag_1',\n",
       "       'item_category_id_new_item_item_cnt_month_mean_lag_1',\n",
       "       'shop_id_item_category_id_item_cnt_month_mean_lag_1',\n",
       "       'shop_cluster_item_id_item_cnt_month_mean_lag_1',\n",
       "       'shop_cluster_item_id_item_cnt_day_avg_mean_lag_1',\n",
       "       'city_code_item_id_item_cnt_day_avg_mean_lag_1',\n",
       "       'city_code_item_name_group_item_cnt_day_avg_mean_lag_1'],\n",
       "      dtype='object', length=106)"
      ]
     },
     "metadata": {},
     "execution_count": 36
    }
   ],
   "metadata": {}
  },
  {
   "cell_type": "code",
   "execution_count": 37,
   "source": [
    "matrix[\"item_id_item_cnt_1_12_ratio\"] = (\r\n",
    "    matrix[\"item_id_item_cnt_month_mean_lag_1\"]\r\n",
    "    / matrix[\"item_id_item_cnt_month_mean_rolling_mean_win_12\"]\r\n",
    ")"
   ],
   "outputs": [],
   "metadata": {}
  },
  {
   "cell_type": "code",
   "execution_count": 38,
   "source": [
    "matrix[\"shop_id_item_id_item_cnt_1_12_ratio\"] = (\r\n",
    "    matrix[\"item_cnt_day_avg_lag_1\"] / matrix[\"shop_id_item_id_day_mean_win_12\"]\r\n",
    ")"
   ],
   "outputs": [],
   "metadata": {}
  },
  {
   "cell_type": "code",
   "execution_count": 39,
   "source": [
    "matrix, oldcols = shrink_mem_new_cols(matrix, oldcols)\r\n",
    "# matrix.to_pickle(r\"D:\\Github\\05_Predict_Future_Sales\\data\\matrixcheckpoint.pkl\")\r\n",
    "print(\"Saved matrixcheckpoint\")\r\n",
    "gc.collect()\r\n",
    "print(\"Mean encoding features created\")"
   ],
   "outputs": [
    {
     "output_type": "stream",
     "name": "stdout",
     "text": [
      "Saved matrixcheckpoint\n",
      "Mean encoding features created\n"
     ]
    }
   ],
   "metadata": {}
  },
  {
   "cell_type": "code",
   "execution_count": 4,
   "source": [
    "matrix = pd.read_pickle(r\"D:\\Github\\05_Predict_Future_Sales\\data\\matrixcheckpoint.pkl\")"
   ],
   "outputs": [],
   "metadata": {}
  },
  {
   "cell_type": "code",
   "execution_count": 5,
   "source": [
    "surplus_columns = [\r\n",
    "    \"item_revenue_month\",\r\n",
    "    \"item_cnt_day_avg\",\r\n",
    "    \"item_name_group\",\r\n",
    "    \"artist_name_or_first_word\",\r\n",
    "    \"item_age\",\r\n",
    "    \"shop_open_days\",\r\n",
    "    \"shop_age\",\r\n",
    "    \"platform_id\",\r\n",
    "    \"supercategory_id\",\r\n",
    "    \"city_code\",\r\n",
    "    \"category_cluster\",\r\n",
    "    \"shop_cluster\",\r\n",
    "    \"new_items_cat\",\r\n",
    "    \"shop_id_item_id_day_mean_win_12\",\r\n",
    "    \"item_id_item_cnt_month_mean_rolling_mean_win_12\",\r\n",
    "]\r\n",
    "matrix = matrix.drop(columns=surplus_columns)"
   ],
   "outputs": [],
   "metadata": {}
  },
  {
   "cell_type": "code",
   "execution_count": 5,
   "source": [
    "import re\r\n",
    "import warnings\r\n",
    "\r\n",
    "warnings.filterwarnings(\"ignore\", module=\"sklearn\")\r\n",
    "\r\n",
    "from nltk.corpus import stopwords\r\n",
    "from sklearn.feature_extraction.text import CountVectorizer\r\n",
    "from sklearn.feature_selection import SelectKBest, f_regression\r\n",
    "\r\n",
    "\r\n",
    "def name_token_feats(matrix, items, k=50, item_n_threshold=5, target_month_start=33):\r\n",
    "    def name_correction(st):\r\n",
    "        st = re.sub(r\"[^\\w\\s]\", \"\", st)\r\n",
    "        st = re.sub(r\"\\s{2,}\", \" \", st)\r\n",
    "        st = st.lower().strip()\r\n",
    "        return st\r\n",
    "\r\n",
    "    items[\"item_name_clean\"] = items[\"item_name\"].apply(name_correction)\r\n",
    "\r\n",
    "    def create_item_id_bow_matrix(items):\r\n",
    "        all_stopwords = stopwords.words(\"russian\")\r\n",
    "        all_stopwords = all_stopwords + stopwords.words(\"english\")\r\n",
    "\r\n",
    "        vectorizer = CountVectorizer(stop_words=all_stopwords)\r\n",
    "        X = vectorizer.fit_transform(items.loc[:, \"item_name_clean\"])\r\n",
    "        X = pd.DataFrame.sparse.from_spmatrix(X)\r\n",
    "        print(f\"{len(vectorizer.vocabulary_)} words found in all items\")\r\n",
    "        featuremap = {\r\n",
    "            col: \"word_\" + token\r\n",
    "            for col, token in zip(\r\n",
    "                range(len(vectorizer.vocabulary_)), vectorizer.get_feature_names()\r\n",
    "            )\r\n",
    "        }\r\n",
    "        X = X.rename(columns=featuremap)\r\n",
    "        return X\r\n",
    "\r\n",
    "    items_bow = create_item_id_bow_matrix(items)\r\n",
    "    items_bow = items_bow.clip(0, 1)  # Made the word counts binary\r\n",
    "    common_word_mask = items_bow.sum(axis=0) > item_n_threshold\r\n",
    "    target_items = matrix.query(\r\n",
    "        f\"date_block_num>={target_month_start} & new_item==True\"\r\n",
    "    ).item_id.unique()\r\n",
    "    target_item_mask = items_bow.loc[target_items, :].sum(axis=0) > 1\r\n",
    "    items_bow = items_bow.loc[:, common_word_mask & target_item_mask]\r\n",
    "    print(f\"{items_bow.shape[1]} words of interest\")\r\n",
    "    mxbow = matrix[[\"date_block_num\", \"item_id\", \"item_cnt_month\"]].query(\"date_block_num<34\")\r\n",
    "    mxbow = mxbow.merge(items_bow, left_on=\"item_id\", right_index=True, how=\"left\")\r\n",
    "    X = mxbow.drop(columns=[\"date_block_num\", \"item_id\", \"item_cnt_month\"])\r\n",
    "    y = mxbow[\"item_cnt_month\"].clip(0, 20)\r\n",
    "    selektor = SelectKBest(f_regression, k=k)\r\n",
    "    selektor.fit(X, y)\r\n",
    "    tokencols = X.columns[selektor.get_support()]\r\n",
    "    print(f\"{k} word features selected\")\r\n",
    "    return items_bow[tokencols]"
   ],
   "outputs": [],
   "metadata": {}
  },
  {
   "cell_type": "code",
   "execution_count": 6,
   "source": [
    "items = pd.read_csv(\"./data/items.csv\")"
   ],
   "outputs": [],
   "metadata": {}
  },
  {
   "cell_type": "code",
   "execution_count": 3,
   "source": [
    "# items = pd.read_csv(\"./data/items.csv\")\r\n",
    "# word_frame = name_token_feats(matrix, items, k=50, item_n_threshold=5)\r\n",
    "# matrix = matrix.merge(word_frame, left_on='item_id', right_index=True, how='left')\r\n",
    "# # LightGBM didn't seem to work with sparse features in this case, so we'll convert them to int\r\n",
    "# sparsecols = [c for c in matrix.columns if pd.api.types.is_sparse(matrix[c].dtype)]\r\n",
    "# matrix[sparsecols] = matrix[sparsecols].sparse.to_dense().astype('int8')"
   ],
   "outputs": [],
   "metadata": {}
  },
  {
   "cell_type": "code",
   "execution_count": 6,
   "source": [
    "gc.collect()\r\n",
    "matrix.to_pickle(r\"D:\\Github\\05_Predict_Future_Sales\\data\\checkpoint_final.pkl\")\r\n",
    "print(\"All features generated, dataframe saved\")"
   ],
   "outputs": [
    {
     "output_type": "stream",
     "name": "stdout",
     "text": [
      "All features generated, dataframe saved\n"
     ]
    }
   ],
   "metadata": {}
  },
  {
   "cell_type": "code",
   "execution_count": null,
   "source": [
    "%reset -f"
   ],
   "outputs": [],
   "metadata": {}
  },
  {
   "cell_type": "markdown",
   "source": [
    "## Model fitting"
   ],
   "metadata": {}
  },
  {
   "cell_type": "code",
   "execution_count": 8,
   "source": [
    "import pandas as pd"
   ],
   "outputs": [],
   "metadata": {}
  },
  {
   "cell_type": "code",
   "execution_count": 9,
   "source": [
    "matrix = pd.read_pickle(r\"D:\\Github\\05_Predict_Future_Sales\\data\\checkpoint_final.pkl\")\r\n",
    "matrix['item_cnt_month'] = matrix['item_cnt_month'].clip(0,20)"
   ],
   "outputs": [],
   "metadata": {}
  },
  {
   "cell_type": "code",
   "execution_count": 13,
   "source": [
    "import warnings\r\n",
    "\r\n",
    "warnings.filterwarnings(\"ignore\", module=\"lightgbm\")\r\n",
    "\r\n",
    "import lightgbm as lgbm\r\n",
    "\r\n",
    "\r\n",
    "def fit_booster(\r\n",
    "    X_train,\r\n",
    "    y_train,\r\n",
    "    X_test=None,\r\n",
    "    y_test=None,\r\n",
    "    params=None,\r\n",
    "    test_run=False,\r\n",
    "    categoricals=[],\r\n",
    "    dropcols=[],\r\n",
    "    early_stopping=True,\r\n",
    "):\r\n",
    "    if params is None:\r\n",
    "        params = {\"learning_rate\": 0.1, \"subsample_for_bin\": 300000, \"n_estimators\": 50}\r\n",
    "\r\n",
    "    early_stopping_rounds = None\r\n",
    "    if early_stopping == True:\r\n",
    "        early_stopping_rounds = 30\r\n",
    "\r\n",
    "    if test_run:\r\n",
    "        eval_set = [(X_train, y_train)]\r\n",
    "    else:\r\n",
    "        eval_set = [(X_train, y_train), (X_test, y_test)]\r\n",
    "\r\n",
    "    booster = lgbm.LGBMRegressor(**params)\r\n",
    "\r\n",
    "    categoricals = [c for c in categoricals if c in X_train.columns]\r\n",
    "\r\n",
    "    booster.fit(\r\n",
    "        X_train,\r\n",
    "        y_train,\r\n",
    "        eval_set=eval_set,\r\n",
    "        eval_metric=[\"rmse\"],\r\n",
    "        verbose=100,\r\n",
    "        categorical_feature=categoricals,\r\n",
    "        early_stopping_rounds=early_stopping_rounds,\r\n",
    "    )\r\n",
    "\r\n",
    "    return booster"
   ],
   "outputs": [],
   "metadata": {}
  },
  {
   "cell_type": "code",
   "execution_count": 14,
   "source": [
    "keep_from_month = 2  # The first couple of months are dropped because of distortions to their features (e.g. wrong item age)\r\n",
    "test_month = 33\r\n",
    "dropcols = [\r\n",
    "    \"shop_id\",\r\n",
    "    \"item_id\",\r\n",
    "    \"new_item\",\r\n",
    "]  # The features are dropped to reduce overfitting\r\n",
    "\r\n",
    "valid = matrix.drop(columns=dropcols).loc[matrix.date_block_num == test_month, :]\r\n",
    "train = matrix.drop(columns=dropcols).loc[matrix.date_block_num < test_month, :]\r\n",
    "train = train[train.date_block_num >= keep_from_month]\r\n",
    "X_train = train.drop(columns=\"item_cnt_month\")\r\n",
    "y_train = train.item_cnt_month\r\n",
    "X_valid = valid.drop(columns=\"item_cnt_month\")\r\n",
    "y_valid = valid.item_cnt_month\r\n",
    "del matrix"
   ],
   "outputs": [],
   "metadata": {}
  },
  {
   "cell_type": "code",
   "execution_count": 15,
   "source": [
    "params = {\r\n",
    "    \"num_leaves\": 966,\r\n",
    "    \"cat_smooth\": 45.01680827234465,\r\n",
    "    \"min_child_samples\": 27,\r\n",
    "    \"min_child_weight\": 0.021144950289224463,\r\n",
    "    \"max_bin\": 214,\r\n",
    "    \"learning_rate\": 0.01,\r\n",
    "    \"subsample_for_bin\": 300000,\r\n",
    "    \"min_data_in_bin\": 7,\r\n",
    "    \"colsample_bytree\": 0.8,\r\n",
    "    \"subsample\": 0.6,\r\n",
    "    \"subsample_freq\": 5,\r\n",
    "    \"n_estimators\": 8000,\r\n",
    "}"
   ],
   "outputs": [],
   "metadata": {}
  },
  {
   "cell_type": "code",
   "execution_count": 16,
   "source": [
    "categoricals = [\r\n",
    "    \"item_category_id\",\r\n",
    "    \"month\",\r\n",
    "]  # These features will be set as categorical features by LightGBM and handled differently\r\n",
    "\r\n",
    "lgbooster = fit_booster(\r\n",
    "    X_train,\r\n",
    "    y_train,\r\n",
    "    X_valid,\r\n",
    "    y_valid,\r\n",
    "    params=params,\r\n",
    "    test_run=False,\r\n",
    "    categoricals=categoricals,\r\n",
    ")"
   ],
   "outputs": [
    {
     "output_type": "stream",
     "name": "stdout",
     "text": [
      "Training until validation scores don't improve for 30 rounds\n",
      "[100]\ttraining's rmse: 0.830725\ttraining's l2: 0.690104\tvalid_1's rmse: 0.792605\tvalid_1's l2: 0.628222\n",
      "[200]\ttraining's rmse: 0.719106\ttraining's l2: 0.517113\tvalid_1's rmse: 0.736809\tvalid_1's l2: 0.542887\n",
      "[300]\ttraining's rmse: 0.67715\ttraining's l2: 0.458532\tvalid_1's rmse: 0.725191\tvalid_1's l2: 0.525902\n",
      "[400]\ttraining's rmse: 0.652581\ttraining's l2: 0.425862\tvalid_1's rmse: 0.722113\tvalid_1's l2: 0.521447\n",
      "[500]\ttraining's rmse: 0.635105\ttraining's l2: 0.403358\tvalid_1's rmse: 0.720778\tvalid_1's l2: 0.519521\n",
      "Early stopping, best iteration is:\n",
      "[569]\ttraining's rmse: 0.625704\ttraining's l2: 0.391505\tvalid_1's rmse: 0.720055\tvalid_1's l2: 0.51848\n"
     ]
    }
   ],
   "metadata": {}
  },
  {
   "cell_type": "code",
   "execution_count": 17,
   "source": [
    "_ = lgbm.plot_importance(lgbooster, figsize=(10,50), height=0.7, importance_type=\"gain\", max_num_features=50)"
   ],
   "outputs": [
    {
     "output_type": "display_data",
     "data": {
      "image/png": "[encoded data removed]",
      "text/plain": [
       "<Figure size 720x3600 with 1 Axes>"
      ]
     },
     "metadata": {
      "needs_background": "light"
     }
    }
   ],
   "metadata": {}
  },
  {
   "cell_type": "code",
   "execution_count": 18,
   "source": [
    "import joblib\r\n",
    "_ = joblib.dump(lgbooster, r\"D:\\Github\\05_Predict_Future_Sales\\data\\trained_lgbooster.pkl\")"
   ],
   "outputs": [],
   "metadata": {}
  },
  {
   "cell_type": "code",
   "execution_count": 19,
   "source": [
    "matrix = pd.read_pickle(r\"D:\\Github\\05_Predict_Future_Sales\\data\\checkpoint_final.pkl\")\r\n",
    "matrix['item_cnt_month'] = matrix['item_cnt_month'].clip(0,20)\r\n",
    "keep_from_month = 2\r\n",
    "test_month = 34\r\n",
    "test = matrix.loc[matrix.date_block_num==test_month, :]\r\n",
    "X_test = test.drop(columns=\"item_cnt_month\")\r\n",
    "y_test = test.item_cnt_month\r\n",
    "del(matrix)"
   ],
   "outputs": [],
   "metadata": {}
  },
  {
   "cell_type": "code",
   "execution_count": 20,
   "source": [
    "X_test[\"item_cnt_month\"] = lgbooster.predict(X_test.drop(columns=dropcols)).clip(0, 20)"
   ],
   "outputs": [],
   "metadata": {}
  },
  {
   "cell_type": "code",
   "execution_count": 21,
   "source": [
    "# Merge the predictions with the provided template\r\n",
    "test_orig = pd.read_csv(\"./data/test.csv\")\r\n",
    "test = test_orig.merge(\r\n",
    "    X_test[[\"shop_id\", \"item_id\", \"item_cnt_month\"]],\r\n",
    "    on=[\"shop_id\", \"item_id\"],\r\n",
    "    how=\"inner\",\r\n",
    "    copy=True,\r\n",
    ")"
   ],
   "outputs": [],
   "metadata": {}
  },
  {
   "cell_type": "code",
   "execution_count": 22,
   "source": [
    "# Verify that the indices of the submission match the original\r\n",
    "assert test_orig.equals(test[[\"ID\", \"shop_id\", \"item_id\"]])\r\n",
    "test[[\"ID\", \"item_cnt_month\"]].to_csv(\"./submit/submission.csv\", index=False)"
   ],
   "outputs": [],
   "metadata": {}
  },
  {
   "cell_type": "code",
   "execution_count": null,
   "source": [
    "# from os import remove\r\n",
    "# remove(\"checkpoint_final.pkl\")\r\n",
    "# remove(\"matrixcheckpoint.pkl\")\r\n",
    "# print(\"Finished everything!\")"
   ],
   "outputs": [],
   "metadata": {}
  },
  {
   "cell_type": "code",
   "execution_count": 23,
   "source": [
    "test"
   ],
   "outputs": [
    {
     "output_type": "execute_result",
     "data": {
      "text/html": [
       "<div>\n",
       "<style scoped>\n",
       "    .dataframe tbody tr th:only-of-type {\n",
       "        vertical-align: middle;\n",
       "    }\n",
       "\n",
       "    .dataframe tbody tr th {\n",
       "        vertical-align: top;\n",
       "    }\n",
       "\n",
       "    .dataframe thead th {\n",
       "        text-align: right;\n",
       "    }\n",
       "</style>\n",
       "<table border=\"1\" class=\"dataframe\">\n",
       "  <thead>\n",
       "    <tr style=\"text-align: right;\">\n",
       "      <th></th>\n",
       "      <th>ID</th>\n",
       "      <th>shop_id</th>\n",
       "      <th>item_id</th>\n",
       "      <th>item_cnt_month</th>\n",
       "    </tr>\n",
       "  </thead>\n",
       "  <tbody>\n",
       "    <tr>\n",
       "      <th>0</th>\n",
       "      <td>0</td>\n",
       "      <td>5</td>\n",
       "      <td>5037</td>\n",
       "      <td>0.589618</td>\n",
       "    </tr>\n",
       "    <tr>\n",
       "      <th>1</th>\n",
       "      <td>1</td>\n",
       "      <td>5</td>\n",
       "      <td>5320</td>\n",
       "      <td>2.090930</td>\n",
       "    </tr>\n",
       "    <tr>\n",
       "      <th>2</th>\n",
       "      <td>2</td>\n",
       "      <td>5</td>\n",
       "      <td>5233</td>\n",
       "      <td>0.988974</td>\n",
       "    </tr>\n",
       "    <tr>\n",
       "      <th>3</th>\n",
       "      <td>3</td>\n",
       "      <td>5</td>\n",
       "      <td>5232</td>\n",
       "      <td>0.730659</td>\n",
       "    </tr>\n",
       "    <tr>\n",
       "      <th>4</th>\n",
       "      <td>4</td>\n",
       "      <td>5</td>\n",
       "      <td>5268</td>\n",
       "      <td>2.744191</td>\n",
       "    </tr>\n",
       "    <tr>\n",
       "      <th>...</th>\n",
       "      <td>...</td>\n",
       "      <td>...</td>\n",
       "      <td>...</td>\n",
       "      <td>...</td>\n",
       "    </tr>\n",
       "    <tr>\n",
       "      <th>214195</th>\n",
       "      <td>214195</td>\n",
       "      <td>45</td>\n",
       "      <td>18454</td>\n",
       "      <td>0.136487</td>\n",
       "    </tr>\n",
       "    <tr>\n",
       "      <th>214196</th>\n",
       "      <td>214196</td>\n",
       "      <td>45</td>\n",
       "      <td>16188</td>\n",
       "      <td>0.031968</td>\n",
       "    </tr>\n",
       "    <tr>\n",
       "      <th>214197</th>\n",
       "      <td>214197</td>\n",
       "      <td>45</td>\n",
       "      <td>15757</td>\n",
       "      <td>0.053914</td>\n",
       "    </tr>\n",
       "    <tr>\n",
       "      <th>214198</th>\n",
       "      <td>214198</td>\n",
       "      <td>45</td>\n",
       "      <td>19648</td>\n",
       "      <td>0.014734</td>\n",
       "    </tr>\n",
       "    <tr>\n",
       "      <th>214199</th>\n",
       "      <td>214199</td>\n",
       "      <td>45</td>\n",
       "      <td>969</td>\n",
       "      <td>0.048342</td>\n",
       "    </tr>\n",
       "  </tbody>\n",
       "</table>\n",
       "<p>214200 rows × 4 columns</p>\n",
       "</div>"
      ],
      "text/plain": [
       "            ID  shop_id  item_id  item_cnt_month\n",
       "0            0        5     5037        0.589618\n",
       "1            1        5     5320        2.090930\n",
       "2            2        5     5233        0.988974\n",
       "3            3        5     5232        0.730659\n",
       "4            4        5     5268        2.744191\n",
       "...        ...      ...      ...             ...\n",
       "214195  214195       45    18454        0.136487\n",
       "214196  214196       45    16188        0.031968\n",
       "214197  214197       45    15757        0.053914\n",
       "214198  214198       45    19648        0.014734\n",
       "214199  214199       45      969        0.048342\n",
       "\n",
       "[214200 rows x 4 columns]"
      ]
     },
     "metadata": {},
     "execution_count": 23
    }
   ],
   "metadata": {}
  }
 ],
 "metadata": {
  "interpreter": {
   "hash": "9d3bae0a0f66551680ef8a166f6b92cc2774d5d7901f027deb7bb883ed06d5ae"
  },
  "kernelspec": {
   "name": "python3",
   "display_name": "Python 3.7.6 64-bit ('base': conda)"
  },
  "language_info": {
   "codemirror_mode": {
    "name": "ipython",
    "version": 3
   },
   "file_extension": ".py",
   "mimetype": "text/x-python",
   "name": "python",
   "nbconvert_exporter": "python",
   "pygments_lexer": "ipython3",
   "version": "3.7.6"
  }
 },
 "nbformat": 4,
 "nbformat_minor": 4
}