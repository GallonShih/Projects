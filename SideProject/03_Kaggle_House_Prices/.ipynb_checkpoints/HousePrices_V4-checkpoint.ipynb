{
 "cells": [
  {
   "cell_type": "code",
   "execution_count": 1,
   "metadata": {},
   "outputs": [],
   "source": [
    "#常用\n",
    "%matplotlib inline\n",
    "import numpy as np\n",
    "import pandas as pd\n",
    "import matplotlib.pyplot as plt\n",
    "import seaborn as sns # 另一個繪圖-樣式套件\n",
    "import warnings\n",
    "warnings.filterwarnings('ignore')\n",
    "\n",
    "#統計\n",
    "import scipy.stats as st\n",
    "\n",
    "#機器學習\n",
    "from sklearn.preprocessing import MinMaxScaler, StandardScaler\n",
    "from sklearn.decomposition import PCA\n",
    "from sklearn import metrics\n",
    "from sklearn.model_selection import train_test_split, KFold, cross_val_score\n",
    "from sklearn.linear_model import LinearRegression, Ridge, Lasso, ElasticNet\n",
    "\n",
    "#系統操作、解壓縮檔案\n",
    "import os\n",
    "from zipfile import ZipFile"
   ]
  },
  {
   "cell_type": "code",
   "execution_count": 21,
   "metadata": {},
   "outputs": [],
   "source": [
    "###資料匯入\n",
    "class DataImport:\n",
    "    def __init__(self):\n",
    "        self.data_dir = os.getcwd()\n",
    "    \n",
    "    #資料夾路徑\n",
    "    def set_dir(self, data_path):\n",
    "        self.data_dir = os.path.join(self.data_dir, data_path)\n",
    "    \n",
    "    #壓縮檔名 \n",
    "    def read_zip(self, filename):\n",
    "        self.file_path = os.path.join(self.data_dir, filename)\n",
    "        print('Path of read in data: %s' % (self.file_path))\n",
    "        myzip=ZipFile(self.file_path)\n",
    "        for i in myzip.filelist:\n",
    "            print(i.filename)\n",
    "        myzip.close()\n",
    "    \n",
    "    #讀取壓縮檔內的資料\n",
    "    def read_zip_data(self, dataname):\n",
    "        myzip=ZipFile(self.file_path)\n",
    "        f=myzip.open(dataname)\n",
    "        df=pd.read_csv(f)\n",
    "        f.close()\n",
    "        myzip.close()\n",
    "        return df\n",
    "\n",
    "def feature_eda(feature_name,train, log1p=0, astype=[0,'object']):\n",
    "    if log1p:\n",
    "        feature = np.log1p(train[feature_name])\n",
    "    else:\n",
    "        feature = train[feature_name]\n",
    "    if astype[0]:\n",
    "        feature = feature.astype(astype[1])\n",
    "    test_feature = test[feature_name]\n",
    "    target = train['SalePrice']\n",
    "\n",
    "    print('Type : {}'.format(feature.dtypes))\n",
    "    na_ratio = feature.isna().sum()/len(feature)\n",
    "    print('NA Ratio : {}'.format(na_ratio))\n",
    "    na_ratio = test_feature.isna().sum()/len(test_feature)\n",
    "    print('Test NA Ratio : {}'.format(na_ratio))\n",
    "    \n",
    "    unique_ct, unique_ratio =len(feature.unique()), len(feature.unique())/len(feature)\n",
    "    print('unique_ct : {}, unique_ratio : {:.2f}'.format(unique_ct, unique_ratio))\n",
    "    \n",
    "    if feature.dtypes in ['float','int64']:\n",
    "        feature_summarize= pd.DataFrame(feature.describe()).T\n",
    "        feature_summarize['skew'] = feature.skew()\n",
    "        feature_summarize['kurt'] = feature.kurt()\n",
    "        print(feature_summarize)\n",
    "\n",
    "        plt.figure(1,figsize=(6, 4))\n",
    "        plt.title(feature_name)\n",
    "        sns.distplot(feature, \n",
    "                     kde=False, \n",
    "                     fit=st.norm)\n",
    "\n",
    "        plt.figure(2,figsize=(6, 4))\n",
    "        res = st.probplot(feature,plot=plt)\n",
    "\n",
    "        plt.figure(3,figsize=(6, 4))\n",
    "        sns.boxplot(feature)\n",
    "        plt.show()\n",
    "        \n",
    "        plt.figure(4,figsize=(6, 4))\n",
    "        sns.jointplot(x=feature, y=target,kind='scatter',color='#0066CC')\n",
    "        plt.show()\n",
    "    else:\n",
    "        plt.figure(1,figsize=(8, 6))\n",
    "        sns.boxplot(x=feature, y=target,color='#0066CC')\n",
    "        plt.xticks(rotation=90)\n",
    "        plt.show()\n",
    "        \n",
    "class Model_Selecting:\n",
    "    def __init__(self ,alpha = 0.5):\n",
    "        self.model_set = {\n",
    "            'LinearRegression':LinearRegression(),\n",
    "            'Ridge':Ridge(alpha = alpha),\n",
    "            'Lasso':Lasso(alpha = alpha),\n",
    "            'ElasticNet':ElasticNet(alpha = alpha, l1_ratio=0.5)\n",
    "            \n",
    "        }\n",
    "    \n",
    "    def train_test_split(self, train_X, train_y, test_size, random_state):\n",
    "        self.x_train, self.x_test, self.y_train, self.y_test = train_test_split(\n",
    "            train_X, train_y, \n",
    "            test_size=test_size, \n",
    "            random_state=random_state\n",
    "        )\n",
    "    \n",
    "    def kpi(self, y_true, y_pred, reg=True):\n",
    "        if reg:\n",
    "            self.r2 = metrics.r2_score(y_true, y_pred)\n",
    "            self.mse = metrics.mean_squared_error(y_true, y_pred)\n",
    "            self.mae = metrics.mean_absolute_error(y_true, y_pred)\n",
    "            print('r2:{:.2f}, mse:{:,.2f}, mae:{:,.2f}'.format(self.r2, self.mse, self.mae))\n",
    "        \n",
    "    \n",
    "    def model_fit(self, model_name):\n",
    "        self.model = self.model_set[model_name]\n",
    "        self.model.fit(self.x_train, self.y_train)\n",
    "        y_train_pred = self.model.predict(self.x_train)\n",
    "        print('train data:')\n",
    "        self.kpi(self.y_train, y_train_pred)        \n",
    "        y_test_pred = self.model.predict(self.x_test)\n",
    "        print('test data:')\n",
    "        self.kpi(self.y_test, y_test_pred)"
   ]
  },
  {
   "cell_type": "code",
   "execution_count": 322,
   "metadata": {},
   "outputs": [
    {
     "name": "stdout",
     "output_type": "stream",
     "text": [
      "Path of read in data: C:\\Users\\User\\Desktop\\GitHub\\Projects\\SideProject\\03_Kaggle_House_Prices\\./data/house-prices.zip\n",
      "data_description.txt\n",
      "sample_submission.csv\n",
      "test.csv\n",
      "train.csv\n"
     ]
    }
   ],
   "source": [
    "DTImport = DataImport()\n",
    "DTImport.set_dir(data_path = './data/')\n",
    "DTImport.read_zip(filename = 'house-prices.zip')\n",
    "train = DTImport.read_zip_data(dataname = 'train.csv')\n",
    "test = DTImport.read_zip_data(dataname = 'test.csv')"
   ]
  },
  {
   "cell_type": "code",
   "execution_count": 323,
   "metadata": {},
   "outputs": [
    {
     "data": {
      "text/plain": [
       "Index(['Id', 'MSSubClass', 'MSZoning', 'LotFrontage', 'LotArea', 'Street',\n",
       "       'Alley', 'LotShape', 'LandContour', 'Utilities', 'LotConfig',\n",
       "       'LandSlope', 'Neighborhood', 'Condition1', 'Condition2', 'BldgType',\n",
       "       'HouseStyle', 'OverallQual', 'OverallCond', 'YearBuilt', 'YearRemodAdd',\n",
       "       'RoofStyle', 'RoofMatl', 'Exterior1st', 'Exterior2nd', 'MasVnrType',\n",
       "       'MasVnrArea', 'ExterQual', 'ExterCond', 'Foundation', 'BsmtQual',\n",
       "       'BsmtCond', 'BsmtExposure', 'BsmtFinType1', 'BsmtFinSF1',\n",
       "       'BsmtFinType2', 'BsmtFinSF2', 'BsmtUnfSF', 'TotalBsmtSF', 'Heating',\n",
       "       'HeatingQC', 'CentralAir', 'Electrical', '1stFlrSF', '2ndFlrSF',\n",
       "       'LowQualFinSF', 'GrLivArea', 'BsmtFullBath', 'BsmtHalfBath', 'FullBath',\n",
       "       'HalfBath', 'BedroomAbvGr', 'KitchenAbvGr', 'KitchenQual',\n",
       "       'TotRmsAbvGrd', 'Functional', 'Fireplaces', 'FireplaceQu', 'GarageType',\n",
       "       'GarageYrBlt', 'GarageFinish', 'GarageCars', 'GarageArea', 'GarageQual',\n",
       "       'GarageCond', 'PavedDrive', 'WoodDeckSF', 'OpenPorchSF',\n",
       "       'EnclosedPorch', '3SsnPorch', 'ScreenPorch', 'PoolArea', 'PoolQC',\n",
       "       'Fence', 'MiscFeature', 'MiscVal', 'MoSold', 'YrSold', 'SaleType',\n",
       "       'SaleCondition', 'SalePrice'],\n",
       "      dtype='object')"
      ]
     },
     "execution_count": 323,
     "metadata": {},
     "output_type": "execute_result"
    }
   ],
   "source": [
    "train_plt = train.copy()\n",
    "train_plt.drop([934, 1298, 297, 523, 581, 1061, 1190,495],axis=0,inplace=True)\n",
    "train_plt.columns"
   ]
  },
  {
   "cell_type": "code",
   "execution_count": 703,
   "metadata": {},
   "outputs": [
    {
     "name": "stdout",
     "output_type": "stream",
     "text": [
      "Type : object\n",
      "NA Ratio : 0.0\n",
      "Test NA Ratio : 0.0006854009595613434\n",
      "unique_ct : 16, unique_ratio : 0.01\n"
     ]
    },
    {
     "data": {
      "image/png": "[encoded data removed]",
      "text/plain": [
       "<Figure size 576x432 with 1 Axes>"
      ]
     },
     "metadata": {
      "needs_background": "light"
     },
     "output_type": "display_data"
    }
   ],
   "source": [
    "feature_name = 'Exterior2nd'\n",
    "feature_eda(feature_name = feature_name,train=train_plt,log1p=0,astype=[0,'object'])"
   ]
  },
  {
   "cell_type": "code",
   "execution_count": null,
   "metadata": {},
   "outputs": [],
   "source": []
  },
  {
   "cell_type": "code",
   "execution_count": 325,
   "metadata": {},
   "outputs": [],
   "source": [
    "index_drop=[934, 1298, 297, 523, 581, 1061, 1190,495]\n",
    "train.drop([934, 1298, 297, 523, 581, 1061, 1190,495],axis=0,inplace=True)"
   ]
  },
  {
   "cell_type": "code",
   "execution_count": 326,
   "metadata": {},
   "outputs": [
    {
     "name": "stdout",
     "output_type": "stream",
     "text": [
      "(1452, 79)\n",
      "(1459, 79)\n",
      "(2911, 79)\n"
     ]
    }
   ],
   "source": [
    "train_Y = train['SalePrice']\n",
    "train_id = train['Id']\n",
    "test_id = test['Id']\n",
    "train.drop(['SalePrice','Id'],axis=1,inplace=True)\n",
    "test.drop(['Id'],axis=1,inplace=True)\n",
    "print(train.shape)\n",
    "print(test.shape)\n",
    "train_num = train.shape[0]\n",
    "data = pd.concat([train,test],axis=0)\n",
    "print(data.shape)"
   ]
  },
  {
   "cell_type": "code",
   "execution_count": 327,
   "metadata": {},
   "outputs": [],
   "source": [
    "train_Y_log1p = np.log1p(train_Y)"
   ]
  },
  {
   "cell_type": "code",
   "execution_count": null,
   "metadata": {},
   "outputs": [],
   "source": []
  },
  {
   "cell_type": "code",
   "execution_count": 773,
   "metadata": {},
   "outputs": [],
   "source": [
    "data = pd.concat([train,test],axis=0)\n",
    "\n",
    "feature_drop=['Alley','Condition2','RoofMatl','ExterCond','BsmtFinSF2','BsmtUnfSF','Heating',\n",
    "              'LowQualFinSF','BsmtFullBath','BsmtHalfBath','HalfBath','BedroomAbvGr','KitchenAbvGr',\n",
    "              'Functional','GarageYrBlt','3SsnPorch','PoolArea','PoolQC','Fence','MiscFeature',\n",
    "              'MiscVal','Utilities']\n",
    "data.drop(feature_drop,axis=1,inplace=True)\n",
    "\n",
    "feature_astype_str=['MSSubClass','YearBuilt','YearRemodAdd','FullBath','MoSold','YrSold']\n",
    "feature_astype_float=['WoodDeckSF']\n",
    "# feature_astype_int=['GarageCars']\n",
    "for c in feature_astype_str:\n",
    "    data[c] = data[c].astype('str')\n",
    "for c in feature_astype_float:\n",
    "    data[c] = data[c].astype('float64')\n",
    "# for c in feature_astype_int:\n",
    "#     data[c] = data[c].astype('int')    "
   ]
  },
  {
   "cell_type": "code",
   "execution_count": 654,
   "metadata": {},
   "outputs": [
    {
     "data": {
      "text/plain": [
       "array([dtype('O'), dtype('float64'), dtype('int64')], dtype=object)"
      ]
     },
     "execution_count": 654,
     "metadata": {},
     "output_type": "execute_result"
    }
   ],
   "source": [
    "data.dtypes.unique()"
   ]
  },
  {
   "cell_type": "code",
   "execution_count": 659,
   "metadata": {},
   "outputs": [],
   "source": [
    "features_int = []\n",
    "features_float = []\n",
    "features_O = []\n",
    "for c in data.columns:\n",
    "    if data[c].dtypes == 'int64':\n",
    "        features_int.append(c)\n",
    "    elif data[c].dtypes == 'float':\n",
    "        features_float.append(c)\n",
    "    elif data[c].dtypes == 'O':\n",
    "        features_O.append(c)"
   ]
  },
  {
   "cell_type": "code",
   "execution_count": 516,
   "metadata": {},
   "outputs": [
    {
     "data": {
      "text/html": [
       "<div>\n",
       "<style scoped>\n",
       "    .dataframe tbody tr th:only-of-type {\n",
       "        vertical-align: middle;\n",
       "    }\n",
       "\n",
       "    .dataframe tbody tr th {\n",
       "        vertical-align: top;\n",
       "    }\n",
       "\n",
       "    .dataframe thead th {\n",
       "        text-align: right;\n",
       "    }\n",
       "</style>\n",
       "<table border=\"1\" class=\"dataframe\">\n",
       "  <thead>\n",
       "    <tr style=\"text-align: right;\">\n",
       "      <th></th>\n",
       "      <th>feature</th>\n",
       "      <th>spearman</th>\n",
       "    </tr>\n",
       "  </thead>\n",
       "  <tbody>\n",
       "    <tr>\n",
       "      <th>11</th>\n",
       "      <td>EnclosedPorch</td>\n",
       "      <td>-0.216289</td>\n",
       "    </tr>\n",
       "    <tr>\n",
       "      <th>12</th>\n",
       "      <td>ScreenPorch</td>\n",
       "      <td>0.098113</td>\n",
       "    </tr>\n",
       "    <tr>\n",
       "      <th>6</th>\n",
       "      <td>2ndFlrSF</td>\n",
       "      <td>0.293579</td>\n",
       "    </tr>\n",
       "    <tr>\n",
       "      <th>3</th>\n",
       "      <td>BsmtFinSF1</td>\n",
       "      <td>0.302922</td>\n",
       "    </tr>\n",
       "    <tr>\n",
       "      <th>9</th>\n",
       "      <td>WoodDeckSF</td>\n",
       "      <td>0.355893</td>\n",
       "    </tr>\n",
       "    <tr>\n",
       "      <th>0</th>\n",
       "      <td>LotFrontage</td>\n",
       "      <td>0.375820</td>\n",
       "    </tr>\n",
       "    <tr>\n",
       "      <th>2</th>\n",
       "      <td>MasVnrArea</td>\n",
       "      <td>0.414919</td>\n",
       "    </tr>\n",
       "    <tr>\n",
       "      <th>1</th>\n",
       "      <td>LotArea</td>\n",
       "      <td>0.459268</td>\n",
       "    </tr>\n",
       "    <tr>\n",
       "      <th>10</th>\n",
       "      <td>OpenPorchSF</td>\n",
       "      <td>0.482703</td>\n",
       "    </tr>\n",
       "    <tr>\n",
       "      <th>5</th>\n",
       "      <td>1stFlrSF</td>\n",
       "      <td>0.574918</td>\n",
       "    </tr>\n",
       "    <tr>\n",
       "      <th>4</th>\n",
       "      <td>TotalBsmtSF</td>\n",
       "      <td>0.604936</td>\n",
       "    </tr>\n",
       "    <tr>\n",
       "      <th>8</th>\n",
       "      <td>GarageArea</td>\n",
       "      <td>0.652730</td>\n",
       "    </tr>\n",
       "    <tr>\n",
       "      <th>7</th>\n",
       "      <td>GrLivArea</td>\n",
       "      <td>0.730530</td>\n",
       "    </tr>\n",
       "  </tbody>\n",
       "</table>\n",
       "</div>"
      ],
      "text/plain": [
       "          feature  spearman\n",
       "11  EnclosedPorch -0.216289\n",
       "12    ScreenPorch  0.098113\n",
       "6        2ndFlrSF  0.293579\n",
       "3      BsmtFinSF1  0.302922\n",
       "9      WoodDeckSF  0.355893\n",
       "0     LotFrontage  0.375820\n",
       "2      MasVnrArea  0.414919\n",
       "1         LotArea  0.459268\n",
       "10    OpenPorchSF  0.482703\n",
       "5        1stFlrSF  0.574918\n",
       "4     TotalBsmtSF  0.604936\n",
       "8      GarageArea  0.652730\n",
       "7       GrLivArea  0.730530"
      ]
     },
     "execution_count": 516,
     "metadata": {},
     "output_type": "execute_result"
    }
   ],
   "source": [
    "frame = data[:train_num]\n",
    "spr = pd.DataFrame()\n",
    "spr['feature'] = features_float\n",
    "spr['spearman'] = [frame[c].corr(train_Y, 'spearman') for c in features_float]\n",
    "spr = spr.sort_values('spearman')\n",
    "spr"
   ]
  },
  {
   "cell_type": "code",
   "execution_count": 517,
   "metadata": {},
   "outputs": [
    {
     "data": {
      "text/html": [
       "<div>\n",
       "<style scoped>\n",
       "    .dataframe tbody tr th:only-of-type {\n",
       "        vertical-align: middle;\n",
       "    }\n",
       "\n",
       "    .dataframe tbody tr th {\n",
       "        vertical-align: top;\n",
       "    }\n",
       "\n",
       "    .dataframe thead th {\n",
       "        text-align: right;\n",
       "    }\n",
       "</style>\n",
       "<table border=\"1\" class=\"dataframe\">\n",
       "  <thead>\n",
       "    <tr style=\"text-align: right;\">\n",
       "      <th></th>\n",
       "      <th>feature</th>\n",
       "      <th>spearman</th>\n",
       "    </tr>\n",
       "  </thead>\n",
       "  <tbody>\n",
       "    <tr>\n",
       "      <th>8</th>\n",
       "      <td>EnclosedPorch_&gt;</td>\n",
       "      <td>-0.225039</td>\n",
       "    </tr>\n",
       "    <tr>\n",
       "      <th>1</th>\n",
       "      <td>OverallCond</td>\n",
       "      <td>-0.132887</td>\n",
       "    </tr>\n",
       "    <tr>\n",
       "      <th>9</th>\n",
       "      <td>ScreenPorch_&gt;</td>\n",
       "      <td>0.094511</td>\n",
       "    </tr>\n",
       "    <tr>\n",
       "      <th>7</th>\n",
       "      <td>2ndFlrSF_&gt;</td>\n",
       "      <td>0.160331</td>\n",
       "    </tr>\n",
       "    <tr>\n",
       "      <th>10</th>\n",
       "      <td>WoodDeckSF_&gt;</td>\n",
       "      <td>0.328603</td>\n",
       "    </tr>\n",
       "    <tr>\n",
       "      <th>6</th>\n",
       "      <td>MasVnrArea_&gt;</td>\n",
       "      <td>0.383575</td>\n",
       "    </tr>\n",
       "    <tr>\n",
       "      <th>5</th>\n",
       "      <td>OpenPorchSF_&gt;</td>\n",
       "      <td>0.489502</td>\n",
       "    </tr>\n",
       "    <tr>\n",
       "      <th>3</th>\n",
       "      <td>Fireplaces</td>\n",
       "      <td>0.518146</td>\n",
       "    </tr>\n",
       "    <tr>\n",
       "      <th>2</th>\n",
       "      <td>TotRmsAbvGrd</td>\n",
       "      <td>0.531228</td>\n",
       "    </tr>\n",
       "    <tr>\n",
       "      <th>4</th>\n",
       "      <td>GarageCars</td>\n",
       "      <td>0.693877</td>\n",
       "    </tr>\n",
       "    <tr>\n",
       "      <th>0</th>\n",
       "      <td>OverallQual</td>\n",
       "      <td>0.810526</td>\n",
       "    </tr>\n",
       "  </tbody>\n",
       "</table>\n",
       "</div>"
      ],
      "text/plain": [
       "            feature  spearman\n",
       "8   EnclosedPorch_> -0.225039\n",
       "1       OverallCond -0.132887\n",
       "9     ScreenPorch_>  0.094511\n",
       "7        2ndFlrSF_>  0.160331\n",
       "10     WoodDeckSF_>  0.328603\n",
       "6      MasVnrArea_>  0.383575\n",
       "5     OpenPorchSF_>  0.489502\n",
       "3        Fireplaces  0.518146\n",
       "2      TotRmsAbvGrd  0.531228\n",
       "4        GarageCars  0.693877\n",
       "0       OverallQual  0.810526"
      ]
     },
     "execution_count": 517,
     "metadata": {},
     "output_type": "execute_result"
    }
   ],
   "source": [
    "frame = data[:train_num]\n",
    "spr = pd.DataFrame()\n",
    "spr['feature'] = features_int\n",
    "spr['spearman'] = [frame[c].corr(train_Y_log1p, 'spearman') for c in features_int]\n",
    "spr = spr.sort_values('spearman')\n",
    "spr"
   ]
  },
  {
   "cell_type": "code",
   "execution_count": 660,
   "metadata": {},
   "outputs": [
    {
     "data": {
      "text/html": [
       "<div>\n",
       "<style scoped>\n",
       "    .dataframe tbody tr th:only-of-type {\n",
       "        vertical-align: middle;\n",
       "    }\n",
       "\n",
       "    .dataframe tbody tr th {\n",
       "        vertical-align: top;\n",
       "    }\n",
       "\n",
       "    .dataframe thead th {\n",
       "        text-align: right;\n",
       "    }\n",
       "</style>\n",
       "<table border=\"1\" class=\"dataframe\">\n",
       "  <thead>\n",
       "    <tr style=\"text-align: right;\">\n",
       "      <th></th>\n",
       "      <th>feature</th>\n",
       "      <th>pval</th>\n",
       "      <th>disparity</th>\n",
       "    </tr>\n",
       "  </thead>\n",
       "  <tbody>\n",
       "    <tr>\n",
       "      <th>0</th>\n",
       "      <td>BsmtQual</td>\n",
       "      <td>3.882737e-190</td>\n",
       "      <td>436.134627</td>\n",
       "    </tr>\n",
       "    <tr>\n",
       "      <th>1</th>\n",
       "      <td>KitchenQual</td>\n",
       "      <td>1.251770e-188</td>\n",
       "      <td>432.661439</td>\n",
       "    </tr>\n",
       "    <tr>\n",
       "      <th>2</th>\n",
       "      <td>YearBuilt</td>\n",
       "      <td>6.197683e-137</td>\n",
       "      <td>313.629982</td>\n",
       "    </tr>\n",
       "    <tr>\n",
       "      <th>3</th>\n",
       "      <td>GarageType</td>\n",
       "      <td>2.232684e-123</td>\n",
       "      <td>282.414762</td>\n",
       "    </tr>\n",
       "    <tr>\n",
       "      <th>4</th>\n",
       "      <td>FireplaceQu</td>\n",
       "      <td>4.198316e-114</td>\n",
       "      <td>261.060017</td>\n",
       "    </tr>\n",
       "    <tr>\n",
       "      <th>5</th>\n",
       "      <td>Foundation</td>\n",
       "      <td>1.044735e-111</td>\n",
       "      <td>255.543182</td>\n",
       "    </tr>\n",
       "    <tr>\n",
       "      <th>6</th>\n",
       "      <td>YearRemodAdd</td>\n",
       "      <td>4.461655e-97</td>\n",
       "      <td>221.855234</td>\n",
       "    </tr>\n",
       "    <tr>\n",
       "      <th>7</th>\n",
       "      <td>BsmtFinType1</td>\n",
       "      <td>2.234191e-78</td>\n",
       "      <td>178.797758</td>\n",
       "    </tr>\n",
       "    <tr>\n",
       "      <th>8</th>\n",
       "      <td>MasVnrType</td>\n",
       "      <td>2.402751e-67</td>\n",
       "      <td>153.396587</td>\n",
       "    </tr>\n",
       "    <tr>\n",
       "      <th>9</th>\n",
       "      <td>MSZoning</td>\n",
       "      <td>5.479720e-56</td>\n",
       "      <td>127.243711</td>\n",
       "    </tr>\n",
       "    <tr>\n",
       "      <th>10</th>\n",
       "      <td>Exterior2nd</td>\n",
       "      <td>9.202644e-49</td>\n",
       "      <td>110.607179</td>\n",
       "    </tr>\n",
       "    <tr>\n",
       "      <th>11</th>\n",
       "      <td>BsmtExposure</td>\n",
       "      <td>1.225174e-47</td>\n",
       "      <td>108.018416</td>\n",
       "    </tr>\n",
       "    <tr>\n",
       "      <th>12</th>\n",
       "      <td>GarageCond</td>\n",
       "      <td>1.239734e-45</td>\n",
       "      <td>103.401432</td>\n",
       "    </tr>\n",
       "    <tr>\n",
       "      <th>13</th>\n",
       "      <td>GarageQual</td>\n",
       "      <td>3.032274e-44</td>\n",
       "      <td>100.204431</td>\n",
       "    </tr>\n",
       "    <tr>\n",
       "      <th>14</th>\n",
       "      <td>CentralAir</td>\n",
       "      <td>5.688376e-42</td>\n",
       "      <td>94.970149</td>\n",
       "    </tr>\n",
       "    <tr>\n",
       "      <th>15</th>\n",
       "      <td>SaleCondition</td>\n",
       "      <td>3.917925e-41</td>\n",
       "      <td>93.040427</td>\n",
       "    </tr>\n",
       "    <tr>\n",
       "      <th>16</th>\n",
       "      <td>SaleType</td>\n",
       "      <td>3.848003e-36</td>\n",
       "      <td>81.545509</td>\n",
       "    </tr>\n",
       "    <tr>\n",
       "      <th>17</th>\n",
       "      <td>PavedDrive</td>\n",
       "      <td>3.566559e-30</td>\n",
       "      <td>67.805952</td>\n",
       "    </tr>\n",
       "    <tr>\n",
       "      <th>18</th>\n",
       "      <td>LotShape</td>\n",
       "      <td>1.982849e-28</td>\n",
       "      <td>63.787848</td>\n",
       "    </tr>\n",
       "    <tr>\n",
       "      <th>19</th>\n",
       "      <td>BldgType</td>\n",
       "      <td>1.604144e-12</td>\n",
       "      <td>27.158431</td>\n",
       "    </tr>\n",
       "    <tr>\n",
       "      <th>20</th>\n",
       "      <td>RoofStyle</td>\n",
       "      <td>4.428463e-12</td>\n",
       "      <td>26.142969</td>\n",
       "    </tr>\n",
       "    <tr>\n",
       "      <th>21</th>\n",
       "      <td>LandContour</td>\n",
       "      <td>1.469461e-08</td>\n",
       "      <td>18.035785</td>\n",
       "    </tr>\n",
       "    <tr>\n",
       "      <th>22</th>\n",
       "      <td>LotConfig</td>\n",
       "      <td>6.046681e-07</td>\n",
       "      <td>14.318586</td>\n",
       "    </tr>\n",
       "    <tr>\n",
       "      <th>23</th>\n",
       "      <td>Street</td>\n",
       "      <td>1.092542e-01</td>\n",
       "      <td>2.214078</td>\n",
       "    </tr>\n",
       "    <tr>\n",
       "      <th>24</th>\n",
       "      <td>MoSold</td>\n",
       "      <td>3.568433e-01</td>\n",
       "      <td>1.030459</td>\n",
       "    </tr>\n",
       "    <tr>\n",
       "      <th>25</th>\n",
       "      <td>LandSlope</td>\n",
       "      <td>3.839321e-01</td>\n",
       "      <td>0.957290</td>\n",
       "    </tr>\n",
       "    <tr>\n",
       "      <th>26</th>\n",
       "      <td>YrSold</td>\n",
       "      <td>6.277812e-01</td>\n",
       "      <td>0.465564</td>\n",
       "    </tr>\n",
       "    <tr>\n",
       "      <th>27</th>\n",
       "      <td>BsmtFinType2</td>\n",
       "      <td>NaN</td>\n",
       "      <td>NaN</td>\n",
       "    </tr>\n",
       "  </tbody>\n",
       "</table>\n",
       "</div>"
      ],
      "text/plain": [
       "          feature           pval   disparity\n",
       "0        BsmtQual  3.882737e-190  436.134627\n",
       "1     KitchenQual  1.251770e-188  432.661439\n",
       "2       YearBuilt  6.197683e-137  313.629982\n",
       "3      GarageType  2.232684e-123  282.414762\n",
       "4     FireplaceQu  4.198316e-114  261.060017\n",
       "5      Foundation  1.044735e-111  255.543182\n",
       "6    YearRemodAdd   4.461655e-97  221.855234\n",
       "7    BsmtFinType1   2.234191e-78  178.797758\n",
       "8      MasVnrType   2.402751e-67  153.396587\n",
       "9        MSZoning   5.479720e-56  127.243711\n",
       "10    Exterior2nd   9.202644e-49  110.607179\n",
       "11   BsmtExposure   1.225174e-47  108.018416\n",
       "12     GarageCond   1.239734e-45  103.401432\n",
       "13     GarageQual   3.032274e-44  100.204431\n",
       "14     CentralAir   5.688376e-42   94.970149\n",
       "15  SaleCondition   3.917925e-41   93.040427\n",
       "16       SaleType   3.848003e-36   81.545509\n",
       "17     PavedDrive   3.566559e-30   67.805952\n",
       "18       LotShape   1.982849e-28   63.787848\n",
       "19       BldgType   1.604144e-12   27.158431\n",
       "20      RoofStyle   4.428463e-12   26.142969\n",
       "21    LandContour   1.469461e-08   18.035785\n",
       "22      LotConfig   6.046681e-07   14.318586\n",
       "23         Street   1.092542e-01    2.214078\n",
       "24         MoSold   3.568433e-01    1.030459\n",
       "25      LandSlope   3.839321e-01    0.957290\n",
       "26         YrSold   6.277812e-01    0.465564\n",
       "27   BsmtFinType2            NaN         NaN"
      ]
     },
     "execution_count": 660,
     "metadata": {},
     "output_type": "execute_result"
    }
   ],
   "source": [
    "frame = data[:train_num]\n",
    "anv = pd.DataFrame()\n",
    "anv['feature'] = features_O\n",
    "pvals = []\n",
    "for c in features_O:\n",
    "    samples = []\n",
    "    for cls in frame[c].unique():\n",
    "        s = train_Y_log1p[frame[c] == cls].values\n",
    "        samples.append(s)\n",
    "    pval = st.f_oneway(*samples)[1]\n",
    "    pvals.append(pval)\n",
    "anv['pval'] = pvals\n",
    "anv = anv.sort_values('pval').reset_index(drop=True)\n",
    "anv['disparity'] = np.log(1./anv['pval'].values)\n",
    "anv"
   ]
  },
  {
   "cell_type": "code",
   "execution_count": null,
   "metadata": {},
   "outputs": [],
   "source": []
  },
  {
   "cell_type": "code",
   "execution_count": 774,
   "metadata": {},
   "outputs": [],
   "source": [
    "data['GrLivArea'] = np.log1p(data['GrLivArea'])\n",
    "data['GarageArea'].fillna(0,inplace=True)\n",
    "data['TotalBsmtSF'].fillna(data['TotalBsmtSF'].median(),inplace=True)\n",
    "data['1stFlrSF'] = np.log1p(data['1stFlrSF'])\n",
    "data['OpenPorchSF'] = np.log1p(data['OpenPorchSF'])\n",
    "data['OpenPorchSF_>'] = (data['OpenPorchSF']>0).astype('int64')\n",
    "data['MasVnrArea'].fillna(0,inplace=True)\n",
    "data['MasVnrArea'] = np.log1p(data['MasVnrArea'])\n",
    "data['MasVnrArea_>'] = (data['MasVnrArea']>0).astype('int64')\n",
    "data['LotFrontage'].fillna(data['LotFrontage'].median(),inplace=True)\n",
    "data['BsmtFinSF1'].fillna(data['BsmtFinSF1'].median(),inplace=True)\n",
    "data['LotArea'] = np.log1p(data['LotArea'])\n",
    "data['2ndFlrSF'] = np.log1p(data['2ndFlrSF'])\n",
    "data['2ndFlrSF_>'] = (data['2ndFlrSF']>0).astype('int64')\n",
    "data['EnclosedPorch'] = np.log1p(data['EnclosedPorch'])\n",
    "data['EnclosedPorch_>'] = (data['EnclosedPorch']>0).astype('int64')\n",
    "data['ScreenPorch'] = np.log1p(data['ScreenPorch'])\n",
    "data['ScreenPorch_>'] = (data['ScreenPorch']>0).astype('int64')\n",
    "data['WoodDeckSF'] = np.log1p(data['WoodDeckSF'])\n",
    "data['WoodDeckSF_>'] = (data['WoodDeckSF']>0).astype('int64')\n",
    "\n",
    "\n",
    "data['GarageCars'].fillna(0,inplace=True)\n",
    "data['GarageCars'] = data['GarageCars'].astype('int64')\n",
    "data['TotRmsAbvGrd'][data['TotRmsAbvGrd']>10] =10"
   ]
  },
  {
   "cell_type": "code",
   "execution_count": 775,
   "metadata": {},
   "outputs": [],
   "source": [
    "na_NA=['MSZoning','Exterior2nd','MasVnrType','BsmtQual','BsmtExposure','BsmtFinType1','Electrical','KitchenQual',\n",
    "       'FireplaceQu','GarageType','GarageFinish','GarageQual','GarageCond','SaleType','BsmtCond']\n",
    "for c in na_NA:\n",
    "    data[c] = data[c].fillna('NA')\n",
    "\n",
    "replace_words={}\n",
    "replace_words['MSSubClass']={\n",
    "    \"['30','45','50','85','90','150','160','180','190']\":1,\n",
    "    \"['20','40','70','75','80']\":2,\n",
    "    \"['60','120']\":3\n",
    "}\n",
    "replace_words['Neighborhood']={\n",
    " 'Blmngtn': 194870.88235294117,\n",
    " 'Blueste': 137500.0,\n",
    " 'BrDale': 104493.75,\n",
    " 'BrkSide': 124834.05172413793,\n",
    " 'ClearCr': 212565.42857142858,\n",
    " 'CollgCr': 197965.77333333335,\n",
    " 'Crawfor': 210624.72549019608,\n",
    " 'Edwards': 128219.7,\n",
    " 'Gilbert': 192854.50632911394,\n",
    " 'IDOTRR': 100123.78378378379,\n",
    " 'MeadowV': 98576.4705882353,\n",
    " 'Mitchel': 156270.1224489796,\n",
    " 'NAmes': 145847.08,\n",
    " 'NPkVill': 142694.44444444444,\n",
    " 'NWAmes': 189050.0684931507,\n",
    " 'NoRidge': 335295.31707317074,\n",
    " 'NridgHt': 316270.6233766234,\n",
    " 'OldTown': 128225.30088495575,\n",
    " 'SWISU': 142591.36,\n",
    " 'Sawyer': 136793.13513513515,\n",
    " 'SawyerW': 186555.7966101695,\n",
    " 'Somerst': 225379.83720930232,\n",
    " 'StoneBr': 310499.0,\n",
    " 'Timber': 242247.44736842104,\n",
    " 'Veenker': 238772.72727272726}\n",
    "replace_words['Condition1']={\n",
    "    \"['Artery','RRAe','Feedr']\":1,\n",
    "    \"['RRAn','Norm','RRNe']\":2,\n",
    "    \"['RRNn','PosN','PosA']\":3\n",
    "}\n",
    "replace_words['HouseStyle']={'1.5Fin': 143116.74025974027,\n",
    " '1.5Unf': 110150.0,\n",
    " '1Story': 175985.4779614325,\n",
    " '2.5Fin': 220000.0,\n",
    " '2.5Unf': 157354.54545454544,\n",
    " '2Story': 210051.76404494382,\n",
    " 'SFoyer': 135074.48648648648,\n",
    " 'SLvl': 166703.38461538462}\n",
    "replace_words['Exterior1st']={\n",
    "    \"['BrkComm','AsphShn','CBlock','AsbShng','MetalSd','Wd Sdng']\":1,\n",
    "    \"['WdShing','Stucco','HdBoard','Plywood','BrkFace']\":2,\n",
    "    \"['VinylSd','CemntBd','Stone','ImStucc']\":3\n",
    "}\n",
    "replace_words['ExterQual']={\n",
    " 'Ex': 367360.96153846156,\n",
    " 'Fa': 87985.21428571429,\n",
    " 'Gd': 231633.51024590165,\n",
    " 'TA': 144341.31346578366}\n",
    "replace_words['BsmtCond']={\n",
    " 'Fa': 121809.53333333334,\n",
    " 'Gd': 213599.9076923077,\n",
    " 'NA': 105652.8918918919,\n",
    " 'Po': 64000.0,\n",
    " 'TA': 183632.6209000763}\n",
    "replace_words['HeatingQC']={\n",
    " 'Ex': 214914.42914979756,\n",
    " 'Fa': 123919.48979591837,\n",
    " 'Gd': 156858.87136929462,\n",
    " 'Po': 87000.0,\n",
    " 'TA': 142362.8761682243}\n",
    "replace_words['Electrical']={\n",
    "    \"['Mix','FuseP','FuseF','FuseA','NA']\":0,\n",
    "    \"SBrkr\":1\n",
    "}\n",
    "replace_words['FullBath']={\n",
    "    \"['0','1']\":0,\n",
    "    \"['2','3','4']\":1\n",
    "}\n",
    "replace_words['GarageFinish']={\n",
    " 'Fin': 240052.6903409091,\n",
    " 'NA': 103317.28395061729,\n",
    " 'RFn': 202068.86966824645,\n",
    " 'Unf': 142156.42314049587}\n",
    "\n",
    "for c in replace_words:\n",
    "    data[c] = data[c].astype('str')\n",
    "    data[c].replace(regex = replace_words[c],inplace=True)\n",
    "    data[c] = data[c].astype('float')"
   ]
  },
  {
   "cell_type": "code",
   "execution_count": 776,
   "metadata": {},
   "outputs": [
    {
     "data": {
      "text/plain": [
       "['MSZoning',\n",
       " 'Street',\n",
       " 'LotShape',\n",
       " 'LandContour',\n",
       " 'LotConfig',\n",
       " 'LandSlope',\n",
       " 'BldgType',\n",
       " 'YearBuilt',\n",
       " 'YearRemodAdd',\n",
       " 'RoofStyle',\n",
       " 'Exterior2nd',\n",
       " 'MasVnrType',\n",
       " 'Foundation',\n",
       " 'BsmtQual',\n",
       " 'BsmtExposure',\n",
       " 'BsmtFinType1',\n",
       " 'BsmtFinType2',\n",
       " 'CentralAir',\n",
       " 'KitchenQual',\n",
       " 'FireplaceQu',\n",
       " 'GarageType',\n",
       " 'GarageQual',\n",
       " 'GarageCond',\n",
       " 'PavedDrive',\n",
       " 'MoSold',\n",
       " 'YrSold',\n",
       " 'SaleType',\n",
       " 'SaleCondition']"
      ]
     },
     "execution_count": 776,
     "metadata": {},
     "output_type": "execute_result"
    }
   ],
   "source": [
    "features_O"
   ]
  },
  {
   "cell_type": "code",
   "execution_count": null,
   "metadata": {},
   "outputs": [],
   "source": []
  },
  {
   "cell_type": "code",
   "execution_count": 777,
   "metadata": {},
   "outputs": [],
   "source": [
    "features_float_final=['GrLivArea','GarageArea','TotalBsmtSF','1stFlrSF','OpenPorchSF','LotArea',\n",
    "                      'MasVnrArea','LotFrontage','BsmtFinSF1','2ndFlrSF','EnclosedPorch','ScreenPorch',\n",
    "                      'WoodDeckSF']\n",
    "features_int_final = ['OverallQual','GarageCars','TotRmsAbvGrd','Fireplaces','OverallCond',\n",
    "                      'MasVnrArea_>','OpenPorchSF_>','2ndFlrSF_>','EnclosedPorch_>','ScreenPorch_>','WoodDeckSF_>']\n",
    "features_O_final = ['BsmtQual','KitchenQual','GarageType','FireplaceQu','Foundation',\n",
    "                    'BsmtFinType1','MSZoning','Street','LotShape']\n",
    "features_O2digit_final=[]\n",
    "for c in replace_words:\n",
    "    features_O2digit_final.append(c)"
   ]
  },
  {
   "cell_type": "code",
   "execution_count": 778,
   "metadata": {},
   "outputs": [
    {
     "data": {
      "text/plain": [
       "(2911, 83)"
      ]
     },
     "execution_count": 778,
     "metadata": {},
     "output_type": "execute_result"
    }
   ],
   "source": [
    "data = pd.get_dummies(data[features_float_final+features_int_final+features_O2digit_final+features_O_final])\n",
    "data.shape"
   ]
  },
  {
   "cell_type": "code",
   "execution_count": 779,
   "metadata": {},
   "outputs": [],
   "source": [
    "MMscaler = MinMaxScaler()\n",
    "MMscaler.fit(data)\n",
    "data = MMscaler.transform(data)"
   ]
  },
  {
   "cell_type": "code",
   "execution_count": 780,
   "metadata": {},
   "outputs": [
    {
     "data": {
      "text/plain": [
       "(2911, 83)"
      ]
     },
     "execution_count": 780,
     "metadata": {},
     "output_type": "execute_result"
    }
   ],
   "source": [
    "data.shape"
   ]
  },
  {
   "cell_type": "code",
   "execution_count": 781,
   "metadata": {},
   "outputs": [
    {
     "name": "stdout",
     "output_type": "stream",
     "text": [
      "Explained Variance Ratio : 1.0\n"
     ]
    }
   ],
   "source": [
    "n= 83\n",
    "pca=PCA(n_components=n)\n",
    "pca.fit(data)\n",
    "data = pca.transform(data)\n",
    "print('Explained Variance Ratio : {}'.format(round(sum(pca.explained_variance_ratio_),3)))"
   ]
  },
  {
   "cell_type": "code",
   "execution_count": 782,
   "metadata": {},
   "outputs": [],
   "source": [
    "train_X_final = data[:train_num]\n",
    "test_X_final = data[train_num:]"
   ]
  },
  {
   "cell_type": "code",
   "execution_count": 783,
   "metadata": {},
   "outputs": [],
   "source": [
    "model_selecting = Model_Selecting(alpha=0.001)\n",
    "model_selecting.train_test_split(train_X=train_X_final,\n",
    "                                 train_y=train_Y_log1p,\n",
    "                                 test_size=0.3,\n",
    "                                 random_state=32\n",
    "                                 )"
   ]
  },
  {
   "cell_type": "code",
   "execution_count": 784,
   "metadata": {},
   "outputs": [
    {
     "name": "stdout",
     "output_type": "stream",
     "text": [
      "----LinearRegression----\n",
      "train data:\n",
      "r2:0.92, mse:0.01, mae:0.08\n",
      "test data:\n",
      "r2:0.91, mse:0.01, mae:0.08\n",
      "----Ridge----\n",
      "train data:\n",
      "r2:0.92, mse:0.01, mae:0.08\n",
      "test data:\n",
      "r2:0.91, mse:0.01, mae:0.08\n",
      "----Lasso----\n",
      "train data:\n",
      "r2:0.91, mse:0.02, mae:0.09\n",
      "test data:\n",
      "r2:0.89, mse:0.02, mae:0.09\n",
      "----ElasticNet----\n",
      "train data:\n",
      "r2:0.91, mse:0.01, mae:0.09\n",
      "test data:\n",
      "r2:0.90, mse:0.01, mae:0.09\n"
     ]
    }
   ],
   "source": [
    "for name in ['LinearRegression','Ridge','Lasso','ElasticNet']:\n",
    "    print('----{}----'.format(name))\n",
    "    model_selecting.model_fit(model_name=name)"
   ]
  },
  {
   "cell_type": "code",
   "execution_count": null,
   "metadata": {},
   "outputs": [],
   "source": []
  },
  {
   "cell_type": "code",
   "execution_count": 799,
   "metadata": {},
   "outputs": [
    {
     "data": {
      "text/plain": [
       "ElasticNet(alpha=0.01, copy_X=True, fit_intercept=True, l1_ratio=0.3,\n",
       "           max_iter=1000, normalize=False, positive=False, precompute=False,\n",
       "           random_state=None, selection='cyclic', tol=0.0001, warm_start=False)"
      ]
     },
     "execution_count": 799,
     "metadata": {},
     "output_type": "execute_result"
    }
   ],
   "source": [
    "# lr = LinearRegression()\n",
    "# lr = Ridge(alpha=0.001)\n",
    "# lr = Lasso(alpha = 0.1)\n",
    "lr = ElasticNet(alpha=0.01,l1_ratio=0.3)\n",
    "lr.fit(train_X_final, train_Y_log1p)"
   ]
  },
  {
   "cell_type": "code",
   "execution_count": 800,
   "metadata": {},
   "outputs": [],
   "source": [
    "y_pred = lr.predict(test_X_final)"
   ]
  },
  {
   "cell_type": "code",
   "execution_count": 801,
   "metadata": {},
   "outputs": [
    {
     "data": {
      "text/plain": [
       "array([122930.00576016, 154124.40253221, 198627.22992024, ...,\n",
       "       154943.20039641, 121906.55488134, 210444.38707688])"
      ]
     },
     "execution_count": 801,
     "metadata": {},
     "output_type": "execute_result"
    }
   ],
   "source": [
    "np.expm1(y_pred)"
   ]
  },
  {
   "cell_type": "code",
   "execution_count": 802,
   "metadata": {},
   "outputs": [],
   "source": [
    "submit = pd.DataFrame({'Id':test_id,'SalePrice':np.expm1(y_pred)})"
   ]
  },
  {
   "cell_type": "code",
   "execution_count": 803,
   "metadata": {},
   "outputs": [],
   "source": [
    "submit.to_csv('./submit/submit_20210724_10.csv',index=0)"
   ]
  },
  {
   "cell_type": "code",
   "execution_count": null,
   "metadata": {},
   "outputs": [],
   "source": []
  },
  {
   "cell_type": "code",
   "execution_count": 319,
   "metadata": {},
   "outputs": [
    {
     "data": {
      "text/plain": [
       "0       1\n",
       "1       0\n",
       "2       1\n",
       "3       0\n",
       "4       1\n",
       "       ..\n",
       "1454    0\n",
       "1455    0\n",
       "1456    0\n",
       "1457    0\n",
       "1458    1\n",
       "Name: MasVnrArea_>, Length: 2911, dtype: int64"
      ]
     },
     "execution_count": 319,
     "metadata": {},
     "output_type": "execute_result"
    }
   ],
   "source": [
    "data['MasVnrArea_>']"
   ]
  },
  {
   "cell_type": "code",
   "execution_count": 320,
   "metadata": {},
   "outputs": [
    {
     "data": {
      "text/plain": [
       "0       1\n",
       "1       0\n",
       "2       1\n",
       "3       0\n",
       "4       1\n",
       "       ..\n",
       "1454    0\n",
       "1455    0\n",
       "1456    0\n",
       "1457    0\n",
       "1458    1\n",
       "Name: OpenPorchSF_>, Length: 2911, dtype: int64"
      ]
     },
     "execution_count": 320,
     "metadata": {},
     "output_type": "execute_result"
    }
   ],
   "source": [
    "data['OpenPorchSF_>']"
   ]
  },
  {
   "cell_type": "code",
   "execution_count": null,
   "metadata": {},
   "outputs": [],
   "source": []
  },
  {
   "cell_type": "code",
   "execution_count": null,
   "metadata": {},
   "outputs": [],
   "source": []
  },
  {
   "cell_type": "code",
   "execution_count": null,
   "metadata": {},
   "outputs": [],
   "source": []
  },
  {
   "cell_type": "code",
   "execution_count": null,
   "metadata": {},
   "outputs": [],
   "source": []
  },
  {
   "cell_type": "code",
   "execution_count": null,
   "metadata": {},
   "outputs": [],
   "source": []
  },
  {
   "cell_type": "code",
   "execution_count": null,
   "metadata": {},
   "outputs": [],
   "source": []
  },
  {
   "cell_type": "code",
   "execution_count": null,
   "metadata": {},
   "outputs": [],
   "source": []
  },
  {
   "cell_type": "code",
   "execution_count": null,
   "metadata": {},
   "outputs": [],
   "source": []
  },
  {
   "cell_type": "code",
   "execution_count": 206,
   "metadata": {},
   "outputs": [],
   "source": [
    "from sklearn.linear_model import ElasticNet, Lasso,  BayesianRidge, LassoLarsIC\n",
    "from sklearn.ensemble import RandomForestRegressor,  GradientBoostingRegressor\n",
    "from sklearn.kernel_ridge import KernelRidge\n",
    "from sklearn.pipeline import make_pipeline\n",
    "from sklearn.preprocessing import RobustScaler\n",
    "from sklearn.base import BaseEstimator, TransformerMixin, RegressorMixin, clone\n",
    "from sklearn.model_selection import KFold, cross_val_score, train_test_split\n",
    "from sklearn.metrics import mean_squared_error"
   ]
  },
  {
   "cell_type": "code",
   "execution_count": 214,
   "metadata": {},
   "outputs": [],
   "source": [
    "#Validation function\n",
    "n_folds = 5\n",
    "\n",
    "def rmsle_cv(model):\n",
    "    kf = KFold(n_folds, shuffle=True, random_state=42).get_n_splits(train_X_final)\n",
    "    rmse= np.sqrt(-cross_val_score(model, train_X_final, train_Y_log1p.values, scoring=\"neg_mean_squared_error\", cv = kf))\n",
    "    return(rmse)"
   ]
  },
  {
   "cell_type": "code",
   "execution_count": 215,
   "metadata": {},
   "outputs": [
    {
     "name": "stdout",
     "output_type": "stream",
     "text": [
      "\n",
      "Lasso score: 0.1619 (0.0064)\n",
      "\n"
     ]
    }
   ],
   "source": [
    "lasso = make_pipeline(RobustScaler(), Lasso(alpha =0.0005, random_state=1))\n",
    "score = rmsle_cv(lasso)\n",
    "print(\"\\nLasso score: {:.4f} ({:.4f})\\n\".format(score.mean(), score.std()))"
   ]
  },
  {
   "cell_type": "code",
   "execution_count": 213,
   "metadata": {},
   "outputs": [
    {
     "data": {
      "text/plain": [
       "array([12.24769912, 12.10901644, 12.31717117, ..., 12.49313327,\n",
       "       11.86446927, 11.90159023])"
      ]
     },
     "execution_count": 213,
     "metadata": {},
     "output_type": "execute_result"
    }
   ],
   "source": [
    "train_Y_log1p.values"
   ]
  },
  {
   "cell_type": "code",
   "execution_count": null,
   "metadata": {},
   "outputs": [],
   "source": []
  }
 ],
 "metadata": {
  "kernelspec": {
   "display_name": "Python 3",
   "language": "python",
   "name": "python3"
  },
  "language_info": {
   "codemirror_mode": {
    "name": "ipython",
    "version": 3
   },
   "file_extension": ".py",
   "mimetype": "text/x-python",
   "name": "python",
   "nbconvert_exporter": "python",
   "pygments_lexer": "ipython3",
   "version": "3.7.6"
  }
 },
 "nbformat": 4,
 "nbformat_minor": 4
}
