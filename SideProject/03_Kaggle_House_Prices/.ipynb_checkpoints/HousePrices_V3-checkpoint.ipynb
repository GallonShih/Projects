{
 "cells": [
  {
   "cell_type": "code",
   "execution_count": 1,
   "metadata": {},
   "outputs": [],
   "source": [
    "#常用\n",
    "%matplotlib inline\n",
    "import numpy as np\n",
    "import pandas as pd\n",
    "import matplotlib.pyplot as plt\n",
    "import seaborn as sns # 另一個繪圖-樣式套件\n",
    "import warnings\n",
    "warnings.filterwarnings('ignore')\n",
    "\n",
    "#統計\n",
    "import scipy.stats as st\n",
    "\n",
    "#機器學習\n",
    "from sklearn.preprocessing import MinMaxScaler, StandardScaler\n",
    "from sklearn.decomposition import PCA\n",
    "from sklearn import metrics\n",
    "from sklearn.model_selection import train_test_split, KFold, cross_val_score\n",
    "from sklearn.linear_model import LinearRegression, Ridge, Lasso, ElasticNet\n",
    "\n",
    "#系統操作、解壓縮檔案\n",
    "import os\n",
    "from zipfile import ZipFile"
   ]
  },
  {
   "cell_type": "code",
   "execution_count": 2,
   "metadata": {},
   "outputs": [],
   "source": [
    "###資料匯入\n",
    "class DataImport:\n",
    "    def __init__(self):\n",
    "        self.data_dir = os.getcwd()\n",
    "    \n",
    "    #資料夾路徑\n",
    "    def set_dir(self, data_path):\n",
    "        self.data_dir = os.path.join(self.data_dir, data_path)\n",
    "    \n",
    "    #壓縮檔名 \n",
    "    def read_zip(self, filename):\n",
    "        self.file_path = os.path.join(self.data_dir, filename)\n",
    "        print('Path of read in data: %s' % (self.file_path))\n",
    "        myzip=ZipFile(self.file_path)\n",
    "        for i in myzip.filelist:\n",
    "            print(i.filename)\n",
    "        myzip.close()\n",
    "    \n",
    "    #讀取壓縮檔內的資料\n",
    "    def read_zip_data(self, dataname):\n",
    "        myzip=ZipFile(self.file_path)\n",
    "        f=myzip.open(dataname)\n",
    "        df=pd.read_csv(f)\n",
    "        f.close()\n",
    "        myzip.close()\n",
    "        return df\n",
    "\n",
    "def feature_eda(feature_name, log1p=0, astype=[0,'object']):\n",
    "    if log1p:\n",
    "        feature = np.log1p(train[feature_name])\n",
    "    else:\n",
    "        feature = train[feature_name]\n",
    "    if astype[0]:\n",
    "        feature = feature.astype(astype[1])\n",
    "    test_feature = test[feature_name]\n",
    "    target = train['SalePrice']\n",
    "\n",
    "    print('Type : {}'.format(feature.dtypes))\n",
    "    na_ratio = feature.isna().sum()/len(feature)\n",
    "    print('NA Ratio : {}'.format(na_ratio))\n",
    "    na_ratio = test_feature.isna().sum()/len(test_feature)\n",
    "    print('Test NA Ratio : {}'.format(na_ratio))\n",
    "    \n",
    "    unique_ct, unique_ratio =len(feature.unique()), len(feature.unique())/len(feature)\n",
    "    print('unique_ct : {}, unique_ratio : {:.2f}'.format(unique_ct, unique_ratio))\n",
    "    \n",
    "    if feature.dtypes in ['float','int64']:\n",
    "        feature_summarize= pd.DataFrame(feature.describe()).T\n",
    "        feature_summarize['skew'] = feature.skew()\n",
    "        feature_summarize['kurt'] = feature.kurt()\n",
    "        print(feature_summarize)\n",
    "\n",
    "        plt.figure(1,figsize=(6, 4))\n",
    "        plt.title(feature_name)\n",
    "        sns.distplot(feature, \n",
    "                     kde=False, \n",
    "                     fit=st.norm)\n",
    "\n",
    "        plt.figure(2,figsize=(6, 4))\n",
    "        res = st.probplot(feature,plot=plt)\n",
    "\n",
    "        plt.figure(3,figsize=(6, 4))\n",
    "        sns.boxplot(feature)\n",
    "        plt.show()\n",
    "        \n",
    "        plt.figure(4,figsize=(6, 4))\n",
    "        sns.jointplot(x=feature, y=target,kind='scatter',color='#0066CC')\n",
    "        plt.show()\n",
    "    else:\n",
    "        plt.figure(1,figsize=(8, 6))\n",
    "        sns.boxplot(x=feature, y=target,color='#0066CC')\n",
    "        plt.xticks(rotation=90)\n",
    "        plt.show()"
   ]
  },
  {
   "cell_type": "code",
   "execution_count": 314,
   "metadata": {},
   "outputs": [
    {
     "name": "stdout",
     "output_type": "stream",
     "text": [
      "Path of read in data: C:\\Users\\User\\Desktop\\GitHub\\Projects\\SideProject\\03_Kaggle_House_Prices\\./data/house-prices.zip\n",
      "data_description.txt\n",
      "sample_submission.csv\n",
      "test.csv\n",
      "train.csv\n"
     ]
    }
   ],
   "source": [
    "DTImport = DataImport()\n",
    "DTImport.set_dir(data_path = './data/')\n",
    "DTImport.read_zip(filename = 'house-prices.zip')\n",
    "train = DTImport.read_zip_data(dataname = 'train.csv')\n",
    "test = DTImport.read_zip_data(dataname = 'test.csv')"
   ]
  },
  {
   "cell_type": "code",
   "execution_count": null,
   "metadata": {},
   "outputs": [],
   "source": []
  },
  {
   "cell_type": "code",
   "execution_count": 315,
   "metadata": {},
   "outputs": [],
   "source": [
    "# features = pd.DataFrame(columns=['features','features_name','type','astype','drop_YN','outlier','missing_values','feature_engineer'])\n",
    "# features['features'] = train.columns\n",
    "# features.to_excel(r'Features_v3.xlsx',index=0)"
   ]
  },
  {
   "cell_type": "code",
   "execution_count": 316,
   "metadata": {},
   "outputs": [
    {
     "data": {
      "text/plain": [
       "Index(['Id', 'MSSubClass', 'MSZoning', 'LotFrontage', 'LotArea', 'Street',\n",
       "       'Alley', 'LotShape', 'LandContour', 'Utilities', 'LotConfig',\n",
       "       'LandSlope', 'Neighborhood', 'Condition1', 'Condition2', 'BldgType',\n",
       "       'HouseStyle', 'OverallQual', 'OverallCond', 'YearBuilt', 'YearRemodAdd',\n",
       "       'RoofStyle', 'RoofMatl', 'Exterior1st', 'Exterior2nd', 'MasVnrType',\n",
       "       'MasVnrArea', 'ExterQual', 'ExterCond', 'Foundation', 'BsmtQual',\n",
       "       'BsmtCond', 'BsmtExposure', 'BsmtFinType1', 'BsmtFinSF1',\n",
       "       'BsmtFinType2', 'BsmtFinSF2', 'BsmtUnfSF', 'TotalBsmtSF', 'Heating',\n",
       "       'HeatingQC', 'CentralAir', 'Electrical', '1stFlrSF', '2ndFlrSF',\n",
       "       'LowQualFinSF', 'GrLivArea', 'BsmtFullBath', 'BsmtHalfBath', 'FullBath',\n",
       "       'HalfBath', 'BedroomAbvGr', 'KitchenAbvGr', 'KitchenQual',\n",
       "       'TotRmsAbvGrd', 'Functional', 'Fireplaces', 'FireplaceQu', 'GarageType',\n",
       "       'GarageYrBlt', 'GarageFinish', 'GarageCars', 'GarageArea', 'GarageQual',\n",
       "       'GarageCond', 'PavedDrive', 'WoodDeckSF', 'OpenPorchSF',\n",
       "       'EnclosedPorch', '3SsnPorch', 'ScreenPorch', 'PoolArea', 'PoolQC',\n",
       "       'Fence', 'MiscFeature', 'MiscVal', 'MoSold', 'YrSold', 'SaleType',\n",
       "       'SaleCondition', 'SalePrice'],\n",
       "      dtype='object')"
      ]
     },
     "execution_count": 316,
     "metadata": {},
     "output_type": "execute_result"
    }
   ],
   "source": [
    "train.columns"
   ]
  },
  {
   "cell_type": "code",
   "execution_count": 248,
   "metadata": {},
   "outputs": [
    {
     "name": "stdout",
     "output_type": "stream",
     "text": [
      "Type : object\n",
      "NA Ratio : 0.025342465753424658\n",
      "Test NA Ratio : 0.030843043180260453\n",
      "unique_ct : 5, unique_ratio : 0.00\n"
     ]
    },
    {
     "data": {
      "image/png": "[encoded data removed]",
      "text/plain": [
       "<Figure size 576x432 with 1 Axes>"
      ]
     },
     "metadata": {
      "needs_background": "light"
     },
     "output_type": "display_data"
    }
   ],
   "source": [
    "feature_name = 'BsmtCond'\n",
    "feature_eda(feature_name = feature_name,log1p=0,astype=[0,'object'])"
   ]
  },
  {
   "cell_type": "code",
   "execution_count": null,
   "metadata": {},
   "outputs": [],
   "source": []
  },
  {
   "cell_type": "code",
   "execution_count": 249,
   "metadata": {},
   "outputs": [
    {
     "data": {
      "text/plain": [
       "Series([], dtype: object)"
      ]
     },
     "execution_count": 249,
     "metadata": {},
     "output_type": "execute_result"
    }
   ],
   "source": [
    "train_feature= pd.Series(train[feature_name].astype('object').unique())\n",
    "test_feature= pd.Series(test[feature_name].astype('object').unique())\n",
    "test_feature[-test_feature.isin(train_feature)]"
   ]
  },
  {
   "cell_type": "code",
   "execution_count": 250,
   "metadata": {},
   "outputs": [],
   "source": [
    "train02 = train.copy()\n",
    "train02.fillna('NA',inplace=True)"
   ]
  },
  {
   "cell_type": "code",
   "execution_count": 251,
   "metadata": {},
   "outputs": [],
   "source": [
    "# train02['type'] = train02[feature_name]>0\n",
    "# train02.groupby(['type'])['SalePrice'].agg(['mean','count']).sort_values(by = 'mean',ascending=False)"
   ]
  },
  {
   "cell_type": "code",
   "execution_count": 252,
   "metadata": {},
   "outputs": [
    {
     "data": {
      "text/html": [
       "<div>\n",
       "<style scoped>\n",
       "    .dataframe tbody tr th:only-of-type {\n",
       "        vertical-align: middle;\n",
       "    }\n",
       "\n",
       "    .dataframe tbody tr th {\n",
       "        vertical-align: top;\n",
       "    }\n",
       "\n",
       "    .dataframe thead th {\n",
       "        text-align: right;\n",
       "    }\n",
       "</style>\n",
       "<table border=\"1\" class=\"dataframe\">\n",
       "  <thead>\n",
       "    <tr style=\"text-align: right;\">\n",
       "      <th></th>\n",
       "      <th>mean</th>\n",
       "      <th>count</th>\n",
       "    </tr>\n",
       "    <tr>\n",
       "      <th>BsmtCond</th>\n",
       "      <th></th>\n",
       "      <th></th>\n",
       "    </tr>\n",
       "  </thead>\n",
       "  <tbody>\n",
       "    <tr>\n",
       "      <th>Gd</th>\n",
       "      <td>213599.907692</td>\n",
       "      <td>65</td>\n",
       "    </tr>\n",
       "    <tr>\n",
       "      <th>TA</th>\n",
       "      <td>183632.620900</td>\n",
       "      <td>1311</td>\n",
       "    </tr>\n",
       "    <tr>\n",
       "      <th>Fa</th>\n",
       "      <td>121809.533333</td>\n",
       "      <td>45</td>\n",
       "    </tr>\n",
       "    <tr>\n",
       "      <th>NA</th>\n",
       "      <td>105652.891892</td>\n",
       "      <td>37</td>\n",
       "    </tr>\n",
       "    <tr>\n",
       "      <th>Po</th>\n",
       "      <td>64000.000000</td>\n",
       "      <td>2</td>\n",
       "    </tr>\n",
       "  </tbody>\n",
       "</table>\n",
       "</div>"
      ],
      "text/plain": [
       "                   mean  count\n",
       "BsmtCond                      \n",
       "Gd        213599.907692     65\n",
       "TA        183632.620900   1311\n",
       "Fa        121809.533333     45\n",
       "NA        105652.891892     37\n",
       "Po         64000.000000      2"
      ]
     },
     "execution_count": 252,
     "metadata": {},
     "output_type": "execute_result"
    }
   ],
   "source": [
    "train02.groupby([feature_name])['SalePrice'].agg(['mean','count']).sort_values(by = 'mean',ascending=False)"
   ]
  },
  {
   "cell_type": "code",
   "execution_count": 253,
   "metadata": {},
   "outputs": [
    {
     "data": {
      "text/plain": [
       "{'Fa': 121809.53333333334,\n",
       " 'Gd': 213599.9076923077,\n",
       " 'NA': 105652.8918918919,\n",
       " 'Po': 64000.0,\n",
       " 'TA': 183632.6209000763}"
      ]
     },
     "execution_count": 253,
     "metadata": {},
     "output_type": "execute_result"
    }
   ],
   "source": [
    "train02.groupby([feature_name])['SalePrice'].mean().to_dict()"
   ]
  },
  {
   "cell_type": "code",
   "execution_count": 16,
   "metadata": {},
   "outputs": [
    {
     "data": {
      "text/plain": [
       "Int64Index([495], dtype='int64')"
      ]
     },
     "execution_count": 16,
     "metadata": {},
     "output_type": "execute_result"
    }
   ],
   "source": [
    "# train[feature_name][(train[feature_name]>1220)].index\n",
    "train[feature_name][(train[feature_name]>500)&(train['SalePrice']<100000)].index"
   ]
  },
  {
   "cell_type": "code",
   "execution_count": null,
   "metadata": {},
   "outputs": [],
   "source": []
  },
  {
   "cell_type": "code",
   "execution_count": 317,
   "metadata": {},
   "outputs": [],
   "source": [
    "feature_astype=['MSSubClass','YearBuilt','YearRemodAdd','FullBath','MoSold','YrSold']\n",
    "feature_astype_float=['WoodDeckSF']\n",
    "\n",
    "feature_drop=['Alley','Condition2','RoofMatl','ExterCond','BsmtFinSF2','BsmtUnfSF','Heating',\n",
    "              'LowQualFinSF','BsmtFullBath','BsmtHalfBath','HalfBath','BedroomAbvGr','KitchenAbvGr',\n",
    "              'Functional','GarageYrBlt','3SsnPorch','PoolArea','PoolQC','Fence','MiscFeature',\n",
    "              'MiscVal','Utilities']\n",
    "index_drop=[934, 1298, 297, 523, 581, 1061, 1190,495]\n",
    "\n",
    "feature_add=['BsmtFinSF1','TotalBsmtSF','2ndFlrSF','GarageArea','WoodDeckSF','OpenPorchSF','EnclosedPorch',\n",
    "             'ScreenPorch']\n",
    "feature_multi=['BsmtFinSF1','TotalBsmtSF','2ndFlrSF','GarageArea','WoodDeckSF','OpenPorchSF','EnclosedPorch',\n",
    "               'ScreenPorch']\n",
    "feature_limit=['TotRmsAbvGrd','GarageCars']\n",
    "\n",
    "na_median=['LotFrontage','BsmtFinSF1','TotalBsmtSF']\n",
    "na_0=['MasVnrArea','GarageCars','GarageArea']\n",
    "na_NA=['Exterior2nd','MasVnrType','BsmtQual','BsmtExposure','BsmtFinType1','Electrical','KitchenQual',\n",
    "       'FireplaceQu','GarageType','GarageFinish','GarageQual','GarageCond','SaleType','BsmtCond']\n",
    "\n",
    "feature_onehot=['MSZoning','Street','LotShape','LandContour','MasVnrType',\n",
    "                'LotConfig','LandSlope','BldgType','YearBuilt','YearRemodAdd',\n",
    "                'RoofStyle','Exterior2nd','Foundation','BsmtQual','BsmtExposure',\n",
    "                'BsmtFinType1','BsmtFinType2','CentralAir','KitchenQual','FireplaceQu',\n",
    "                'GarageType','GarageQual','GarageCond','PavedDrive','MoSold','YrSold','SaleType','SaleCondition']\n",
    "\n",
    "feature_lop1p=['LotFrontage','LotArea','MasVnrArea','BsmtFinSF1','TotalBsmtSF','1stFlrSF','2ndFlrSF',\n",
    "               'GrLivArea','GarageArea','WoodDeckSF','OpenPorchSF','EnclosedPorch','ScreenPorch']\n",
    "\n",
    "replace_words={}\n",
    "replace_words['MSSubClass']={\n",
    "    \"['30','45','50','85','90','150','160','180','190']\":1,\n",
    "    \"['20','40','70','75','80']\":2,\n",
    "    \"['60','120']\":3\n",
    "}\n",
    "replace_words['Neighborhood']={\n",
    " 'Blmngtn': 194870.88235294117,\n",
    " 'Blueste': 137500.0,\n",
    " 'BrDale': 104493.75,\n",
    " 'BrkSide': 124834.05172413793,\n",
    " 'ClearCr': 212565.42857142858,\n",
    " 'CollgCr': 197965.77333333335,\n",
    " 'Crawfor': 210624.72549019608,\n",
    " 'Edwards': 128219.7,\n",
    " 'Gilbert': 192854.50632911394,\n",
    " 'IDOTRR': 100123.78378378379,\n",
    " 'MeadowV': 98576.4705882353,\n",
    " 'Mitchel': 156270.1224489796,\n",
    " 'NAmes': 145847.08,\n",
    " 'NPkVill': 142694.44444444444,\n",
    " 'NWAmes': 189050.0684931507,\n",
    " 'NoRidge': 335295.31707317074,\n",
    " 'NridgHt': 316270.6233766234,\n",
    " 'OldTown': 128225.30088495575,\n",
    " 'SWISU': 142591.36,\n",
    " 'Sawyer': 136793.13513513515,\n",
    " 'SawyerW': 186555.7966101695,\n",
    " 'Somerst': 225379.83720930232,\n",
    " 'StoneBr': 310499.0,\n",
    " 'Timber': 242247.44736842104,\n",
    " 'Veenker': 238772.72727272726}\n",
    "replace_words['Condition1']={\n",
    "    \"['Artery','RRAe','Feedr']\":1,\n",
    "    \"['RRAn','Norm','RRNe']\":2,\n",
    "    \"['RRNn','PosN','PosA']\":3\n",
    "}\n",
    "replace_words['HouseStyle']={'1.5Fin': 143116.74025974027,\n",
    " '1.5Unf': 110150.0,\n",
    " '1Story': 175985.4779614325,\n",
    " '2.5Fin': 220000.0,\n",
    " '2.5Unf': 157354.54545454544,\n",
    " '2Story': 210051.76404494382,\n",
    " 'SFoyer': 135074.48648648648,\n",
    " 'SLvl': 166703.38461538462}\n",
    "replace_words['Exterior1st']={\n",
    "    \"['BrkComm','AsphShn','CBlock','AsbShng','MetalSd','Wd Sdng']\":1,\n",
    "    \"['WdShing','Stucco','HdBoard','Plywood','BrkFace']\":2,\n",
    "    \"['VinylSd','CemntBd','Stone','ImStucc']\":3\n",
    "}\n",
    "replace_words['ExterQual']={\n",
    " 'Ex': 367360.96153846156,\n",
    " 'Fa': 87985.21428571429,\n",
    " 'Gd': 231633.51024590165,\n",
    " 'TA': 144341.31346578366}\n",
    "replace_words['BsmtCond']={\n",
    " 'Fa': 121809.53333333334,\n",
    " 'Gd': 213599.9076923077,\n",
    " 'NA': 105652.8918918919,\n",
    " 'Po': 64000.0,\n",
    " 'TA': 183632.6209000763}\n",
    "replace_words['HeatingQC']={\n",
    " 'Ex': 214914.42914979756,\n",
    " 'Fa': 123919.48979591837,\n",
    " 'Gd': 156858.87136929462,\n",
    " 'Po': 87000.0,\n",
    " 'TA': 142362.8761682243}\n",
    "replace_words['Electrical']={\n",
    "    \"['Mix','FuseP','FuseF','FuseA','NA']\":0,\n",
    "    \"SBrkr\":1\n",
    "}\n",
    "replace_words['FullBath']={\n",
    "    \"['0','1']\":0,\n",
    "    \"['2','3','4']\":1\n",
    "}\n",
    "replace_words['GarageFinish']={\n",
    " 'Fin': 240052.6903409091,\n",
    " 'NA': 103317.28395061729,\n",
    " 'RFn': 202068.86966824645,\n",
    " 'Unf': 142156.42314049587}"
   ]
  },
  {
   "cell_type": "code",
   "execution_count": null,
   "metadata": {},
   "outputs": [],
   "source": []
  },
  {
   "cell_type": "code",
   "execution_count": 318,
   "metadata": {},
   "outputs": [],
   "source": [
    "train_id = train.Id\n",
    "test_id = test.Id\n",
    "train_Y = train.SalePrice"
   ]
  },
  {
   "cell_type": "code",
   "execution_count": 319,
   "metadata": {},
   "outputs": [],
   "source": [
    "train.drop(['Id','SalePrice'],axis=1,inplace=True)\n",
    "test.drop(['Id'],axis=1,inplace=True)"
   ]
  },
  {
   "cell_type": "code",
   "execution_count": 320,
   "metadata": {},
   "outputs": [],
   "source": [
    "data = pd.concat([train,test]).reset_index(drop=True)"
   ]
  },
  {
   "cell_type": "code",
   "execution_count": null,
   "metadata": {},
   "outputs": [],
   "source": []
  },
  {
   "cell_type": "code",
   "execution_count": 321,
   "metadata": {},
   "outputs": [],
   "source": [
    "data.drop(feature_drop,axis=1,inplace=True)"
   ]
  },
  {
   "cell_type": "code",
   "execution_count": 322,
   "metadata": {},
   "outputs": [],
   "source": [
    "for c in feature_astype:\n",
    "    data[c] = data[c].astype('str')\n",
    "for c in feature_astype_float:\n",
    "    data[c] = data[c].astype('float')"
   ]
  },
  {
   "cell_type": "code",
   "execution_count": 323,
   "metadata": {},
   "outputs": [],
   "source": [
    "for c in na_median:\n",
    "    data[c] = data[c].fillna(data[c].median())\n",
    "for c in na_0:\n",
    "    data[c] = data[c].fillna(0)\n",
    "for c in na_NA:\n",
    "    data[c] = data[c].fillna('NA')"
   ]
  },
  {
   "cell_type": "code",
   "execution_count": 324,
   "metadata": {},
   "outputs": [],
   "source": [
    "for c in feature_lop1p:\n",
    "    data[c] = np.log1p(data[c])"
   ]
  },
  {
   "cell_type": "code",
   "execution_count": 325,
   "metadata": {},
   "outputs": [],
   "source": [
    "for c in feature_add:\n",
    "    if c == 'BsmtFinSF1':\n",
    "        data[c+'_>'] = (data[c]>4).astype('int')\n",
    "    else:\n",
    "        data[c+'_>'] = (data[c]>0).astype('int')\n",
    "\n",
    "for c in feature_multi:\n",
    "    data[c] = data[c] * data[c+'_>']"
   ]
  },
  {
   "cell_type": "code",
   "execution_count": 326,
   "metadata": {},
   "outputs": [],
   "source": [
    "data['TotRmsAbvGrd'][data['TotRmsAbvGrd']>10] = 10\n",
    "data['TotRmsAbvGrd'] = data['TotRmsAbvGrd'].astype('int64')\n",
    "data['GarageCars'][data['GarageCars']>3] = 3\n",
    "data['GarageCars'] = data['GarageCars'].astype('int64')"
   ]
  },
  {
   "cell_type": "code",
   "execution_count": 327,
   "metadata": {},
   "outputs": [],
   "source": [
    "for c in replace_words:\n",
    "    data[c] = data[c].astype('str')\n",
    "    data[c].replace(regex = replace_words[c],inplace=True)"
   ]
  },
  {
   "cell_type": "code",
   "execution_count": 328,
   "metadata": {},
   "outputs": [],
   "source": [
    "data = pd.concat([data,pd.get_dummies(data.loc[:,feature_onehot])],axis=1)\n",
    "data.drop(feature_onehot,axis=1,inplace=True)"
   ]
  },
  {
   "cell_type": "code",
   "execution_count": 329,
   "metadata": {},
   "outputs": [],
   "source": [
    "for c in data.columns[data.dtypes=='uint8']:\n",
    "    data[c] = data[c].astype('int64')\n",
    "for c in data.columns[data.dtypes=='int32']:\n",
    "    data[c] = data[c].astype('int64')"
   ]
  },
  {
   "cell_type": "code",
   "execution_count": 330,
   "metadata": {},
   "outputs": [],
   "source": [
    "train_num = len(train_id)\n",
    "train_num -= len(index_drop)"
   ]
  },
  {
   "cell_type": "code",
   "execution_count": 331,
   "metadata": {},
   "outputs": [],
   "source": [
    "data.drop(index_drop,inplace= True)"
   ]
  },
  {
   "cell_type": "code",
   "execution_count": null,
   "metadata": {},
   "outputs": [],
   "source": []
  },
  {
   "cell_type": "code",
   "execution_count": null,
   "metadata": {},
   "outputs": [],
   "source": []
  },
  {
   "cell_type": "code",
   "execution_count": 332,
   "metadata": {},
   "outputs": [],
   "source": [
    "feature_numeric_needtrans = list(data.columns[data.dtypes=='float'].values)"
   ]
  },
  {
   "cell_type": "code",
   "execution_count": 339,
   "metadata": {},
   "outputs": [],
   "source": [
    "data_trans = data.copy()"
   ]
  },
  {
   "cell_type": "code",
   "execution_count": 340,
   "metadata": {},
   "outputs": [],
   "source": [
    "z_score = StandardScaler()\n",
    "z_score.fit(data_trans[feature_numeric_needtrans])\n",
    "data_trans[feature_numeric_needtrans] = z_score.transform(data_trans[feature_numeric_needtrans])"
   ]
  },
  {
   "cell_type": "code",
   "execution_count": 341,
   "metadata": {},
   "outputs": [],
   "source": [
    "MMscaler = MinMaxScaler()\n",
    "MMscaler.fit(data_trans[feature_numeric_needtrans])\n",
    "data_trans[feature_numeric_needtrans] = MMscaler.transform(data_trans[feature_numeric_needtrans])"
   ]
  },
  {
   "cell_type": "code",
   "execution_count": 342,
   "metadata": {},
   "outputs": [
    {
     "data": {
      "text/html": [
       "<div>\n",
       "<style scoped>\n",
       "    .dataframe tbody tr th:only-of-type {\n",
       "        vertical-align: middle;\n",
       "    }\n",
       "\n",
       "    .dataframe tbody tr th {\n",
       "        vertical-align: top;\n",
       "    }\n",
       "\n",
       "    .dataframe thead th {\n",
       "        text-align: right;\n",
       "    }\n",
       "</style>\n",
       "<table border=\"1\" class=\"dataframe\">\n",
       "  <thead>\n",
       "    <tr style=\"text-align: right;\">\n",
       "      <th></th>\n",
       "      <th>MSSubClass</th>\n",
       "      <th>LotFrontage</th>\n",
       "      <th>LotArea</th>\n",
       "      <th>Neighborhood</th>\n",
       "      <th>Condition1</th>\n",
       "      <th>HouseStyle</th>\n",
       "      <th>OverallQual</th>\n",
       "      <th>OverallCond</th>\n",
       "      <th>Exterior1st</th>\n",
       "      <th>MasVnrArea</th>\n",
       "      <th>...</th>\n",
       "      <th>SaleType_NA</th>\n",
       "      <th>SaleType_New</th>\n",
       "      <th>SaleType_Oth</th>\n",
       "      <th>SaleType_WD</th>\n",
       "      <th>SaleCondition_Abnorml</th>\n",
       "      <th>SaleCondition_AdjLand</th>\n",
       "      <th>SaleCondition_Alloca</th>\n",
       "      <th>SaleCondition_Family</th>\n",
       "      <th>SaleCondition_Normal</th>\n",
       "      <th>SaleCondition_Partial</th>\n",
       "    </tr>\n",
       "  </thead>\n",
       "  <tbody>\n",
       "    <tr>\n",
       "      <th>0</th>\n",
       "      <td>1</td>\n",
       "      <td>0.496601</td>\n",
       "      <td>0.366271</td>\n",
       "      <td>0.419862</td>\n",
       "      <td>1</td>\n",
       "      <td>0.909438</td>\n",
       "      <td>7</td>\n",
       "      <td>5</td>\n",
       "      <td>1</td>\n",
       "      <td>0.730823</td>\n",
       "      <td>...</td>\n",
       "      <td>0</td>\n",
       "      <td>0</td>\n",
       "      <td>0</td>\n",
       "      <td>1</td>\n",
       "      <td>0</td>\n",
       "      <td>0</td>\n",
       "      <td>0</td>\n",
       "      <td>0</td>\n",
       "      <td>1</td>\n",
       "      <td>0</td>\n",
       "    </tr>\n",
       "    <tr>\n",
       "      <th>1</th>\n",
       "      <td>1</td>\n",
       "      <td>0.589174</td>\n",
       "      <td>0.391245</td>\n",
       "      <td>0.592248</td>\n",
       "      <td>1</td>\n",
       "      <td>0.599322</td>\n",
       "      <td>6</td>\n",
       "      <td>8</td>\n",
       "      <td>1</td>\n",
       "      <td>0.000000</td>\n",
       "      <td>...</td>\n",
       "      <td>0</td>\n",
       "      <td>0</td>\n",
       "      <td>0</td>\n",
       "      <td>1</td>\n",
       "      <td>0</td>\n",
       "      <td>0</td>\n",
       "      <td>0</td>\n",
       "      <td>0</td>\n",
       "      <td>1</td>\n",
       "      <td>0</td>\n",
       "    </tr>\n",
       "    <tr>\n",
       "      <th>2</th>\n",
       "      <td>1</td>\n",
       "      <td>0.516695</td>\n",
       "      <td>0.422289</td>\n",
       "      <td>0.419862</td>\n",
       "      <td>1</td>\n",
       "      <td>0.909438</td>\n",
       "      <td>7</td>\n",
       "      <td>5</td>\n",
       "      <td>1</td>\n",
       "      <td>0.704616</td>\n",
       "      <td>...</td>\n",
       "      <td>0</td>\n",
       "      <td>0</td>\n",
       "      <td>0</td>\n",
       "      <td>1</td>\n",
       "      <td>0</td>\n",
       "      <td>0</td>\n",
       "      <td>0</td>\n",
       "      <td>0</td>\n",
       "      <td>1</td>\n",
       "      <td>0</td>\n",
       "    </tr>\n",
       "    <tr>\n",
       "      <th>3</th>\n",
       "      <td>1</td>\n",
       "      <td>0.460990</td>\n",
       "      <td>0.390223</td>\n",
       "      <td>0.473339</td>\n",
       "      <td>1</td>\n",
       "      <td>0.909438</td>\n",
       "      <td>7</td>\n",
       "      <td>5</td>\n",
       "      <td>1</td>\n",
       "      <td>0.000000</td>\n",
       "      <td>...</td>\n",
       "      <td>0</td>\n",
       "      <td>0</td>\n",
       "      <td>0</td>\n",
       "      <td>1</td>\n",
       "      <td>1</td>\n",
       "      <td>0</td>\n",
       "      <td>0</td>\n",
       "      <td>0</td>\n",
       "      <td>0</td>\n",
       "      <td>0</td>\n",
       "    </tr>\n",
       "    <tr>\n",
       "      <th>4</th>\n",
       "      <td>1</td>\n",
       "      <td>0.610962</td>\n",
       "      <td>0.468694</td>\n",
       "      <td>1.000000</td>\n",
       "      <td>1</td>\n",
       "      <td>0.909438</td>\n",
       "      <td>8</td>\n",
       "      <td>5</td>\n",
       "      <td>1</td>\n",
       "      <td>0.810720</td>\n",
       "      <td>...</td>\n",
       "      <td>0</td>\n",
       "      <td>0</td>\n",
       "      <td>0</td>\n",
       "      <td>1</td>\n",
       "      <td>0</td>\n",
       "      <td>0</td>\n",
       "      <td>0</td>\n",
       "      <td>0</td>\n",
       "      <td>1</td>\n",
       "      <td>0</td>\n",
       "    </tr>\n",
       "    <tr>\n",
       "      <th>...</th>\n",
       "      <td>...</td>\n",
       "      <td>...</td>\n",
       "      <td>...</td>\n",
       "      <td>...</td>\n",
       "      <td>...</td>\n",
       "      <td>...</td>\n",
       "      <td>...</td>\n",
       "      <td>...</td>\n",
       "      <td>...</td>\n",
       "      <td>...</td>\n",
       "      <td>...</td>\n",
       "      <td>...</td>\n",
       "      <td>...</td>\n",
       "      <td>...</td>\n",
       "      <td>...</td>\n",
       "      <td>...</td>\n",
       "      <td>...</td>\n",
       "      <td>...</td>\n",
       "      <td>...</td>\n",
       "      <td>...</td>\n",
       "      <td>...</td>\n",
       "    </tr>\n",
       "    <tr>\n",
       "      <th>2914</th>\n",
       "      <td>1</td>\n",
       "      <td>0.000000</td>\n",
       "      <td>0.077909</td>\n",
       "      <td>0.000000</td>\n",
       "      <td>1</td>\n",
       "      <td>0.909438</td>\n",
       "      <td>4</td>\n",
       "      <td>7</td>\n",
       "      <td>1</td>\n",
       "      <td>0.000000</td>\n",
       "      <td>...</td>\n",
       "      <td>0</td>\n",
       "      <td>0</td>\n",
       "      <td>0</td>\n",
       "      <td>1</td>\n",
       "      <td>0</td>\n",
       "      <td>0</td>\n",
       "      <td>0</td>\n",
       "      <td>0</td>\n",
       "      <td>1</td>\n",
       "      <td>0</td>\n",
       "    </tr>\n",
       "    <tr>\n",
       "      <th>2915</th>\n",
       "      <td>1</td>\n",
       "      <td>0.000000</td>\n",
       "      <td>0.073617</td>\n",
       "      <td>0.000000</td>\n",
       "      <td>1</td>\n",
       "      <td>0.909438</td>\n",
       "      <td>4</td>\n",
       "      <td>5</td>\n",
       "      <td>1</td>\n",
       "      <td>0.000000</td>\n",
       "      <td>...</td>\n",
       "      <td>0</td>\n",
       "      <td>0</td>\n",
       "      <td>0</td>\n",
       "      <td>1</td>\n",
       "      <td>1</td>\n",
       "      <td>0</td>\n",
       "      <td>0</td>\n",
       "      <td>0</td>\n",
       "      <td>0</td>\n",
       "      <td>0</td>\n",
       "    </tr>\n",
       "    <tr>\n",
       "      <th>2916</th>\n",
       "      <td>1</td>\n",
       "      <td>0.899695</td>\n",
       "      <td>0.534906</td>\n",
       "      <td>0.243722</td>\n",
       "      <td>1</td>\n",
       "      <td>0.599322</td>\n",
       "      <td>5</td>\n",
       "      <td>7</td>\n",
       "      <td>1</td>\n",
       "      <td>0.000000</td>\n",
       "      <td>...</td>\n",
       "      <td>0</td>\n",
       "      <td>0</td>\n",
       "      <td>0</td>\n",
       "      <td>1</td>\n",
       "      <td>1</td>\n",
       "      <td>0</td>\n",
       "      <td>0</td>\n",
       "      <td>0</td>\n",
       "      <td>0</td>\n",
       "      <td>0</td>\n",
       "    </tr>\n",
       "    <tr>\n",
       "      <th>2917</th>\n",
       "      <td>1</td>\n",
       "      <td>0.475573</td>\n",
       "      <td>0.407682</td>\n",
       "      <td>0.243722</td>\n",
       "      <td>1</td>\n",
       "      <td>0.226896</td>\n",
       "      <td>5</td>\n",
       "      <td>5</td>\n",
       "      <td>1</td>\n",
       "      <td>0.000000</td>\n",
       "      <td>...</td>\n",
       "      <td>0</td>\n",
       "      <td>0</td>\n",
       "      <td>0</td>\n",
       "      <td>1</td>\n",
       "      <td>0</td>\n",
       "      <td>0</td>\n",
       "      <td>0</td>\n",
       "      <td>0</td>\n",
       "      <td>1</td>\n",
       "      <td>0</td>\n",
       "    </tr>\n",
       "    <tr>\n",
       "      <th>2918</th>\n",
       "      <td>1</td>\n",
       "      <td>0.554385</td>\n",
       "      <td>0.391795</td>\n",
       "      <td>0.243722</td>\n",
       "      <td>1</td>\n",
       "      <td>0.909438</td>\n",
       "      <td>7</td>\n",
       "      <td>5</td>\n",
       "      <td>1</td>\n",
       "      <td>0.629936</td>\n",
       "      <td>...</td>\n",
       "      <td>0</td>\n",
       "      <td>0</td>\n",
       "      <td>0</td>\n",
       "      <td>1</td>\n",
       "      <td>0</td>\n",
       "      <td>0</td>\n",
       "      <td>0</td>\n",
       "      <td>0</td>\n",
       "      <td>1</td>\n",
       "      <td>0</td>\n",
       "    </tr>\n",
       "  </tbody>\n",
       "</table>\n",
       "<p>2911 rows × 369 columns</p>\n",
       "</div>"
      ],
      "text/plain": [
       "      MSSubClass  LotFrontage   LotArea  Neighborhood  Condition1  HouseStyle  \\\n",
       "0              1     0.496601  0.366271      0.419862           1    0.909438   \n",
       "1              1     0.589174  0.391245      0.592248           1    0.599322   \n",
       "2              1     0.516695  0.422289      0.419862           1    0.909438   \n",
       "3              1     0.460990  0.390223      0.473339           1    0.909438   \n",
       "4              1     0.610962  0.468694      1.000000           1    0.909438   \n",
       "...          ...          ...       ...           ...         ...         ...   \n",
       "2914           1     0.000000  0.077909      0.000000           1    0.909438   \n",
       "2915           1     0.000000  0.073617      0.000000           1    0.909438   \n",
       "2916           1     0.899695  0.534906      0.243722           1    0.599322   \n",
       "2917           1     0.475573  0.407682      0.243722           1    0.226896   \n",
       "2918           1     0.554385  0.391795      0.243722           1    0.909438   \n",
       "\n",
       "      OverallQual  OverallCond  Exterior1st  MasVnrArea  ...  SaleType_NA  \\\n",
       "0               7            5            1    0.730823  ...            0   \n",
       "1               6            8            1    0.000000  ...            0   \n",
       "2               7            5            1    0.704616  ...            0   \n",
       "3               7            5            1    0.000000  ...            0   \n",
       "4               8            5            1    0.810720  ...            0   \n",
       "...           ...          ...          ...         ...  ...          ...   \n",
       "2914            4            7            1    0.000000  ...            0   \n",
       "2915            4            5            1    0.000000  ...            0   \n",
       "2916            5            7            1    0.000000  ...            0   \n",
       "2917            5            5            1    0.000000  ...            0   \n",
       "2918            7            5            1    0.629936  ...            0   \n",
       "\n",
       "      SaleType_New  SaleType_Oth  SaleType_WD  SaleCondition_Abnorml  \\\n",
       "0                0             0            1                      0   \n",
       "1                0             0            1                      0   \n",
       "2                0             0            1                      0   \n",
       "3                0             0            1                      1   \n",
       "4                0             0            1                      0   \n",
       "...            ...           ...          ...                    ...   \n",
       "2914             0             0            1                      0   \n",
       "2915             0             0            1                      1   \n",
       "2916             0             0            1                      1   \n",
       "2917             0             0            1                      0   \n",
       "2918             0             0            1                      0   \n",
       "\n",
       "      SaleCondition_AdjLand  SaleCondition_Alloca  SaleCondition_Family  \\\n",
       "0                         0                     0                     0   \n",
       "1                         0                     0                     0   \n",
       "2                         0                     0                     0   \n",
       "3                         0                     0                     0   \n",
       "4                         0                     0                     0   \n",
       "...                     ...                   ...                   ...   \n",
       "2914                      0                     0                     0   \n",
       "2915                      0                     0                     0   \n",
       "2916                      0                     0                     0   \n",
       "2917                      0                     0                     0   \n",
       "2918                      0                     0                     0   \n",
       "\n",
       "      SaleCondition_Normal  SaleCondition_Partial  \n",
       "0                        1                      0  \n",
       "1                        1                      0  \n",
       "2                        1                      0  \n",
       "3                        0                      0  \n",
       "4                        1                      0  \n",
       "...                    ...                    ...  \n",
       "2914                     1                      0  \n",
       "2915                     0                      0  \n",
       "2916                     0                      0  \n",
       "2917                     1                      0  \n",
       "2918                     1                      0  \n",
       "\n",
       "[2911 rows x 369 columns]"
      ]
     },
     "execution_count": 342,
     "metadata": {},
     "output_type": "execute_result"
    }
   ],
   "source": [
    "data_trans"
   ]
  },
  {
   "cell_type": "code",
   "execution_count": 398,
   "metadata": {},
   "outputs": [
    {
     "name": "stdout",
     "output_type": "stream",
     "text": [
      "[0.2043 0.0832]\n",
      "Explained Variance Ratio : 1.0\n"
     ]
    }
   ],
   "source": [
    "# n= 369\n",
    "# pca=PCA(n_components=n)\n",
    "# pca.fit(data_trans)\n",
    "# data_trans_pca = pca.transform(data_trans)\n",
    "# print(np.round(pca.explained_variance_ratio_, 4)[:2])\n",
    "# print('Explained Variance Ratio : {}'.format(round(sum(pca.explained_variance_ratio_),3)))"
   ]
  },
  {
   "cell_type": "code",
   "execution_count": 411,
   "metadata": {},
   "outputs": [],
   "source": [
    "data_trans_pca = data_trans.copy()"
   ]
  },
  {
   "cell_type": "code",
   "execution_count": 412,
   "metadata": {},
   "outputs": [
    {
     "data": {
      "text/plain": [
       "(2911, 369)"
      ]
     },
     "execution_count": 412,
     "metadata": {},
     "output_type": "execute_result"
    }
   ],
   "source": [
    "data_trans_pca.shape"
   ]
  },
  {
   "cell_type": "code",
   "execution_count": null,
   "metadata": {},
   "outputs": [],
   "source": []
  },
  {
   "cell_type": "code",
   "execution_count": 413,
   "metadata": {},
   "outputs": [],
   "source": [
    "train_X = data_trans_pca[:train_num]"
   ]
  },
  {
   "cell_type": "code",
   "execution_count": 414,
   "metadata": {},
   "outputs": [],
   "source": [
    "test_X = data_trans_pca[train_num:]"
   ]
  },
  {
   "cell_type": "code",
   "execution_count": 415,
   "metadata": {},
   "outputs": [],
   "source": [
    "# train_Y.drop(index_drop,inplace=True)\n",
    "# train_Y = np.log1p(train_Y)"
   ]
  },
  {
   "cell_type": "code",
   "execution_count": null,
   "metadata": {},
   "outputs": [],
   "source": []
  },
  {
   "cell_type": "code",
   "execution_count": 416,
   "metadata": {},
   "outputs": [],
   "source": [
    "class Model_Selecting:\n",
    "    def __init__(self ,alpha = 0.5):\n",
    "        self.model_set = {\n",
    "            'LinearRegression':LinearRegression(),\n",
    "            'Ridge':Ridge(alpha = alpha),\n",
    "            'Lasso':Lasso(alpha = alpha),\n",
    "            'ElasticNet':ElasticNet(alpha = alpha, l1_ratio=0.5)\n",
    "            \n",
    "        }\n",
    "    \n",
    "    def train_test_split(self, train_X, train_y, test_size, random_state):\n",
    "        self.x_train, self.x_test, self.y_train, self.y_test = train_test_split(\n",
    "            train_X, train_y, \n",
    "            test_size=test_size, \n",
    "            random_state=random_state\n",
    "        )\n",
    "    \n",
    "    def kpi(self, y_true, y_pred, reg=True):\n",
    "        if reg:\n",
    "            self.r2 = metrics.r2_score(y_true, y_pred)\n",
    "            self.mse = metrics.mean_squared_error(y_true, y_pred)\n",
    "            self.mae = metrics.mean_absolute_error(y_true, y_pred)\n",
    "            print('r2:{:.2f}, mse:{:,.2f}, mae:{:,.2f}'.format(self.r2, self.mse, self.mae))\n",
    "        \n",
    "    \n",
    "    def model_fit(self, model_name):\n",
    "        self.model = self.model_set[model_name]\n",
    "        self.model.fit(self.x_train, self.y_train)\n",
    "        y_train_pred = self.model.predict(self.x_train)\n",
    "        print('train data:')\n",
    "        self.kpi(self.y_train, y_train_pred)        \n",
    "        y_test_pred = self.model.predict(self.x_test)\n",
    "        print('test data:')\n",
    "        self.kpi(self.y_test, y_test_pred)"
   ]
  },
  {
   "cell_type": "code",
   "execution_count": 417,
   "metadata": {},
   "outputs": [],
   "source": [
    "model_selecting = Model_Selecting(alpha=0.1)\n",
    "model_selecting.train_test_split(train_X=train_X,\n",
    "                                 train_y=train_Y,\n",
    "                                 test_size=0.3,\n",
    "                                 random_state=32\n",
    "                                 )"
   ]
  },
  {
   "cell_type": "code",
   "execution_count": 418,
   "metadata": {},
   "outputs": [
    {
     "name": "stdout",
     "output_type": "stream",
     "text": [
      "----LinearRegression----\n",
      "train data:\n",
      "r2:0.95, mse:0.01, mae:0.06\n",
      "test data:\n",
      "r2:-464185978196464.94, mse:68,557,954,018,931.58, mae:757,503.17\n",
      "----Ridge----\n",
      "train data:\n",
      "r2:0.95, mse:0.01, mae:0.06\n",
      "test data:\n",
      "r2:0.89, mse:0.02, mae:0.09\n",
      "----Lasso----\n",
      "train data:\n",
      "r2:0.68, mse:0.05, mae:0.17\n",
      "test data:\n",
      "r2:0.67, mse:0.05, mae:0.17\n",
      "----ElasticNet----\n",
      "train data:\n",
      "r2:0.74, mse:0.04, mae:0.15\n",
      "test data:\n",
      "r2:0.72, mse:0.04, mae:0.15\n"
     ]
    }
   ],
   "source": [
    "for name in ['LinearRegression','Ridge','Lasso','ElasticNet']:\n",
    "    print('----{}----'.format(name))\n",
    "    model_selecting.model_fit(model_name=name)"
   ]
  },
  {
   "cell_type": "code",
   "execution_count": 419,
   "metadata": {},
   "outputs": [
    {
     "data": {
      "text/plain": [
       "Ridge(alpha=1.0, copy_X=True, fit_intercept=True, max_iter=None,\n",
       "      normalize=False, random_state=None, solver='auto', tol=0.001)"
      ]
     },
     "execution_count": 419,
     "metadata": {},
     "output_type": "execute_result"
    }
   ],
   "source": [
    "# lr = LinearRegression()\n",
    "lr = Ridge()\n",
    "# lr = Lasso(alpha = 0.1)\n",
    "# lr = ElasticNet()\n",
    "lr.fit(train_X, train_Y)"
   ]
  },
  {
   "cell_type": "code",
   "execution_count": 420,
   "metadata": {},
   "outputs": [],
   "source": [
    "y_pred = lr.predict(test_X)"
   ]
  },
  {
   "cell_type": "code",
   "execution_count": 421,
   "metadata": {},
   "outputs": [
    {
     "data": {
      "text/plain": [
       "array([131393.42398089, 144599.50706217, 182521.55327409, ...,\n",
       "       169851.62189512, 115405.00882275, 212352.77335158])"
      ]
     },
     "execution_count": 421,
     "metadata": {},
     "output_type": "execute_result"
    }
   ],
   "source": [
    "np.expm1(y_pred)"
   ]
  },
  {
   "cell_type": "code",
   "execution_count": 409,
   "metadata": {},
   "outputs": [],
   "source": [
    "submit = pd.DataFrame({'Id':test_id,'SalePrice':np.expm1(y_pred)})"
   ]
  },
  {
   "cell_type": "code",
   "execution_count": 410,
   "metadata": {},
   "outputs": [],
   "source": [
    "submit.to_csv('./submit/submit_20210724_04.csv',index=0)"
   ]
  },
  {
   "cell_type": "code",
   "execution_count": null,
   "metadata": {},
   "outputs": [],
   "source": []
  }
 ],
 "metadata": {
  "kernelspec": {
   "display_name": "Python 3",
   "language": "python",
   "name": "python3"
  },
  "language_info": {
   "codemirror_mode": {
    "name": "ipython",
    "version": 3
   },
   "file_extension": ".py",
   "mimetype": "text/x-python",
   "name": "python",
   "nbconvert_exporter": "python",
   "pygments_lexer": "ipython3",
   "version": "3.7.6"
  }
 },
 "nbformat": 4,
 "nbformat_minor": 4
}
