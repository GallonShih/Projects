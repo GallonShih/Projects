{
 "cells": [
  {
   "cell_type": "code",
   "execution_count": 1,
   "metadata": {},
   "outputs": [],
   "source": [
    "#常用\n",
    "%matplotlib inline\n",
    "import numpy as np\n",
    "import pandas as pd\n",
    "import matplotlib.pyplot as plt\n",
    "import seaborn as sns # 另一個繪圖-樣式套件\n",
    "import warnings\n",
    "warnings.filterwarnings('ignore')\n",
    "\n",
    "#統計\n",
    "import scipy.stats as st\n",
    "\n",
    "#機器學習\n",
    "from sklearn.preprocessing import MinMaxScaler, StandardScaler\n",
    "from sklearn.decomposition import PCA\n",
    "from sklearn import metrics\n",
    "from sklearn.model_selection import train_test_split, KFold, cross_val_score\n",
    "from sklearn.linear_model import LinearRegression, Ridge, Lasso, ElasticNet\n",
    "\n",
    "#系統操作、解壓縮檔案\n",
    "import os\n",
    "from zipfile import ZipFile"
   ]
  },
  {
   "cell_type": "code",
   "execution_count": 2,
   "metadata": {},
   "outputs": [],
   "source": [
    "###資料匯入\n",
    "class DataImport:\n",
    "    def __init__(self):\n",
    "        self.data_dir = os.getcwd()\n",
    "    \n",
    "    #資料夾路徑\n",
    "    def set_dir(self, data_path):\n",
    "        self.data_dir = os.path.join(self.data_dir, data_path)\n",
    "    \n",
    "    #壓縮檔名 \n",
    "    def read_zip(self, filename):\n",
    "        self.file_path = os.path.join(self.data_dir, filename)\n",
    "        print('Path of read in data: %s' % (self.file_path))\n",
    "        myzip=ZipFile(self.file_path)\n",
    "        for i in myzip.filelist:\n",
    "            print(i.filename)\n",
    "        myzip.close()\n",
    "    \n",
    "    #讀取壓縮檔內的資料\n",
    "    def read_zip_data(self, dataname):\n",
    "        myzip=ZipFile(self.file_path)\n",
    "        f=myzip.open(dataname)\n",
    "        df=pd.read_csv(f)\n",
    "        f.close()\n",
    "        myzip.close()\n",
    "        return df\n",
    "\n",
    "def feature_eda(feature_name, log1p=0, astype=[0,'object']):\n",
    "    if log1p:\n",
    "        feature = np.log1p(train[feature_name])\n",
    "    else:\n",
    "        feature = train[feature_name]\n",
    "    if astype[0]:\n",
    "        feature = feature.astype(astype[1])\n",
    "    test_feature = test[feature_name]\n",
    "    target = train['SalePrice']\n",
    "\n",
    "    print('Type : {}'.format(feature.dtypes))\n",
    "    na_ratio = feature.isna().sum()/len(feature)\n",
    "    print('NA Ratio : {}'.format(na_ratio))\n",
    "    na_ratio = test_feature.isna().sum()/len(test_feature)\n",
    "    print('Test NA Ratio : {}'.format(na_ratio))\n",
    "    \n",
    "    unique_ct, unique_ratio =len(feature.unique()), len(feature.unique())/len(feature)\n",
    "    print('unique_ct : {}, unique_ratio : {:.2f}'.format(unique_ct, unique_ratio))\n",
    "    \n",
    "    if feature.dtypes in ['float','int64']:\n",
    "        feature_summarize= pd.DataFrame(feature.describe()).T\n",
    "        feature_summarize['skew'] = feature.skew()\n",
    "        feature_summarize['kurt'] = feature.kurt()\n",
    "        print(feature_summarize)\n",
    "\n",
    "        plt.figure(1,figsize=(6, 4))\n",
    "        plt.title(feature_name)\n",
    "        sns.distplot(feature, \n",
    "                     kde=False, \n",
    "                     fit=st.norm)\n",
    "\n",
    "        plt.figure(2,figsize=(6, 4))\n",
    "        res = st.probplot(feature,plot=plt)\n",
    "\n",
    "        plt.figure(3,figsize=(6, 4))\n",
    "        sns.boxplot(feature)\n",
    "        plt.show()\n",
    "        \n",
    "        plt.figure(4,figsize=(6, 4))\n",
    "        sns.jointplot(x=feature, y=target,kind='scatter',color='#0066CC')\n",
    "        plt.show()\n",
    "    else:\n",
    "        plt.figure(1,figsize=(8, 6))\n",
    "        sns.boxplot(x=feature, y=target,color='#0066CC')\n",
    "        plt.xticks(rotation=90)\n",
    "        plt.show()"
   ]
  },
  {
   "cell_type": "code",
   "execution_count": 3,
   "metadata": {},
   "outputs": [
    {
     "name": "stdout",
     "output_type": "stream",
     "text": [
      "Path of read in data: C:\\Users\\RT009223\\Github\\Projects\\SideProject\\03_Kaggle_House_Prices\\./data/house-prices.zip\n",
      "data_description.txt\n",
      "sample_submission.csv\n",
      "test.csv\n",
      "train.csv\n"
     ]
    }
   ],
   "source": [
    "DTImport = DataImport()\n",
    "DTImport.set_dir(data_path = './data/')\n",
    "DTImport.read_zip(filename = 'house-prices.zip')\n",
    "train = DTImport.read_zip_data(dataname = 'train.csv')\n",
    "test = DTImport.read_zip_data(dataname = 'test.csv')"
   ]
  },
  {
   "cell_type": "code",
   "execution_count": null,
   "metadata": {},
   "outputs": [],
   "source": []
  },
  {
   "cell_type": "code",
   "execution_count": 4,
   "metadata": {},
   "outputs": [],
   "source": [
    "# features = pd.DataFrame(columns=['features','features_name','type','astype','drop_YN','outlier','missing_values','feature_engineer'])\n",
    "# features['features'] = train.columns\n",
    "# features.to_excel(r'Features_v3.xlsx',index=0)"
   ]
  },
  {
   "cell_type": "code",
   "execution_count": 5,
   "metadata": {},
   "outputs": [
    {
     "data": {
      "text/plain": [
       "Index(['Id', 'MSSubClass', 'MSZoning', 'LotFrontage', 'LotArea', 'Street',\n",
       "       'Alley', 'LotShape', 'LandContour', 'Utilities', 'LotConfig',\n",
       "       'LandSlope', 'Neighborhood', 'Condition1', 'Condition2', 'BldgType',\n",
       "       'HouseStyle', 'OverallQual', 'OverallCond', 'YearBuilt', 'YearRemodAdd',\n",
       "       'RoofStyle', 'RoofMatl', 'Exterior1st', 'Exterior2nd', 'MasVnrType',\n",
       "       'MasVnrArea', 'ExterQual', 'ExterCond', 'Foundation', 'BsmtQual',\n",
       "       'BsmtCond', 'BsmtExposure', 'BsmtFinType1', 'BsmtFinSF1',\n",
       "       'BsmtFinType2', 'BsmtFinSF2', 'BsmtUnfSF', 'TotalBsmtSF', 'Heating',\n",
       "       'HeatingQC', 'CentralAir', 'Electrical', '1stFlrSF', '2ndFlrSF',\n",
       "       'LowQualFinSF', 'GrLivArea', 'BsmtFullBath', 'BsmtHalfBath', 'FullBath',\n",
       "       'HalfBath', 'BedroomAbvGr', 'KitchenAbvGr', 'KitchenQual',\n",
       "       'TotRmsAbvGrd', 'Functional', 'Fireplaces', 'FireplaceQu', 'GarageType',\n",
       "       'GarageYrBlt', 'GarageFinish', 'GarageCars', 'GarageArea', 'GarageQual',\n",
       "       'GarageCond', 'PavedDrive', 'WoodDeckSF', 'OpenPorchSF',\n",
       "       'EnclosedPorch', '3SsnPorch', 'ScreenPorch', 'PoolArea', 'PoolQC',\n",
       "       'Fence', 'MiscFeature', 'MiscVal', 'MoSold', 'YrSold', 'SaleType',\n",
       "       'SaleCondition', 'SalePrice'],\n",
       "      dtype='object')"
      ]
     },
     "execution_count": 5,
     "metadata": {},
     "output_type": "execute_result"
    }
   ],
   "source": [
    "train.columns"
   ]
  },
  {
   "cell_type": "code",
   "execution_count": 22,
   "metadata": {},
   "outputs": [
    {
     "name": "stdout",
     "output_type": "stream",
     "text": [
      "Type : object\n",
      "NA Ratio : 0.0\n",
      "Test NA Ratio : 0.0\n",
      "unique_ct : 3, unique_ratio : 0.00\n"
     ]
    },
    {
     "data": {
      "image/png": "[encoded data removed]",
      "text/plain": [
       "<Figure size 576x432 with 1 Axes>"
      ]
     },
     "metadata": {
      "needs_background": "light"
     },
     "output_type": "display_data"
    }
   ],
   "source": [
    "feature_name = 'PavedDrive'\n",
    "feature_eda(feature_name = feature_name,log1p=0,astype=[0,'object'])"
   ]
  },
  {
   "cell_type": "code",
   "execution_count": null,
   "metadata": {},
   "outputs": [],
   "source": []
  },
  {
   "cell_type": "code",
   "execution_count": 18,
   "metadata": {},
   "outputs": [
    {
     "data": {
      "text/plain": [
       "Series([], dtype: object)"
      ]
     },
     "execution_count": 18,
     "metadata": {},
     "output_type": "execute_result"
    }
   ],
   "source": [
    "train_feature= pd.Series(train[feature_name].astype('object').unique())\n",
    "test_feature= pd.Series(test[feature_name].astype('object').unique())\n",
    "test_feature[-test_feature.isin(train_feature)]"
   ]
  },
  {
   "cell_type": "code",
   "execution_count": 19,
   "metadata": {},
   "outputs": [],
   "source": [
    "train02 = train.copy()\n",
    "train02.fillna('NA',inplace=True)"
   ]
  },
  {
   "cell_type": "code",
   "execution_count": 20,
   "metadata": {},
   "outputs": [],
   "source": [
    "# train02['type'] = train02[feature_name]>0\n",
    "# train02.groupby(['type'])['SalePrice'].agg(['mean','count']).sort_values(by = 'mean',ascending=False)"
   ]
  },
  {
   "cell_type": "code",
   "execution_count": 21,
   "metadata": {},
   "outputs": [
    {
     "data": {
      "text/html": [
       "<div>\n",
       "<style scoped>\n",
       "    .dataframe tbody tr th:only-of-type {\n",
       "        vertical-align: middle;\n",
       "    }\n",
       "\n",
       "    .dataframe tbody tr th {\n",
       "        vertical-align: top;\n",
       "    }\n",
       "\n",
       "    .dataframe thead th {\n",
       "        text-align: right;\n",
       "    }\n",
       "</style>\n",
       "<table border=\"1\" class=\"dataframe\">\n",
       "  <thead>\n",
       "    <tr style=\"text-align: right;\">\n",
       "      <th></th>\n",
       "      <th>mean</th>\n",
       "      <th>count</th>\n",
       "    </tr>\n",
       "    <tr>\n",
       "      <th>GarageCond</th>\n",
       "      <th></th>\n",
       "      <th></th>\n",
       "    </tr>\n",
       "  </thead>\n",
       "  <tbody>\n",
       "    <tr>\n",
       "      <th>TA</th>\n",
       "      <td>187885.735294</td>\n",
       "      <td>1326</td>\n",
       "    </tr>\n",
       "    <tr>\n",
       "      <th>Gd</th>\n",
       "      <td>179930.000000</td>\n",
       "      <td>9</td>\n",
       "    </tr>\n",
       "    <tr>\n",
       "      <th>Ex</th>\n",
       "      <td>124000.000000</td>\n",
       "      <td>2</td>\n",
       "    </tr>\n",
       "    <tr>\n",
       "      <th>Fa</th>\n",
       "      <td>114654.028571</td>\n",
       "      <td>35</td>\n",
       "    </tr>\n",
       "    <tr>\n",
       "      <th>Po</th>\n",
       "      <td>108500.000000</td>\n",
       "      <td>7</td>\n",
       "    </tr>\n",
       "    <tr>\n",
       "      <th>NA</th>\n",
       "      <td>103317.283951</td>\n",
       "      <td>81</td>\n",
       "    </tr>\n",
       "  </tbody>\n",
       "</table>\n",
       "</div>"
      ],
      "text/plain": [
       "                     mean  count\n",
       "GarageCond                      \n",
       "TA          187885.735294   1326\n",
       "Gd          179930.000000      9\n",
       "Ex          124000.000000      2\n",
       "Fa          114654.028571     35\n",
       "Po          108500.000000      7\n",
       "NA          103317.283951     81"
      ]
     },
     "execution_count": 21,
     "metadata": {},
     "output_type": "execute_result"
    }
   ],
   "source": [
    "train02.groupby([feature_name])['SalePrice'].agg(['mean','count']).sort_values(by = 'mean',ascending=False)"
   ]
  },
  {
   "cell_type": "code",
   "execution_count": 241,
   "metadata": {},
   "outputs": [],
   "source": [
    "# train.groupby([feature_name])['SalePrice'].mean().reset_index().sort_values(by = 'SalePrice',ascending=False)"
   ]
  },
  {
   "cell_type": "code",
   "execution_count": 402,
   "metadata": {},
   "outputs": [
    {
     "data": {
      "text/plain": [
       "{'Fin': 240052.6903409091,\n",
       " 'NA': 103317.28395061729,\n",
       " 'RFn': 202068.86966824645,\n",
       " 'Unf': 142156.42314049587}"
      ]
     },
     "execution_count": 402,
     "metadata": {},
     "output_type": "execute_result"
    }
   ],
   "source": [
    "train02.groupby([feature_name])['SalePrice'].mean().to_dict()"
   ]
  },
  {
   "cell_type": "code",
   "execution_count": 11,
   "metadata": {},
   "outputs": [
    {
     "data": {
      "text/plain": [
       "Int64Index([581, 1061, 1190, 1298], dtype='int64')"
      ]
     },
     "execution_count": 11,
     "metadata": {},
     "output_type": "execute_result"
    }
   ],
   "source": [
    "train[feature_name][(train[feature_name]>1220)].index\n",
    "# train[feature_name][(train[feature_name]>4200)&(train['SalePrice']<300000)].index"
   ]
  },
  {
   "cell_type": "code",
   "execution_count": null,
   "metadata": {},
   "outputs": [],
   "source": []
  },
  {
   "cell_type": "code",
   "execution_count": null,
   "metadata": {},
   "outputs": [],
   "source": [
    "feature_astype=['MSSubClass','Utilities','YearBuilt','YearRemodAdd','FullBath']\n",
    "\n",
    "feature_drop=['Id','Alley','Condition2','RoofMatl','ExterCond','BsmtFinSF2','BsmtUnfSF','Heating',\n",
    "              'LowQualFinSF','BsmtFullBath','BsmtHalfBath','HalfBath','BedroomAbvGr','KitchenAbvGr',\n",
    "              'Functional','GarageYrBlt']\n",
    "index_drop=[934, 1298, 297, 523, 581, 1061, 1190]\n",
    "\n",
    "feature_add=['BsmtFinSF1','TotalBsmtSF','2ndFlrSF','GarageArea']\n",
    "feature_multi=['BsmtFinSF1','TotalBsmtSF','2ndFlrSF','GarageArea']\n",
    "feature_limit=['TotRmsAbvGrd','GarageCars']\n",
    "\n",
    "na_median=['LotFrontage']\n",
    "na_0=['MasVnrArea','GarageCars','GarageArea']\n",
    "na_NA=['Exterior2nd','MasVnrType','BsmtQual','BsmtExposure','BsmtFinType1','Electrical','KitchenQual',\n",
    "       'FireplaceQu','GarageType','GarageFinish','GarageQual','GarageCond']\n",
    "\n",
    "feature_onehot=['MSZoning','Street','LotShape','LandContour',\n",
    "                'LotConfig','LandSlope','BldgType','YearBuilt','YearRemodAdd',\n",
    "                'RoofStyle','Exterior2nd','Foundation','BsmtQual','BsmtExposure',\n",
    "                'BsmtFinType1','BsmtFinType2','CentralAir','KitchenQual','FireplaceQu',\n",
    "                'GarageType','GarageQual','GarageCond']\n",
    "\n",
    "feature_lop1p=['LotFrontage','LotArea','MasVnrArea','BsmtFinSF1','TotalBsmtSF','1stFlrSF','2ndFlrSF',\n",
    "               'GrLivArea','GarageArea']\n",
    "\n",
    "replace_words={}\n",
    "replace_words['MSSubClass']={\n",
    "    \"['30','45','50','85','90','150','160','180','190']\":1,\n",
    "    \"['20','40','70','75','80']\":2,\n",
    "    \"['60','120']\"\n",
    "}\n",
    "replace_words['Neighborhood']={\n",
    " 'Blmngtn': 194870.88235294117,\n",
    " 'Blueste': 137500.0,\n",
    " 'BrDale': 104493.75,\n",
    " 'BrkSide': 124834.05172413793,\n",
    " 'ClearCr': 212565.42857142858,\n",
    " 'CollgCr': 197965.77333333335,\n",
    " 'Crawfor': 210624.72549019608,\n",
    " 'Edwards': 128219.7,\n",
    " 'Gilbert': 192854.50632911394,\n",
    " 'IDOTRR': 100123.78378378379,\n",
    " 'MeadowV': 98576.4705882353,\n",
    " 'Mitchel': 156270.1224489796,\n",
    " 'NAmes': 145847.08,\n",
    " 'NPkVill': 142694.44444444444,\n",
    " 'NWAmes': 189050.0684931507,\n",
    " 'NoRidge': 335295.31707317074,\n",
    " 'NridgHt': 316270.6233766234,\n",
    " 'OldTown': 128225.30088495575,\n",
    " 'SWISU': 142591.36,\n",
    " 'Sawyer': 136793.13513513515,\n",
    " 'SawyerW': 186555.7966101695,\n",
    " 'Somerst': 225379.83720930232,\n",
    " 'StoneBr': 310499.0,\n",
    " 'Timber': 242247.44736842104,\n",
    " 'Veenker': 238772.72727272726}\n",
    "replace_words['Condition1']={\n",
    "    \"['Artery','RRAe','Feedr']\":1,\n",
    "    \"['RRAn','Norm','RRNe']\":2,\n",
    "    \"['RRNn','PosN','PosA']\":3\n",
    "}\n",
    "replace_words['HouseStyle']={'1.5Fin': 143116.74025974027,\n",
    " '1.5Unf': 110150.0,\n",
    " '1Story': 175985.4779614325,\n",
    " '2.5Fin': 220000.0,\n",
    " '2.5Unf': 157354.54545454544,\n",
    " '2Story': 210051.76404494382,\n",
    " 'SFoyer': 135074.48648648648,\n",
    " 'SLvl': 166703.38461538462}\n",
    "replace_words['Exterior1st']={\n",
    "    \"['BrkComm','AsphShn','CBlock','AsbShng','MetalSd','Wd Sdng']\":1,\n",
    "    \"['WdShing','Stucco','HdBoard','Plywood','BrkFace']\":2,\n",
    "    \"['VinylSd','CemntBd','Stone','ImStucc']\":3\n",
    "}\n",
    "replace_words['ExterQual']={\n",
    " 'Ex': 367360.96153846156,\n",
    " 'Fa': 87985.21428571429,\n",
    " 'Gd': 231633.51024590165,\n",
    " 'TA': 144341.31346578366}\n",
    "replace_words['BsmtCond']={\n",
    " 'Fa': 121809.53333333334,\n",
    " 'Gd': 213599.9076923077,\n",
    " 'Po': 64000.0,\n",
    " 'TA': 183632.6209000763}\n",
    "replace_words['HeatingQC']={\n",
    " 'Fa': 121809.53333333334,\n",
    " 'Gd': 213599.9076923077,\n",
    " 'Po': 64000.0,\n",
    " 'TA': 183632.6209000763}\n",
    "replace_words['Electrical']={\n",
    "    \"['Mix','FuseP','FuseF','FuseA','NA']\":0\n",
    "    \"SBrkr\":1\n",
    "}\n",
    "replace_words['FullBath']={\n",
    "    \"['0','1']\":0\n",
    "    \"['2','3','4']\":1\n",
    "}\n",
    "replace_words['GarageFinish']={\n",
    " 'Fin': 240052.6903409091,\n",
    " 'NA': 103317.28395061729,\n",
    " 'RFn': 202068.86966824645,\n",
    " 'Unf': 142156.42314049587}"
   ]
  },
  {
   "cell_type": "code",
   "execution_count": null,
   "metadata": {},
   "outputs": [],
   "source": []
  },
  {
   "cell_type": "code",
   "execution_count": 129,
   "metadata": {},
   "outputs": [],
   "source": [
    "df01 = pd.DataFrame({'a':['1','2','3','4'],'b':['4','5','6','7']})"
   ]
  },
  {
   "cell_type": "code",
   "execution_count": 130,
   "metadata": {},
   "outputs": [
    {
     "data": {
      "text/html": [
       "<div>\n",
       "<style scoped>\n",
       "    .dataframe tbody tr th:only-of-type {\n",
       "        vertical-align: middle;\n",
       "    }\n",
       "\n",
       "    .dataframe tbody tr th {\n",
       "        vertical-align: top;\n",
       "    }\n",
       "\n",
       "    .dataframe thead th {\n",
       "        text-align: right;\n",
       "    }\n",
       "</style>\n",
       "<table border=\"1\" class=\"dataframe\">\n",
       "  <thead>\n",
       "    <tr style=\"text-align: right;\">\n",
       "      <th></th>\n",
       "      <th>a</th>\n",
       "      <th>b</th>\n",
       "    </tr>\n",
       "  </thead>\n",
       "  <tbody>\n",
       "    <tr>\n",
       "      <th>0</th>\n",
       "      <td>1</td>\n",
       "      <td>4</td>\n",
       "    </tr>\n",
       "    <tr>\n",
       "      <th>1</th>\n",
       "      <td>2</td>\n",
       "      <td>5</td>\n",
       "    </tr>\n",
       "    <tr>\n",
       "      <th>2</th>\n",
       "      <td>3</td>\n",
       "      <td>6</td>\n",
       "    </tr>\n",
       "    <tr>\n",
       "      <th>3</th>\n",
       "      <td>4</td>\n",
       "      <td>7</td>\n",
       "    </tr>\n",
       "  </tbody>\n",
       "</table>\n",
       "</div>"
      ],
      "text/plain": [
       "   a  b\n",
       "0  1  4\n",
       "1  2  5\n",
       "2  3  6\n",
       "3  4  7"
      ]
     },
     "execution_count": 130,
     "metadata": {},
     "output_type": "execute_result"
    }
   ],
   "source": [
    "df01"
   ]
  },
  {
   "cell_type": "code",
   "execution_count": 132,
   "metadata": {},
   "outputs": [],
   "source": [
    "rw = {\n",
    "    \"['1','2']\":'9'\n",
    "}"
   ]
  },
  {
   "cell_type": "code",
   "execution_count": 133,
   "metadata": {},
   "outputs": [
    {
     "data": {
      "text/html": [
       "<div>\n",
       "<style scoped>\n",
       "    .dataframe tbody tr th:only-of-type {\n",
       "        vertical-align: middle;\n",
       "    }\n",
       "\n",
       "    .dataframe tbody tr th {\n",
       "        vertical-align: top;\n",
       "    }\n",
       "\n",
       "    .dataframe thead th {\n",
       "        text-align: right;\n",
       "    }\n",
       "</style>\n",
       "<table border=\"1\" class=\"dataframe\">\n",
       "  <thead>\n",
       "    <tr style=\"text-align: right;\">\n",
       "      <th></th>\n",
       "      <th>a</th>\n",
       "      <th>b</th>\n",
       "    </tr>\n",
       "  </thead>\n",
       "  <tbody>\n",
       "    <tr>\n",
       "      <th>0</th>\n",
       "      <td>9</td>\n",
       "      <td>4</td>\n",
       "    </tr>\n",
       "    <tr>\n",
       "      <th>1</th>\n",
       "      <td>9</td>\n",
       "      <td>5</td>\n",
       "    </tr>\n",
       "    <tr>\n",
       "      <th>2</th>\n",
       "      <td>3</td>\n",
       "      <td>6</td>\n",
       "    </tr>\n",
       "    <tr>\n",
       "      <th>3</th>\n",
       "      <td>4</td>\n",
       "      <td>7</td>\n",
       "    </tr>\n",
       "  </tbody>\n",
       "</table>\n",
       "</div>"
      ],
      "text/plain": [
       "   a  b\n",
       "0  9  4\n",
       "1  9  5\n",
       "2  3  6\n",
       "3  4  7"
      ]
     },
     "execution_count": 133,
     "metadata": {},
     "output_type": "execute_result"
    }
   ],
   "source": [
    "df01.replace(regex = rw)"
   ]
  },
  {
   "cell_type": "code",
   "execution_count": null,
   "metadata": {},
   "outputs": [],
   "source": []
  }
 ],
 "metadata": {
  "kernelspec": {
   "display_name": "Python 3",
   "language": "python",
   "name": "python3"
  },
  "language_info": {
   "codemirror_mode": {
    "name": "ipython",
    "version": 3
   },
   "file_extension": ".py",
   "mimetype": "text/x-python",
   "name": "python",
   "nbconvert_exporter": "python",
   "pygments_lexer": "ipython3",
   "version": "3.7.6"
  }
 },
 "nbformat": 4,
 "nbformat_minor": 4
}
