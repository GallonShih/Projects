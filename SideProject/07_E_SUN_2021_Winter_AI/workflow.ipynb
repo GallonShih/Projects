{
 "cells": [
  {
   "cell_type": "code",
   "execution_count": 1,
   "metadata": {},
   "outputs": [],
   "source": [
    "from restructure_data import DataRestructuring"
   ]
  },
  {
   "cell_type": "code",
   "execution_count": 2,
   "metadata": {},
   "outputs": [
    {
     "name": "stderr",
     "output_type": "stream",
     "text": [
      "2021-12-20 14:15:07,974-INFO-Start reading test data.\n",
      "2021-12-20 14:15:09,059-INFO-Test data shape: (1000, 4)\n",
      "2021-12-20 14:15:09,060-INFO-Finish reading test data.\n",
      "2021-12-20 14:15:09,060-INFO-Start reading train data.\n"
     ]
    },
    {
     "name": "stdout",
     "output_type": "stream",
     "text": [
      "Iteration is stopped.\n",
      "Memory usage of dataframe is 17.46 MB\n"
     ]
    },
    {
     "name": "stderr",
     "output_type": "stream",
     "text": [
      "2021-12-20 14:18:22,227-INFO-Finish reading train data.\n",
      "2021-12-20 14:18:22,236-INFO-Start creating training matrix.\n"
     ]
    },
    {
     "name": "stdout",
     "output_type": "stream",
     "text": [
      "Memory usage after optimization is: 5.36 MB\n",
      "Decreased by 69.3%\n",
      "Memory usage of dataframe is 117.92 MB\n"
     ]
    },
    {
     "name": "stderr",
     "output_type": "stream",
     "text": [
      "2021-12-20 14:18:25,922-INFO-Finish creating training matrix.\n"
     ]
    },
    {
     "name": "stdout",
     "output_type": "stream",
     "text": [
      "Memory usage after optimization is: 47.61 MB\n",
      "Decreased by 59.6%\n"
     ]
    }
   ],
   "source": [
    "op = DataRestructuring(df_train_path=r'D:\\Gallon\\Project\\07_E_SUN_2021_Winter_AI\\data\\tbrain_cc_training_48tags_hash_final.csv',\n",
    "                    df_test_path=r'D:\\Gallon\\Project\\07_E_SUN_2021_Winter_AI\\data\\需預測的顧客名單及提交檔案範例.csv',\n",
    "                    start_index=0,\n",
    "                    number=1000)\n",
    "op.execute()"
   ]
  },
  {
   "cell_type": "code",
   "execution_count": null,
   "metadata": {},
   "outputs": [],
   "source": []
  }
 ],
 "metadata": {
  "interpreter": {
   "hash": "b3ba2566441a7c06988d0923437866b63cedc61552a5af99d1f4fb67d367b25f"
  },
  "kernelspec": {
   "display_name": "Python 3.7.6 64-bit ('base': conda)",
   "language": "python",
   "name": "python3"
  },
  "language_info": {
   "codemirror_mode": {
    "name": "ipython",
    "version": 3
   },
   "file_extension": ".py",
   "mimetype": "text/x-python",
   "name": "python",
   "nbconvert_exporter": "python",
   "pygments_lexer": "ipython3",
   "version": "3.7.6"
  },
  "orig_nbformat": 4
 },
 "nbformat": 4,
 "nbformat_minor": 2
}
