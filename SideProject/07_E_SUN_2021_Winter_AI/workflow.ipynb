{
 "cells": [
  {
   "cell_type": "code",
   "execution_count": 17,
   "metadata": {},
   "outputs": [],
   "source": [
    "import numpy as np\n",
    "import pandas as pd\n",
    "import os\n",
    "import gc\n",
    "import restructure_data\n",
    "import feature_engineer\n",
    "import modeling"
   ]
  },
  {
   "cell_type": "code",
   "execution_count": 21,
   "metadata": {},
   "outputs": [
    {
     "data": {
      "text/plain": [
       "<module 'modeling' from 'c:\\\\Users\\\\RT009223\\\\Github\\\\Projects\\\\SideProject\\\\07_E_SUN_2021_Winter_AI\\\\modeling.py'>"
      ]
     },
     "execution_count": 21,
     "metadata": {},
     "output_type": "execute_result"
    }
   ],
   "source": [
    "import importlib\n",
    "# importlib.reload(feature_engineer)\n",
    "# importlib.reload(modeling)"
   ]
  },
  {
   "cell_type": "code",
   "execution_count": 72,
   "metadata": {},
   "outputs": [
    {
     "name": "stdout",
     "output_type": "stream",
     "text": [
      "Read submit file. (60000, 4)\n"
     ]
    }
   ],
   "source": [
    "submit_filepath = './submit/submet_01.csv'\n",
    "if os.path.isfile(submit_filepath) == True:\n",
    "    df_submit = pd.read_csv(submit_filepath)\n",
    "    print(f'Read submit file. {df_submit.shape}')\n",
    "else:\n",
    "    df_submit = pd.DataFrame(columns=['chid', 'top1', 'top2', 'top3'])\n",
    "    print('Create submit file.')"
   ]
  },
  {
   "cell_type": "code",
   "execution_count": 65,
   "metadata": {},
   "outputs": [
    {
     "name": "stdout",
     "output_type": "stream",
     "text": [
      "50000\n"
     ]
    }
   ],
   "source": [
    "# i = 4\n",
    "start_index = df_submit.shape[0]\n",
    "print(start_index)"
   ]
  },
  {
   "cell_type": "code",
   "execution_count": 66,
   "metadata": {},
   "outputs": [
    {
     "name": "stdout",
     "output_type": "stream",
     "text": [
      "Iteration is stopped.\n",
      "Memory usage of dataframe is 46.39 MB\n",
      "Memory usage after optimization is: 13.19 MB\n",
      "Decreased by 71.6%\n",
      "Memory usage of dataframe is 358.58 MB\n",
      "Memory usage after optimization is: 228.88 MB\n",
      "Decreased by 36.2%\n",
      "Adding feature shop_tag_txn_amt_mean_delta_1_lag_1\n",
      "Adding feature shop_tag_txn_amt_mean_delta_1_lag_12\n",
      "Adding feature chid_txn_amt_mean_delta_1_lag_1\n",
      "Adding feature chid_txn_amt_mean_delta_1_lag_12\n",
      "Adding feature educd_txn_amt_mean_delta_1_lag_1\n",
      "Adding feature trdtp_txn_amt_mean_delta_1_lag_1\n",
      "Adding feature gender_code_txn_amt_mean_delta_1_lag_1\n",
      "Adding feature age_txn_amt_mean_delta_1_lag_1\n",
      "Creating feature \"chid_shop_tag_txn_amt_mean_rolling_mean_win_12\"\n",
      "Creating feature \"chid_shop_tag_txn_amt_mean_expanding_mean\"\n",
      "Creating feature \"chid_shop_tag_txn_amt_mean_ewm_hl_1\"\n",
      "Creating feature \"age_shop_tag_txn_amt_mean_rolling_mean_win_12\"\n",
      "Creating feature \"age_shop_tag_txn_amt_mean_expanding_mean\"\n",
      "Creating feature \"age_shop_tag_txn_amt_mean_ewm_hl_1\"\n",
      "Creating feature \"age_gender_code_shop_tag_txn_amt_mean_rolling_mean_win_12\"\n",
      "Creating feature \"age_gender_code_shop_tag_txn_amt_mean_expanding_mean\"\n",
      "Creating feature \"age_gender_code_shop_tag_txn_amt_mean_ewm_hl_1\"\n",
      "Adding feature shop_tag_txn_amt_mean_lag_1\n",
      "Adding feature shop_tag_cluster_txn_amt_mean_lag_1\n",
      "Adding feature trdtp_txn_amt_mean_lag_1\n",
      "Adding feature trdtp_cluster_txn_amt_mean_lag_1\n",
      "Adding feature chid_txn_amt_mean_lag_1\n",
      "Adding feature educd_txn_amt_mean_lag_1\n",
      "Adding feature educd_shop_tag_txn_amt_mean_lag_1\n",
      "Adding feature educd_poscd_txn_amt_mean_lag_1\n",
      "Adding feature poscd_txn_amt_mean_lag_1\n",
      "Adding feature poscd_shop_tag_txn_amt_mean_lag_1\n",
      "Adding feature masts_gender_code_age_txn_amt_mean_lag_1\n"
     ]
    }
   ],
   "source": [
    "data = restructure_data.DataRestructuring(df_train_path=r'D:\\Gallon\\Project\\07_E_SUN_2021_Winter_AI\\data\\tbrain_cc_training_48tags_hash_final.csv',\n",
    "                                          df_test_path=r'D:\\Gallon\\Project\\07_E_SUN_2021_Winter_AI\\data\\需預測的顧客名單及提交檔案範例.csv',\n",
    "                    start_index=start_index,\n",
    "                    number=10000)\n",
    "data.execute()\n",
    "\n",
    "fe = feature_engineer.FeatureEngineering(matrix=data.matrix)\n",
    "fe.execute()\n"
   ]
  },
  {
   "cell_type": "code",
   "execution_count": 67,
   "metadata": {},
   "outputs": [
    {
     "name": "stdout",
     "output_type": "stream",
     "text": [
      "[100]\ttraining's rmse: 2722.7\ttraining's l2: 7.41309e+06\tvalid_1's rmse: 2926.22\tvalid_1's l2: 8.56275e+06\n",
      "[200]\ttraining's rmse: 2597.72\ttraining's l2: 6.74816e+06\tvalid_1's rmse: 2847.4\tvalid_1's l2: 8.10766e+06\n",
      "[300]\ttraining's rmse: 2558.19\ttraining's l2: 6.54434e+06\tvalid_1's rmse: 2839.41\tvalid_1's l2: 8.06223e+06\n"
     ]
    }
   ],
   "source": [
    "del data\n",
    "gc.collect()\n",
    "fit_model = modeling.Model(matrix=fe.matrix)\n",
    "fit_model.execute()"
   ]
  },
  {
   "cell_type": "code",
   "execution_count": 69,
   "metadata": {},
   "outputs": [],
   "source": [
    "df_submit = pd.concat([df_submit, fit_model.df_result]).reset_index(drop=True)\n",
    "df_submit.to_csv(submit_filepath, index=0)"
   ]
  },
  {
   "cell_type": "code",
   "execution_count": 71,
   "metadata": {},
   "outputs": [
    {
     "data": {
      "text/plain": [
       "80"
      ]
     },
     "execution_count": 71,
     "metadata": {},
     "output_type": "execute_result"
    }
   ],
   "source": [
    "del fe, fit_model\n",
    "gc.collect()"
   ]
  },
  {
   "cell_type": "code",
   "execution_count": null,
   "metadata": {},
   "outputs": [],
   "source": []
  },
  {
   "cell_type": "code",
   "execution_count": 70,
   "metadata": {},
   "outputs": [
    {
     "data": {
      "text/html": [
       "<div>\n",
       "<style scoped>\n",
       "    .dataframe tbody tr th:only-of-type {\n",
       "        vertical-align: middle;\n",
       "    }\n",
       "\n",
       "    .dataframe tbody tr th {\n",
       "        vertical-align: top;\n",
       "    }\n",
       "\n",
       "    .dataframe thead th {\n",
       "        text-align: right;\n",
       "    }\n",
       "</style>\n",
       "<table border=\"1\" class=\"dataframe\">\n",
       "  <thead>\n",
       "    <tr style=\"text-align: right;\">\n",
       "      <th>rank</th>\n",
       "      <th>chid</th>\n",
       "      <th>top1</th>\n",
       "      <th>top2</th>\n",
       "      <th>top3</th>\n",
       "    </tr>\n",
       "  </thead>\n",
       "  <tbody>\n",
       "    <tr>\n",
       "      <th>0</th>\n",
       "      <td>10000148</td>\n",
       "      <td>37</td>\n",
       "      <td>2</td>\n",
       "      <td>10</td>\n",
       "    </tr>\n",
       "    <tr>\n",
       "      <th>1</th>\n",
       "      <td>10000172</td>\n",
       "      <td>10</td>\n",
       "      <td>15</td>\n",
       "      <td>2</td>\n",
       "    </tr>\n",
       "    <tr>\n",
       "      <th>2</th>\n",
       "      <td>10000226</td>\n",
       "      <td>37</td>\n",
       "      <td>2</td>\n",
       "      <td>15</td>\n",
       "    </tr>\n",
       "    <tr>\n",
       "      <th>3</th>\n",
       "      <td>10000229</td>\n",
       "      <td>15</td>\n",
       "      <td>10</td>\n",
       "      <td>48</td>\n",
       "    </tr>\n",
       "    <tr>\n",
       "      <th>4</th>\n",
       "      <td>10000285</td>\n",
       "      <td>2</td>\n",
       "      <td>18</td>\n",
       "      <td>10</td>\n",
       "    </tr>\n",
       "    <tr>\n",
       "      <th>...</th>\n",
       "      <td>...</td>\n",
       "      <td>...</td>\n",
       "      <td>...</td>\n",
       "      <td>...</td>\n",
       "    </tr>\n",
       "    <tr>\n",
       "      <th>59995</th>\n",
       "      <td>10499865</td>\n",
       "      <td>36</td>\n",
       "      <td>15</td>\n",
       "      <td>2</td>\n",
       "    </tr>\n",
       "    <tr>\n",
       "      <th>59996</th>\n",
       "      <td>10499918</td>\n",
       "      <td>36</td>\n",
       "      <td>37</td>\n",
       "      <td>15</td>\n",
       "    </tr>\n",
       "    <tr>\n",
       "      <th>59997</th>\n",
       "      <td>10499920</td>\n",
       "      <td>36</td>\n",
       "      <td>15</td>\n",
       "      <td>18</td>\n",
       "    </tr>\n",
       "    <tr>\n",
       "      <th>59998</th>\n",
       "      <td>10499924</td>\n",
       "      <td>37</td>\n",
       "      <td>2</td>\n",
       "      <td>15</td>\n",
       "    </tr>\n",
       "    <tr>\n",
       "      <th>59999</th>\n",
       "      <td>10499981</td>\n",
       "      <td>37</td>\n",
       "      <td>15</td>\n",
       "      <td>2</td>\n",
       "    </tr>\n",
       "  </tbody>\n",
       "</table>\n",
       "<p>60000 rows × 4 columns</p>\n",
       "</div>"
      ],
      "text/plain": [
       "rank       chid  top1  top2  top3\n",
       "0      10000148    37     2    10\n",
       "1      10000172    10    15     2\n",
       "2      10000226    37     2    15\n",
       "3      10000229    15    10    48\n",
       "4      10000285     2    18    10\n",
       "...         ...   ...   ...   ...\n",
       "59995  10499865    36    15     2\n",
       "59996  10499918    36    37    15\n",
       "59997  10499920    36    15    18\n",
       "59998  10499924    37     2    15\n",
       "59999  10499981    37    15     2\n",
       "\n",
       "[60000 rows x 4 columns]"
      ]
     },
     "execution_count": 70,
     "metadata": {},
     "output_type": "execute_result"
    }
   ],
   "source": [
    "df_submit"
   ]
  }
 ],
 "metadata": {
  "interpreter": {
   "hash": "b3ba2566441a7c06988d0923437866b63cedc61552a5af99d1f4fb67d367b25f"
  },
  "kernelspec": {
   "display_name": "Python 3.7.6 64-bit ('base': conda)",
   "language": "python",
   "name": "python3"
  },
  "language_info": {
   "codemirror_mode": {
    "name": "ipython",
    "version": 3
   },
   "file_extension": ".py",
   "mimetype": "text/x-python",
   "name": "python",
   "nbconvert_exporter": "python",
   "pygments_lexer": "ipython3",
   "version": "3.7.6"
  },
  "orig_nbformat": 4
 },
 "nbformat": 4,
 "nbformat_minor": 2
}
