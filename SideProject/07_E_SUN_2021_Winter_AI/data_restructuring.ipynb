{
 "cells": [
  {
   "cell_type": "code",
   "execution_count": 1,
   "metadata": {},
   "outputs": [],
   "source": [
    "# 匯入套件\n",
    "import numpy as np\n",
    "import pandas as pd\n",
    "import itertools\n",
    "import gc"
   ]
  },
  {
   "cell_type": "code",
   "execution_count": 17,
   "metadata": {},
   "outputs": [],
   "source": [
    "# 定義function\n",
    "\n",
    "# 此function為網路上的人撰寫，目的是降低DataFrame的大小\n",
    "def reduce_mem_usage(df, silent=True, allow_categorical=True, float_dtype=\"float32\"):\n",
    "    \"\"\"\n",
    "    Iterates through all the columns of a dataframe and downcasts the data type\n",
    "     to reduce memory usage. Can also factorize categorical columns to integer dtype.\n",
    "    \"\"\"\n",
    "    def _downcast_numeric(series, allow_categorical=allow_categorical):\n",
    "        \"\"\"\n",
    "        Downcast a numeric series into either the smallest possible int dtype or a specified float dtype.\n",
    "        \"\"\"\n",
    "        if pd.api.types.is_sparse(series.dtype) is True:\n",
    "            return series\n",
    "        elif pd.api.types.is_numeric_dtype(series.dtype) is False:\n",
    "            if pd.api.types.is_datetime64_any_dtype(series.dtype):\n",
    "                return series\n",
    "            else:\n",
    "                if allow_categorical:\n",
    "                    return series\n",
    "                else:\n",
    "                    codes, uniques = series.factorize()\n",
    "                    series = pd.Series(data=codes, index=series.index)\n",
    "                    series = _downcast_numeric(series)\n",
    "                    return series\n",
    "        else:\n",
    "            series = pd.to_numeric(series, downcast=\"integer\")\n",
    "        if pd.api.types.is_float_dtype(series.dtype):\n",
    "            series = series.astype(float_dtype)\n",
    "        return series\n",
    "\n",
    "    if silent is False:\n",
    "        start_mem = np.sum(df.memory_usage()) / 1024 ** 2\n",
    "        print(\"Memory usage of dataframe is {:.2f} MB\".format(start_mem))\n",
    "    if df.ndim == 1:\n",
    "        df = _downcast_numeric(df)\n",
    "    else:\n",
    "        for col in df.columns:\n",
    "            df.loc[:, col] = _downcast_numeric(df.loc[:,col])\n",
    "    if silent is False:\n",
    "        end_mem = np.sum(df.memory_usage()) / 1024 ** 2\n",
    "        print(\"Memory usage after optimization is: {:.2f} MB\".format(end_mem))\n",
    "        print(\"Decreased by {:.1f}%\".format(100 * (start_mem - end_mem) / start_mem))\n",
    "\n",
    "    return df\n",
    "\n",
    "def shrink_mem_new_cols(matrix, oldcols=None, allow_categorical=False):\n",
    "    # Calls reduce_mem_usage on columns which have not yet been optimized\n",
    "    if oldcols is not None:\n",
    "        newcols = matrix.columns.difference(oldcols)\n",
    "    else:\n",
    "        newcols = matrix.columns\n",
    "    matrix.loc[:,newcols] = reduce_mem_usage(matrix.loc[:,newcols], allow_categorical=allow_categorical)\n",
    "    oldcols = matrix.columns  # This is used to track which columns have already been downcast\n",
    "    return matrix, oldcols\n",
    "\n",
    "\n",
    "def list_if_not(s, dtype=str):\n",
    "    # Puts a variable in a list if it is not already a list\n",
    "    if type(s) not in (dtype, list):\n",
    "        raise TypeError\n",
    "    if (s != \"\") & (type(s) is not list):\n",
    "        s = [s]\n",
    "    return s\n",
    "\n",
    "# 讀取資料，by chunk\n",
    "def read_data_by_chunk(path, df_test, col_list, shop_tag_list, chunksize):\n",
    "    reader = pd.read_csv(path,\n",
    "                        error_bad_lines=False, # 會自動忽略錯誤row\n",
    "                        # header=None, # 看資料有無欄位名稱\n",
    "                        iterator=True,\n",
    "                        usecols=col_list  #限縮要取的資料欄位\n",
    "                        )\n",
    "    loop = True\n",
    "    chunks = []\n",
    "    while loop:\n",
    "        try:\n",
    "            chunk = reader.get_chunk(chunksize)\n",
    "            chunk = chunk[chunk.chid.isin(df_test.chid)]    #只取測試資料的前10,000 chid\n",
    "            chunk = chunk[chunk.shop_tag.isin(shop_tag_list)]   #指取要預測的消費類別\n",
    "            chunks.append(chunk)\n",
    "        except StopIteration:\n",
    "            loop = False\n",
    "            print(\"Iteration is stopped.\")\n",
    "    df = pd.concat(chunks,ignore_index=True)\n",
    "    return df\n"
   ]
  },
  {
   "cell_type": "code",
   "execution_count": 3,
   "metadata": {},
   "outputs": [],
   "source": [
    "# 預先定義好的list，包含要預測的shop tag或目前要使用的columns\n",
    "SHOP_TAG_LIST = ['2', '6', '10', '12',\n",
    "                '13', '15', '18', '19',\n",
    "                '21', '22', '25', '26',\n",
    "                '36', '37', '39', '48']\n",
    "COL_LIST = ['dt', 'chid', 'shop_tag', 'txn_cnt', 'txn_amt', 'domestic_offline_cnt',\n",
    "       'domestic_online_cnt', 'overseas_offline_cnt', 'overseas_online_cnt',\n",
    "       'domestic_offline_amt_pct', 'domestic_online_amt_pct',\n",
    "       'overseas_offline_amt_pct', 'overseas_online_amt_pct', 'card_1_txn_cnt',\n",
    "       'card_2_txn_cnt', 'card_3_txn_cnt', 'card_4_txn_cnt', 'card_5_txn_cnt',\n",
    "       'card_6_txn_cnt', 'card_7_txn_cnt', 'card_8_txn_cnt', 'card_9_txn_cnt',\n",
    "       'card_10_txn_cnt', 'card_11_txn_cnt', 'card_12_txn_cnt',\n",
    "       'card_13_txn_cnt', 'card_14_txn_cnt', 'card_other_txn_cnt',\n",
    "       'card_1_txn_amt_pct', 'card_2_txn_amt_pct', 'card_3_txn_amt_pct',\n",
    "       'card_4_txn_amt_pct', 'card_5_txn_amt_pct', 'card_6_txn_amt_pct',\n",
    "       'card_7_txn_amt_pct', 'card_8_txn_amt_pct', 'card_9_txn_amt_pct',\n",
    "       'card_10_txn_amt_pct', 'card_11_txn_amt_pct', 'card_12_txn_amt_pct',\n",
    "       'card_13_txn_amt_pct', 'card_14_txn_amt_pct', 'card_other_txn_amt_pct']"
   ]
  },
  {
   "cell_type": "markdown",
   "metadata": {},
   "source": [
    "#### 讀取測試資料，並篩選前10,000個chid"
   ]
  },
  {
   "cell_type": "code",
   "execution_count": 4,
   "metadata": {},
   "outputs": [
    {
     "data": {
      "text/html": [
       "<div>\n",
       "<style scoped>\n",
       "    .dataframe tbody tr th:only-of-type {\n",
       "        vertical-align: middle;\n",
       "    }\n",
       "\n",
       "    .dataframe tbody tr th {\n",
       "        vertical-align: top;\n",
       "    }\n",
       "\n",
       "    .dataframe thead th {\n",
       "        text-align: right;\n",
       "    }\n",
       "</style>\n",
       "<table border=\"1\" class=\"dataframe\">\n",
       "  <thead>\n",
       "    <tr style=\"text-align: right;\">\n",
       "      <th></th>\n",
       "      <th>chid</th>\n",
       "      <th>top1</th>\n",
       "      <th>top2</th>\n",
       "      <th>top3</th>\n",
       "    </tr>\n",
       "  </thead>\n",
       "  <tbody>\n",
       "    <tr>\n",
       "      <th>0</th>\n",
       "      <td>10128239</td>\n",
       "      <td>18</td>\n",
       "      <td>10</td>\n",
       "      <td>6</td>\n",
       "    </tr>\n",
       "    <tr>\n",
       "      <th>1</th>\n",
       "      <td>10077943</td>\n",
       "      <td>48</td>\n",
       "      <td>22</td>\n",
       "      <td>6</td>\n",
       "    </tr>\n",
       "    <tr>\n",
       "      <th>2</th>\n",
       "      <td>10277876</td>\n",
       "      <td>22</td>\n",
       "      <td>10</td>\n",
       "      <td>39</td>\n",
       "    </tr>\n",
       "    <tr>\n",
       "      <th>3</th>\n",
       "      <td>10364842</td>\n",
       "      <td>37</td>\n",
       "      <td>19</td>\n",
       "      <td>13</td>\n",
       "    </tr>\n",
       "    <tr>\n",
       "      <th>4</th>\n",
       "      <td>10392717</td>\n",
       "      <td>2</td>\n",
       "      <td>36</td>\n",
       "      <td>26</td>\n",
       "    </tr>\n",
       "    <tr>\n",
       "      <th>...</th>\n",
       "      <td>...</td>\n",
       "      <td>...</td>\n",
       "      <td>...</td>\n",
       "      <td>...</td>\n",
       "    </tr>\n",
       "    <tr>\n",
       "      <th>9995</th>\n",
       "      <td>10203858</td>\n",
       "      <td>25</td>\n",
       "      <td>22</td>\n",
       "      <td>37</td>\n",
       "    </tr>\n",
       "    <tr>\n",
       "      <th>9996</th>\n",
       "      <td>10008113</td>\n",
       "      <td>22</td>\n",
       "      <td>48</td>\n",
       "      <td>15</td>\n",
       "    </tr>\n",
       "    <tr>\n",
       "      <th>9997</th>\n",
       "      <td>10053154</td>\n",
       "      <td>37</td>\n",
       "      <td>39</td>\n",
       "      <td>12</td>\n",
       "    </tr>\n",
       "    <tr>\n",
       "      <th>9998</th>\n",
       "      <td>10252782</td>\n",
       "      <td>26</td>\n",
       "      <td>18</td>\n",
       "      <td>12</td>\n",
       "    </tr>\n",
       "    <tr>\n",
       "      <th>9999</th>\n",
       "      <td>10361566</td>\n",
       "      <td>22</td>\n",
       "      <td>19</td>\n",
       "      <td>37</td>\n",
       "    </tr>\n",
       "  </tbody>\n",
       "</table>\n",
       "<p>10000 rows × 4 columns</p>\n",
       "</div>"
      ],
      "text/plain": [
       "          chid  top1  top2  top3\n",
       "0     10128239    18    10     6\n",
       "1     10077943    48    22     6\n",
       "2     10277876    22    10    39\n",
       "3     10364842    37    19    13\n",
       "4     10392717     2    36    26\n",
       "...        ...   ...   ...   ...\n",
       "9995  10203858    25    22    37\n",
       "9996  10008113    22    48    15\n",
       "9997  10053154    37    39    12\n",
       "9998  10252782    26    18    12\n",
       "9999  10361566    22    19    37\n",
       "\n",
       "[10000 rows x 4 columns]"
      ]
     },
     "execution_count": 4,
     "metadata": {},
     "output_type": "execute_result"
    }
   ],
   "source": [
    "df_test = pd.read_csv(r'D:\\Gallon\\Project\\07_E_SUN_2021_Winter_AI\\data\\需預測的顧客名單及提交檔案範例.csv')\n",
    "df_test = df_test[:10000].reset_index(drop=True)\n",
    "df_test"
   ]
  },
  {
   "cell_type": "markdown",
   "metadata": {},
   "source": [
    "#### 匯入訓練資料，並根據篩選後的測試資料(df_test)選擇部分chid"
   ]
  },
  {
   "cell_type": "code",
   "execution_count": 5,
   "metadata": {},
   "outputs": [
    {
     "name": "stdout",
     "output_type": "stream",
     "text": [
      "Iteration is stopped.\n"
     ]
    }
   ],
   "source": [
    "df = read_data_by_chunk(path=r'D:\\Gallon\\Project\\07_E_SUN_2021_Winter_AI\\data\\tbrain_cc_training_48tags_hash_final.csv',\n",
    "                    df_test=df_test,\n",
    "                    col_list=COL_LIST,\n",
    "                    shop_tag_list=SHOP_TAG_LIST,\n",
    "                    chunksize=100000)"
   ]
  },
  {
   "cell_type": "code",
   "execution_count": 6,
   "metadata": {},
   "outputs": [
    {
     "name": "stdout",
     "output_type": "stream",
     "text": [
      "Memory usage of dataframe is 144.00 MB\n",
      "Memory usage after optimization is: 49.81 MB\n",
      "Decreased by 65.4%\n"
     ]
    }
   ],
   "source": [
    "# 壓縮資料大小\n",
    "df = reduce_mem_usage(df, silent=False)"
   ]
  },
  {
   "cell_type": "markdown",
   "metadata": {},
   "source": [
    "#### 建立以(df, chid, shop_tag)為index 的資料"
   ]
  },
  {
   "cell_type": "code",
   "execution_count": 8,
   "metadata": {},
   "outputs": [],
   "source": [
    "indexlist = []\n",
    "x = itertools.product(df.dt.unique(), df_test.chid.unique(), SHOP_TAG_LIST)\n",
    "indexlist.append(np.array(list(x)))\n",
    "matrix = pd.DataFrame(\n",
    "        data=np.concatenate(indexlist, axis=0),\n",
    "        columns=[\"dt\", \"chid\", \"shop_tag\"])"
   ]
  },
  {
   "cell_type": "code",
   "execution_count": 9,
   "metadata": {},
   "outputs": [],
   "source": [
    "# 改變資料型態，壓縮資料大小\n",
    "matrix.dt = matrix.dt.astype('int8')\n",
    "matrix.chid = matrix.chid.astype('int32')\n",
    "matrix.shop_tag = matrix.shop_tag.astype('int8')\n",
    "df.shop_tag = df.shop_tag.astype('int8')"
   ]
  },
  {
   "cell_type": "code",
   "execution_count": 10,
   "metadata": {},
   "outputs": [],
   "source": [
    "# 將訓練資料合併進我們建立的以(df, chid, shop_tag)為index 的資料\n",
    "matrix = matrix.merge(df, on=['dt', 'chid', 'shop_tag'], how='left')"
   ]
  },
  {
   "cell_type": "code",
   "execution_count": 11,
   "metadata": {},
   "outputs": [
    {
     "name": "stdout",
     "output_type": "stream",
     "text": [
      "Memory usage of dataframe is 930.18 MB\n",
      "Memory usage after optimization is: 439.45 MB\n",
      "Decreased by 52.8%\n"
     ]
    }
   ],
   "source": [
    "# 資料補0，並壓縮資料\n",
    "matrix.fillna(0, inplace=True)\n",
    "matrix = reduce_mem_usage(matrix, silent=False)"
   ]
  },
  {
   "cell_type": "code",
   "execution_count": 12,
   "metadata": {},
   "outputs": [],
   "source": [
    "del df"
   ]
  },
  {
   "cell_type": "code",
   "execution_count": 13,
   "metadata": {},
   "outputs": [
    {
     "data": {
      "text/plain": [
       "44"
      ]
     },
     "execution_count": 13,
     "metadata": {},
     "output_type": "execute_result"
    }
   ],
   "source": [
    "gc.collect()"
   ]
  },
  {
   "cell_type": "code",
   "execution_count": 14,
   "metadata": {},
   "outputs": [
    {
     "name": "stdout",
     "output_type": "stream",
     "text": [
      "<class 'pandas.core.frame.DataFrame'>\n",
      "Int64Index: 3840000 entries, 0 to 3839999\n",
      "Data columns (total 43 columns):\n",
      " #   Column                    Dtype  \n",
      "---  ------                    -----  \n",
      " 0   dt                        int8   \n",
      " 1   chid                      int32  \n",
      " 2   shop_tag                  int8   \n",
      " 3   txn_cnt                   int16  \n",
      " 4   txn_amt                   float32\n",
      " 5   domestic_offline_cnt      int16  \n",
      " 6   domestic_online_cnt       int8   \n",
      " 7   overseas_offline_cnt      int8   \n",
      " 8   overseas_online_cnt       int16  \n",
      " 9   domestic_offline_amt_pct  float32\n",
      " 10  domestic_online_amt_pct   float32\n",
      " 11  overseas_offline_amt_pct  float32\n",
      " 12  overseas_online_amt_pct   float32\n",
      " 13  card_1_txn_cnt            int8   \n",
      " 14  card_2_txn_cnt            int8   \n",
      " 15  card_3_txn_cnt            int8   \n",
      " 16  card_4_txn_cnt            int16  \n",
      " 17  card_5_txn_cnt            int8   \n",
      " 18  card_6_txn_cnt            int16  \n",
      " 19  card_7_txn_cnt            int8   \n",
      " 20  card_8_txn_cnt            int8   \n",
      " 21  card_9_txn_cnt            int8   \n",
      " 22  card_10_txn_cnt           int8   \n",
      " 23  card_11_txn_cnt           int8   \n",
      " 24  card_12_txn_cnt           int8   \n",
      " 25  card_13_txn_cnt           int8   \n",
      " 26  card_14_txn_cnt           int8   \n",
      " 27  card_other_txn_cnt        int16  \n",
      " 28  card_1_txn_amt_pct        float32\n",
      " 29  card_2_txn_amt_pct        float32\n",
      " 30  card_3_txn_amt_pct        float32\n",
      " 31  card_4_txn_amt_pct        float32\n",
      " 32  card_5_txn_amt_pct        float32\n",
      " 33  card_6_txn_amt_pct        float32\n",
      " 34  card_7_txn_amt_pct        float32\n",
      " 35  card_8_txn_amt_pct        float32\n",
      " 36  card_9_txn_amt_pct        float32\n",
      " 37  card_10_txn_amt_pct       float32\n",
      " 38  card_11_txn_amt_pct       float32\n",
      " 39  card_12_txn_amt_pct       float32\n",
      " 40  card_13_txn_amt_pct       float32\n",
      " 41  card_14_txn_amt_pct       float32\n",
      " 42  card_other_txn_amt_pct    float32\n",
      "dtypes: float32(20), int16(6), int32(1), int8(16)\n",
      "memory usage: 439.5 MB\n"
     ]
    }
   ],
   "source": [
    "matrix.info(memory_usage=\"deep\")"
   ]
  },
  {
   "cell_type": "code",
   "execution_count": 15,
   "metadata": {},
   "outputs": [
    {
     "data": {
      "text/html": [
       "<div>\n",
       "<style scoped>\n",
       "    .dataframe tbody tr th:only-of-type {\n",
       "        vertical-align: middle;\n",
       "    }\n",
       "\n",
       "    .dataframe tbody tr th {\n",
       "        vertical-align: top;\n",
       "    }\n",
       "\n",
       "    .dataframe thead th {\n",
       "        text-align: right;\n",
       "    }\n",
       "</style>\n",
       "<table border=\"1\" class=\"dataframe\">\n",
       "  <thead>\n",
       "    <tr style=\"text-align: right;\">\n",
       "      <th></th>\n",
       "      <th>dt</th>\n",
       "      <th>chid</th>\n",
       "      <th>shop_tag</th>\n",
       "      <th>txn_cnt</th>\n",
       "      <th>txn_amt</th>\n",
       "      <th>domestic_offline_cnt</th>\n",
       "      <th>domestic_online_cnt</th>\n",
       "      <th>overseas_offline_cnt</th>\n",
       "      <th>overseas_online_cnt</th>\n",
       "      <th>domestic_offline_amt_pct</th>\n",
       "      <th>...</th>\n",
       "      <th>card_6_txn_amt_pct</th>\n",
       "      <th>card_7_txn_amt_pct</th>\n",
       "      <th>card_8_txn_amt_pct</th>\n",
       "      <th>card_9_txn_amt_pct</th>\n",
       "      <th>card_10_txn_amt_pct</th>\n",
       "      <th>card_11_txn_amt_pct</th>\n",
       "      <th>card_12_txn_amt_pct</th>\n",
       "      <th>card_13_txn_amt_pct</th>\n",
       "      <th>card_14_txn_amt_pct</th>\n",
       "      <th>card_other_txn_amt_pct</th>\n",
       "    </tr>\n",
       "  </thead>\n",
       "  <tbody>\n",
       "    <tr>\n",
       "      <th>0</th>\n",
       "      <td>1</td>\n",
       "      <td>10128239</td>\n",
       "      <td>2</td>\n",
       "      <td>0</td>\n",
       "      <td>0.0</td>\n",
       "      <td>0</td>\n",
       "      <td>0</td>\n",
       "      <td>0</td>\n",
       "      <td>0</td>\n",
       "      <td>0.0</td>\n",
       "      <td>...</td>\n",
       "      <td>0.0</td>\n",
       "      <td>0.0</td>\n",
       "      <td>0.0</td>\n",
       "      <td>0.0</td>\n",
       "      <td>0.0</td>\n",
       "      <td>0.0</td>\n",
       "      <td>0.0</td>\n",
       "      <td>0.0</td>\n",
       "      <td>0.0</td>\n",
       "      <td>0.0</td>\n",
       "    </tr>\n",
       "    <tr>\n",
       "      <th>1</th>\n",
       "      <td>1</td>\n",
       "      <td>10128239</td>\n",
       "      <td>6</td>\n",
       "      <td>0</td>\n",
       "      <td>0.0</td>\n",
       "      <td>0</td>\n",
       "      <td>0</td>\n",
       "      <td>0</td>\n",
       "      <td>0</td>\n",
       "      <td>0.0</td>\n",
       "      <td>...</td>\n",
       "      <td>0.0</td>\n",
       "      <td>0.0</td>\n",
       "      <td>0.0</td>\n",
       "      <td>0.0</td>\n",
       "      <td>0.0</td>\n",
       "      <td>0.0</td>\n",
       "      <td>0.0</td>\n",
       "      <td>0.0</td>\n",
       "      <td>0.0</td>\n",
       "      <td>0.0</td>\n",
       "    </tr>\n",
       "    <tr>\n",
       "      <th>2</th>\n",
       "      <td>1</td>\n",
       "      <td>10128239</td>\n",
       "      <td>10</td>\n",
       "      <td>0</td>\n",
       "      <td>0.0</td>\n",
       "      <td>0</td>\n",
       "      <td>0</td>\n",
       "      <td>0</td>\n",
       "      <td>0</td>\n",
       "      <td>0.0</td>\n",
       "      <td>...</td>\n",
       "      <td>0.0</td>\n",
       "      <td>0.0</td>\n",
       "      <td>0.0</td>\n",
       "      <td>0.0</td>\n",
       "      <td>0.0</td>\n",
       "      <td>0.0</td>\n",
       "      <td>0.0</td>\n",
       "      <td>0.0</td>\n",
       "      <td>0.0</td>\n",
       "      <td>0.0</td>\n",
       "    </tr>\n",
       "    <tr>\n",
       "      <th>3</th>\n",
       "      <td>1</td>\n",
       "      <td>10128239</td>\n",
       "      <td>12</td>\n",
       "      <td>0</td>\n",
       "      <td>0.0</td>\n",
       "      <td>0</td>\n",
       "      <td>0</td>\n",
       "      <td>0</td>\n",
       "      <td>0</td>\n",
       "      <td>0.0</td>\n",
       "      <td>...</td>\n",
       "      <td>0.0</td>\n",
       "      <td>0.0</td>\n",
       "      <td>0.0</td>\n",
       "      <td>0.0</td>\n",
       "      <td>0.0</td>\n",
       "      <td>0.0</td>\n",
       "      <td>0.0</td>\n",
       "      <td>0.0</td>\n",
       "      <td>0.0</td>\n",
       "      <td>0.0</td>\n",
       "    </tr>\n",
       "    <tr>\n",
       "      <th>4</th>\n",
       "      <td>1</td>\n",
       "      <td>10128239</td>\n",
       "      <td>13</td>\n",
       "      <td>0</td>\n",
       "      <td>0.0</td>\n",
       "      <td>0</td>\n",
       "      <td>0</td>\n",
       "      <td>0</td>\n",
       "      <td>0</td>\n",
       "      <td>0.0</td>\n",
       "      <td>...</td>\n",
       "      <td>0.0</td>\n",
       "      <td>0.0</td>\n",
       "      <td>0.0</td>\n",
       "      <td>0.0</td>\n",
       "      <td>0.0</td>\n",
       "      <td>0.0</td>\n",
       "      <td>0.0</td>\n",
       "      <td>0.0</td>\n",
       "      <td>0.0</td>\n",
       "      <td>0.0</td>\n",
       "    </tr>\n",
       "  </tbody>\n",
       "</table>\n",
       "<p>5 rows × 43 columns</p>\n",
       "</div>"
      ],
      "text/plain": [
       "   dt      chid  shop_tag  txn_cnt  txn_amt  domestic_offline_cnt  \\\n",
       "0   1  10128239         2        0      0.0                     0   \n",
       "1   1  10128239         6        0      0.0                     0   \n",
       "2   1  10128239        10        0      0.0                     0   \n",
       "3   1  10128239        12        0      0.0                     0   \n",
       "4   1  10128239        13        0      0.0                     0   \n",
       "\n",
       "   domestic_online_cnt  overseas_offline_cnt  overseas_online_cnt  \\\n",
       "0                    0                     0                    0   \n",
       "1                    0                     0                    0   \n",
       "2                    0                     0                    0   \n",
       "3                    0                     0                    0   \n",
       "4                    0                     0                    0   \n",
       "\n",
       "   domestic_offline_amt_pct  ...  card_6_txn_amt_pct  card_7_txn_amt_pct  \\\n",
       "0                       0.0  ...                 0.0                 0.0   \n",
       "1                       0.0  ...                 0.0                 0.0   \n",
       "2                       0.0  ...                 0.0                 0.0   \n",
       "3                       0.0  ...                 0.0                 0.0   \n",
       "4                       0.0  ...                 0.0                 0.0   \n",
       "\n",
       "   card_8_txn_amt_pct  card_9_txn_amt_pct  card_10_txn_amt_pct  \\\n",
       "0                 0.0                 0.0                  0.0   \n",
       "1                 0.0                 0.0                  0.0   \n",
       "2                 0.0                 0.0                  0.0   \n",
       "3                 0.0                 0.0                  0.0   \n",
       "4                 0.0                 0.0                  0.0   \n",
       "\n",
       "   card_11_txn_amt_pct  card_12_txn_amt_pct  card_13_txn_amt_pct  \\\n",
       "0                  0.0                  0.0                  0.0   \n",
       "1                  0.0                  0.0                  0.0   \n",
       "2                  0.0                  0.0                  0.0   \n",
       "3                  0.0                  0.0                  0.0   \n",
       "4                  0.0                  0.0                  0.0   \n",
       "\n",
       "   card_14_txn_amt_pct  card_other_txn_amt_pct  \n",
       "0                  0.0                     0.0  \n",
       "1                  0.0                     0.0  \n",
       "2                  0.0                     0.0  \n",
       "3                  0.0                     0.0  \n",
       "4                  0.0                     0.0  \n",
       "\n",
       "[5 rows x 43 columns]"
      ]
     },
     "execution_count": 15,
     "metadata": {},
     "output_type": "execute_result"
    }
   ],
   "source": [
    "matrix.head()"
   ]
  },
  {
   "cell_type": "code",
   "execution_count": 16,
   "metadata": {},
   "outputs": [],
   "source": [
    "oldcols = matrix.columns"
   ]
  },
  {
   "cell_type": "markdown",
   "metadata": {},
   "source": [
    "## shop_tag"
   ]
  },
  {
   "cell_type": "code",
   "execution_count": 24,
   "metadata": {},
   "outputs": [],
   "source": [
    "def shop_tag_mean_txn(matrix):\n",
    "    shop_tag_features = matrix.query('txn_cnt > 0').groupby(['shop_tag', 'chid'])['txn_cnt'].sum().reset_index()\n",
    "    shop_tag_features = shop_tag_features.groupby(['shop_tag'])['txn_cnt'].mean().reset_index(name='shop_tag_mean_txn')\n",
    "    matrix = matrix.merge(shop_tag_features, on=['shop_tag'])\n",
    "    return matrix\n",
    "def shop_tag_frequency_txn(matrix):\n",
    "    shop_tag_features = matrix.query('txn_cnt > 0').groupby(['shop_tag', 'chid'])['dt'].nunique().reset_index(name='dt_cnt')\n",
    "    shop_tag_features = shop_tag_features.groupby(['shop_tag'])['dt_cnt'].mean().reset_index(name='shop_tag_frequency_txn')\n",
    "    matrix = matrix.merge(shop_tag_features, on=['shop_tag'])\n",
    "    return matrix\n",
    "\n",
    "matrix = shop_tag_mean_txn(matrix)\n",
    "matrix = shop_tag_frequency_txn(matrix)\n",
    "matrix, oldcols = shrink_mem_new_cols(matrix, oldcols)"
   ]
  },
  {
   "cell_type": "code",
   "execution_count": 34,
   "metadata": {},
   "outputs": [],
   "source": [
    "import matplotlib.pyplot as plt\n",
    "import seaborn as sns\n",
    "from sklearn.cluster import AgglomerativeClustering\n",
    "from sklearn.decomposition import PCA\n",
    "from sklearn.metrics import silhouette_score\n",
    "\n",
    "def cluster_feature(matrix, target_feature, clust_feature, level_feature, n_components=4, n_clusters=5, aggfunc=\"mean\", exclude=None):\n",
    "    start_month = 12\n",
    "    end_month = 24\n",
    "    pt = matrix.query(f\"dt>{start_month} & dt<={end_month}\")\n",
    "    if exclude is not None:\n",
    "        pt = matrix[~matrix[clust_feature].isin(exclude)]\n",
    "    pt = pt.pivot_table(values=target_feature, columns=clust_feature, index=level_feature, fill_value=0, aggfunc=aggfunc)\n",
    "    pt = pt.transpose()\n",
    "    pca = PCA(n_components=10)\n",
    "    components = pca.fit_transform(pt)\n",
    "    components = pd.DataFrame(components)\n",
    "    # Plot PCA explained variance\n",
    "    sns.set_theme()\n",
    "    features = list(range(pca.n_components_))\n",
    "    fig = plt.figure(figsize=(10,4))\n",
    "    ax = fig.add_subplot(121)\n",
    "#     ax.bar(features, pca.explained_variance_ratio_, color=\"black\")\n",
    "    sns.barplot(x=features, y=pca.explained_variance_ratio_, ax=ax)\n",
    "    plt.title(\"Variance by PCA components\")\n",
    "    plt.xlabel(\"component\")\n",
    "    plt.ylabel(\"explained variance\")\n",
    "    plt.xticks(features)\n",
    "\n",
    "    scorelist = []\n",
    "    nrange = range(2, 10)\n",
    "    for n in nrange:\n",
    "        clusterer = AgglomerativeClustering(n_clusters=n)\n",
    "        labels = clusterer.fit_predict(components)\n",
    "        silscore = silhouette_score(pt, labels)\n",
    "        scorelist.append(silscore)\n",
    "    ax = fig.add_subplot(122)\n",
    "    sns.lineplot(x=nrange, y=scorelist, ax=ax)\n",
    "    plt.title(\"Clustering quality by number of clusters\")\n",
    "    plt.xlabel(\"n clusters\")\n",
    "    plt.ylabel(\"silhouette score\")\n",
    "\n",
    "    pca = PCA(n_components=n_components)\n",
    "    components = pca.fit_transform(pt)\n",
    "    components = pd.DataFrame(components)\n",
    "    clusterer = AgglomerativeClustering(n_clusters=n_clusters, linkage=\"average\")\n",
    "    labels = clusterer.fit_predict(components)\n",
    "    x = components[0]\n",
    "    y = components[1]\n",
    "    fig = plt.figure(figsize=(10, 4))\n",
    "    ax = fig.add_subplot(111)\n",
    "    sns.scatterplot(x=x, y=y, hue=labels, palette=sns.color_palette(\"hls\", n_clusters), ax=ax)\n",
    "    plt.title(\"Items by cluster\")\n",
    "    plt.xlabel(\"component 1 score\")\n",
    "    plt.ylabel(\"component 2 score\")\n",
    "    for i, txt in enumerate(pt.index.to_list()):\n",
    "        ax.annotate(str(txt), (x[i], y[i]))\n",
    "    groups = {}\n",
    "    for i, s in enumerate(pt.index):\n",
    "        groups[s] = labels[i]\n",
    "    return groups"
   ]
  },
  {
   "cell_type": "code",
   "execution_count": 37,
   "metadata": {},
   "outputs": [
    {
     "data": {
      "image/png": "[encoded data removed]",
      "text/plain": [
       "<Figure size 720x288 with 2 Axes>"
      ]
     },
     "metadata": {},
     "output_type": "display_data"
    },
    {
     "data": {
      "image/png": "[encoded data removed]",
      "text/plain": [
       "<Figure size 720x288 with 1 Axes>"
      ]
     },
     "metadata": {},
     "output_type": "display_data"
    }
   ],
   "source": [
    "shop_tag_group_dict = cluster_feature(matrix,\n",
    "                                    'txn_amt',\n",
    "                                    'shop_tag',\n",
    "                                    'dt',\n",
    "                                    n_components=2,\n",
    "                                    n_clusters=4,\n",
    "                                    aggfunc=\"mean\",\n",
    "                                    exclude =[])\n",
    "matrix['shop_tag_cluster'] = matrix['shop_tag'].map(shop_tag_group_dict)"
   ]
  },
  {
   "cell_type": "code",
   "execution_count": 39,
   "metadata": {},
   "outputs": [
    {
     "data": {
      "image/png": "[encoded data removed]",
      "text/plain": [
       "<Figure size 720x288 with 2 Axes>"
      ]
     },
     "metadata": {},
     "output_type": "display_data"
    },
    {
     "data": {
      "image/png": "[encoded data removed]",
      "text/plain": [
       "<Figure size 720x288 with 1 Axes>"
      ]
     },
     "metadata": {},
     "output_type": "display_data"
    }
   ],
   "source": [
    "chid_group_dict = cluster_feature(matrix,\n",
    "                                'txn_amt',\n",
    "                                'chid',\n",
    "                                'shop_tag',\n",
    "                                n_components=10,\n",
    "                                n_clusters=4,\n",
    "                                aggfunc=\"mean\",\n",
    "                                exclude =[])"
   ]
  },
  {
   "cell_type": "code",
   "execution_count": 41,
   "metadata": {},
   "outputs": [],
   "source": [
    "matrix, oldcols = shrink_mem_new_cols(matrix, oldcols)"
   ]
  },
  {
   "cell_type": "code",
   "execution_count": null,
   "metadata": {},
   "outputs": [],
   "source": []
  },
  {
   "cell_type": "code",
   "execution_count": 59,
   "metadata": {},
   "outputs": [],
   "source": [
    "def add_pct_change(\n",
    "    matrix,\n",
    "    group_feats,\n",
    "    target=\"txn_amt\",\n",
    "    aggfunc=\"mean\",\n",
    "    periods=1,\n",
    "    lag=1,\n",
    "    clip_value=None,\n",
    "):\n",
    "    periods = list_if_not(periods, int)\n",
    "    group_feats = list_if_not(group_feats)\n",
    "    group_feats_full = [\"dt\"] + group_feats\n",
    "    dat = matrix.pivot_table(\n",
    "        index=group_feats + [\"dt\"],\n",
    "        values=target,\n",
    "        aggfunc=aggfunc,\n",
    "        fill_value=0,\n",
    "        dropna=False,\n",
    "    ).astype(\"float32\")\n",
    "    for g in group_feats:\n",
    "        firsts = matrix.groupby(g).date_block_num.min().rename(\"firsts\")\n",
    "        dat = dat.merge(firsts, left_on=g, right_index=True, how=\"left\")\n",
    "        dat.loc[dat.index.get_level_values(\"dt\") < dat[\"firsts\"], target] = float(\n",
    "            \"nan\"\n",
    "        )\n",
    "        del dat[\"firsts\"]\n",
    "    for period in periods:\n",
    "        feat_name = \"_\".join(\n",
    "            group_feats + [target] + [aggfunc] + [\"delta\"] + [str(period)] + [f\"lag_{lag}\"]\n",
    "        )\n",
    "        print(f\"Adding feature {feat_name}\")\n",
    "        dat = (\n",
    "            dat.groupby(group_feats)[target]\n",
    "            .transform(lambda x: x.pct_change(periods=period, fill_method=\"pad\"))\n",
    "            .rename(feat_name)\n",
    "        )\n",
    "        if clip_value is not None:\n",
    "            dat = dat.clip(lower=-clip_value, upper=clip_value)\n",
    "    dat = dat.reset_index()\n",
    "    dat[\"dt\"] += lag\n",
    "    matrix = matrix.merge(dat, on=[\"dt\"] + group_feats, how=\"left\")\n",
    "    matrix[feat_name] = reduce_mem_usage(matrix[feat_name])\n",
    "    return matrix"
   ]
  },
  {
   "cell_type": "code",
   "execution_count": null,
   "metadata": {},
   "outputs": [],
   "source": [
    "matrix = add_pct_change(matrix, [\"shop_tag\"], \"txn_amt\", clip_value=3)\n",
    "matrix = add_pct_change(matrix, [\"shop_tag\"], \"txn_amt\", lag=12, clip_value=3,)"
   ]
  },
  {
   "cell_type": "code",
   "execution_count": null,
   "metadata": {},
   "outputs": [],
   "source": []
  },
  {
   "cell_type": "code",
   "execution_count": 42,
   "metadata": {},
   "outputs": [],
   "source": [
    "periods = list_if_not(1, int)\n",
    "group_feats = list_if_not('shop_tag')\n",
    "group_feats_full = [\"dt\"] + group_feats\n",
    "dat = matrix.pivot_table(\n",
    "    index=group_feats + [\"dt\"],\n",
    "    values='txn_amt',\n",
    "    aggfunc='mean',\n",
    "    fill_value=0,\n",
    "    dropna=False,\n",
    ").astype(\"float32\")"
   ]
  },
  {
   "cell_type": "code",
   "execution_count": 45,
   "metadata": {},
   "outputs": [],
   "source": [
    "firsts = matrix.groupby(group_feats[0]).dt.min().rename(\"firsts\")"
   ]
  },
  {
   "cell_type": "code",
   "execution_count": 48,
   "metadata": {},
   "outputs": [],
   "source": [
    "dat = dat.merge(firsts, left_on=group_feats[0], right_index=True, how=\"left\")"
   ]
  },
  {
   "cell_type": "code",
   "execution_count": 49,
   "metadata": {},
   "outputs": [],
   "source": [
    "dat.loc[dat.index.get_level_values(\"dt\") < dat[\"firsts\"], 'txn_amt'] = float(\"nan\")"
   ]
  },
  {
   "cell_type": "code",
   "execution_count": 51,
   "metadata": {},
   "outputs": [],
   "source": [
    "del dat[\"firsts\"]"
   ]
  },
  {
   "cell_type": "code",
   "execution_count": 52,
   "metadata": {},
   "outputs": [
    {
     "name": "stdout",
     "output_type": "stream",
     "text": [
      "Adding feature shop_tag_txn_amt_mean_delta_1_lag_1\n"
     ]
    }
   ],
   "source": [
    "feat_name = \"_\".join(\n",
    "    group_feats + ['txn_amt'] + ['mean'] + [\"delta\"] + [str(1)] + [f\"lag_{1}\"]\n",
    ")\n",
    "print(f\"Adding feature {feat_name}\")\n",
    "dat = (\n",
    "    dat.groupby(group_feats)['txn_amt']\n",
    "    .transform(lambda x: x.pct_change(periods=1, fill_method=\"pad\"))\n",
    "    .rename(feat_name)\n",
    ")"
   ]
  },
  {
   "cell_type": "code",
   "execution_count": 55,
   "metadata": {},
   "outputs": [
    {
     "data": {
      "text/plain": [
       "shop_tag  dt\n",
       "2         1          NaN\n",
       "          2     0.022261\n",
       "          3     0.052356\n",
       "          4     0.034208\n",
       "          5     0.016757\n",
       "                  ...   \n",
       "48        20    0.022628\n",
       "          21    0.013867\n",
       "          22    0.002480\n",
       "          23    0.036123\n",
       "          24   -0.143748\n",
       "Name: shop_tag_txn_amt_mean_delta_1_lag_1, Length: 384, dtype: float32"
      ]
     },
     "execution_count": 55,
     "metadata": {},
     "output_type": "execute_result"
    }
   ],
   "source": [
    "dat"
   ]
  },
  {
   "cell_type": "code",
   "execution_count": 56,
   "metadata": {},
   "outputs": [],
   "source": [
    "dat = dat.clip(lower=-3, upper=3)"
   ]
  },
  {
   "cell_type": "code",
   "execution_count": 57,
   "metadata": {},
   "outputs": [],
   "source": [
    "dat = dat.reset_index()\n",
    "dat[\"dt\"] += 1"
   ]
  },
  {
   "cell_type": "code",
   "execution_count": 58,
   "metadata": {},
   "outputs": [
    {
     "data": {
      "text/html": [
       "<div>\n",
       "<style scoped>\n",
       "    .dataframe tbody tr th:only-of-type {\n",
       "        vertical-align: middle;\n",
       "    }\n",
       "\n",
       "    .dataframe tbody tr th {\n",
       "        vertical-align: top;\n",
       "    }\n",
       "\n",
       "    .dataframe thead th {\n",
       "        text-align: right;\n",
       "    }\n",
       "</style>\n",
       "<table border=\"1\" class=\"dataframe\">\n",
       "  <thead>\n",
       "    <tr style=\"text-align: right;\">\n",
       "      <th></th>\n",
       "      <th>shop_tag</th>\n",
       "      <th>dt</th>\n",
       "      <th>shop_tag_txn_amt_mean_delta_1_lag_1</th>\n",
       "    </tr>\n",
       "  </thead>\n",
       "  <tbody>\n",
       "    <tr>\n",
       "      <th>0</th>\n",
       "      <td>2</td>\n",
       "      <td>2</td>\n",
       "      <td>NaN</td>\n",
       "    </tr>\n",
       "    <tr>\n",
       "      <th>1</th>\n",
       "      <td>2</td>\n",
       "      <td>3</td>\n",
       "      <td>0.022261</td>\n",
       "    </tr>\n",
       "    <tr>\n",
       "      <th>2</th>\n",
       "      <td>2</td>\n",
       "      <td>4</td>\n",
       "      <td>0.052356</td>\n",
       "    </tr>\n",
       "    <tr>\n",
       "      <th>3</th>\n",
       "      <td>2</td>\n",
       "      <td>5</td>\n",
       "      <td>0.034208</td>\n",
       "    </tr>\n",
       "    <tr>\n",
       "      <th>4</th>\n",
       "      <td>2</td>\n",
       "      <td>6</td>\n",
       "      <td>0.016757</td>\n",
       "    </tr>\n",
       "    <tr>\n",
       "      <th>...</th>\n",
       "      <td>...</td>\n",
       "      <td>...</td>\n",
       "      <td>...</td>\n",
       "    </tr>\n",
       "    <tr>\n",
       "      <th>379</th>\n",
       "      <td>48</td>\n",
       "      <td>21</td>\n",
       "      <td>0.022628</td>\n",
       "    </tr>\n",
       "    <tr>\n",
       "      <th>380</th>\n",
       "      <td>48</td>\n",
       "      <td>22</td>\n",
       "      <td>0.013867</td>\n",
       "    </tr>\n",
       "    <tr>\n",
       "      <th>381</th>\n",
       "      <td>48</td>\n",
       "      <td>23</td>\n",
       "      <td>0.002480</td>\n",
       "    </tr>\n",
       "    <tr>\n",
       "      <th>382</th>\n",
       "      <td>48</td>\n",
       "      <td>24</td>\n",
       "      <td>0.036123</td>\n",
       "    </tr>\n",
       "    <tr>\n",
       "      <th>383</th>\n",
       "      <td>48</td>\n",
       "      <td>25</td>\n",
       "      <td>-0.143748</td>\n",
       "    </tr>\n",
       "  </tbody>\n",
       "</table>\n",
       "<p>384 rows × 3 columns</p>\n",
       "</div>"
      ],
      "text/plain": [
       "     shop_tag  dt  shop_tag_txn_amt_mean_delta_1_lag_1\n",
       "0           2   2                                  NaN\n",
       "1           2   3                             0.022261\n",
       "2           2   4                             0.052356\n",
       "3           2   5                             0.034208\n",
       "4           2   6                             0.016757\n",
       "..        ...  ..                                  ...\n",
       "379        48  21                             0.022628\n",
       "380        48  22                             0.013867\n",
       "381        48  23                             0.002480\n",
       "382        48  24                             0.036123\n",
       "383        48  25                            -0.143748\n",
       "\n",
       "[384 rows x 3 columns]"
      ]
     },
     "execution_count": 58,
     "metadata": {},
     "output_type": "execute_result"
    }
   ],
   "source": [
    "dat"
   ]
  },
  {
   "cell_type": "code",
   "execution_count": null,
   "metadata": {},
   "outputs": [],
   "source": []
  },
  {
   "cell_type": "code",
   "execution_count": 29,
   "metadata": {},
   "outputs": [],
   "source": [
    "pt = matrix[~matrix['shop_tag'].isin([])]"
   ]
  },
  {
   "cell_type": "code",
   "execution_count": 32,
   "metadata": {},
   "outputs": [],
   "source": [
    "pt = pt.pivot_table(values='txn_amt', columns='shop_tag', index='dt', fill_value=0, aggfunc='mean')"
   ]
  },
  {
   "cell_type": "code",
   "execution_count": 33,
   "metadata": {},
   "outputs": [
    {
     "data": {
      "text/plain": [
       "([<matplotlib.axis.XTick at 0x20838409d88>,\n",
       "  <matplotlib.axis.XTick at 0x2083842da08>],\n",
       " [Text(0, 0, '0'), Text(1, 0, '1')])"
      ]
     },
     "execution_count": 33,
     "metadata": {},
     "output_type": "execute_result"
    },
    {
     "data": {
      "image/png": "[encoded data removed]",
      "text/plain": [
       "<Figure size 720x288 with 1 Axes>"
      ]
     },
     "metadata": {},
     "output_type": "display_data"
    }
   ],
   "source": [
    "pt = pt.transpose()\n",
    "pca = PCA(n_components=2)\n",
    "components = pca.fit_transform(pt)\n",
    "components = pd.DataFrame(components)\n",
    "# Plot PCA explained variance\n",
    "sns.set_theme()\n",
    "features = list(range(pca.n_components_))\n",
    "fig = plt.figure(figsize=(10,4))\n",
    "ax = fig.add_subplot(121)\n",
    "#     ax.bar(features, pca.explained_variance_ratio_, color=\"black\")\n",
    "sns.barplot(x=features, y=pca.explained_variance_ratio_, ax=ax)\n",
    "plt.title(\"Variance by PCA components\")\n",
    "plt.xlabel(\"component\")\n",
    "plt.ylabel(\"explained variance\")\n",
    "plt.xticks(features)"
   ]
  },
  {
   "cell_type": "code",
   "execution_count": null,
   "metadata": {},
   "outputs": [],
   "source": [
    "matrix"
   ]
  }
 ],
 "metadata": {
  "interpreter": {
   "hash": "b3ba2566441a7c06988d0923437866b63cedc61552a5af99d1f4fb67d367b25f"
  },
  "kernelspec": {
   "display_name": "Python 3.7.6 64-bit ('base': conda)",
   "language": "python",
   "name": "python3"
  },
  "language_info": {
   "codemirror_mode": {
    "name": "ipython",
    "version": 3
   },
   "file_extension": ".py",
   "mimetype": "text/x-python",
   "name": "python",
   "nbconvert_exporter": "python",
   "pygments_lexer": "ipython3",
   "version": "3.7.6"
  },
  "orig_nbformat": 4
 },
 "nbformat": 4,
 "nbformat_minor": 2
}
