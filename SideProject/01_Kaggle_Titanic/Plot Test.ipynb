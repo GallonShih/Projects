{
 "cells": [
  {
   "cell_type": "code",
   "execution_count": null,
   "metadata": {},
   "outputs": [],
   "source": [
    "%matplotlib inline\n",
    "import numpy as np\n",
    "import pandas as pd\n",
    "import matplotlib.pyplot as plt\n",
    "import seaborn as sns # 另一個繪圖-樣式套件\n",
    "\n",
    "import warnings\n",
    "warnings.filterwarnings('ignore')\n",
    "\n",
    "import os\n",
    "from zipfile import ZipFile\n",
    "\n",
    "# 設定 data_path\n",
    "dir_data = './data/'"
   ]
  },
  {
   "cell_type": "code",
   "execution_count": null,
   "metadata": {},
   "outputs": [],
   "source": [
    "# 設定繪圖區域的長與寬\n",
    "fig = plt.figure(figsize = (10, 8), dpi=72, \n",
    "           facecolor=\"white\",edgecolor=\"green\")\n",
    "\n",
    "\n",
    "# 設定子圖\n",
    "ax_1 = fig.add_subplot(1, 1, 1)\n",
    "ax_1.set_xlim(1,10.1) ##設定x軸範圍\n",
    "ax_1.set_xticks(range(1,11,1)) ##設定x軸標籤\n",
    "#ax_1.set_xticklabels(list(\"abcdefghij\"),fontsize=20,rotation=90) \n",
    "ax_1.set_ylim(-8.5,11)\n",
    "ax_1.set_yticks(range(-8,11,2))\n",
    "#ax_1.set_yticklabels(list(\"abcdefghij\"),fontsize=30,rotation=45)\n",
    "\n",
    "#\n",
    "sns.set(style=\"white\") # darkgrid, whitegrid, dark, white, ticks\n",
    "\n",
    "# 設定圖例字型大小\n",
    "ax.legend(..., fontsize=20)\n",
    "\n",
    "# 設定刻度字型大小\n",
    "plt.xticks(fontsize=20)\n",
    "plt.yticks(fontsize=20)\n",
    "plt.plot()\n",
    "\n",
    "plt.show()"
   ]
  }
 ],
 "metadata": {
  "kernelspec": {
   "display_name": "Python 3",
   "language": "python",
   "name": "python3"
  },
  "language_info": {
   "codemirror_mode": {
    "name": "ipython",
    "version": 3
   },
   "file_extension": ".py",
   "mimetype": "text/x-python",
   "name": "python",
   "nbconvert_exporter": "python",
   "pygments_lexer": "ipython3",
   "version": "3.7.6"
  }
 },
 "nbformat": 4,
 "nbformat_minor": 4
}
